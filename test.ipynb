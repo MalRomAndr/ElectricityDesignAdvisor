{
 "cells": [
  {
   "cell_type": "code",
   "execution_count": 184,
   "outputs": [],
   "source": [
    "import pandas as pd\n",
    "import sqlite3\n",
    "\n",
    "from sklearn.preprocessing import LabelEncoder"
   ],
   "metadata": {
    "collapsed": false,
    "ExecuteTime": {
     "end_time": "2023-09-01T18:36:36.815984700Z",
     "start_time": "2023-09-01T18:36:36.810000400Z"
    }
   }
  },
  {
   "cell_type": "code",
   "execution_count": 64,
   "outputs": [],
   "source": [
    "conn = sqlite3.connect('database.db')"
   ],
   "metadata": {
    "collapsed": false,
    "ExecuteTime": {
     "end_time": "2023-09-01T15:20:35.149030100Z",
     "start_time": "2023-09-01T15:20:35.135065500Z"
    }
   }
  },
  {
   "cell_type": "code",
   "execution_count": 286,
   "outputs": [],
   "source": [
    "data_Parts = pd.read_sql(\"select Id, HeadingId, CategoryId from Parts;\", con=conn)\n",
    "data_StructuresParts = pd.read_sql(\"select StructureId, PartId from StructuresParts;\", con=conn)\n",
    "data_Structures = pd.read_sql(\"select Id, StandardProjectId, TypeId from Structures;\", con=conn)\n",
    "data_StandardProjects = pd.read_sql(\"select Id, ImageIndex from StandardProjects;\", con=conn)\n",
    "data_Conductors = pd.read_sql(\"select PartId, TypeId, Diameter, CrossSection from Conductors;\", con=conn)"
   ],
   "metadata": {
    "collapsed": false,
    "ExecuteTime": {
     "end_time": "2023-09-01T19:41:37.230226500Z",
     "start_time": "2023-09-01T19:41:36.886146300Z"
    }
   }
  },
  {
   "cell_type": "code",
   "execution_count": 273,
   "outputs": [
    {
     "data": {
      "text/plain": "                                             PartId     TypeId  Diameter  \\\n0     15 kV TRXLPE CSA 350 MCM AL 1х[ ] 35-1000 мм²    cabel10       NaN   \n1                                         6 CYKCYDY    cabel10       NaN   \n2                                    6 CYKCYDY 3x50    cabel10       NaN   \n3                                    6 CYKCYDY 3x95    cabel10       NaN   \n4                                    6 CYKCYDY 3х70    cabel10       NaN   \n...                                             ...        ...       ...   \n3475                                 ЦСБвШнг 3х95-6    cabel10       NaN   \n3476                              Э-ДПС-06-08-Е4(3)  commCable       NaN   \n3477                                    ЭВБВ 3х95-6    cabel10       NaN   \n3478                         ЭСО-ДПС-06-20-Е4(тип3)  commCable       NaN   \n3479          СИПн-7 1х185-110, ТУ 16.К180-072-2019  OHLwire35    0.0308   \n\n      CrossSection  \n0              NaN  \n1              NaN  \n2              NaN  \n3              NaN  \n4              NaN  \n...            ...  \n3475           NaN  \n3476           NaN  \n3477           NaN  \n3478           NaN  \n3479      0.000185  \n\n[3480 rows x 4 columns]",
      "text/html": "<div>\n<style scoped>\n    .dataframe tbody tr th:only-of-type {\n        vertical-align: middle;\n    }\n\n    .dataframe tbody tr th {\n        vertical-align: top;\n    }\n\n    .dataframe thead th {\n        text-align: right;\n    }\n</style>\n<table border=\"1\" class=\"dataframe\">\n  <thead>\n    <tr style=\"text-align: right;\">\n      <th></th>\n      <th>PartId</th>\n      <th>TypeId</th>\n      <th>Diameter</th>\n      <th>CrossSection</th>\n    </tr>\n  </thead>\n  <tbody>\n    <tr>\n      <th>0</th>\n      <td>15 kV TRXLPE CSA 350 MCM AL 1х[ ] 35-1000 мм²</td>\n      <td>cabel10</td>\n      <td>NaN</td>\n      <td>NaN</td>\n    </tr>\n    <tr>\n      <th>1</th>\n      <td>6 CYKCYDY</td>\n      <td>cabel10</td>\n      <td>NaN</td>\n      <td>NaN</td>\n    </tr>\n    <tr>\n      <th>2</th>\n      <td>6 CYKCYDY 3x50</td>\n      <td>cabel10</td>\n      <td>NaN</td>\n      <td>NaN</td>\n    </tr>\n    <tr>\n      <th>3</th>\n      <td>6 CYKCYDY 3x95</td>\n      <td>cabel10</td>\n      <td>NaN</td>\n      <td>NaN</td>\n    </tr>\n    <tr>\n      <th>4</th>\n      <td>6 CYKCYDY 3х70</td>\n      <td>cabel10</td>\n      <td>NaN</td>\n      <td>NaN</td>\n    </tr>\n    <tr>\n      <th>...</th>\n      <td>...</td>\n      <td>...</td>\n      <td>...</td>\n      <td>...</td>\n    </tr>\n    <tr>\n      <th>3475</th>\n      <td>ЦСБвШнг 3х95-6</td>\n      <td>cabel10</td>\n      <td>NaN</td>\n      <td>NaN</td>\n    </tr>\n    <tr>\n      <th>3476</th>\n      <td>Э-ДПС-06-08-Е4(3)</td>\n      <td>commCable</td>\n      <td>NaN</td>\n      <td>NaN</td>\n    </tr>\n    <tr>\n      <th>3477</th>\n      <td>ЭВБВ 3х95-6</td>\n      <td>cabel10</td>\n      <td>NaN</td>\n      <td>NaN</td>\n    </tr>\n    <tr>\n      <th>3478</th>\n      <td>ЭСО-ДПС-06-20-Е4(тип3)</td>\n      <td>commCable</td>\n      <td>NaN</td>\n      <td>NaN</td>\n    </tr>\n    <tr>\n      <th>3479</th>\n      <td>СИПн-7 1х185-110, ТУ 16.К180-072-2019</td>\n      <td>OHLwire35</td>\n      <td>0.0308</td>\n      <td>0.000185</td>\n    </tr>\n  </tbody>\n</table>\n<p>3480 rows × 4 columns</p>\n</div>"
     },
     "execution_count": 273,
     "metadata": {},
     "output_type": "execute_result"
    }
   ],
   "source": [
    "data_Conductors"
   ],
   "metadata": {
    "collapsed": false
   }
  },
  {
   "cell_type": "code",
   "execution_count": 336,
   "outputs": [],
   "source": [
    "df = data_Parts.merge(data_StructuresParts, left_on='Id', right_on='PartId', how='outer').drop('PartId', axis=1)\n",
    "\n",
    "df = df.merge(data_Structures, left_on='StructureId', right_on='Id', how='outer').drop('Id_y', axis=1)\n",
    "\n",
    "data_Conductors.rename(columns={'PartId': 'Id_x'}, inplace=True)\n",
    "\n",
    "df = pd.concat([df, data_Conductors], axis=0)\n",
    "\n",
    "df = df.merge(data_StandardProjects, left_on='StandardProjectId', right_on='Id', how='left').drop('Id', axis=1)"
   ],
   "metadata": {
    "collapsed": false,
    "ExecuteTime": {
     "end_time": "2023-09-01T20:12:21.417445300Z",
     "start_time": "2023-09-01T20:12:21.189263600Z"
    }
   }
  },
  {
   "cell_type": "code",
   "execution_count": 337,
   "outputs": [
    {
     "data": {
      "text/plain": "                                         Id_x  HeadingId  CategoryId  \\\n0                               ___-12-2А G28        9.0        58.0   \n1                                  d10 (цинк)       10.0        10.0   \n2                                     PA2870P        9.0        58.0   \n3                                      PGA101        9.0        58.0   \n4                                     PLDT2 R        9.0        58.0   \n...                                       ...        ...         ...   \n132075                         ЦСБвШнг 3х95-6        NaN         NaN   \n132076                      Э-ДПС-06-08-Е4(3)        NaN         NaN   \n132077                            ЭВБВ 3х95-6        NaN         NaN   \n132078                 ЭСО-ДПС-06-20-Е4(тип3)        NaN         NaN   \n132079  СИПн-7 1х185-110, ТУ 16.К180-072-2019        NaN         NaN   \n\n                                   StructureId  StandardProjectId     TypeId  \\\n0       К10/0,38-1/0 (1хСК120-6)-3_(50-70 мм²)              132.0  support10   \n1       К10/0,38-1/0 (1хСК120-6)-3_(50-70 мм²)              132.0  support10   \n2       К10/0,38-1/0 (1хСК120-6)-3_(50-70 мм²)              132.0  support10   \n3       К10/0,38-1/0 (1хСК120-6)-3_(50-70 мм²)              132.0  support10   \n4       К10/0,38-1/0 (1хСК120-6)-3_(50-70 мм²)              132.0  support10   \n...                                        ...                ...        ...   \n132075                                     NaN                NaN    cabel10   \n132076                                     NaN                NaN  commCable   \n132077                                     NaN                NaN    cabel10   \n132078                                     NaN                NaN  commCable   \n132079                                     NaN                NaN  OHLwire35   \n\n        Diameter  CrossSection  ImageIndex  \n0            NaN           NaN         1.0  \n1            NaN           NaN         1.0  \n2            NaN           NaN         1.0  \n3            NaN           NaN         1.0  \n4            NaN           NaN         1.0  \n...          ...           ...         ...  \n132075       NaN           NaN         NaN  \n132076       NaN           NaN         NaN  \n132077       NaN           NaN         NaN  \n132078       NaN           NaN         NaN  \n132079    0.0308      0.000185         NaN  \n\n[132080 rows x 9 columns]",
      "text/html": "<div>\n<style scoped>\n    .dataframe tbody tr th:only-of-type {\n        vertical-align: middle;\n    }\n\n    .dataframe tbody tr th {\n        vertical-align: top;\n    }\n\n    .dataframe thead th {\n        text-align: right;\n    }\n</style>\n<table border=\"1\" class=\"dataframe\">\n  <thead>\n    <tr style=\"text-align: right;\">\n      <th></th>\n      <th>Id_x</th>\n      <th>HeadingId</th>\n      <th>CategoryId</th>\n      <th>StructureId</th>\n      <th>StandardProjectId</th>\n      <th>TypeId</th>\n      <th>Diameter</th>\n      <th>CrossSection</th>\n      <th>ImageIndex</th>\n    </tr>\n  </thead>\n  <tbody>\n    <tr>\n      <th>0</th>\n      <td>___-12-2А G28</td>\n      <td>9.0</td>\n      <td>58.0</td>\n      <td>К10/0,38-1/0 (1хСК120-6)-3_(50-70 мм²)</td>\n      <td>132.0</td>\n      <td>support10</td>\n      <td>NaN</td>\n      <td>NaN</td>\n      <td>1.0</td>\n    </tr>\n    <tr>\n      <th>1</th>\n      <td>d10 (цинк)</td>\n      <td>10.0</td>\n      <td>10.0</td>\n      <td>К10/0,38-1/0 (1хСК120-6)-3_(50-70 мм²)</td>\n      <td>132.0</td>\n      <td>support10</td>\n      <td>NaN</td>\n      <td>NaN</td>\n      <td>1.0</td>\n    </tr>\n    <tr>\n      <th>2</th>\n      <td>PA2870P</td>\n      <td>9.0</td>\n      <td>58.0</td>\n      <td>К10/0,38-1/0 (1хСК120-6)-3_(50-70 мм²)</td>\n      <td>132.0</td>\n      <td>support10</td>\n      <td>NaN</td>\n      <td>NaN</td>\n      <td>1.0</td>\n    </tr>\n    <tr>\n      <th>3</th>\n      <td>PGA101</td>\n      <td>9.0</td>\n      <td>58.0</td>\n      <td>К10/0,38-1/0 (1хСК120-6)-3_(50-70 мм²)</td>\n      <td>132.0</td>\n      <td>support10</td>\n      <td>NaN</td>\n      <td>NaN</td>\n      <td>1.0</td>\n    </tr>\n    <tr>\n      <th>4</th>\n      <td>PLDT2 R</td>\n      <td>9.0</td>\n      <td>58.0</td>\n      <td>К10/0,38-1/0 (1хСК120-6)-3_(50-70 мм²)</td>\n      <td>132.0</td>\n      <td>support10</td>\n      <td>NaN</td>\n      <td>NaN</td>\n      <td>1.0</td>\n    </tr>\n    <tr>\n      <th>...</th>\n      <td>...</td>\n      <td>...</td>\n      <td>...</td>\n      <td>...</td>\n      <td>...</td>\n      <td>...</td>\n      <td>...</td>\n      <td>...</td>\n      <td>...</td>\n    </tr>\n    <tr>\n      <th>132075</th>\n      <td>ЦСБвШнг 3х95-6</td>\n      <td>NaN</td>\n      <td>NaN</td>\n      <td>NaN</td>\n      <td>NaN</td>\n      <td>cabel10</td>\n      <td>NaN</td>\n      <td>NaN</td>\n      <td>NaN</td>\n    </tr>\n    <tr>\n      <th>132076</th>\n      <td>Э-ДПС-06-08-Е4(3)</td>\n      <td>NaN</td>\n      <td>NaN</td>\n      <td>NaN</td>\n      <td>NaN</td>\n      <td>commCable</td>\n      <td>NaN</td>\n      <td>NaN</td>\n      <td>NaN</td>\n    </tr>\n    <tr>\n      <th>132077</th>\n      <td>ЭВБВ 3х95-6</td>\n      <td>NaN</td>\n      <td>NaN</td>\n      <td>NaN</td>\n      <td>NaN</td>\n      <td>cabel10</td>\n      <td>NaN</td>\n      <td>NaN</td>\n      <td>NaN</td>\n    </tr>\n    <tr>\n      <th>132078</th>\n      <td>ЭСО-ДПС-06-20-Е4(тип3)</td>\n      <td>NaN</td>\n      <td>NaN</td>\n      <td>NaN</td>\n      <td>NaN</td>\n      <td>commCable</td>\n      <td>NaN</td>\n      <td>NaN</td>\n      <td>NaN</td>\n    </tr>\n    <tr>\n      <th>132079</th>\n      <td>СИПн-7 1х185-110, ТУ 16.К180-072-2019</td>\n      <td>NaN</td>\n      <td>NaN</td>\n      <td>NaN</td>\n      <td>NaN</td>\n      <td>OHLwire35</td>\n      <td>0.0308</td>\n      <td>0.000185</td>\n      <td>NaN</td>\n    </tr>\n  </tbody>\n</table>\n<p>132080 rows × 9 columns</p>\n</div>"
     },
     "execution_count": 337,
     "metadata": {},
     "output_type": "execute_result"
    }
   ],
   "source": [
    "df"
   ],
   "metadata": {
    "collapsed": false,
    "ExecuteTime": {
     "end_time": "2023-09-01T20:12:21.569527800Z",
     "start_time": "2023-09-01T20:12:21.543597500Z"
    }
   }
  },
  {
   "cell_type": "code",
   "execution_count": 338,
   "outputs": [
    {
     "data": {
      "text/plain": "                                         Id_x  HeadingId  CategoryId  \\\n0                               ___-12-2А G28        9.0        58.0   \n1                                  d10 (цинк)       10.0        10.0   \n2                                     PA2870P        9.0        58.0   \n3                                      PGA101        9.0        58.0   \n4                                     PLDT2 R        9.0        58.0   \n...                                       ...        ...         ...   \n132075                         ЦСБвШнг 3х95-6        NaN         NaN   \n132076                      Э-ДПС-06-08-Е4(3)        NaN         NaN   \n132077                            ЭВБВ 3х95-6        NaN         NaN   \n132078                 ЭСО-ДПС-06-20-Е4(тип3)        NaN         NaN   \n132079  СИПн-7 1х185-110, ТУ 16.К180-072-2019        NaN         NaN   \n\n                       StructureId  StandardProjectId     TypeId  Diameter  \\\n0       К10/0,38-1/0 (1хСК120-6)-3              132.0  support10       NaN   \n1       К10/0,38-1/0 (1хСК120-6)-3              132.0  support10       NaN   \n2       К10/0,38-1/0 (1хСК120-6)-3              132.0  support10       NaN   \n3       К10/0,38-1/0 (1хСК120-6)-3              132.0  support10       NaN   \n4       К10/0,38-1/0 (1хСК120-6)-3              132.0  support10       NaN   \n...                            ...                ...        ...       ...   \n132075                         NaN                NaN    cabel10       NaN   \n132076                         NaN                NaN  commCable       NaN   \n132077                         NaN                NaN    cabel10       NaN   \n132078                         NaN                NaN  commCable       NaN   \n132079                         NaN                NaN  OHLwire35    0.0308   \n\n        CrossSection  ImageIndex  \n0                NaN         1.0  \n1                NaN         1.0  \n2                NaN         1.0  \n3                NaN         1.0  \n4                NaN         1.0  \n...              ...         ...  \n132075           NaN         NaN  \n132076           NaN         NaN  \n132077           NaN         NaN  \n132078           NaN         NaN  \n132079      0.000185         NaN  \n\n[132080 rows x 9 columns]",
      "text/html": "<div>\n<style scoped>\n    .dataframe tbody tr th:only-of-type {\n        vertical-align: middle;\n    }\n\n    .dataframe tbody tr th {\n        vertical-align: top;\n    }\n\n    .dataframe thead th {\n        text-align: right;\n    }\n</style>\n<table border=\"1\" class=\"dataframe\">\n  <thead>\n    <tr style=\"text-align: right;\">\n      <th></th>\n      <th>Id_x</th>\n      <th>HeadingId</th>\n      <th>CategoryId</th>\n      <th>StructureId</th>\n      <th>StandardProjectId</th>\n      <th>TypeId</th>\n      <th>Diameter</th>\n      <th>CrossSection</th>\n      <th>ImageIndex</th>\n    </tr>\n  </thead>\n  <tbody>\n    <tr>\n      <th>0</th>\n      <td>___-12-2А G28</td>\n      <td>9.0</td>\n      <td>58.0</td>\n      <td>К10/0,38-1/0 (1хСК120-6)-3</td>\n      <td>132.0</td>\n      <td>support10</td>\n      <td>NaN</td>\n      <td>NaN</td>\n      <td>1.0</td>\n    </tr>\n    <tr>\n      <th>1</th>\n      <td>d10 (цинк)</td>\n      <td>10.0</td>\n      <td>10.0</td>\n      <td>К10/0,38-1/0 (1хСК120-6)-3</td>\n      <td>132.0</td>\n      <td>support10</td>\n      <td>NaN</td>\n      <td>NaN</td>\n      <td>1.0</td>\n    </tr>\n    <tr>\n      <th>2</th>\n      <td>PA2870P</td>\n      <td>9.0</td>\n      <td>58.0</td>\n      <td>К10/0,38-1/0 (1хСК120-6)-3</td>\n      <td>132.0</td>\n      <td>support10</td>\n      <td>NaN</td>\n      <td>NaN</td>\n      <td>1.0</td>\n    </tr>\n    <tr>\n      <th>3</th>\n      <td>PGA101</td>\n      <td>9.0</td>\n      <td>58.0</td>\n      <td>К10/0,38-1/0 (1хСК120-6)-3</td>\n      <td>132.0</td>\n      <td>support10</td>\n      <td>NaN</td>\n      <td>NaN</td>\n      <td>1.0</td>\n    </tr>\n    <tr>\n      <th>4</th>\n      <td>PLDT2 R</td>\n      <td>9.0</td>\n      <td>58.0</td>\n      <td>К10/0,38-1/0 (1хСК120-6)-3</td>\n      <td>132.0</td>\n      <td>support10</td>\n      <td>NaN</td>\n      <td>NaN</td>\n      <td>1.0</td>\n    </tr>\n    <tr>\n      <th>...</th>\n      <td>...</td>\n      <td>...</td>\n      <td>...</td>\n      <td>...</td>\n      <td>...</td>\n      <td>...</td>\n      <td>...</td>\n      <td>...</td>\n      <td>...</td>\n    </tr>\n    <tr>\n      <th>132075</th>\n      <td>ЦСБвШнг 3х95-6</td>\n      <td>NaN</td>\n      <td>NaN</td>\n      <td>NaN</td>\n      <td>NaN</td>\n      <td>cabel10</td>\n      <td>NaN</td>\n      <td>NaN</td>\n      <td>NaN</td>\n    </tr>\n    <tr>\n      <th>132076</th>\n      <td>Э-ДПС-06-08-Е4(3)</td>\n      <td>NaN</td>\n      <td>NaN</td>\n      <td>NaN</td>\n      <td>NaN</td>\n      <td>commCable</td>\n      <td>NaN</td>\n      <td>NaN</td>\n      <td>NaN</td>\n    </tr>\n    <tr>\n      <th>132077</th>\n      <td>ЭВБВ 3х95-6</td>\n      <td>NaN</td>\n      <td>NaN</td>\n      <td>NaN</td>\n      <td>NaN</td>\n      <td>cabel10</td>\n      <td>NaN</td>\n      <td>NaN</td>\n      <td>NaN</td>\n    </tr>\n    <tr>\n      <th>132078</th>\n      <td>ЭСО-ДПС-06-20-Е4(тип3)</td>\n      <td>NaN</td>\n      <td>NaN</td>\n      <td>NaN</td>\n      <td>NaN</td>\n      <td>commCable</td>\n      <td>NaN</td>\n      <td>NaN</td>\n      <td>NaN</td>\n    </tr>\n    <tr>\n      <th>132079</th>\n      <td>СИПн-7 1х185-110, ТУ 16.К180-072-2019</td>\n      <td>NaN</td>\n      <td>NaN</td>\n      <td>NaN</td>\n      <td>NaN</td>\n      <td>OHLwire35</td>\n      <td>0.0308</td>\n      <td>0.000185</td>\n      <td>NaN</td>\n    </tr>\n  </tbody>\n</table>\n<p>132080 rows × 9 columns</p>\n</div>"
     },
     "execution_count": 338,
     "metadata": {},
     "output_type": "execute_result"
    }
   ],
   "source": [
    "df['StructureId'] = df['StructureId'].str.split('_').str[0]\n",
    "df"
   ],
   "metadata": {
    "collapsed": false,
    "ExecuteTime": {
     "end_time": "2023-09-01T20:12:21.909909300Z",
     "start_time": "2023-09-01T20:12:21.784246700Z"
    }
   }
  },
  {
   "cell_type": "code",
   "execution_count": 339,
   "outputs": [],
   "source": [
    "encoder = LabelEncoder()\n",
    "df['StructureId'] = encoder.fit_transform(df['StructureId'])\n",
    "df['TypeId'] = encoder.fit_transform(df['TypeId'])\n",
    "df = df.fillna(999)"
   ],
   "metadata": {
    "collapsed": false,
    "ExecuteTime": {
     "end_time": "2023-09-01T20:12:22.365628300Z",
     "start_time": "2023-09-01T20:12:22.258913800Z"
    }
   }
  },
  {
   "cell_type": "code",
   "execution_count": 340,
   "outputs": [],
   "source": [
    "df = df.drop_duplicates().reset_index(drop=True)"
   ],
   "metadata": {
    "collapsed": false,
    "ExecuteTime": {
     "end_time": "2023-09-01T20:12:24.384322300Z",
     "start_time": "2023-09-01T20:12:24.272619500Z"
    }
   }
  },
  {
   "cell_type": "code",
   "execution_count": 341,
   "outputs": [],
   "source": [
    "#df = df.set_index('Id_x')"
   ],
   "metadata": {
    "collapsed": false,
    "ExecuteTime": {
     "end_time": "2023-09-01T20:12:25.799306200Z",
     "start_time": "2023-09-01T20:12:25.776328900Z"
    }
   }
  },
  {
   "cell_type": "code",
   "execution_count": 342,
   "outputs": [
    {
     "data": {
      "text/plain": "           Id_x  HeadingId  CategoryId  StructureId  StandardProjectId  \\\n81904   СВ110-5        7.0       114.0          118                5.0   \n81955   СВ110-5        7.0       114.0          198                1.0   \n87405   СВ110-5        7.0       114.0         1580               44.0   \n87418   СВ110-5        7.0       114.0         1581               44.0   \n87432   СВ110-5        7.0       114.0         1711               44.0   \n...         ...        ...         ...          ...                ...   \n111180  СВ110-5        7.0       114.0         1715              162.0   \n111192  СВ110-5        7.0       114.0         1847              161.0   \n111204  СВ110-5        7.0       114.0         1848              162.0   \n111563  СВ110-5        7.0       114.0         1784              161.0   \n111571  СВ110-5        7.0       114.0         1785              162.0   \n\n        TypeId  Diameter  CrossSection  ImageIndex  \n81904       15     999.0         999.0         1.0  \n81955       15     999.0         999.0         1.0  \n87405       14     999.0         999.0         2.0  \n87418       14     999.0         999.0         2.0  \n87432       14     999.0         999.0         2.0  \n...        ...       ...           ...         ...  \n111180      14     999.0         999.0         2.0  \n111192      14     999.0         999.0         2.0  \n111204      14     999.0         999.0         2.0  \n111563      14     999.0         999.0         2.0  \n111571      14     999.0         999.0         2.0  \n\n[120 rows x 9 columns]",
      "text/html": "<div>\n<style scoped>\n    .dataframe tbody tr th:only-of-type {\n        vertical-align: middle;\n    }\n\n    .dataframe tbody tr th {\n        vertical-align: top;\n    }\n\n    .dataframe thead th {\n        text-align: right;\n    }\n</style>\n<table border=\"1\" class=\"dataframe\">\n  <thead>\n    <tr style=\"text-align: right;\">\n      <th></th>\n      <th>Id_x</th>\n      <th>HeadingId</th>\n      <th>CategoryId</th>\n      <th>StructureId</th>\n      <th>StandardProjectId</th>\n      <th>TypeId</th>\n      <th>Diameter</th>\n      <th>CrossSection</th>\n      <th>ImageIndex</th>\n    </tr>\n  </thead>\n  <tbody>\n    <tr>\n      <th>81904</th>\n      <td>СВ110-5</td>\n      <td>7.0</td>\n      <td>114.0</td>\n      <td>118</td>\n      <td>5.0</td>\n      <td>15</td>\n      <td>999.0</td>\n      <td>999.0</td>\n      <td>1.0</td>\n    </tr>\n    <tr>\n      <th>81955</th>\n      <td>СВ110-5</td>\n      <td>7.0</td>\n      <td>114.0</td>\n      <td>198</td>\n      <td>1.0</td>\n      <td>15</td>\n      <td>999.0</td>\n      <td>999.0</td>\n      <td>1.0</td>\n    </tr>\n    <tr>\n      <th>87405</th>\n      <td>СВ110-5</td>\n      <td>7.0</td>\n      <td>114.0</td>\n      <td>1580</td>\n      <td>44.0</td>\n      <td>14</td>\n      <td>999.0</td>\n      <td>999.0</td>\n      <td>2.0</td>\n    </tr>\n    <tr>\n      <th>87418</th>\n      <td>СВ110-5</td>\n      <td>7.0</td>\n      <td>114.0</td>\n      <td>1581</td>\n      <td>44.0</td>\n      <td>14</td>\n      <td>999.0</td>\n      <td>999.0</td>\n      <td>2.0</td>\n    </tr>\n    <tr>\n      <th>87432</th>\n      <td>СВ110-5</td>\n      <td>7.0</td>\n      <td>114.0</td>\n      <td>1711</td>\n      <td>44.0</td>\n      <td>14</td>\n      <td>999.0</td>\n      <td>999.0</td>\n      <td>2.0</td>\n    </tr>\n    <tr>\n      <th>...</th>\n      <td>...</td>\n      <td>...</td>\n      <td>...</td>\n      <td>...</td>\n      <td>...</td>\n      <td>...</td>\n      <td>...</td>\n      <td>...</td>\n      <td>...</td>\n    </tr>\n    <tr>\n      <th>111180</th>\n      <td>СВ110-5</td>\n      <td>7.0</td>\n      <td>114.0</td>\n      <td>1715</td>\n      <td>162.0</td>\n      <td>14</td>\n      <td>999.0</td>\n      <td>999.0</td>\n      <td>2.0</td>\n    </tr>\n    <tr>\n      <th>111192</th>\n      <td>СВ110-5</td>\n      <td>7.0</td>\n      <td>114.0</td>\n      <td>1847</td>\n      <td>161.0</td>\n      <td>14</td>\n      <td>999.0</td>\n      <td>999.0</td>\n      <td>2.0</td>\n    </tr>\n    <tr>\n      <th>111204</th>\n      <td>СВ110-5</td>\n      <td>7.0</td>\n      <td>114.0</td>\n      <td>1848</td>\n      <td>162.0</td>\n      <td>14</td>\n      <td>999.0</td>\n      <td>999.0</td>\n      <td>2.0</td>\n    </tr>\n    <tr>\n      <th>111563</th>\n      <td>СВ110-5</td>\n      <td>7.0</td>\n      <td>114.0</td>\n      <td>1784</td>\n      <td>161.0</td>\n      <td>14</td>\n      <td>999.0</td>\n      <td>999.0</td>\n      <td>2.0</td>\n    </tr>\n    <tr>\n      <th>111571</th>\n      <td>СВ110-5</td>\n      <td>7.0</td>\n      <td>114.0</td>\n      <td>1785</td>\n      <td>162.0</td>\n      <td>14</td>\n      <td>999.0</td>\n      <td>999.0</td>\n      <td>2.0</td>\n    </tr>\n  </tbody>\n</table>\n<p>120 rows × 9 columns</p>\n</div>"
     },
     "execution_count": 342,
     "metadata": {},
     "output_type": "execute_result"
    }
   ],
   "source": [
    "df.query('Id_x== \"СВ110-5\"')"
   ],
   "metadata": {
    "collapsed": false,
    "ExecuteTime": {
     "end_time": "2023-09-01T20:12:26.090551500Z",
     "start_time": "2023-09-01T20:12:26.021489200Z"
    }
   }
  },
  {
   "cell_type": "code",
   "execution_count": 349,
   "outputs": [
    {
     "data": {
      "text/plain": "          Id_x HeadingId CategoryId StructureId StandardProjectId TypeId  \\\n87439  PA 1500       9.0       95.0        1713              44.0     14   \n\n      Diameter CrossSection ImageIndex  \n87439    999.0        999.0        2.0  ",
      "text/html": "<div>\n<style scoped>\n    .dataframe tbody tr th:only-of-type {\n        vertical-align: middle;\n    }\n\n    .dataframe tbody tr th {\n        vertical-align: top;\n    }\n\n    .dataframe thead th {\n        text-align: right;\n    }\n</style>\n<table border=\"1\" class=\"dataframe\">\n  <thead>\n    <tr style=\"text-align: right;\">\n      <th></th>\n      <th>Id_x</th>\n      <th>HeadingId</th>\n      <th>CategoryId</th>\n      <th>StructureId</th>\n      <th>StandardProjectId</th>\n      <th>TypeId</th>\n      <th>Diameter</th>\n      <th>CrossSection</th>\n      <th>ImageIndex</th>\n    </tr>\n  </thead>\n  <tbody>\n    <tr>\n      <th>87439</th>\n      <td>PA 1500</td>\n      <td>9.0</td>\n      <td>95.0</td>\n      <td>1713</td>\n      <td>44.0</td>\n      <td>14</td>\n      <td>999.0</td>\n      <td>999.0</td>\n      <td>2.0</td>\n    </tr>\n  </tbody>\n</table>\n</div>"
     },
     "execution_count": 349,
     "metadata": {},
     "output_type": "execute_result"
    }
   ],
   "source": [
    "query = df.loc[87439].to_frame().T\n",
    "query"
   ],
   "metadata": {
    "collapsed": false,
    "ExecuteTime": {
     "end_time": "2023-09-01T20:14:39.447969100Z",
     "start_time": "2023-09-01T20:14:39.432012100Z"
    }
   }
  },
  {
   "cell_type": "code",
   "execution_count": 354,
   "outputs": [
    {
     "data": {
      "text/plain": "             Id_x  HeadingId  CategoryId  StructureId  StandardProjectId  \\\n87439     PA 1500        9.0        95.0         1713               44.0   \n87434     CA-2000        9.0        95.0         1713               44.0   \n87425     PA 1500        9.0        95.0         1711               44.0   \n87420     CA-2000        9.0        95.0         1711               44.0   \n87446     СВ110-5        7.0       114.0         1713               44.0   \n87432     СВ110-5        7.0       114.0         1711               44.0   \n111792  СВ105-3,5        7.0       114.0         1712               42.0   \n111782  СВ105-3,5        7.0       114.0         1708               42.0   \n101232    CS 10.3        9.0        95.0         1728               25.0   \n101234      F 207        9.0        95.0         1728               25.0   \n101235      NB 20        9.0        95.0         1728               25.0   \n101233      E 778        9.0        95.0         1728               25.0   \n101237    PA 1500        9.0        95.0         1728               25.0   \n101238      SF 50        9.0        95.0         1728               25.0   \n101236       P 70        9.0        95.0         1728               25.0   \n95256     CS 10.3        9.0        95.0         1729               25.0   \n95258       E 778        9.0        95.0         1729               25.0   \n95255       CD 35        9.0        95.0         1729               25.0   \n95259       F 207        9.0        95.0         1729               25.0   \n95260       NB 20        9.0        95.0         1729               25.0   \n95261        P 70        9.0        95.0         1729               25.0   \n95262        P 72        9.0        95.0         1729               25.0   \n95264       SF 50        9.0        95.0         1729               25.0   \n95263     PA 1500        9.0        95.0         1729               25.0   \n101249       P 70        9.0        95.0         1730               25.0   \n101248      NB 20        9.0        95.0         1730               25.0   \n101245    CS 10.3        9.0        95.0         1730               25.0   \n101250    PA 1500        9.0        95.0         1730               25.0   \n101247      F 207        9.0        95.0         1730               25.0   \n101246      E 778        9.0        95.0         1730               25.0   \n\n        TypeId  Diameter  CrossSection  ImageIndex  \n87439       14     999.0         999.0         2.0  \n87434       14     999.0         999.0         2.0  \n87425       14     999.0         999.0         2.0  \n87420       14     999.0         999.0         2.0  \n87446       14     999.0         999.0         2.0  \n87432       14     999.0         999.0         2.0  \n111792      14     999.0         999.0         2.0  \n111782      14     999.0         999.0         2.0  \n101232      14     999.0         999.0         2.0  \n101234      14     999.0         999.0         2.0  \n101235      14     999.0         999.0         2.0  \n101233      14     999.0         999.0         2.0  \n101237      14     999.0         999.0         2.0  \n101238      14     999.0         999.0         2.0  \n101236      14     999.0         999.0         2.0  \n95256       14     999.0         999.0         2.0  \n95258       14     999.0         999.0         2.0  \n95255       14     999.0         999.0         2.0  \n95259       14     999.0         999.0         2.0  \n95260       14     999.0         999.0         2.0  \n95261       14     999.0         999.0         2.0  \n95262       14     999.0         999.0         2.0  \n95264       14     999.0         999.0         2.0  \n95263       14     999.0         999.0         2.0  \n101249      14     999.0         999.0         2.0  \n101248      14     999.0         999.0         2.0  \n101245      14     999.0         999.0         2.0  \n101250      14     999.0         999.0         2.0  \n101247      14     999.0         999.0         2.0  \n101246      14     999.0         999.0         2.0  ",
      "text/html": "<div>\n<style scoped>\n    .dataframe tbody tr th:only-of-type {\n        vertical-align: middle;\n    }\n\n    .dataframe tbody tr th {\n        vertical-align: top;\n    }\n\n    .dataframe thead th {\n        text-align: right;\n    }\n</style>\n<table border=\"1\" class=\"dataframe\">\n  <thead>\n    <tr style=\"text-align: right;\">\n      <th></th>\n      <th>Id_x</th>\n      <th>HeadingId</th>\n      <th>CategoryId</th>\n      <th>StructureId</th>\n      <th>StandardProjectId</th>\n      <th>TypeId</th>\n      <th>Diameter</th>\n      <th>CrossSection</th>\n      <th>ImageIndex</th>\n    </tr>\n  </thead>\n  <tbody>\n    <tr>\n      <th>87439</th>\n      <td>PA 1500</td>\n      <td>9.0</td>\n      <td>95.0</td>\n      <td>1713</td>\n      <td>44.0</td>\n      <td>14</td>\n      <td>999.0</td>\n      <td>999.0</td>\n      <td>2.0</td>\n    </tr>\n    <tr>\n      <th>87434</th>\n      <td>CA-2000</td>\n      <td>9.0</td>\n      <td>95.0</td>\n      <td>1713</td>\n      <td>44.0</td>\n      <td>14</td>\n      <td>999.0</td>\n      <td>999.0</td>\n      <td>2.0</td>\n    </tr>\n    <tr>\n      <th>87425</th>\n      <td>PA 1500</td>\n      <td>9.0</td>\n      <td>95.0</td>\n      <td>1711</td>\n      <td>44.0</td>\n      <td>14</td>\n      <td>999.0</td>\n      <td>999.0</td>\n      <td>2.0</td>\n    </tr>\n    <tr>\n      <th>87420</th>\n      <td>CA-2000</td>\n      <td>9.0</td>\n      <td>95.0</td>\n      <td>1711</td>\n      <td>44.0</td>\n      <td>14</td>\n      <td>999.0</td>\n      <td>999.0</td>\n      <td>2.0</td>\n    </tr>\n    <tr>\n      <th>87446</th>\n      <td>СВ110-5</td>\n      <td>7.0</td>\n      <td>114.0</td>\n      <td>1713</td>\n      <td>44.0</td>\n      <td>14</td>\n      <td>999.0</td>\n      <td>999.0</td>\n      <td>2.0</td>\n    </tr>\n    <tr>\n      <th>87432</th>\n      <td>СВ110-5</td>\n      <td>7.0</td>\n      <td>114.0</td>\n      <td>1711</td>\n      <td>44.0</td>\n      <td>14</td>\n      <td>999.0</td>\n      <td>999.0</td>\n      <td>2.0</td>\n    </tr>\n    <tr>\n      <th>111792</th>\n      <td>СВ105-3,5</td>\n      <td>7.0</td>\n      <td>114.0</td>\n      <td>1712</td>\n      <td>42.0</td>\n      <td>14</td>\n      <td>999.0</td>\n      <td>999.0</td>\n      <td>2.0</td>\n    </tr>\n    <tr>\n      <th>111782</th>\n      <td>СВ105-3,5</td>\n      <td>7.0</td>\n      <td>114.0</td>\n      <td>1708</td>\n      <td>42.0</td>\n      <td>14</td>\n      <td>999.0</td>\n      <td>999.0</td>\n      <td>2.0</td>\n    </tr>\n    <tr>\n      <th>101232</th>\n      <td>CS 10.3</td>\n      <td>9.0</td>\n      <td>95.0</td>\n      <td>1728</td>\n      <td>25.0</td>\n      <td>14</td>\n      <td>999.0</td>\n      <td>999.0</td>\n      <td>2.0</td>\n    </tr>\n    <tr>\n      <th>101234</th>\n      <td>F 207</td>\n      <td>9.0</td>\n      <td>95.0</td>\n      <td>1728</td>\n      <td>25.0</td>\n      <td>14</td>\n      <td>999.0</td>\n      <td>999.0</td>\n      <td>2.0</td>\n    </tr>\n    <tr>\n      <th>101235</th>\n      <td>NB 20</td>\n      <td>9.0</td>\n      <td>95.0</td>\n      <td>1728</td>\n      <td>25.0</td>\n      <td>14</td>\n      <td>999.0</td>\n      <td>999.0</td>\n      <td>2.0</td>\n    </tr>\n    <tr>\n      <th>101233</th>\n      <td>E 778</td>\n      <td>9.0</td>\n      <td>95.0</td>\n      <td>1728</td>\n      <td>25.0</td>\n      <td>14</td>\n      <td>999.0</td>\n      <td>999.0</td>\n      <td>2.0</td>\n    </tr>\n    <tr>\n      <th>101237</th>\n      <td>PA 1500</td>\n      <td>9.0</td>\n      <td>95.0</td>\n      <td>1728</td>\n      <td>25.0</td>\n      <td>14</td>\n      <td>999.0</td>\n      <td>999.0</td>\n      <td>2.0</td>\n    </tr>\n    <tr>\n      <th>101238</th>\n      <td>SF 50</td>\n      <td>9.0</td>\n      <td>95.0</td>\n      <td>1728</td>\n      <td>25.0</td>\n      <td>14</td>\n      <td>999.0</td>\n      <td>999.0</td>\n      <td>2.0</td>\n    </tr>\n    <tr>\n      <th>101236</th>\n      <td>P 70</td>\n      <td>9.0</td>\n      <td>95.0</td>\n      <td>1728</td>\n      <td>25.0</td>\n      <td>14</td>\n      <td>999.0</td>\n      <td>999.0</td>\n      <td>2.0</td>\n    </tr>\n    <tr>\n      <th>95256</th>\n      <td>CS 10.3</td>\n      <td>9.0</td>\n      <td>95.0</td>\n      <td>1729</td>\n      <td>25.0</td>\n      <td>14</td>\n      <td>999.0</td>\n      <td>999.0</td>\n      <td>2.0</td>\n    </tr>\n    <tr>\n      <th>95258</th>\n      <td>E 778</td>\n      <td>9.0</td>\n      <td>95.0</td>\n      <td>1729</td>\n      <td>25.0</td>\n      <td>14</td>\n      <td>999.0</td>\n      <td>999.0</td>\n      <td>2.0</td>\n    </tr>\n    <tr>\n      <th>95255</th>\n      <td>CD 35</td>\n      <td>9.0</td>\n      <td>95.0</td>\n      <td>1729</td>\n      <td>25.0</td>\n      <td>14</td>\n      <td>999.0</td>\n      <td>999.0</td>\n      <td>2.0</td>\n    </tr>\n    <tr>\n      <th>95259</th>\n      <td>F 207</td>\n      <td>9.0</td>\n      <td>95.0</td>\n      <td>1729</td>\n      <td>25.0</td>\n      <td>14</td>\n      <td>999.0</td>\n      <td>999.0</td>\n      <td>2.0</td>\n    </tr>\n    <tr>\n      <th>95260</th>\n      <td>NB 20</td>\n      <td>9.0</td>\n      <td>95.0</td>\n      <td>1729</td>\n      <td>25.0</td>\n      <td>14</td>\n      <td>999.0</td>\n      <td>999.0</td>\n      <td>2.0</td>\n    </tr>\n    <tr>\n      <th>95261</th>\n      <td>P 70</td>\n      <td>9.0</td>\n      <td>95.0</td>\n      <td>1729</td>\n      <td>25.0</td>\n      <td>14</td>\n      <td>999.0</td>\n      <td>999.0</td>\n      <td>2.0</td>\n    </tr>\n    <tr>\n      <th>95262</th>\n      <td>P 72</td>\n      <td>9.0</td>\n      <td>95.0</td>\n      <td>1729</td>\n      <td>25.0</td>\n      <td>14</td>\n      <td>999.0</td>\n      <td>999.0</td>\n      <td>2.0</td>\n    </tr>\n    <tr>\n      <th>95264</th>\n      <td>SF 50</td>\n      <td>9.0</td>\n      <td>95.0</td>\n      <td>1729</td>\n      <td>25.0</td>\n      <td>14</td>\n      <td>999.0</td>\n      <td>999.0</td>\n      <td>2.0</td>\n    </tr>\n    <tr>\n      <th>95263</th>\n      <td>PA 1500</td>\n      <td>9.0</td>\n      <td>95.0</td>\n      <td>1729</td>\n      <td>25.0</td>\n      <td>14</td>\n      <td>999.0</td>\n      <td>999.0</td>\n      <td>2.0</td>\n    </tr>\n    <tr>\n      <th>101249</th>\n      <td>P 70</td>\n      <td>9.0</td>\n      <td>95.0</td>\n      <td>1730</td>\n      <td>25.0</td>\n      <td>14</td>\n      <td>999.0</td>\n      <td>999.0</td>\n      <td>2.0</td>\n    </tr>\n    <tr>\n      <th>101248</th>\n      <td>NB 20</td>\n      <td>9.0</td>\n      <td>95.0</td>\n      <td>1730</td>\n      <td>25.0</td>\n      <td>14</td>\n      <td>999.0</td>\n      <td>999.0</td>\n      <td>2.0</td>\n    </tr>\n    <tr>\n      <th>101245</th>\n      <td>CS 10.3</td>\n      <td>9.0</td>\n      <td>95.0</td>\n      <td>1730</td>\n      <td>25.0</td>\n      <td>14</td>\n      <td>999.0</td>\n      <td>999.0</td>\n      <td>2.0</td>\n    </tr>\n    <tr>\n      <th>101250</th>\n      <td>PA 1500</td>\n      <td>9.0</td>\n      <td>95.0</td>\n      <td>1730</td>\n      <td>25.0</td>\n      <td>14</td>\n      <td>999.0</td>\n      <td>999.0</td>\n      <td>2.0</td>\n    </tr>\n    <tr>\n      <th>101247</th>\n      <td>F 207</td>\n      <td>9.0</td>\n      <td>95.0</td>\n      <td>1730</td>\n      <td>25.0</td>\n      <td>14</td>\n      <td>999.0</td>\n      <td>999.0</td>\n      <td>2.0</td>\n    </tr>\n    <tr>\n      <th>101246</th>\n      <td>E 778</td>\n      <td>9.0</td>\n      <td>95.0</td>\n      <td>1730</td>\n      <td>25.0</td>\n      <td>14</td>\n      <td>999.0</td>\n      <td>999.0</td>\n      <td>2.0</td>\n    </tr>\n  </tbody>\n</table>\n</div>"
     },
     "execution_count": 354,
     "metadata": {},
     "output_type": "execute_result"
    }
   ],
   "source": [
    "#display(df.iloc[40].to_frame().T)\n",
    "df.loc[[87439,  87434,  87425,  87420,  87446,  87432, 111792, 111782,\n",
    "        101232, 101234, 101235, 101233, 101237, 101238, 101236,  95256,\n",
    "        95258,  95255,  95259,  95260,  95261,  95262,  95264,  95263,\n",
    "        101249, 101248, 101245, 101250, 101247, 101246]]"
   ],
   "metadata": {
    "collapsed": false,
    "ExecuteTime": {
     "end_time": "2023-09-01T20:15:31.277740Z",
     "start_time": "2023-09-01T20:15:31.250115400Z"
    }
   }
  },
  {
   "cell_type": "code",
   "execution_count": 210,
   "outputs": [],
   "source": [
    "from sklearn.neighbors import NearestNeighbors"
   ],
   "metadata": {
    "collapsed": false,
    "ExecuteTime": {
     "end_time": "2023-09-01T18:46:43.949471500Z",
     "start_time": "2023-09-01T18:46:43.933515200Z"
    }
   }
  },
  {
   "cell_type": "code",
   "execution_count": 350,
   "outputs": [],
   "source": [
    "n_neighbors = 30\n",
    "neigh = NearestNeighbors(n_neighbors=n_neighbors, metric='cosine')"
   ],
   "metadata": {
    "collapsed": false,
    "ExecuteTime": {
     "end_time": "2023-09-01T20:14:44.308398300Z",
     "start_time": "2023-09-01T20:14:44.301378900Z"
    }
   }
  },
  {
   "cell_type": "code",
   "execution_count": 352,
   "outputs": [
    {
     "data": {
      "text/plain": "NearestNeighbors(metric='cosine', n_neighbors=30)",
      "text/html": "<style>#sk-container-id-10 {color: black;}#sk-container-id-10 pre{padding: 0;}#sk-container-id-10 div.sk-toggleable {background-color: white;}#sk-container-id-10 label.sk-toggleable__label {cursor: pointer;display: block;width: 100%;margin-bottom: 0;padding: 0.3em;box-sizing: border-box;text-align: center;}#sk-container-id-10 label.sk-toggleable__label-arrow:before {content: \"▸\";float: left;margin-right: 0.25em;color: #696969;}#sk-container-id-10 label.sk-toggleable__label-arrow:hover:before {color: black;}#sk-container-id-10 div.sk-estimator:hover label.sk-toggleable__label-arrow:before {color: black;}#sk-container-id-10 div.sk-toggleable__content {max-height: 0;max-width: 0;overflow: hidden;text-align: left;background-color: #f0f8ff;}#sk-container-id-10 div.sk-toggleable__content pre {margin: 0.2em;color: black;border-radius: 0.25em;background-color: #f0f8ff;}#sk-container-id-10 input.sk-toggleable__control:checked~div.sk-toggleable__content {max-height: 200px;max-width: 100%;overflow: auto;}#sk-container-id-10 input.sk-toggleable__control:checked~label.sk-toggleable__label-arrow:before {content: \"▾\";}#sk-container-id-10 div.sk-estimator input.sk-toggleable__control:checked~label.sk-toggleable__label {background-color: #d4ebff;}#sk-container-id-10 div.sk-label input.sk-toggleable__control:checked~label.sk-toggleable__label {background-color: #d4ebff;}#sk-container-id-10 input.sk-hidden--visually {border: 0;clip: rect(1px 1px 1px 1px);clip: rect(1px, 1px, 1px, 1px);height: 1px;margin: -1px;overflow: hidden;padding: 0;position: absolute;width: 1px;}#sk-container-id-10 div.sk-estimator {font-family: monospace;background-color: #f0f8ff;border: 1px dotted black;border-radius: 0.25em;box-sizing: border-box;margin-bottom: 0.5em;}#sk-container-id-10 div.sk-estimator:hover {background-color: #d4ebff;}#sk-container-id-10 div.sk-parallel-item::after {content: \"\";width: 100%;border-bottom: 1px solid gray;flex-grow: 1;}#sk-container-id-10 div.sk-label:hover label.sk-toggleable__label {background-color: #d4ebff;}#sk-container-id-10 div.sk-serial::before {content: \"\";position: absolute;border-left: 1px solid gray;box-sizing: border-box;top: 0;bottom: 0;left: 50%;z-index: 0;}#sk-container-id-10 div.sk-serial {display: flex;flex-direction: column;align-items: center;background-color: white;padding-right: 0.2em;padding-left: 0.2em;position: relative;}#sk-container-id-10 div.sk-item {position: relative;z-index: 1;}#sk-container-id-10 div.sk-parallel {display: flex;align-items: stretch;justify-content: center;background-color: white;position: relative;}#sk-container-id-10 div.sk-item::before, #sk-container-id-10 div.sk-parallel-item::before {content: \"\";position: absolute;border-left: 1px solid gray;box-sizing: border-box;top: 0;bottom: 0;left: 50%;z-index: -1;}#sk-container-id-10 div.sk-parallel-item {display: flex;flex-direction: column;z-index: 1;position: relative;background-color: white;}#sk-container-id-10 div.sk-parallel-item:first-child::after {align-self: flex-end;width: 50%;}#sk-container-id-10 div.sk-parallel-item:last-child::after {align-self: flex-start;width: 50%;}#sk-container-id-10 div.sk-parallel-item:only-child::after {width: 0;}#sk-container-id-10 div.sk-dashed-wrapped {border: 1px dashed gray;margin: 0 0.4em 0.5em 0.4em;box-sizing: border-box;padding-bottom: 0.4em;background-color: white;}#sk-container-id-10 div.sk-label label {font-family: monospace;font-weight: bold;display: inline-block;line-height: 1.2em;}#sk-container-id-10 div.sk-label-container {text-align: center;}#sk-container-id-10 div.sk-container {/* jupyter's `normalize.less` sets `[hidden] { display: none; }` but bootstrap.min.css set `[hidden] { display: none !important; }` so we also need the `!important` here to be able to override the default hidden behavior on the sphinx rendered scikit-learn.org. See: https://github.com/scikit-learn/scikit-learn/issues/21755 */display: inline-block !important;position: relative;}#sk-container-id-10 div.sk-text-repr-fallback {display: none;}</style><div id=\"sk-container-id-10\" class=\"sk-top-container\"><div class=\"sk-text-repr-fallback\"><pre>NearestNeighbors(metric=&#x27;cosine&#x27;, n_neighbors=30)</pre><b>In a Jupyter environment, please rerun this cell to show the HTML representation or trust the notebook. <br />On GitHub, the HTML representation is unable to render, please try loading this page with nbviewer.org.</b></div><div class=\"sk-container\" hidden><div class=\"sk-item\"><div class=\"sk-estimator sk-toggleable\"><input class=\"sk-toggleable__control sk-hidden--visually\" id=\"sk-estimator-id-10\" type=\"checkbox\" checked><label for=\"sk-estimator-id-10\" class=\"sk-toggleable__label sk-toggleable__label-arrow\">NearestNeighbors</label><div class=\"sk-toggleable__content\"><pre>NearestNeighbors(metric=&#x27;cosine&#x27;, n_neighbors=30)</pre></div></div></div></div></div>"
     },
     "execution_count": 352,
     "metadata": {},
     "output_type": "execute_result"
    }
   ],
   "source": [
    "neigh.fit(df.drop(columns='Id_x'))"
   ],
   "metadata": {
    "collapsed": false,
    "ExecuteTime": {
     "end_time": "2023-09-01T20:15:05.653059700Z",
     "start_time": "2023-09-01T20:15:05.608179Z"
    }
   }
  },
  {
   "cell_type": "code",
   "execution_count": 353,
   "outputs": [
    {
     "data": {
      "text/plain": "(array([[3.33066907e-16, 3.33066907e-16, 1.64624699e-07, 1.64624699e-07,\n         3.68371914e-05, 3.73036388e-05, 3.74352747e-05, 3.90063163e-05,\n         4.61702745e-05, 4.61702745e-05, 4.61702745e-05, 4.61702745e-05,\n         4.61702745e-05, 4.61702745e-05, 4.61702745e-05, 4.74567585e-05,\n         4.74567585e-05, 4.74567585e-05, 4.74567585e-05, 4.74567585e-05,\n         4.74567585e-05, 4.74567585e-05, 4.74567585e-05, 4.74567585e-05,\n         4.88227066e-05, 4.88227066e-05, 4.88227066e-05, 4.88227066e-05,\n         4.88227066e-05, 4.88227066e-05]]),\n array([[ 87439,  87434,  87425,  87420,  87446,  87432, 111792, 111782,\n         101232, 101234, 101235, 101233, 101237, 101238, 101236,  95256,\n          95258,  95255,  95259,  95260,  95261,  95262,  95264,  95263,\n         101249, 101248, 101245, 101250, 101247, 101246]], dtype=int64))"
     },
     "execution_count": 353,
     "metadata": {},
     "output_type": "execute_result"
    }
   ],
   "source": [
    "neigh.kneighbors(query.drop(columns='Id_x'))"
   ],
   "metadata": {
    "collapsed": false,
    "ExecuteTime": {
     "end_time": "2023-09-01T20:15:07.838773900Z",
     "start_time": "2023-09-01T20:15:07.804864100Z"
    }
   }
  },
  {
   "cell_type": "code",
   "execution_count": 257,
   "outputs": [],
   "source": [
    "?neigh.kneighbors"
   ],
   "metadata": {
    "collapsed": false,
    "ExecuteTime": {
     "end_time": "2023-09-01T19:03:01.639581700Z",
     "start_time": "2023-09-01T19:03:01.611656300Z"
    }
   }
  },
  {
   "cell_type": "code",
   "execution_count": null,
   "outputs": [],
   "source": [
    "import networkx as nx\n",
    "from sklearn.neighbors import NearestNeighbors"
   ],
   "metadata": {
    "collapsed": false
   }
  },
  {
   "cell_type": "code",
   "execution_count": null,
   "outputs": [],
   "source": [
    "G = nx.Graph()"
   ],
   "metadata": {
    "collapsed": false
   }
  },
  {
   "cell_type": "code",
   "execution_count": null,
   "outputs": [],
   "source": [
    "G.add_node(data_parts.loc[0, 'Id_x'], features=[data_parts.loc[0, 'HeadingId'], data_parts.loc[0, 'CategoryId']])\n",
    "G.add_node(data_parts.loc[1, 'Id'], features=[data_parts.loc[1, 'HeadingId'], data_parts.loc[1, 'CategoryId']])\n",
    "G.add_node(data_parts.loc[2, 'Id'], features=[data_parts.loc[2, 'HeadingId'], data_parts.loc[2, 'CategoryId']])"
   ],
   "metadata": {
    "collapsed": false
   }
  },
  {
   "cell_type": "code",
   "execution_count": null,
   "outputs": [],
   "source": [
    "G.add_edge(data_parts.loc[0, 'Id'], data_parts.loc[1, 'Id'])\n",
    "G.add_edge(data_parts.loc[0, 'Id'], data_parts.loc[2, 'Id'])\n",
    "G.add_edge(data_parts.loc[1, 'Id'], data_parts.loc[2, 'Id'])"
   ],
   "metadata": {
    "collapsed": false
   }
  },
  {
   "cell_type": "code",
   "execution_count": null,
   "outputs": [],
   "source": [
    "features = [G.nodes[node]['features'] for node in G.nodes]\n",
    "node_indices = list(G.nodes)"
   ],
   "metadata": {
    "collapsed": false
   }
  },
  {
   "cell_type": "code",
   "execution_count": null,
   "outputs": [],
   "source": [
    "features"
   ],
   "metadata": {
    "collapsed": false
   }
  },
  {
   "cell_type": "code",
   "execution_count": null,
   "outputs": [],
   "source": [
    "n_neighbors = 15\n",
    "neigh = NearestNeighbors(n_neighbors=n_neighbors, metric='cosine')\n",
    "neigh.fit(features)"
   ],
   "metadata": {
    "collapsed": false
   }
  },
  {
   "cell_type": "code",
   "execution_count": null,
   "outputs": [],
   "source": [
    "features_query = [data_parts.loc[0, 'HeadingId'] + data_parts.loc[2, 'HeadingId'],\n",
    "                  data_parts.loc[0, 'CategoryId'] + data_parts.loc[2, 'CategoryId']]\n",
    "distances, indices = neigh.kneighbors([features_query], n_neighbors=n_neighbors)"
   ],
   "metadata": {
    "collapsed": false
   }
  },
  {
   "cell_type": "code",
   "execution_count": null,
   "outputs": [],
   "source": [
    "# Вывод ближайших соседей\n",
    "print(\"Ближайшие соседи:\")\n",
    "for i in range(n_neighbors):\n",
    "    print(f\"Узел {node_indices[indices[0][i]]}, расстояние {distances[0][i]}\")"
   ],
   "metadata": {
    "collapsed": false
   }
  },
  {
   "cell_type": "code",
   "execution_count": null,
   "outputs": [],
   "source": [],
   "metadata": {
    "collapsed": false
   }
  },
  {
   "cell_type": "code",
   "execution_count": 17,
   "outputs": [
    {
     "data": {
      "text/plain": "                                                   Id  HeadingId  CategoryId\n0                                       ___-12-2А G28          9          58\n1                                                   -         16    20180331\n2                                                   .          0    20190820\n3      \"STR Jaryq\" 80W, 80 Вт, 10800 лм, 5000 К, IP67         17    20210505\n4                                       \"Анкара.\" 10А         16    20200709\n...                                               ...        ...         ...\n80436                          ЯУОТ-31-110-25-IP54-У1          0         999\n80437                        ЯУОТ-33-211-25-54-УХЛ3.1         17    20210505\n80438                                        ЯУР-3А-4         17    20210505\n80439                       Ящик секціювання ________         14         999\n80440           СИПн-7 1х185-110, ТУ 16.К180-072-2019          3         132\n\n[80441 rows x 3 columns]",
      "text/html": "<div>\n<style scoped>\n    .dataframe tbody tr th:only-of-type {\n        vertical-align: middle;\n    }\n\n    .dataframe tbody tr th {\n        vertical-align: top;\n    }\n\n    .dataframe thead th {\n        text-align: right;\n    }\n</style>\n<table border=\"1\" class=\"dataframe\">\n  <thead>\n    <tr style=\"text-align: right;\">\n      <th></th>\n      <th>Id</th>\n      <th>HeadingId</th>\n      <th>CategoryId</th>\n    </tr>\n  </thead>\n  <tbody>\n    <tr>\n      <th>0</th>\n      <td>___-12-2А G28</td>\n      <td>9</td>\n      <td>58</td>\n    </tr>\n    <tr>\n      <th>1</th>\n      <td>-</td>\n      <td>16</td>\n      <td>20180331</td>\n    </tr>\n    <tr>\n      <th>2</th>\n      <td>.</td>\n      <td>0</td>\n      <td>20190820</td>\n    </tr>\n    <tr>\n      <th>3</th>\n      <td>\"STR Jaryq\" 80W, 80 Вт, 10800 лм, 5000 К, IP67</td>\n      <td>17</td>\n      <td>20210505</td>\n    </tr>\n    <tr>\n      <th>4</th>\n      <td>\"Анкара.\" 10А</td>\n      <td>16</td>\n      <td>20200709</td>\n    </tr>\n    <tr>\n      <th>...</th>\n      <td>...</td>\n      <td>...</td>\n      <td>...</td>\n    </tr>\n    <tr>\n      <th>80436</th>\n      <td>ЯУОТ-31-110-25-IP54-У1</td>\n      <td>0</td>\n      <td>999</td>\n    </tr>\n    <tr>\n      <th>80437</th>\n      <td>ЯУОТ-33-211-25-54-УХЛ3.1</td>\n      <td>17</td>\n      <td>20210505</td>\n    </tr>\n    <tr>\n      <th>80438</th>\n      <td>ЯУР-3А-4</td>\n      <td>17</td>\n      <td>20210505</td>\n    </tr>\n    <tr>\n      <th>80439</th>\n      <td>Ящик секціювання ________</td>\n      <td>14</td>\n      <td>999</td>\n    </tr>\n    <tr>\n      <th>80440</th>\n      <td>СИПн-7 1х185-110, ТУ 16.К180-072-2019</td>\n      <td>3</td>\n      <td>132</td>\n    </tr>\n  </tbody>\n</table>\n<p>80441 rows × 3 columns</p>\n</div>"
     },
     "execution_count": 17,
     "metadata": {},
     "output_type": "execute_result"
    }
   ],
   "source": [
    "data_Parts"
   ],
   "metadata": {
    "collapsed": false,
    "ExecuteTime": {
     "end_time": "2023-09-01T14:51:03.577687600Z",
     "start_time": "2023-09-01T14:51:03.559736Z"
    }
   }
  },
  {
   "cell_type": "code",
   "execution_count": null,
   "outputs": [],
   "source": [],
   "metadata": {
    "collapsed": false
   }
  },
  {
   "cell_type": "code",
   "execution_count": null,
   "outputs": [],
   "source": [],
   "metadata": {
    "collapsed": false
   }
  },
  {
   "cell_type": "code",
   "execution_count": null,
   "outputs": [],
   "source": [],
   "metadata": {
    "collapsed": false
   }
  },
  {
   "cell_type": "code",
   "execution_count": null,
   "outputs": [],
   "source": [],
   "metadata": {
    "collapsed": false
   }
  },
  {
   "cell_type": "code",
   "execution_count": 5,
   "outputs": [],
   "source": [
    "import networkx as nx\n",
    "from sklearn.neighbors import NearestNeighbors"
   ],
   "metadata": {
    "collapsed": false,
    "ExecuteTime": {
     "end_time": "2023-08-31T20:53:09.445725400Z",
     "start_time": "2023-08-31T20:53:06.809978800Z"
    }
   }
  },
  {
   "cell_type": "code",
   "execution_count": 6,
   "outputs": [],
   "source": [
    "G = nx.Graph()"
   ],
   "metadata": {
    "collapsed": false,
    "ExecuteTime": {
     "end_time": "2023-08-31T20:53:09.459652900Z",
     "start_time": "2023-08-31T20:53:09.449679800Z"
    }
   }
  },
  {
   "cell_type": "code",
   "execution_count": 7,
   "outputs": [],
   "source": [
    "G.add_node(data_parts.loc[0, 'Id'], features=[data_parts.loc[0, 'HeadingId'], data_parts.loc[0, 'CategoryId']])\n",
    "G.add_node(data_parts.loc[1, 'Id'], features=[data_parts.loc[1, 'HeadingId'], data_parts.loc[1, 'CategoryId']])\n",
    "G.add_node(data_parts.loc[2, 'Id'], features=[data_parts.loc[2, 'HeadingId'], data_parts.loc[2, 'CategoryId']])"
   ],
   "metadata": {
    "collapsed": false,
    "ExecuteTime": {
     "end_time": "2023-08-31T20:53:09.489573300Z",
     "start_time": "2023-08-31T20:53:09.461647900Z"
    }
   }
  },
  {
   "cell_type": "code",
   "execution_count": 8,
   "outputs": [],
   "source": [
    "G.add_edge(data_parts.loc[0, 'Id'], data_parts.loc[1, 'Id'])\n",
    "G.add_edge(data_parts.loc[0, 'Id'], data_parts.loc[2, 'Id'])\n",
    "G.add_edge(data_parts.loc[1, 'Id'], data_parts.loc[2, 'Id'])"
   ],
   "metadata": {
    "collapsed": false,
    "ExecuteTime": {
     "end_time": "2023-08-31T20:53:09.496554300Z",
     "start_time": "2023-08-31T20:53:09.478612800Z"
    }
   }
  },
  {
   "cell_type": "code",
   "execution_count": 9,
   "outputs": [],
   "source": [
    "features = [G.nodes[node]['features'] for node in G.nodes]\n",
    "node_indices = list(G.nodes)"
   ],
   "metadata": {
    "collapsed": false,
    "ExecuteTime": {
     "end_time": "2023-08-31T20:53:09.506527800Z",
     "start_time": "2023-08-31T20:53:09.499546800Z"
    }
   }
  },
  {
   "cell_type": "code",
   "execution_count": 10,
   "outputs": [
    {
     "data": {
      "text/plain": "[[9, 58], [16, 20180331], [0, 20190820]]"
     },
     "execution_count": 10,
     "metadata": {},
     "output_type": "execute_result"
    }
   ],
   "source": [
    "features"
   ],
   "metadata": {
    "collapsed": false,
    "ExecuteTime": {
     "end_time": "2023-08-31T20:53:09.538442900Z",
     "start_time": "2023-08-31T20:53:09.510518600Z"
    }
   }
  },
  {
   "cell_type": "code",
   "execution_count": 11,
   "outputs": [
    {
     "data": {
      "text/plain": "NearestNeighbors(metric='cosine', n_neighbors=1)",
      "text/html": "<style>#sk-container-id-1 {color: black;}#sk-container-id-1 pre{padding: 0;}#sk-container-id-1 div.sk-toggleable {background-color: white;}#sk-container-id-1 label.sk-toggleable__label {cursor: pointer;display: block;width: 100%;margin-bottom: 0;padding: 0.3em;box-sizing: border-box;text-align: center;}#sk-container-id-1 label.sk-toggleable__label-arrow:before {content: \"▸\";float: left;margin-right: 0.25em;color: #696969;}#sk-container-id-1 label.sk-toggleable__label-arrow:hover:before {color: black;}#sk-container-id-1 div.sk-estimator:hover label.sk-toggleable__label-arrow:before {color: black;}#sk-container-id-1 div.sk-toggleable__content {max-height: 0;max-width: 0;overflow: hidden;text-align: left;background-color: #f0f8ff;}#sk-container-id-1 div.sk-toggleable__content pre {margin: 0.2em;color: black;border-radius: 0.25em;background-color: #f0f8ff;}#sk-container-id-1 input.sk-toggleable__control:checked~div.sk-toggleable__content {max-height: 200px;max-width: 100%;overflow: auto;}#sk-container-id-1 input.sk-toggleable__control:checked~label.sk-toggleable__label-arrow:before {content: \"▾\";}#sk-container-id-1 div.sk-estimator input.sk-toggleable__control:checked~label.sk-toggleable__label {background-color: #d4ebff;}#sk-container-id-1 div.sk-label input.sk-toggleable__control:checked~label.sk-toggleable__label {background-color: #d4ebff;}#sk-container-id-1 input.sk-hidden--visually {border: 0;clip: rect(1px 1px 1px 1px);clip: rect(1px, 1px, 1px, 1px);height: 1px;margin: -1px;overflow: hidden;padding: 0;position: absolute;width: 1px;}#sk-container-id-1 div.sk-estimator {font-family: monospace;background-color: #f0f8ff;border: 1px dotted black;border-radius: 0.25em;box-sizing: border-box;margin-bottom: 0.5em;}#sk-container-id-1 div.sk-estimator:hover {background-color: #d4ebff;}#sk-container-id-1 div.sk-parallel-item::after {content: \"\";width: 100%;border-bottom: 1px solid gray;flex-grow: 1;}#sk-container-id-1 div.sk-label:hover label.sk-toggleable__label {background-color: #d4ebff;}#sk-container-id-1 div.sk-serial::before {content: \"\";position: absolute;border-left: 1px solid gray;box-sizing: border-box;top: 0;bottom: 0;left: 50%;z-index: 0;}#sk-container-id-1 div.sk-serial {display: flex;flex-direction: column;align-items: center;background-color: white;padding-right: 0.2em;padding-left: 0.2em;position: relative;}#sk-container-id-1 div.sk-item {position: relative;z-index: 1;}#sk-container-id-1 div.sk-parallel {display: flex;align-items: stretch;justify-content: center;background-color: white;position: relative;}#sk-container-id-1 div.sk-item::before, #sk-container-id-1 div.sk-parallel-item::before {content: \"\";position: absolute;border-left: 1px solid gray;box-sizing: border-box;top: 0;bottom: 0;left: 50%;z-index: -1;}#sk-container-id-1 div.sk-parallel-item {display: flex;flex-direction: column;z-index: 1;position: relative;background-color: white;}#sk-container-id-1 div.sk-parallel-item:first-child::after {align-self: flex-end;width: 50%;}#sk-container-id-1 div.sk-parallel-item:last-child::after {align-self: flex-start;width: 50%;}#sk-container-id-1 div.sk-parallel-item:only-child::after {width: 0;}#sk-container-id-1 div.sk-dashed-wrapped {border: 1px dashed gray;margin: 0 0.4em 0.5em 0.4em;box-sizing: border-box;padding-bottom: 0.4em;background-color: white;}#sk-container-id-1 div.sk-label label {font-family: monospace;font-weight: bold;display: inline-block;line-height: 1.2em;}#sk-container-id-1 div.sk-label-container {text-align: center;}#sk-container-id-1 div.sk-container {/* jupyter's `normalize.less` sets `[hidden] { display: none; }` but bootstrap.min.css set `[hidden] { display: none !important; }` so we also need the `!important` here to be able to override the default hidden behavior on the sphinx rendered scikit-learn.org. See: https://github.com/scikit-learn/scikit-learn/issues/21755 */display: inline-block !important;position: relative;}#sk-container-id-1 div.sk-text-repr-fallback {display: none;}</style><div id=\"sk-container-id-1\" class=\"sk-top-container\"><div class=\"sk-text-repr-fallback\"><pre>NearestNeighbors(metric=&#x27;cosine&#x27;, n_neighbors=1)</pre><b>In a Jupyter environment, please rerun this cell to show the HTML representation or trust the notebook. <br />On GitHub, the HTML representation is unable to render, please try loading this page with nbviewer.org.</b></div><div class=\"sk-container\" hidden><div class=\"sk-item\"><div class=\"sk-estimator sk-toggleable\"><input class=\"sk-toggleable__control sk-hidden--visually\" id=\"sk-estimator-id-1\" type=\"checkbox\" checked><label for=\"sk-estimator-id-1\" class=\"sk-toggleable__label sk-toggleable__label-arrow\">NearestNeighbors</label><div class=\"sk-toggleable__content\"><pre>NearestNeighbors(metric=&#x27;cosine&#x27;, n_neighbors=1)</pre></div></div></div></div></div>"
     },
     "execution_count": 11,
     "metadata": {},
     "output_type": "execute_result"
    }
   ],
   "source": [
    "n_neighbors = 1\n",
    "neigh = NearestNeighbors(n_neighbors=n_neighbors, metric='cosine')\n",
    "neigh.fit(features)"
   ],
   "metadata": {
    "collapsed": false,
    "ExecuteTime": {
     "end_time": "2023-08-31T20:53:09.608255300Z",
     "start_time": "2023-08-31T20:53:09.532459400Z"
    }
   }
  },
  {
   "cell_type": "code",
   "execution_count": 12,
   "outputs": [],
   "source": [
    "features_query = [data_parts.loc[0, 'HeadingId'] + data_parts.loc[2, 'HeadingId'],\n",
    "                  data_parts.loc[0, 'CategoryId'] + data_parts.loc[2, 'CategoryId']]\n",
    "distances, indices = neigh.kneighbors([features_query], n_neighbors=n_neighbors)"
   ],
   "metadata": {
    "collapsed": false,
    "ExecuteTime": {
     "end_time": "2023-08-31T20:53:09.611247100Z",
     "start_time": "2023-08-31T20:53:09.561381300Z"
    }
   }
  },
  {
   "cell_type": "code",
   "execution_count": 13,
   "outputs": [
    {
     "name": "stdout",
     "output_type": "stream",
     "text": [
      "Ближайшие соседи:\n",
      "Узел -, расстояние 6.0285110237146e-14\n"
     ]
    }
   ],
   "source": [
    "# Вывод ближайших соседей\n",
    "print(\"Ближайшие соседи:\")\n",
    "for i in range(n_neighbors):\n",
    "    print(f\"Узел {node_indices[indices[0][i]]}, расстояние {distances[0][i]}\")"
   ],
   "metadata": {
    "collapsed": false,
    "ExecuteTime": {
     "end_time": "2023-08-31T20:53:09.611247100Z",
     "start_time": "2023-08-31T20:53:09.579333400Z"
    }
   }
  },
  {
   "cell_type": "code",
   "execution_count": 13,
   "outputs": [],
   "source": [],
   "metadata": {
    "collapsed": false,
    "ExecuteTime": {
     "end_time": "2023-08-31T20:53:09.612244800Z",
     "start_time": "2023-08-31T20:53:09.608255300Z"
    }
   }
  }
 ],
 "metadata": {
  "kernelspec": {
   "display_name": "Python 3",
   "language": "python",
   "name": "python3"
  },
  "language_info": {
   "codemirror_mode": {
    "name": "ipython",
    "version": 2
   },
   "file_extension": ".py",
   "mimetype": "text/x-python",
   "name": "python",
   "nbconvert_exporter": "python",
   "pygments_lexer": "ipython2",
   "version": "2.7.6"
  }
 },
 "nbformat": 4,
 "nbformat_minor": 0
}
