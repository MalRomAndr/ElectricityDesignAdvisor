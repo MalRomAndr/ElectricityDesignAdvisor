{
 "cells": [
  {
   "cell_type": "code",
   "execution_count": 1,
   "outputs": [],
   "source": [
    "import pandas as pd\n",
    "import numpy as np\n",
    "import sqlite3\n",
    "\n",
    "from sklearn.preprocessing import LabelEncoder\n",
    "from sklearn.neighbors import NearestNeighbors"
   ],
   "metadata": {
    "collapsed": false,
    "ExecuteTime": {
     "end_time": "2023-09-03T06:35:37.727632800Z",
     "start_time": "2023-09-03T06:35:36.613790Z"
    }
   }
  },
  {
   "cell_type": "code",
   "execution_count": 2,
   "outputs": [],
   "source": [
    "conn = sqlite3.connect('database.db')"
   ],
   "metadata": {
    "collapsed": false,
    "ExecuteTime": {
     "end_time": "2023-09-03T06:35:37.743487300Z",
     "start_time": "2023-09-03T06:35:37.727632800Z"
    }
   }
  },
  {
   "cell_type": "code",
   "execution_count": 3,
   "outputs": [],
   "source": [
    "data_Parts = pd.read_sql(\"select Id, Name, HeadingId, CategoryId from Parts;\", con=conn)\n",
    "data_StructuresParts = pd.read_sql(\"select StructureId, PartId from StructuresParts;\", con=conn)\n",
    "data_Structures = pd.read_sql(\"select Id, StandardProjectId, TypeId from Structures;\", con=conn)\n",
    "data_StandardProjects = pd.read_sql(\"select Id, ImageIndex from StandardProjects;\", con=conn)\n",
    "data_Conductors = pd.read_sql(\"select PartId, TypeId, Diameter, CrossSection from Conductors;\", con=conn)"
   ],
   "metadata": {
    "collapsed": false,
    "ExecuteTime": {
     "end_time": "2023-09-03T06:35:38.100244200Z",
     "start_time": "2023-09-03T06:35:37.743487300Z"
    }
   }
  },
  {
   "cell_type": "code",
   "execution_count": 4,
   "outputs": [],
   "source": [
    "df = data_Parts.merge(data_StructuresParts, left_on='Id', right_on='PartId', how='outer').drop('PartId', axis=1)\n",
    "\n",
    "df = df.merge(data_Structures, left_on='StructureId', right_on='Id', how='outer').drop('Id_y', axis=1)\n",
    "\n",
    "data_Conductors.rename(columns={'PartId': 'Id_x'}, inplace=True)\n",
    "\n",
    "df = pd.concat([df, data_Conductors], axis=0)\n",
    "\n",
    "df = df.merge(data_StandardProjects, left_on='StandardProjectId', right_on='Id', how='left').drop('Id', axis=1)"
   ],
   "metadata": {
    "collapsed": false,
    "ExecuteTime": {
     "end_time": "2023-09-03T06:35:38.316831Z",
     "start_time": "2023-09-03T06:35:38.100244200Z"
    }
   }
  },
  {
   "cell_type": "code",
   "execution_count": 5,
   "outputs": [
    {
     "data": {
      "text/plain": "                                         Id_x  \\\n0                               ___-12-2А G28   \n1                                  d10 (цинк)   \n2                                     PA2870P   \n3                                      PGA101   \n4                                     PLDT2 R   \n...                                       ...   \n132075                         ЦСБвШнг 3х95-6   \n132076                      Э-ДПС-06-08-Е4(3)   \n132077                            ЭВБВ 3х95-6   \n132078                 ЭСО-ДПС-06-20-Е4(тип3)   \n132079  СИПн-7 1х185-110, ТУ 16.К180-072-2019   \n\n                                               Name  HeadingId  CategoryId  \\\n0                                  Зажим аппаратный        9.0        58.0   \n1       Сталь круглая оцинкованная по ГОСТ 9.307-89       10.0        10.0   \n2                                    Зажим натяжной        9.0        58.0   \n3                                                          9.0        58.0   \n4               Вязка односторонняя диэлектрическая        9.0        58.0   \n...                                             ...        ...         ...   \n132075                                          NaN        NaN         NaN   \n132076                                          NaN        NaN         NaN   \n132077                                          NaN        NaN         NaN   \n132078                                          NaN        NaN         NaN   \n132079                                          NaN        NaN         NaN   \n\n                                   StructureId  StandardProjectId     TypeId  \\\n0       К10/0,38-1/0 (1хСК120-6)-3_(50-70 мм²)              132.0  support10   \n1       К10/0,38-1/0 (1хСК120-6)-3_(50-70 мм²)              132.0  support10   \n2       К10/0,38-1/0 (1хСК120-6)-3_(50-70 мм²)              132.0  support10   \n3       К10/0,38-1/0 (1хСК120-6)-3_(50-70 мм²)              132.0  support10   \n4       К10/0,38-1/0 (1хСК120-6)-3_(50-70 мм²)              132.0  support10   \n...                                        ...                ...        ...   \n132075                                     NaN                NaN    cabel10   \n132076                                     NaN                NaN  commCable   \n132077                                     NaN                NaN    cabel10   \n132078                                     NaN                NaN  commCable   \n132079                                     NaN                NaN  OHLwire35   \n\n        Diameter  CrossSection  ImageIndex  \n0            NaN           NaN         1.0  \n1            NaN           NaN         1.0  \n2            NaN           NaN         1.0  \n3            NaN           NaN         1.0  \n4            NaN           NaN         1.0  \n...          ...           ...         ...  \n132075       NaN           NaN         NaN  \n132076       NaN           NaN         NaN  \n132077       NaN           NaN         NaN  \n132078       NaN           NaN         NaN  \n132079    0.0308      0.000185         NaN  \n\n[132080 rows x 10 columns]",
      "text/html": "<div>\n<style scoped>\n    .dataframe tbody tr th:only-of-type {\n        vertical-align: middle;\n    }\n\n    .dataframe tbody tr th {\n        vertical-align: top;\n    }\n\n    .dataframe thead th {\n        text-align: right;\n    }\n</style>\n<table border=\"1\" class=\"dataframe\">\n  <thead>\n    <tr style=\"text-align: right;\">\n      <th></th>\n      <th>Id_x</th>\n      <th>Name</th>\n      <th>HeadingId</th>\n      <th>CategoryId</th>\n      <th>StructureId</th>\n      <th>StandardProjectId</th>\n      <th>TypeId</th>\n      <th>Diameter</th>\n      <th>CrossSection</th>\n      <th>ImageIndex</th>\n    </tr>\n  </thead>\n  <tbody>\n    <tr>\n      <th>0</th>\n      <td>___-12-2А G28</td>\n      <td>Зажим аппаратный</td>\n      <td>9.0</td>\n      <td>58.0</td>\n      <td>К10/0,38-1/0 (1хСК120-6)-3_(50-70 мм²)</td>\n      <td>132.0</td>\n      <td>support10</td>\n      <td>NaN</td>\n      <td>NaN</td>\n      <td>1.0</td>\n    </tr>\n    <tr>\n      <th>1</th>\n      <td>d10 (цинк)</td>\n      <td>Сталь круглая оцинкованная по ГОСТ 9.307-89</td>\n      <td>10.0</td>\n      <td>10.0</td>\n      <td>К10/0,38-1/0 (1хСК120-6)-3_(50-70 мм²)</td>\n      <td>132.0</td>\n      <td>support10</td>\n      <td>NaN</td>\n      <td>NaN</td>\n      <td>1.0</td>\n    </tr>\n    <tr>\n      <th>2</th>\n      <td>PA2870P</td>\n      <td>Зажим натяжной</td>\n      <td>9.0</td>\n      <td>58.0</td>\n      <td>К10/0,38-1/0 (1хСК120-6)-3_(50-70 мм²)</td>\n      <td>132.0</td>\n      <td>support10</td>\n      <td>NaN</td>\n      <td>NaN</td>\n      <td>1.0</td>\n    </tr>\n    <tr>\n      <th>3</th>\n      <td>PGA101</td>\n      <td></td>\n      <td>9.0</td>\n      <td>58.0</td>\n      <td>К10/0,38-1/0 (1хСК120-6)-3_(50-70 мм²)</td>\n      <td>132.0</td>\n      <td>support10</td>\n      <td>NaN</td>\n      <td>NaN</td>\n      <td>1.0</td>\n    </tr>\n    <tr>\n      <th>4</th>\n      <td>PLDT2 R</td>\n      <td>Вязка односторонняя диэлектрическая</td>\n      <td>9.0</td>\n      <td>58.0</td>\n      <td>К10/0,38-1/0 (1хСК120-6)-3_(50-70 мм²)</td>\n      <td>132.0</td>\n      <td>support10</td>\n      <td>NaN</td>\n      <td>NaN</td>\n      <td>1.0</td>\n    </tr>\n    <tr>\n      <th>...</th>\n      <td>...</td>\n      <td>...</td>\n      <td>...</td>\n      <td>...</td>\n      <td>...</td>\n      <td>...</td>\n      <td>...</td>\n      <td>...</td>\n      <td>...</td>\n      <td>...</td>\n    </tr>\n    <tr>\n      <th>132075</th>\n      <td>ЦСБвШнг 3х95-6</td>\n      <td>NaN</td>\n      <td>NaN</td>\n      <td>NaN</td>\n      <td>NaN</td>\n      <td>NaN</td>\n      <td>cabel10</td>\n      <td>NaN</td>\n      <td>NaN</td>\n      <td>NaN</td>\n    </tr>\n    <tr>\n      <th>132076</th>\n      <td>Э-ДПС-06-08-Е4(3)</td>\n      <td>NaN</td>\n      <td>NaN</td>\n      <td>NaN</td>\n      <td>NaN</td>\n      <td>NaN</td>\n      <td>commCable</td>\n      <td>NaN</td>\n      <td>NaN</td>\n      <td>NaN</td>\n    </tr>\n    <tr>\n      <th>132077</th>\n      <td>ЭВБВ 3х95-6</td>\n      <td>NaN</td>\n      <td>NaN</td>\n      <td>NaN</td>\n      <td>NaN</td>\n      <td>NaN</td>\n      <td>cabel10</td>\n      <td>NaN</td>\n      <td>NaN</td>\n      <td>NaN</td>\n    </tr>\n    <tr>\n      <th>132078</th>\n      <td>ЭСО-ДПС-06-20-Е4(тип3)</td>\n      <td>NaN</td>\n      <td>NaN</td>\n      <td>NaN</td>\n      <td>NaN</td>\n      <td>NaN</td>\n      <td>commCable</td>\n      <td>NaN</td>\n      <td>NaN</td>\n      <td>NaN</td>\n    </tr>\n    <tr>\n      <th>132079</th>\n      <td>СИПн-7 1х185-110, ТУ 16.К180-072-2019</td>\n      <td>NaN</td>\n      <td>NaN</td>\n      <td>NaN</td>\n      <td>NaN</td>\n      <td>NaN</td>\n      <td>OHLwire35</td>\n      <td>0.0308</td>\n      <td>0.000185</td>\n      <td>NaN</td>\n    </tr>\n  </tbody>\n</table>\n<p>132080 rows × 10 columns</p>\n</div>"
     },
     "execution_count": 5,
     "metadata": {},
     "output_type": "execute_result"
    }
   ],
   "source": [
    "df"
   ],
   "metadata": {
    "collapsed": false,
    "ExecuteTime": {
     "end_time": "2023-09-03T06:35:38.336595100Z",
     "start_time": "2023-09-03T06:35:38.316831Z"
    }
   }
  },
  {
   "cell_type": "code",
   "execution_count": 6,
   "outputs": [
    {
     "data": {
      "text/plain": "                                         Id_x  \\\n0                               ___-12-2А G28   \n1                                  d10 (цинк)   \n2                                     PA2870P   \n3                                      PGA101   \n4                                     PLDT2 R   \n...                                       ...   \n132075                         ЦСБвШнг 3х95-6   \n132076                      Э-ДПС-06-08-Е4(3)   \n132077                            ЭВБВ 3х95-6   \n132078                 ЭСО-ДПС-06-20-Е4(тип3)   \n132079  СИПн-7 1х185-110, ТУ 16.К180-072-2019   \n\n                                               Name  HeadingId  CategoryId  \\\n0                                  Зажим аппаратный        9.0        58.0   \n1       Сталь круглая оцинкованная по ГОСТ 9.307-89       10.0        10.0   \n2                                    Зажим натяжной        9.0        58.0   \n3                                                          9.0        58.0   \n4               Вязка односторонняя диэлектрическая        9.0        58.0   \n...                                             ...        ...         ...   \n132075                                          NaN        NaN         NaN   \n132076                                          NaN        NaN         NaN   \n132077                                          NaN        NaN         NaN   \n132078                                          NaN        NaN         NaN   \n132079                                          NaN        NaN         NaN   \n\n                       StructureId  StandardProjectId     TypeId  Diameter  \\\n0       К10/0,38-1/0 (1хСК120-6)-3              132.0  support10       NaN   \n1       К10/0,38-1/0 (1хСК120-6)-3              132.0  support10       NaN   \n2       К10/0,38-1/0 (1хСК120-6)-3              132.0  support10       NaN   \n3       К10/0,38-1/0 (1хСК120-6)-3              132.0  support10       NaN   \n4       К10/0,38-1/0 (1хСК120-6)-3              132.0  support10       NaN   \n...                            ...                ...        ...       ...   \n132075                         NaN                NaN    cabel10       NaN   \n132076                         NaN                NaN  commCable       NaN   \n132077                         NaN                NaN    cabel10       NaN   \n132078                         NaN                NaN  commCable       NaN   \n132079                         NaN                NaN  OHLwire35    0.0308   \n\n        CrossSection  ImageIndex  \n0                NaN         2.0  \n1                NaN         2.0  \n2                NaN         2.0  \n3                NaN         2.0  \n4                NaN         2.0  \n...              ...         ...  \n132075           NaN         NaN  \n132076           NaN         NaN  \n132077           NaN         NaN  \n132078           NaN         NaN  \n132079      0.000185         NaN  \n\n[132080 rows x 10 columns]",
      "text/html": "<div>\n<style scoped>\n    .dataframe tbody tr th:only-of-type {\n        vertical-align: middle;\n    }\n\n    .dataframe tbody tr th {\n        vertical-align: top;\n    }\n\n    .dataframe thead th {\n        text-align: right;\n    }\n</style>\n<table border=\"1\" class=\"dataframe\">\n  <thead>\n    <tr style=\"text-align: right;\">\n      <th></th>\n      <th>Id_x</th>\n      <th>Name</th>\n      <th>HeadingId</th>\n      <th>CategoryId</th>\n      <th>StructureId</th>\n      <th>StandardProjectId</th>\n      <th>TypeId</th>\n      <th>Diameter</th>\n      <th>CrossSection</th>\n      <th>ImageIndex</th>\n    </tr>\n  </thead>\n  <tbody>\n    <tr>\n      <th>0</th>\n      <td>___-12-2А G28</td>\n      <td>Зажим аппаратный</td>\n      <td>9.0</td>\n      <td>58.0</td>\n      <td>К10/0,38-1/0 (1хСК120-6)-3</td>\n      <td>132.0</td>\n      <td>support10</td>\n      <td>NaN</td>\n      <td>NaN</td>\n      <td>2.0</td>\n    </tr>\n    <tr>\n      <th>1</th>\n      <td>d10 (цинк)</td>\n      <td>Сталь круглая оцинкованная по ГОСТ 9.307-89</td>\n      <td>10.0</td>\n      <td>10.0</td>\n      <td>К10/0,38-1/0 (1хСК120-6)-3</td>\n      <td>132.0</td>\n      <td>support10</td>\n      <td>NaN</td>\n      <td>NaN</td>\n      <td>2.0</td>\n    </tr>\n    <tr>\n      <th>2</th>\n      <td>PA2870P</td>\n      <td>Зажим натяжной</td>\n      <td>9.0</td>\n      <td>58.0</td>\n      <td>К10/0,38-1/0 (1хСК120-6)-3</td>\n      <td>132.0</td>\n      <td>support10</td>\n      <td>NaN</td>\n      <td>NaN</td>\n      <td>2.0</td>\n    </tr>\n    <tr>\n      <th>3</th>\n      <td>PGA101</td>\n      <td></td>\n      <td>9.0</td>\n      <td>58.0</td>\n      <td>К10/0,38-1/0 (1хСК120-6)-3</td>\n      <td>132.0</td>\n      <td>support10</td>\n      <td>NaN</td>\n      <td>NaN</td>\n      <td>2.0</td>\n    </tr>\n    <tr>\n      <th>4</th>\n      <td>PLDT2 R</td>\n      <td>Вязка односторонняя диэлектрическая</td>\n      <td>9.0</td>\n      <td>58.0</td>\n      <td>К10/0,38-1/0 (1хСК120-6)-3</td>\n      <td>132.0</td>\n      <td>support10</td>\n      <td>NaN</td>\n      <td>NaN</td>\n      <td>2.0</td>\n    </tr>\n    <tr>\n      <th>...</th>\n      <td>...</td>\n      <td>...</td>\n      <td>...</td>\n      <td>...</td>\n      <td>...</td>\n      <td>...</td>\n      <td>...</td>\n      <td>...</td>\n      <td>...</td>\n      <td>...</td>\n    </tr>\n    <tr>\n      <th>132075</th>\n      <td>ЦСБвШнг 3х95-6</td>\n      <td>NaN</td>\n      <td>NaN</td>\n      <td>NaN</td>\n      <td>NaN</td>\n      <td>NaN</td>\n      <td>cabel10</td>\n      <td>NaN</td>\n      <td>NaN</td>\n      <td>NaN</td>\n    </tr>\n    <tr>\n      <th>132076</th>\n      <td>Э-ДПС-06-08-Е4(3)</td>\n      <td>NaN</td>\n      <td>NaN</td>\n      <td>NaN</td>\n      <td>NaN</td>\n      <td>NaN</td>\n      <td>commCable</td>\n      <td>NaN</td>\n      <td>NaN</td>\n      <td>NaN</td>\n    </tr>\n    <tr>\n      <th>132077</th>\n      <td>ЭВБВ 3х95-6</td>\n      <td>NaN</td>\n      <td>NaN</td>\n      <td>NaN</td>\n      <td>NaN</td>\n      <td>NaN</td>\n      <td>cabel10</td>\n      <td>NaN</td>\n      <td>NaN</td>\n      <td>NaN</td>\n    </tr>\n    <tr>\n      <th>132078</th>\n      <td>ЭСО-ДПС-06-20-Е4(тип3)</td>\n      <td>NaN</td>\n      <td>NaN</td>\n      <td>NaN</td>\n      <td>NaN</td>\n      <td>NaN</td>\n      <td>commCable</td>\n      <td>NaN</td>\n      <td>NaN</td>\n      <td>NaN</td>\n    </tr>\n    <tr>\n      <th>132079</th>\n      <td>СИПн-7 1х185-110, ТУ 16.К180-072-2019</td>\n      <td>NaN</td>\n      <td>NaN</td>\n      <td>NaN</td>\n      <td>NaN</td>\n      <td>NaN</td>\n      <td>OHLwire35</td>\n      <td>0.0308</td>\n      <td>0.000185</td>\n      <td>NaN</td>\n    </tr>\n  </tbody>\n</table>\n<p>132080 rows × 10 columns</p>\n</div>"
     },
     "execution_count": 6,
     "metadata": {},
     "output_type": "execute_result"
    }
   ],
   "source": [
    "df['StructureId'] = df['StructureId'].str.split('_').str[0]\n",
    "df['ImageIndex'] = df['ImageIndex'] + 1\n",
    "df"
   ],
   "metadata": {
    "collapsed": false,
    "ExecuteTime": {
     "end_time": "2023-09-03T06:35:38.525311500Z",
     "start_time": "2023-09-03T06:35:38.337592100Z"
    }
   }
  },
  {
   "cell_type": "code",
   "execution_count": 7,
   "outputs": [
    {
     "data": {
      "text/plain": "                                         Id_x  \\\n0                               ___-12-2А G28   \n1                                  d10 (цинк)   \n2                                     PA2870P   \n3                                      PGA101   \n4                                     PLDT2 R   \n...                                       ...   \n115768                         ЦСБвШнг 3х95-6   \n115769                      Э-ДПС-06-08-Е4(3)   \n115770                            ЭВБВ 3х95-6   \n115771                 ЭСО-ДПС-06-20-Е4(тип3)   \n115772  СИПн-7 1х185-110, ТУ 16.К180-072-2019   \n\n                                               Name  HeadingId  CategoryId  \\\n0                                  Зажим аппаратный        9.0        58.0   \n1       Сталь круглая оцинкованная по ГОСТ 9.307-89       10.0        10.0   \n2                                    Зажим натяжной        9.0        58.0   \n3                                                          9.0        58.0   \n4               Вязка односторонняя диэлектрическая        9.0        58.0   \n...                                             ...        ...         ...   \n115768                                            0        0.0         0.0   \n115769                                            0        0.0         0.0   \n115770                                            0        0.0         0.0   \n115771                                            0        0.0         0.0   \n115772                                            0        0.0         0.0   \n\n        StructureId  StandardProjectId  TypeId  Diameter  CrossSection  \\\n0               745              132.0      15    0.0000      0.000000   \n1               745              132.0      15    0.0000      0.000000   \n2               745              132.0      15    0.0000      0.000000   \n3               745              132.0      15    0.0000      0.000000   \n4               745              132.0      15    0.0000      0.000000   \n...             ...                ...     ...       ...           ...   \n115768         2267                0.0       5    0.0000      0.000000   \n115769         2267                0.0       6    0.0000      0.000000   \n115770         2267                0.0       5    0.0000      0.000000   \n115771         2267                0.0       6    0.0000      0.000000   \n115772         2267                0.0       2    0.0308      0.000185   \n\n        ImageIndex  \n0              2.0  \n1              2.0  \n2              2.0  \n3              2.0  \n4              2.0  \n...            ...  \n115768         0.0  \n115769         0.0  \n115770         0.0  \n115771         0.0  \n115772         0.0  \n\n[115773 rows x 10 columns]",
      "text/html": "<div>\n<style scoped>\n    .dataframe tbody tr th:only-of-type {\n        vertical-align: middle;\n    }\n\n    .dataframe tbody tr th {\n        vertical-align: top;\n    }\n\n    .dataframe thead th {\n        text-align: right;\n    }\n</style>\n<table border=\"1\" class=\"dataframe\">\n  <thead>\n    <tr style=\"text-align: right;\">\n      <th></th>\n      <th>Id_x</th>\n      <th>Name</th>\n      <th>HeadingId</th>\n      <th>CategoryId</th>\n      <th>StructureId</th>\n      <th>StandardProjectId</th>\n      <th>TypeId</th>\n      <th>Diameter</th>\n      <th>CrossSection</th>\n      <th>ImageIndex</th>\n    </tr>\n  </thead>\n  <tbody>\n    <tr>\n      <th>0</th>\n      <td>___-12-2А G28</td>\n      <td>Зажим аппаратный</td>\n      <td>9.0</td>\n      <td>58.0</td>\n      <td>745</td>\n      <td>132.0</td>\n      <td>15</td>\n      <td>0.0000</td>\n      <td>0.000000</td>\n      <td>2.0</td>\n    </tr>\n    <tr>\n      <th>1</th>\n      <td>d10 (цинк)</td>\n      <td>Сталь круглая оцинкованная по ГОСТ 9.307-89</td>\n      <td>10.0</td>\n      <td>10.0</td>\n      <td>745</td>\n      <td>132.0</td>\n      <td>15</td>\n      <td>0.0000</td>\n      <td>0.000000</td>\n      <td>2.0</td>\n    </tr>\n    <tr>\n      <th>2</th>\n      <td>PA2870P</td>\n      <td>Зажим натяжной</td>\n      <td>9.0</td>\n      <td>58.0</td>\n      <td>745</td>\n      <td>132.0</td>\n      <td>15</td>\n      <td>0.0000</td>\n      <td>0.000000</td>\n      <td>2.0</td>\n    </tr>\n    <tr>\n      <th>3</th>\n      <td>PGA101</td>\n      <td></td>\n      <td>9.0</td>\n      <td>58.0</td>\n      <td>745</td>\n      <td>132.0</td>\n      <td>15</td>\n      <td>0.0000</td>\n      <td>0.000000</td>\n      <td>2.0</td>\n    </tr>\n    <tr>\n      <th>4</th>\n      <td>PLDT2 R</td>\n      <td>Вязка односторонняя диэлектрическая</td>\n      <td>9.0</td>\n      <td>58.0</td>\n      <td>745</td>\n      <td>132.0</td>\n      <td>15</td>\n      <td>0.0000</td>\n      <td>0.000000</td>\n      <td>2.0</td>\n    </tr>\n    <tr>\n      <th>...</th>\n      <td>...</td>\n      <td>...</td>\n      <td>...</td>\n      <td>...</td>\n      <td>...</td>\n      <td>...</td>\n      <td>...</td>\n      <td>...</td>\n      <td>...</td>\n      <td>...</td>\n    </tr>\n    <tr>\n      <th>115768</th>\n      <td>ЦСБвШнг 3х95-6</td>\n      <td>0</td>\n      <td>0.0</td>\n      <td>0.0</td>\n      <td>2267</td>\n      <td>0.0</td>\n      <td>5</td>\n      <td>0.0000</td>\n      <td>0.000000</td>\n      <td>0.0</td>\n    </tr>\n    <tr>\n      <th>115769</th>\n      <td>Э-ДПС-06-08-Е4(3)</td>\n      <td>0</td>\n      <td>0.0</td>\n      <td>0.0</td>\n      <td>2267</td>\n      <td>0.0</td>\n      <td>6</td>\n      <td>0.0000</td>\n      <td>0.000000</td>\n      <td>0.0</td>\n    </tr>\n    <tr>\n      <th>115770</th>\n      <td>ЭВБВ 3х95-6</td>\n      <td>0</td>\n      <td>0.0</td>\n      <td>0.0</td>\n      <td>2267</td>\n      <td>0.0</td>\n      <td>5</td>\n      <td>0.0000</td>\n      <td>0.000000</td>\n      <td>0.0</td>\n    </tr>\n    <tr>\n      <th>115771</th>\n      <td>ЭСО-ДПС-06-20-Е4(тип3)</td>\n      <td>0</td>\n      <td>0.0</td>\n      <td>0.0</td>\n      <td>2267</td>\n      <td>0.0</td>\n      <td>6</td>\n      <td>0.0000</td>\n      <td>0.000000</td>\n      <td>0.0</td>\n    </tr>\n    <tr>\n      <th>115772</th>\n      <td>СИПн-7 1х185-110, ТУ 16.К180-072-2019</td>\n      <td>0</td>\n      <td>0.0</td>\n      <td>0.0</td>\n      <td>2267</td>\n      <td>0.0</td>\n      <td>2</td>\n      <td>0.0308</td>\n      <td>0.000185</td>\n      <td>0.0</td>\n    </tr>\n  </tbody>\n</table>\n<p>115773 rows × 10 columns</p>\n</div>"
     },
     "execution_count": 7,
     "metadata": {},
     "output_type": "execute_result"
    }
   ],
   "source": [
    "encoder = LabelEncoder()\n",
    "df['StructureId'] = encoder.fit_transform(df['StructureId'])\n",
    "df['TypeId'] = encoder.fit_transform(df['TypeId'])\n",
    "df = df.fillna(0)\n",
    "df = df.drop_duplicates().reset_index(drop=True)\n",
    "df"
   ],
   "metadata": {
    "collapsed": false,
    "ExecuteTime": {
     "end_time": "2023-09-03T06:35:38.775820400Z",
     "start_time": "2023-09-03T06:35:38.525311500Z"
    }
   }
  },
  {
   "cell_type": "markdown",
   "source": [
    "**NearestNeighbors**"
   ],
   "metadata": {
    "collapsed": false
   }
  },
  {
   "cell_type": "code",
   "execution_count": 8,
   "outputs": [],
   "source": [
    "n_neighbors = 35\n",
    "neigh = NearestNeighbors(n_neighbors=n_neighbors, metric='cosine')"
   ],
   "metadata": {
    "collapsed": false,
    "ExecuteTime": {
     "end_time": "2023-09-03T06:35:38.800608700Z",
     "start_time": "2023-09-03T06:35:38.775820400Z"
    }
   }
  },
  {
   "cell_type": "code",
   "execution_count": 9,
   "outputs": [
    {
     "data": {
      "text/plain": "NearestNeighbors(metric='cosine', n_neighbors=35)",
      "text/html": "<style>#sk-container-id-1 {color: black;}#sk-container-id-1 pre{padding: 0;}#sk-container-id-1 div.sk-toggleable {background-color: white;}#sk-container-id-1 label.sk-toggleable__label {cursor: pointer;display: block;width: 100%;margin-bottom: 0;padding: 0.3em;box-sizing: border-box;text-align: center;}#sk-container-id-1 label.sk-toggleable__label-arrow:before {content: \"▸\";float: left;margin-right: 0.25em;color: #696969;}#sk-container-id-1 label.sk-toggleable__label-arrow:hover:before {color: black;}#sk-container-id-1 div.sk-estimator:hover label.sk-toggleable__label-arrow:before {color: black;}#sk-container-id-1 div.sk-toggleable__content {max-height: 0;max-width: 0;overflow: hidden;text-align: left;background-color: #f0f8ff;}#sk-container-id-1 div.sk-toggleable__content pre {margin: 0.2em;color: black;border-radius: 0.25em;background-color: #f0f8ff;}#sk-container-id-1 input.sk-toggleable__control:checked~div.sk-toggleable__content {max-height: 200px;max-width: 100%;overflow: auto;}#sk-container-id-1 input.sk-toggleable__control:checked~label.sk-toggleable__label-arrow:before {content: \"▾\";}#sk-container-id-1 div.sk-estimator input.sk-toggleable__control:checked~label.sk-toggleable__label {background-color: #d4ebff;}#sk-container-id-1 div.sk-label input.sk-toggleable__control:checked~label.sk-toggleable__label {background-color: #d4ebff;}#sk-container-id-1 input.sk-hidden--visually {border: 0;clip: rect(1px 1px 1px 1px);clip: rect(1px, 1px, 1px, 1px);height: 1px;margin: -1px;overflow: hidden;padding: 0;position: absolute;width: 1px;}#sk-container-id-1 div.sk-estimator {font-family: monospace;background-color: #f0f8ff;border: 1px dotted black;border-radius: 0.25em;box-sizing: border-box;margin-bottom: 0.5em;}#sk-container-id-1 div.sk-estimator:hover {background-color: #d4ebff;}#sk-container-id-1 div.sk-parallel-item::after {content: \"\";width: 100%;border-bottom: 1px solid gray;flex-grow: 1;}#sk-container-id-1 div.sk-label:hover label.sk-toggleable__label {background-color: #d4ebff;}#sk-container-id-1 div.sk-serial::before {content: \"\";position: absolute;border-left: 1px solid gray;box-sizing: border-box;top: 0;bottom: 0;left: 50%;z-index: 0;}#sk-container-id-1 div.sk-serial {display: flex;flex-direction: column;align-items: center;background-color: white;padding-right: 0.2em;padding-left: 0.2em;position: relative;}#sk-container-id-1 div.sk-item {position: relative;z-index: 1;}#sk-container-id-1 div.sk-parallel {display: flex;align-items: stretch;justify-content: center;background-color: white;position: relative;}#sk-container-id-1 div.sk-item::before, #sk-container-id-1 div.sk-parallel-item::before {content: \"\";position: absolute;border-left: 1px solid gray;box-sizing: border-box;top: 0;bottom: 0;left: 50%;z-index: -1;}#sk-container-id-1 div.sk-parallel-item {display: flex;flex-direction: column;z-index: 1;position: relative;background-color: white;}#sk-container-id-1 div.sk-parallel-item:first-child::after {align-self: flex-end;width: 50%;}#sk-container-id-1 div.sk-parallel-item:last-child::after {align-self: flex-start;width: 50%;}#sk-container-id-1 div.sk-parallel-item:only-child::after {width: 0;}#sk-container-id-1 div.sk-dashed-wrapped {border: 1px dashed gray;margin: 0 0.4em 0.5em 0.4em;box-sizing: border-box;padding-bottom: 0.4em;background-color: white;}#sk-container-id-1 div.sk-label label {font-family: monospace;font-weight: bold;display: inline-block;line-height: 1.2em;}#sk-container-id-1 div.sk-label-container {text-align: center;}#sk-container-id-1 div.sk-container {/* jupyter's `normalize.less` sets `[hidden] { display: none; }` but bootstrap.min.css set `[hidden] { display: none !important; }` so we also need the `!important` here to be able to override the default hidden behavior on the sphinx rendered scikit-learn.org. See: https://github.com/scikit-learn/scikit-learn/issues/21755 */display: inline-block !important;position: relative;}#sk-container-id-1 div.sk-text-repr-fallback {display: none;}</style><div id=\"sk-container-id-1\" class=\"sk-top-container\"><div class=\"sk-text-repr-fallback\"><pre>NearestNeighbors(metric=&#x27;cosine&#x27;, n_neighbors=35)</pre><b>In a Jupyter environment, please rerun this cell to show the HTML representation or trust the notebook. <br />On GitHub, the HTML representation is unable to render, please try loading this page with nbviewer.org.</b></div><div class=\"sk-container\" hidden><div class=\"sk-item\"><div class=\"sk-estimator sk-toggleable\"><input class=\"sk-toggleable__control sk-hidden--visually\" id=\"sk-estimator-id-1\" type=\"checkbox\" checked><label for=\"sk-estimator-id-1\" class=\"sk-toggleable__label sk-toggleable__label-arrow\">NearestNeighbors</label><div class=\"sk-toggleable__content\"><pre>NearestNeighbors(metric=&#x27;cosine&#x27;, n_neighbors=35)</pre></div></div></div></div></div>"
     },
     "execution_count": 9,
     "metadata": {},
     "output_type": "execute_result"
    }
   ],
   "source": [
    "neigh.fit(df.drop(columns=['Id_x', 'Name'], axis=1))"
   ],
   "metadata": {
    "collapsed": false,
    "ExecuteTime": {
     "end_time": "2023-09-03T06:35:38.909895100Z",
     "start_time": "2023-09-03T06:35:38.800608700Z"
    }
   }
  },
  {
   "cell_type": "code",
   "execution_count": 10,
   "outputs": [
    {
     "data": {
      "text/plain": "                       Id_x  \\\n91164              CCD 9-62   \n16933                409113   \n89511               СВ105-5   \n19382               4405012   \n7258                 047205   \n73512  НІК 2303І АРК1Т 1820   \n28683          CJH33.4234RC   \n\n                                                    Name  HeadingId  \\\n91164                                              Хомут        9.0   \n16933  Автоматический выключатель DX³ 10000 - 16 кА -...       17.0   \n89511  Стойка железобетонная вибрированная, ТУ 5863-0...        7.0   \n19382  Розетка с крышкой \"Ванильная дымка\", 2P E, с з...       15.0   \n7258   Шкаф Altis сборный металлический - IP 55 - IK ...       15.0   \n73512             Счетчик электрической энергии тарифный       17.0   \n28683  соединительные муфты на пластик, броня, 3x185-...        4.0   \n\n       CategoryId  StructureId  StandardProjectId  TypeId  Diameter  \\\n91164        58.0          585              572.0      14       0.0   \n16933  20190823.0         2267                0.0      18       0.0   \n89511       114.0          427              454.0      15       0.0   \n19382  20190823.0         2267                0.0      18       0.0   \n7258   20190823.0         2267                0.0      18       0.0   \n73512       110.0         2267                0.0      18       0.0   \n28683        78.0         2267                0.0      18       0.0   \n\n       CrossSection  ImageIndex  \n91164           0.0         3.0  \n16933           0.0         0.0  \n89511           0.0         2.0  \n19382           0.0         0.0  \n7258            0.0         0.0  \n73512           0.0         0.0  \n28683           0.0         0.0  ",
      "text/html": "<div>\n<style scoped>\n    .dataframe tbody tr th:only-of-type {\n        vertical-align: middle;\n    }\n\n    .dataframe tbody tr th {\n        vertical-align: top;\n    }\n\n    .dataframe thead th {\n        text-align: right;\n    }\n</style>\n<table border=\"1\" class=\"dataframe\">\n  <thead>\n    <tr style=\"text-align: right;\">\n      <th></th>\n      <th>Id_x</th>\n      <th>Name</th>\n      <th>HeadingId</th>\n      <th>CategoryId</th>\n      <th>StructureId</th>\n      <th>StandardProjectId</th>\n      <th>TypeId</th>\n      <th>Diameter</th>\n      <th>CrossSection</th>\n      <th>ImageIndex</th>\n    </tr>\n  </thead>\n  <tbody>\n    <tr>\n      <th>91164</th>\n      <td>CCD 9-62</td>\n      <td>Хомут</td>\n      <td>9.0</td>\n      <td>58.0</td>\n      <td>585</td>\n      <td>572.0</td>\n      <td>14</td>\n      <td>0.0</td>\n      <td>0.0</td>\n      <td>3.0</td>\n    </tr>\n    <tr>\n      <th>16933</th>\n      <td>409113</td>\n      <td>Автоматический выключатель DX³ 10000 - 16 кА -...</td>\n      <td>17.0</td>\n      <td>20190823.0</td>\n      <td>2267</td>\n      <td>0.0</td>\n      <td>18</td>\n      <td>0.0</td>\n      <td>0.0</td>\n      <td>0.0</td>\n    </tr>\n    <tr>\n      <th>89511</th>\n      <td>СВ105-5</td>\n      <td>Стойка железобетонная вибрированная, ТУ 5863-0...</td>\n      <td>7.0</td>\n      <td>114.0</td>\n      <td>427</td>\n      <td>454.0</td>\n      <td>15</td>\n      <td>0.0</td>\n      <td>0.0</td>\n      <td>2.0</td>\n    </tr>\n    <tr>\n      <th>19382</th>\n      <td>4405012</td>\n      <td>Розетка с крышкой \"Ванильная дымка\", 2P E, с з...</td>\n      <td>15.0</td>\n      <td>20190823.0</td>\n      <td>2267</td>\n      <td>0.0</td>\n      <td>18</td>\n      <td>0.0</td>\n      <td>0.0</td>\n      <td>0.0</td>\n    </tr>\n    <tr>\n      <th>7258</th>\n      <td>047205</td>\n      <td>Шкаф Altis сборный металлический - IP 55 - IK ...</td>\n      <td>15.0</td>\n      <td>20190823.0</td>\n      <td>2267</td>\n      <td>0.0</td>\n      <td>18</td>\n      <td>0.0</td>\n      <td>0.0</td>\n      <td>0.0</td>\n    </tr>\n    <tr>\n      <th>73512</th>\n      <td>НІК 2303І АРК1Т 1820</td>\n      <td>Счетчик электрической энергии тарифный</td>\n      <td>17.0</td>\n      <td>110.0</td>\n      <td>2267</td>\n      <td>0.0</td>\n      <td>18</td>\n      <td>0.0</td>\n      <td>0.0</td>\n      <td>0.0</td>\n    </tr>\n    <tr>\n      <th>28683</th>\n      <td>CJH33.4234RC</td>\n      <td>соединительные муфты на пластик, броня, 3x185-...</td>\n      <td>4.0</td>\n      <td>78.0</td>\n      <td>2267</td>\n      <td>0.0</td>\n      <td>18</td>\n      <td>0.0</td>\n      <td>0.0</td>\n      <td>0.0</td>\n    </tr>\n  </tbody>\n</table>\n</div>"
     },
     "execution_count": 10,
     "metadata": {},
     "output_type": "execute_result"
    }
   ],
   "source": [
    "query = df.loc[np.random.randint(df.shape[0], size=7)]\n",
    "query"
   ],
   "metadata": {
    "collapsed": false,
    "ExecuteTime": {
     "end_time": "2023-09-03T06:35:38.951162700Z",
     "start_time": "2023-09-03T06:35:38.847405900Z"
    }
   }
  },
  {
   "cell_type": "code",
   "execution_count": 11,
   "outputs": [
    {
     "data": {
      "text/plain": "                      Id_x                                               Name  \\\n33821           CONTB630.3  Адаптер параллельного подключения к CONT630, 1...   \n33819           CONTB630.1  Адаптер параллельного подключения к CONT630, 2...   \n91177              TND 241     Зажим для повторных заземлений PEN проводника    \n91175                GUKo2                       Зажим натяжной магистральный   \n91176          PSP 122 TRA                 Зажим поддерживающий магистральный   \n91167              PSP 120                Зажим поддерживающий магистральный    \n35734           DFT 400 FT                      КРЫШКА T-ОБРАЗНОГО СОЕДИНЕНИЯ   \n33917           COT1.2404L  Концевая муфта наружной установки для кабеля с...   \n35744         DFTM 100 V2A         Крышка Т-образного ответвления Magic 100мм   \n35763          DFTM 500 FS         Крышка Т-образного ответвления Magic 500мм   \n35733        DFT 400 FS RU       Крышка Т-образной секции для лотка LKS 400мм   \n89660             СК120-10                                             Стойка   \n89536             СК105-10                                             Стойка   \n90479            СВ105-3,6  Стойка железобетонная вибрированная, ТУ 5863-0...   \n90562               СВ95-2  Стойка железобетонная вибрированная, ТУ 5863-0...   \n73416  НІК 2303І АП6Т 1602             Счетчик электрической энергии тарифный   \n73427  НІК 2303І АП6Т 1701             Счетчик электрической энергии тарифный   \n73426  НІК 2303І АП6Т 1700             Счетчик электрической энергии тарифный   \n73433  НІК 2303І АП6Т 1723             Счетчик электрической энергии тарифный   \n55054               SMG-14                            ШМГИ 3x24x1 EKF PROxima   \n55033              SM-6x50                  Шина М1T 6х50х4000 мм EKF PROxima   \n55032         SM-63-4-4(4)  Щит механизации ЩМ- РУСП-   63-3х1П-3х3П-IP54 ...   \n55031            SM-63-4-4  Щит механизации ЩМ- РУСП-   63-4х1П-4х3П-IP54 ...   \n33916          COT1.24045L  концевые муфты на пластик, 1x240-400, с наконе...   \n\n       HeadingId  CategoryId  StructureId  StandardProjectId  TypeId  \\\n33821        4.0        78.0         2267                0.0      18   \n33819        4.0        78.0         2267                0.0      18   \n91177        9.0        58.0          585              572.0      14   \n91175        9.0        58.0          585              572.0      14   \n91176        9.0        58.0          585              572.0      14   \n91167        9.0        58.0          585              572.0      14   \n35734       15.0  20190823.0         2267                0.0      18   \n33917        4.0        78.0         2267                0.0      18   \n35744       15.0  20190823.0         2267                0.0      18   \n35763       15.0  20190823.0         2267                0.0      18   \n35733       15.0  20190823.0         2267                0.0      18   \n89660        7.0       114.0          433              457.0      15   \n89536        7.0       114.0          428              455.0      15   \n90479        7.0       114.0          530              581.0      14   \n90562        7.0       114.0          534              581.0      14   \n73416       17.0       110.0         2267                0.0      18   \n73427       17.0       110.0         2267                0.0      18   \n73426       17.0       110.0         2267                0.0      18   \n73433       17.0       110.0         2267                0.0      18   \n55054       17.0  20190823.0         2267                0.0      18   \n55033       17.0  20190823.0         2267                0.0      18   \n55032       17.0  20190823.0         2267                0.0      18   \n55031       17.0  20190823.0         2267                0.0      18   \n33916        4.0        78.0         2267                0.0      18   \n\n       Diameter  CrossSection  ImageIndex      distance  \n33821       0.0           0.0         0.0  0.000000e+00  \n33819       0.0           0.0         0.0  0.000000e+00  \n91177       0.0           0.0         3.0  0.000000e+00  \n91175       0.0           0.0         3.0  0.000000e+00  \n91176       0.0           0.0         3.0  0.000000e+00  \n91167       0.0           0.0         3.0  0.000000e+00  \n35734       0.0           0.0         0.0  1.110223e-16  \n33917       0.0           0.0         0.0  0.000000e+00  \n35744       0.0           0.0         0.0  1.110223e-16  \n35763       0.0           0.0         0.0  1.110223e-16  \n35733       0.0           0.0         0.0  1.110223e-16  \n89660       0.0           0.0         2.0  8.142229e-06  \n89536       0.0           0.0         2.0  8.414320e-08  \n90479       0.0           0.0         3.0  8.162721e-04  \n90562       0.0           0.0         3.0  7.860738e-04  \n73416       0.0           0.0         0.0  0.000000e+00  \n73427       0.0           0.0         0.0  0.000000e+00  \n73426       0.0           0.0         0.0  0.000000e+00  \n73433       0.0           0.0         0.0  0.000000e+00  \n55054       0.0           0.0         0.0  0.000000e+00  \n55033       0.0           0.0         0.0  0.000000e+00  \n55032       0.0           0.0         0.0  0.000000e+00  \n55031       0.0           0.0         0.0  0.000000e+00  \n33916       0.0           0.0         0.0  0.000000e+00  ",
      "text/html": "<div>\n<style scoped>\n    .dataframe tbody tr th:only-of-type {\n        vertical-align: middle;\n    }\n\n    .dataframe tbody tr th {\n        vertical-align: top;\n    }\n\n    .dataframe thead th {\n        text-align: right;\n    }\n</style>\n<table border=\"1\" class=\"dataframe\">\n  <thead>\n    <tr style=\"text-align: right;\">\n      <th></th>\n      <th>Id_x</th>\n      <th>Name</th>\n      <th>HeadingId</th>\n      <th>CategoryId</th>\n      <th>StructureId</th>\n      <th>StandardProjectId</th>\n      <th>TypeId</th>\n      <th>Diameter</th>\n      <th>CrossSection</th>\n      <th>ImageIndex</th>\n      <th>distance</th>\n    </tr>\n  </thead>\n  <tbody>\n    <tr>\n      <th>33821</th>\n      <td>CONTB630.3</td>\n      <td>Адаптер параллельного подключения к CONT630, 1...</td>\n      <td>4.0</td>\n      <td>78.0</td>\n      <td>2267</td>\n      <td>0.0</td>\n      <td>18</td>\n      <td>0.0</td>\n      <td>0.0</td>\n      <td>0.0</td>\n      <td>0.000000e+00</td>\n    </tr>\n    <tr>\n      <th>33819</th>\n      <td>CONTB630.1</td>\n      <td>Адаптер параллельного подключения к CONT630, 2...</td>\n      <td>4.0</td>\n      <td>78.0</td>\n      <td>2267</td>\n      <td>0.0</td>\n      <td>18</td>\n      <td>0.0</td>\n      <td>0.0</td>\n      <td>0.0</td>\n      <td>0.000000e+00</td>\n    </tr>\n    <tr>\n      <th>91177</th>\n      <td>TND 241</td>\n      <td>Зажим для повторных заземлений PEN проводника</td>\n      <td>9.0</td>\n      <td>58.0</td>\n      <td>585</td>\n      <td>572.0</td>\n      <td>14</td>\n      <td>0.0</td>\n      <td>0.0</td>\n      <td>3.0</td>\n      <td>0.000000e+00</td>\n    </tr>\n    <tr>\n      <th>91175</th>\n      <td>GUKo2</td>\n      <td>Зажим натяжной магистральный</td>\n      <td>9.0</td>\n      <td>58.0</td>\n      <td>585</td>\n      <td>572.0</td>\n      <td>14</td>\n      <td>0.0</td>\n      <td>0.0</td>\n      <td>3.0</td>\n      <td>0.000000e+00</td>\n    </tr>\n    <tr>\n      <th>91176</th>\n      <td>PSP 122 TRA</td>\n      <td>Зажим поддерживающий магистральный</td>\n      <td>9.0</td>\n      <td>58.0</td>\n      <td>585</td>\n      <td>572.0</td>\n      <td>14</td>\n      <td>0.0</td>\n      <td>0.0</td>\n      <td>3.0</td>\n      <td>0.000000e+00</td>\n    </tr>\n    <tr>\n      <th>91167</th>\n      <td>PSP 120</td>\n      <td>Зажим поддерживающий магистральный</td>\n      <td>9.0</td>\n      <td>58.0</td>\n      <td>585</td>\n      <td>572.0</td>\n      <td>14</td>\n      <td>0.0</td>\n      <td>0.0</td>\n      <td>3.0</td>\n      <td>0.000000e+00</td>\n    </tr>\n    <tr>\n      <th>35734</th>\n      <td>DFT 400 FT</td>\n      <td>КРЫШКА T-ОБРАЗНОГО СОЕДИНЕНИЯ</td>\n      <td>15.0</td>\n      <td>20190823.0</td>\n      <td>2267</td>\n      <td>0.0</td>\n      <td>18</td>\n      <td>0.0</td>\n      <td>0.0</td>\n      <td>0.0</td>\n      <td>1.110223e-16</td>\n    </tr>\n    <tr>\n      <th>33917</th>\n      <td>COT1.2404L</td>\n      <td>Концевая муфта наружной установки для кабеля с...</td>\n      <td>4.0</td>\n      <td>78.0</td>\n      <td>2267</td>\n      <td>0.0</td>\n      <td>18</td>\n      <td>0.0</td>\n      <td>0.0</td>\n      <td>0.0</td>\n      <td>0.000000e+00</td>\n    </tr>\n    <tr>\n      <th>35744</th>\n      <td>DFTM 100 V2A</td>\n      <td>Крышка Т-образного ответвления Magic 100мм</td>\n      <td>15.0</td>\n      <td>20190823.0</td>\n      <td>2267</td>\n      <td>0.0</td>\n      <td>18</td>\n      <td>0.0</td>\n      <td>0.0</td>\n      <td>0.0</td>\n      <td>1.110223e-16</td>\n    </tr>\n    <tr>\n      <th>35763</th>\n      <td>DFTM 500 FS</td>\n      <td>Крышка Т-образного ответвления Magic 500мм</td>\n      <td>15.0</td>\n      <td>20190823.0</td>\n      <td>2267</td>\n      <td>0.0</td>\n      <td>18</td>\n      <td>0.0</td>\n      <td>0.0</td>\n      <td>0.0</td>\n      <td>1.110223e-16</td>\n    </tr>\n    <tr>\n      <th>35733</th>\n      <td>DFT 400 FS RU</td>\n      <td>Крышка Т-образной секции для лотка LKS 400мм</td>\n      <td>15.0</td>\n      <td>20190823.0</td>\n      <td>2267</td>\n      <td>0.0</td>\n      <td>18</td>\n      <td>0.0</td>\n      <td>0.0</td>\n      <td>0.0</td>\n      <td>1.110223e-16</td>\n    </tr>\n    <tr>\n      <th>89660</th>\n      <td>СК120-10</td>\n      <td>Стойка</td>\n      <td>7.0</td>\n      <td>114.0</td>\n      <td>433</td>\n      <td>457.0</td>\n      <td>15</td>\n      <td>0.0</td>\n      <td>0.0</td>\n      <td>2.0</td>\n      <td>8.142229e-06</td>\n    </tr>\n    <tr>\n      <th>89536</th>\n      <td>СК105-10</td>\n      <td>Стойка</td>\n      <td>7.0</td>\n      <td>114.0</td>\n      <td>428</td>\n      <td>455.0</td>\n      <td>15</td>\n      <td>0.0</td>\n      <td>0.0</td>\n      <td>2.0</td>\n      <td>8.414320e-08</td>\n    </tr>\n    <tr>\n      <th>90479</th>\n      <td>СВ105-3,6</td>\n      <td>Стойка железобетонная вибрированная, ТУ 5863-0...</td>\n      <td>7.0</td>\n      <td>114.0</td>\n      <td>530</td>\n      <td>581.0</td>\n      <td>14</td>\n      <td>0.0</td>\n      <td>0.0</td>\n      <td>3.0</td>\n      <td>8.162721e-04</td>\n    </tr>\n    <tr>\n      <th>90562</th>\n      <td>СВ95-2</td>\n      <td>Стойка железобетонная вибрированная, ТУ 5863-0...</td>\n      <td>7.0</td>\n      <td>114.0</td>\n      <td>534</td>\n      <td>581.0</td>\n      <td>14</td>\n      <td>0.0</td>\n      <td>0.0</td>\n      <td>3.0</td>\n      <td>7.860738e-04</td>\n    </tr>\n    <tr>\n      <th>73416</th>\n      <td>НІК 2303І АП6Т 1602</td>\n      <td>Счетчик электрической энергии тарифный</td>\n      <td>17.0</td>\n      <td>110.0</td>\n      <td>2267</td>\n      <td>0.0</td>\n      <td>18</td>\n      <td>0.0</td>\n      <td>0.0</td>\n      <td>0.0</td>\n      <td>0.000000e+00</td>\n    </tr>\n    <tr>\n      <th>73427</th>\n      <td>НІК 2303І АП6Т 1701</td>\n      <td>Счетчик электрической энергии тарифный</td>\n      <td>17.0</td>\n      <td>110.0</td>\n      <td>2267</td>\n      <td>0.0</td>\n      <td>18</td>\n      <td>0.0</td>\n      <td>0.0</td>\n      <td>0.0</td>\n      <td>0.000000e+00</td>\n    </tr>\n    <tr>\n      <th>73426</th>\n      <td>НІК 2303І АП6Т 1700</td>\n      <td>Счетчик электрической энергии тарифный</td>\n      <td>17.0</td>\n      <td>110.0</td>\n      <td>2267</td>\n      <td>0.0</td>\n      <td>18</td>\n      <td>0.0</td>\n      <td>0.0</td>\n      <td>0.0</td>\n      <td>0.000000e+00</td>\n    </tr>\n    <tr>\n      <th>73433</th>\n      <td>НІК 2303І АП6Т 1723</td>\n      <td>Счетчик электрической энергии тарифный</td>\n      <td>17.0</td>\n      <td>110.0</td>\n      <td>2267</td>\n      <td>0.0</td>\n      <td>18</td>\n      <td>0.0</td>\n      <td>0.0</td>\n      <td>0.0</td>\n      <td>0.000000e+00</td>\n    </tr>\n    <tr>\n      <th>55054</th>\n      <td>SMG-14</td>\n      <td>ШМГИ 3x24x1 EKF PROxima</td>\n      <td>17.0</td>\n      <td>20190823.0</td>\n      <td>2267</td>\n      <td>0.0</td>\n      <td>18</td>\n      <td>0.0</td>\n      <td>0.0</td>\n      <td>0.0</td>\n      <td>0.000000e+00</td>\n    </tr>\n    <tr>\n      <th>55033</th>\n      <td>SM-6x50</td>\n      <td>Шина М1T 6х50х4000 мм EKF PROxima</td>\n      <td>17.0</td>\n      <td>20190823.0</td>\n      <td>2267</td>\n      <td>0.0</td>\n      <td>18</td>\n      <td>0.0</td>\n      <td>0.0</td>\n      <td>0.0</td>\n      <td>0.000000e+00</td>\n    </tr>\n    <tr>\n      <th>55032</th>\n      <td>SM-63-4-4(4)</td>\n      <td>Щит механизации ЩМ- РУСП-   63-3х1П-3х3П-IP54 ...</td>\n      <td>17.0</td>\n      <td>20190823.0</td>\n      <td>2267</td>\n      <td>0.0</td>\n      <td>18</td>\n      <td>0.0</td>\n      <td>0.0</td>\n      <td>0.0</td>\n      <td>0.000000e+00</td>\n    </tr>\n    <tr>\n      <th>55031</th>\n      <td>SM-63-4-4</td>\n      <td>Щит механизации ЩМ- РУСП-   63-4х1П-4х3П-IP54 ...</td>\n      <td>17.0</td>\n      <td>20190823.0</td>\n      <td>2267</td>\n      <td>0.0</td>\n      <td>18</td>\n      <td>0.0</td>\n      <td>0.0</td>\n      <td>0.0</td>\n      <td>0.000000e+00</td>\n    </tr>\n    <tr>\n      <th>33916</th>\n      <td>COT1.24045L</td>\n      <td>концевые муфты на пластик, 1x240-400, с наконе...</td>\n      <td>4.0</td>\n      <td>78.0</td>\n      <td>2267</td>\n      <td>0.0</td>\n      <td>18</td>\n      <td>0.0</td>\n      <td>0.0</td>\n      <td>0.0</td>\n      <td>0.000000e+00</td>\n    </tr>\n  </tbody>\n</table>\n</div>"
     },
     "execution_count": 11,
     "metadata": {},
     "output_type": "execute_result"
    }
   ],
   "source": [
    "results = pd.DataFrame()\n",
    "for i in range(query.shape[0]):\n",
    "    answer = neigh.kneighbors(query.iloc[i].to_frame().T.drop(columns=['Id_x', 'Name']))\n",
    "    result = df.loc[answer[1][0]]#[['Id_x', 'Name']]\n",
    "    result['distance'] = answer[0][0]\n",
    "    try:\n",
    "        result = result.drop(index=query.iloc[i].name, axis=1)\n",
    "    except:\n",
    "        result = result\n",
    "    result = result.drop_duplicates(subset=['Id_x'])\n",
    "    result = result.iloc[:int(np.ceil(25 / query.shape[0]))]\n",
    "    results = pd.concat([results, result], axis=0)\n",
    "results = results.drop_duplicates(subset=['Id_x']).sort_values(by='distance').head(25).sort_values(by='Name')\n",
    "results"
   ],
   "metadata": {
    "collapsed": false,
    "ExecuteTime": {
     "end_time": "2023-09-03T06:35:39.106267300Z",
     "start_time": "2023-09-03T06:35:38.863065100Z"
    }
   }
  },
  {
   "cell_type": "code",
   "execution_count": null,
   "outputs": [],
   "source": [],
   "metadata": {
    "collapsed": false
   }
  },
  {
   "cell_type": "code",
   "execution_count": null,
   "outputs": [],
   "source": [],
   "metadata": {
    "collapsed": false
   }
  },
  {
   "cell_type": "code",
   "execution_count": null,
   "outputs": [],
   "source": [],
   "metadata": {
    "collapsed": false
   }
  },
  {
   "cell_type": "code",
   "execution_count": null,
   "outputs": [],
   "source": [],
   "metadata": {
    "collapsed": false
   }
  },
  {
   "cell_type": "code",
   "execution_count": null,
   "outputs": [],
   "source": [],
   "metadata": {
    "collapsed": false
   }
  },
  {
   "cell_type": "code",
   "execution_count": null,
   "outputs": [],
   "source": [
    "import networkx as nx\n",
    "from sklearn.neighbors import NearestNeighbors"
   ],
   "metadata": {
    "collapsed": false
   }
  },
  {
   "cell_type": "code",
   "execution_count": null,
   "outputs": [],
   "source": [
    "G = nx.Graph()"
   ],
   "metadata": {
    "collapsed": false
   }
  },
  {
   "cell_type": "code",
   "execution_count": null,
   "outputs": [],
   "source": [
    "G.add_node(data_parts.loc[0, 'Id_x'], features=[data_parts.loc[0, 'HeadingId'], data_parts.loc[0, 'CategoryId']])\n",
    "G.add_node(data_parts.loc[1, 'Id'], features=[data_parts.loc[1, 'HeadingId'], data_parts.loc[1, 'CategoryId']])\n",
    "G.add_node(data_parts.loc[2, 'Id'], features=[data_parts.loc[2, 'HeadingId'], data_parts.loc[2, 'CategoryId']])"
   ],
   "metadata": {
    "collapsed": false
   }
  },
  {
   "cell_type": "code",
   "execution_count": null,
   "outputs": [],
   "source": [
    "G.add_edge(data_parts.loc[0, 'Id'], data_parts.loc[1, 'Id'])\n",
    "G.add_edge(data_parts.loc[0, 'Id'], data_parts.loc[2, 'Id'])\n",
    "G.add_edge(data_parts.loc[1, 'Id'], data_parts.loc[2, 'Id'])"
   ],
   "metadata": {
    "collapsed": false
   }
  },
  {
   "cell_type": "code",
   "execution_count": null,
   "outputs": [],
   "source": [
    "features = [G.nodes[node]['features'] for node in G.nodes]\n",
    "node_indices = list(G.nodes)"
   ],
   "metadata": {
    "collapsed": false
   }
  },
  {
   "cell_type": "code",
   "execution_count": null,
   "outputs": [],
   "source": [
    "features"
   ],
   "metadata": {
    "collapsed": false
   }
  },
  {
   "cell_type": "code",
   "execution_count": null,
   "outputs": [],
   "source": [
    "n_neighbors = 15\n",
    "neigh = NearestNeighbors(n_neighbors=n_neighbors, metric='cosine')\n",
    "neigh.fit(features)"
   ],
   "metadata": {
    "collapsed": false
   }
  },
  {
   "cell_type": "code",
   "execution_count": null,
   "outputs": [],
   "source": [
    "features_query = [data_parts.loc[0, 'HeadingId'] + data_parts.loc[2, 'HeadingId'],\n",
    "                  data_parts.loc[0, 'CategoryId'] + data_parts.loc[2, 'CategoryId']]\n",
    "distances, indices = neigh.kneighbors([features_query], n_neighbors=n_neighbors)"
   ],
   "metadata": {
    "collapsed": false
   }
  },
  {
   "cell_type": "code",
   "execution_count": null,
   "outputs": [],
   "source": [
    "# Вывод ближайших соседей\n",
    "print(\"Ближайшие соседи:\")\n",
    "for i in range(n_neighbors):\n",
    "    print(f\"Узел {node_indices[indices[0][i]]}, расстояние {distances[0][i]}\")"
   ],
   "metadata": {
    "collapsed": false
   }
  },
  {
   "cell_type": "code",
   "execution_count": null,
   "outputs": [],
   "source": [],
   "metadata": {
    "collapsed": false
   }
  },
  {
   "cell_type": "code",
   "execution_count": 17,
   "outputs": [
    {
     "data": {
      "text/plain": "                                                   Id  HeadingId  CategoryId\n0                                       ___-12-2А G28          9          58\n1                                                   -         16    20180331\n2                                                   .          0    20190820\n3      \"STR Jaryq\" 80W, 80 Вт, 10800 лм, 5000 К, IP67         17    20210505\n4                                       \"Анкара.\" 10А         16    20200709\n...                                               ...        ...         ...\n80436                          ЯУОТ-31-110-25-IP54-У1          0         999\n80437                        ЯУОТ-33-211-25-54-УХЛ3.1         17    20210505\n80438                                        ЯУР-3А-4         17    20210505\n80439                       Ящик секціювання ________         14         999\n80440           СИПн-7 1х185-110, ТУ 16.К180-072-2019          3         132\n\n[80441 rows x 3 columns]",
      "text/html": "<div>\n<style scoped>\n    .dataframe tbody tr th:only-of-type {\n        vertical-align: middle;\n    }\n\n    .dataframe tbody tr th {\n        vertical-align: top;\n    }\n\n    .dataframe thead th {\n        text-align: right;\n    }\n</style>\n<table border=\"1\" class=\"dataframe\">\n  <thead>\n    <tr style=\"text-align: right;\">\n      <th></th>\n      <th>Id</th>\n      <th>HeadingId</th>\n      <th>CategoryId</th>\n    </tr>\n  </thead>\n  <tbody>\n    <tr>\n      <th>0</th>\n      <td>___-12-2А G28</td>\n      <td>9</td>\n      <td>58</td>\n    </tr>\n    <tr>\n      <th>1</th>\n      <td>-</td>\n      <td>16</td>\n      <td>20180331</td>\n    </tr>\n    <tr>\n      <th>2</th>\n      <td>.</td>\n      <td>0</td>\n      <td>20190820</td>\n    </tr>\n    <tr>\n      <th>3</th>\n      <td>\"STR Jaryq\" 80W, 80 Вт, 10800 лм, 5000 К, IP67</td>\n      <td>17</td>\n      <td>20210505</td>\n    </tr>\n    <tr>\n      <th>4</th>\n      <td>\"Анкара.\" 10А</td>\n      <td>16</td>\n      <td>20200709</td>\n    </tr>\n    <tr>\n      <th>...</th>\n      <td>...</td>\n      <td>...</td>\n      <td>...</td>\n    </tr>\n    <tr>\n      <th>80436</th>\n      <td>ЯУОТ-31-110-25-IP54-У1</td>\n      <td>0</td>\n      <td>999</td>\n    </tr>\n    <tr>\n      <th>80437</th>\n      <td>ЯУОТ-33-211-25-54-УХЛ3.1</td>\n      <td>17</td>\n      <td>20210505</td>\n    </tr>\n    <tr>\n      <th>80438</th>\n      <td>ЯУР-3А-4</td>\n      <td>17</td>\n      <td>20210505</td>\n    </tr>\n    <tr>\n      <th>80439</th>\n      <td>Ящик секціювання ________</td>\n      <td>14</td>\n      <td>999</td>\n    </tr>\n    <tr>\n      <th>80440</th>\n      <td>СИПн-7 1х185-110, ТУ 16.К180-072-2019</td>\n      <td>3</td>\n      <td>132</td>\n    </tr>\n  </tbody>\n</table>\n<p>80441 rows × 3 columns</p>\n</div>"
     },
     "execution_count": 17,
     "metadata": {},
     "output_type": "execute_result"
    }
   ],
   "source": [
    "data_Parts"
   ],
   "metadata": {
    "collapsed": false,
    "ExecuteTime": {
     "end_time": "2023-09-01T14:51:03.577687600Z",
     "start_time": "2023-09-01T14:51:03.559736Z"
    }
   }
  },
  {
   "cell_type": "code",
   "execution_count": null,
   "outputs": [],
   "source": [],
   "metadata": {
    "collapsed": false
   }
  },
  {
   "cell_type": "code",
   "execution_count": null,
   "outputs": [],
   "source": [],
   "metadata": {
    "collapsed": false
   }
  },
  {
   "cell_type": "code",
   "execution_count": null,
   "outputs": [],
   "source": [],
   "metadata": {
    "collapsed": false
   }
  },
  {
   "cell_type": "code",
   "execution_count": null,
   "outputs": [],
   "source": [],
   "metadata": {
    "collapsed": false
   }
  },
  {
   "cell_type": "code",
   "execution_count": 5,
   "outputs": [],
   "source": [
    "import networkx as nx\n",
    "from sklearn.neighbors import NearestNeighbors"
   ],
   "metadata": {
    "collapsed": false,
    "ExecuteTime": {
     "end_time": "2023-08-31T20:53:09.445725400Z",
     "start_time": "2023-08-31T20:53:06.809978800Z"
    }
   }
  },
  {
   "cell_type": "code",
   "execution_count": 6,
   "outputs": [],
   "source": [
    "G = nx.Graph()"
   ],
   "metadata": {
    "collapsed": false,
    "ExecuteTime": {
     "end_time": "2023-08-31T20:53:09.459652900Z",
     "start_time": "2023-08-31T20:53:09.449679800Z"
    }
   }
  },
  {
   "cell_type": "code",
   "execution_count": 7,
   "outputs": [],
   "source": [
    "G.add_node(data_parts.loc[0, 'Id'], features=[data_parts.loc[0, 'HeadingId'], data_parts.loc[0, 'CategoryId']])\n",
    "G.add_node(data_parts.loc[1, 'Id'], features=[data_parts.loc[1, 'HeadingId'], data_parts.loc[1, 'CategoryId']])\n",
    "G.add_node(data_parts.loc[2, 'Id'], features=[data_parts.loc[2, 'HeadingId'], data_parts.loc[2, 'CategoryId']])"
   ],
   "metadata": {
    "collapsed": false,
    "ExecuteTime": {
     "end_time": "2023-08-31T20:53:09.489573300Z",
     "start_time": "2023-08-31T20:53:09.461647900Z"
    }
   }
  },
  {
   "cell_type": "code",
   "execution_count": 8,
   "outputs": [],
   "source": [
    "G.add_edge(data_parts.loc[0, 'Id'], data_parts.loc[1, 'Id'])\n",
    "G.add_edge(data_parts.loc[0, 'Id'], data_parts.loc[2, 'Id'])\n",
    "G.add_edge(data_parts.loc[1, 'Id'], data_parts.loc[2, 'Id'])"
   ],
   "metadata": {
    "collapsed": false,
    "ExecuteTime": {
     "end_time": "2023-08-31T20:53:09.496554300Z",
     "start_time": "2023-08-31T20:53:09.478612800Z"
    }
   }
  },
  {
   "cell_type": "code",
   "execution_count": 9,
   "outputs": [],
   "source": [
    "features = [G.nodes[node]['features'] for node in G.nodes]\n",
    "node_indices = list(G.nodes)"
   ],
   "metadata": {
    "collapsed": false,
    "ExecuteTime": {
     "end_time": "2023-08-31T20:53:09.506527800Z",
     "start_time": "2023-08-31T20:53:09.499546800Z"
    }
   }
  },
  {
   "cell_type": "code",
   "execution_count": 10,
   "outputs": [
    {
     "data": {
      "text/plain": "[[9, 58], [16, 20180331], [0, 20190820]]"
     },
     "execution_count": 10,
     "metadata": {},
     "output_type": "execute_result"
    }
   ],
   "source": [
    "features"
   ],
   "metadata": {
    "collapsed": false,
    "ExecuteTime": {
     "end_time": "2023-08-31T20:53:09.538442900Z",
     "start_time": "2023-08-31T20:53:09.510518600Z"
    }
   }
  },
  {
   "cell_type": "code",
   "execution_count": 11,
   "outputs": [
    {
     "data": {
      "text/plain": "NearestNeighbors(metric='cosine', n_neighbors=1)",
      "text/html": "<style>#sk-container-id-1 {color: black;}#sk-container-id-1 pre{padding: 0;}#sk-container-id-1 div.sk-toggleable {background-color: white;}#sk-container-id-1 label.sk-toggleable__label {cursor: pointer;display: block;width: 100%;margin-bottom: 0;padding: 0.3em;box-sizing: border-box;text-align: center;}#sk-container-id-1 label.sk-toggleable__label-arrow:before {content: \"▸\";float: left;margin-right: 0.25em;color: #696969;}#sk-container-id-1 label.sk-toggleable__label-arrow:hover:before {color: black;}#sk-container-id-1 div.sk-estimator:hover label.sk-toggleable__label-arrow:before {color: black;}#sk-container-id-1 div.sk-toggleable__content {max-height: 0;max-width: 0;overflow: hidden;text-align: left;background-color: #f0f8ff;}#sk-container-id-1 div.sk-toggleable__content pre {margin: 0.2em;color: black;border-radius: 0.25em;background-color: #f0f8ff;}#sk-container-id-1 input.sk-toggleable__control:checked~div.sk-toggleable__content {max-height: 200px;max-width: 100%;overflow: auto;}#sk-container-id-1 input.sk-toggleable__control:checked~label.sk-toggleable__label-arrow:before {content: \"▾\";}#sk-container-id-1 div.sk-estimator input.sk-toggleable__control:checked~label.sk-toggleable__label {background-color: #d4ebff;}#sk-container-id-1 div.sk-label input.sk-toggleable__control:checked~label.sk-toggleable__label {background-color: #d4ebff;}#sk-container-id-1 input.sk-hidden--visually {border: 0;clip: rect(1px 1px 1px 1px);clip: rect(1px, 1px, 1px, 1px);height: 1px;margin: -1px;overflow: hidden;padding: 0;position: absolute;width: 1px;}#sk-container-id-1 div.sk-estimator {font-family: monospace;background-color: #f0f8ff;border: 1px dotted black;border-radius: 0.25em;box-sizing: border-box;margin-bottom: 0.5em;}#sk-container-id-1 div.sk-estimator:hover {background-color: #d4ebff;}#sk-container-id-1 div.sk-parallel-item::after {content: \"\";width: 100%;border-bottom: 1px solid gray;flex-grow: 1;}#sk-container-id-1 div.sk-label:hover label.sk-toggleable__label {background-color: #d4ebff;}#sk-container-id-1 div.sk-serial::before {content: \"\";position: absolute;border-left: 1px solid gray;box-sizing: border-box;top: 0;bottom: 0;left: 50%;z-index: 0;}#sk-container-id-1 div.sk-serial {display: flex;flex-direction: column;align-items: center;background-color: white;padding-right: 0.2em;padding-left: 0.2em;position: relative;}#sk-container-id-1 div.sk-item {position: relative;z-index: 1;}#sk-container-id-1 div.sk-parallel {display: flex;align-items: stretch;justify-content: center;background-color: white;position: relative;}#sk-container-id-1 div.sk-item::before, #sk-container-id-1 div.sk-parallel-item::before {content: \"\";position: absolute;border-left: 1px solid gray;box-sizing: border-box;top: 0;bottom: 0;left: 50%;z-index: -1;}#sk-container-id-1 div.sk-parallel-item {display: flex;flex-direction: column;z-index: 1;position: relative;background-color: white;}#sk-container-id-1 div.sk-parallel-item:first-child::after {align-self: flex-end;width: 50%;}#sk-container-id-1 div.sk-parallel-item:last-child::after {align-self: flex-start;width: 50%;}#sk-container-id-1 div.sk-parallel-item:only-child::after {width: 0;}#sk-container-id-1 div.sk-dashed-wrapped {border: 1px dashed gray;margin: 0 0.4em 0.5em 0.4em;box-sizing: border-box;padding-bottom: 0.4em;background-color: white;}#sk-container-id-1 div.sk-label label {font-family: monospace;font-weight: bold;display: inline-block;line-height: 1.2em;}#sk-container-id-1 div.sk-label-container {text-align: center;}#sk-container-id-1 div.sk-container {/* jupyter's `normalize.less` sets `[hidden] { display: none; }` but bootstrap.min.css set `[hidden] { display: none !important; }` so we also need the `!important` here to be able to override the default hidden behavior on the sphinx rendered scikit-learn.org. See: https://github.com/scikit-learn/scikit-learn/issues/21755 */display: inline-block !important;position: relative;}#sk-container-id-1 div.sk-text-repr-fallback {display: none;}</style><div id=\"sk-container-id-1\" class=\"sk-top-container\"><div class=\"sk-text-repr-fallback\"><pre>NearestNeighbors(metric=&#x27;cosine&#x27;, n_neighbors=1)</pre><b>In a Jupyter environment, please rerun this cell to show the HTML representation or trust the notebook. <br />On GitHub, the HTML representation is unable to render, please try loading this page with nbviewer.org.</b></div><div class=\"sk-container\" hidden><div class=\"sk-item\"><div class=\"sk-estimator sk-toggleable\"><input class=\"sk-toggleable__control sk-hidden--visually\" id=\"sk-estimator-id-1\" type=\"checkbox\" checked><label for=\"sk-estimator-id-1\" class=\"sk-toggleable__label sk-toggleable__label-arrow\">NearestNeighbors</label><div class=\"sk-toggleable__content\"><pre>NearestNeighbors(metric=&#x27;cosine&#x27;, n_neighbors=1)</pre></div></div></div></div></div>"
     },
     "execution_count": 11,
     "metadata": {},
     "output_type": "execute_result"
    }
   ],
   "source": [
    "n_neighbors = 1\n",
    "neigh = NearestNeighbors(n_neighbors=n_neighbors, metric='cosine')\n",
    "neigh.fit(features)"
   ],
   "metadata": {
    "collapsed": false,
    "ExecuteTime": {
     "end_time": "2023-08-31T20:53:09.608255300Z",
     "start_time": "2023-08-31T20:53:09.532459400Z"
    }
   }
  },
  {
   "cell_type": "code",
   "execution_count": 12,
   "outputs": [],
   "source": [
    "features_query = [data_parts.loc[0, 'HeadingId'] + data_parts.loc[2, 'HeadingId'],\n",
    "                  data_parts.loc[0, 'CategoryId'] + data_parts.loc[2, 'CategoryId']]\n",
    "distances, indices = neigh.kneighbors([features_query], n_neighbors=n_neighbors)"
   ],
   "metadata": {
    "collapsed": false,
    "ExecuteTime": {
     "end_time": "2023-08-31T20:53:09.611247100Z",
     "start_time": "2023-08-31T20:53:09.561381300Z"
    }
   }
  },
  {
   "cell_type": "code",
   "execution_count": 13,
   "outputs": [
    {
     "name": "stdout",
     "output_type": "stream",
     "text": [
      "Ближайшие соседи:\n",
      "Узел -, расстояние 6.0285110237146e-14\n"
     ]
    }
   ],
   "source": [
    "# Вывод ближайших соседей\n",
    "print(\"Ближайшие соседи:\")\n",
    "for i in range(n_neighbors):\n",
    "    print(f\"Узел {node_indices[indices[0][i]]}, расстояние {distances[0][i]}\")"
   ],
   "metadata": {
    "collapsed": false,
    "ExecuteTime": {
     "end_time": "2023-08-31T20:53:09.611247100Z",
     "start_time": "2023-08-31T20:53:09.579333400Z"
    }
   }
  },
  {
   "cell_type": "code",
   "execution_count": 13,
   "outputs": [],
   "source": [],
   "metadata": {
    "collapsed": false,
    "ExecuteTime": {
     "end_time": "2023-08-31T20:53:09.612244800Z",
     "start_time": "2023-08-31T20:53:09.608255300Z"
    }
   }
  }
 ],
 "metadata": {
  "kernelspec": {
   "display_name": "Python 3",
   "language": "python",
   "name": "python3"
  },
  "language_info": {
   "codemirror_mode": {
    "name": "ipython",
    "version": 2
   },
   "file_extension": ".py",
   "mimetype": "text/x-python",
   "name": "python",
   "nbconvert_exporter": "python",
   "pygments_lexer": "ipython2",
   "version": "2.7.6"
  }
 },
 "nbformat": 4,
 "nbformat_minor": 0
}
