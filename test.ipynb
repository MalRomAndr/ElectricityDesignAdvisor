{
 "cells": [
  {
   "cell_type": "code",
   "execution_count": 1,
   "outputs": [],
   "source": [
    "import pandas as pd\n",
    "import numpy as np\n",
    "import sqlite3\n",
    "\n",
    "from sklearn.preprocessing import LabelEncoder\n",
    "from sklearn.neighbors import NearestNeighbors"
   ],
   "metadata": {
    "collapsed": false,
    "ExecuteTime": {
     "end_time": "2023-09-02T18:47:46.931478800Z",
     "start_time": "2023-09-02T18:47:45.805300900Z"
    }
   }
  },
  {
   "cell_type": "code",
   "execution_count": 2,
   "outputs": [],
   "source": [
    "conn = sqlite3.connect('database.db')"
   ],
   "metadata": {
    "collapsed": false,
    "ExecuteTime": {
     "end_time": "2023-09-02T18:47:46.948274600Z",
     "start_time": "2023-09-02T18:47:46.932476400Z"
    }
   }
  },
  {
   "cell_type": "code",
   "execution_count": 3,
   "outputs": [],
   "source": [
    "data_Parts = pd.read_sql(\"select Id, Name, HeadingId, CategoryId from Parts;\", con=conn)\n",
    "data_StructuresParts = pd.read_sql(\"select StructureId, PartId from StructuresParts;\", con=conn)\n",
    "data_Structures = pd.read_sql(\"select Id, StandardProjectId, TypeId from Structures;\", con=conn)\n",
    "data_StandardProjects = pd.read_sql(\"select Id, ImageIndex from StandardProjects;\", con=conn)\n",
    "data_Conductors = pd.read_sql(\"select PartId, TypeId, Diameter, CrossSection from Conductors;\", con=conn)"
   ],
   "metadata": {
    "collapsed": false,
    "ExecuteTime": {
     "end_time": "2023-09-02T18:47:47.304727200Z",
     "start_time": "2023-09-02T18:47:46.952263600Z"
    }
   }
  },
  {
   "cell_type": "code",
   "execution_count": 4,
   "outputs": [],
   "source": [
    "df = data_Parts.merge(data_StructuresParts, left_on='Id', right_on='PartId', how='outer').drop('PartId', axis=1)\n",
    "\n",
    "df = df.merge(data_Structures, left_on='StructureId', right_on='Id', how='outer').drop('Id_y', axis=1)\n",
    "\n",
    "data_Conductors.rename(columns={'PartId': 'Id_x'}, inplace=True)\n",
    "\n",
    "df = pd.concat([df, data_Conductors], axis=0)\n",
    "\n",
    "df = df.merge(data_StandardProjects, left_on='StandardProjectId', right_on='Id', how='left').drop('Id', axis=1)"
   ],
   "metadata": {
    "collapsed": false,
    "ExecuteTime": {
     "end_time": "2023-09-02T18:47:47.540096100Z",
     "start_time": "2023-09-02T18:47:47.307717100Z"
    }
   }
  },
  {
   "cell_type": "code",
   "execution_count": 5,
   "outputs": [
    {
     "data": {
      "text/plain": "                                         Id_x  \\\n0                               ___-12-2А G28   \n1                                  d10 (цинк)   \n2                                     PA2870P   \n3                                      PGA101   \n4                                     PLDT2 R   \n...                                       ...   \n132075                         ЦСБвШнг 3х95-6   \n132076                      Э-ДПС-06-08-Е4(3)   \n132077                            ЭВБВ 3х95-6   \n132078                 ЭСО-ДПС-06-20-Е4(тип3)   \n132079  СИПн-7 1х185-110, ТУ 16.К180-072-2019   \n\n                                               Name  HeadingId  CategoryId  \\\n0                                  Зажим аппаратный        9.0        58.0   \n1       Сталь круглая оцинкованная по ГОСТ 9.307-89       10.0        10.0   \n2                                    Зажим натяжной        9.0        58.0   \n3                                                          9.0        58.0   \n4               Вязка односторонняя диэлектрическая        9.0        58.0   \n...                                             ...        ...         ...   \n132075                                          NaN        NaN         NaN   \n132076                                          NaN        NaN         NaN   \n132077                                          NaN        NaN         NaN   \n132078                                          NaN        NaN         NaN   \n132079                                          NaN        NaN         NaN   \n\n                                   StructureId  StandardProjectId     TypeId  \\\n0       К10/0,38-1/0 (1хСК120-6)-3_(50-70 мм²)              132.0  support10   \n1       К10/0,38-1/0 (1хСК120-6)-3_(50-70 мм²)              132.0  support10   \n2       К10/0,38-1/0 (1хСК120-6)-3_(50-70 мм²)              132.0  support10   \n3       К10/0,38-1/0 (1хСК120-6)-3_(50-70 мм²)              132.0  support10   \n4       К10/0,38-1/0 (1хСК120-6)-3_(50-70 мм²)              132.0  support10   \n...                                        ...                ...        ...   \n132075                                     NaN                NaN    cabel10   \n132076                                     NaN                NaN  commCable   \n132077                                     NaN                NaN    cabel10   \n132078                                     NaN                NaN  commCable   \n132079                                     NaN                NaN  OHLwire35   \n\n        Diameter  CrossSection  ImageIndex  \n0            NaN           NaN         1.0  \n1            NaN           NaN         1.0  \n2            NaN           NaN         1.0  \n3            NaN           NaN         1.0  \n4            NaN           NaN         1.0  \n...          ...           ...         ...  \n132075       NaN           NaN         NaN  \n132076       NaN           NaN         NaN  \n132077       NaN           NaN         NaN  \n132078       NaN           NaN         NaN  \n132079    0.0308      0.000185         NaN  \n\n[132080 rows x 10 columns]",
      "text/html": "<div>\n<style scoped>\n    .dataframe tbody tr th:only-of-type {\n        vertical-align: middle;\n    }\n\n    .dataframe tbody tr th {\n        vertical-align: top;\n    }\n\n    .dataframe thead th {\n        text-align: right;\n    }\n</style>\n<table border=\"1\" class=\"dataframe\">\n  <thead>\n    <tr style=\"text-align: right;\">\n      <th></th>\n      <th>Id_x</th>\n      <th>Name</th>\n      <th>HeadingId</th>\n      <th>CategoryId</th>\n      <th>StructureId</th>\n      <th>StandardProjectId</th>\n      <th>TypeId</th>\n      <th>Diameter</th>\n      <th>CrossSection</th>\n      <th>ImageIndex</th>\n    </tr>\n  </thead>\n  <tbody>\n    <tr>\n      <th>0</th>\n      <td>___-12-2А G28</td>\n      <td>Зажим аппаратный</td>\n      <td>9.0</td>\n      <td>58.0</td>\n      <td>К10/0,38-1/0 (1хСК120-6)-3_(50-70 мм²)</td>\n      <td>132.0</td>\n      <td>support10</td>\n      <td>NaN</td>\n      <td>NaN</td>\n      <td>1.0</td>\n    </tr>\n    <tr>\n      <th>1</th>\n      <td>d10 (цинк)</td>\n      <td>Сталь круглая оцинкованная по ГОСТ 9.307-89</td>\n      <td>10.0</td>\n      <td>10.0</td>\n      <td>К10/0,38-1/0 (1хСК120-6)-3_(50-70 мм²)</td>\n      <td>132.0</td>\n      <td>support10</td>\n      <td>NaN</td>\n      <td>NaN</td>\n      <td>1.0</td>\n    </tr>\n    <tr>\n      <th>2</th>\n      <td>PA2870P</td>\n      <td>Зажим натяжной</td>\n      <td>9.0</td>\n      <td>58.0</td>\n      <td>К10/0,38-1/0 (1хСК120-6)-3_(50-70 мм²)</td>\n      <td>132.0</td>\n      <td>support10</td>\n      <td>NaN</td>\n      <td>NaN</td>\n      <td>1.0</td>\n    </tr>\n    <tr>\n      <th>3</th>\n      <td>PGA101</td>\n      <td></td>\n      <td>9.0</td>\n      <td>58.0</td>\n      <td>К10/0,38-1/0 (1хСК120-6)-3_(50-70 мм²)</td>\n      <td>132.0</td>\n      <td>support10</td>\n      <td>NaN</td>\n      <td>NaN</td>\n      <td>1.0</td>\n    </tr>\n    <tr>\n      <th>4</th>\n      <td>PLDT2 R</td>\n      <td>Вязка односторонняя диэлектрическая</td>\n      <td>9.0</td>\n      <td>58.0</td>\n      <td>К10/0,38-1/0 (1хСК120-6)-3_(50-70 мм²)</td>\n      <td>132.0</td>\n      <td>support10</td>\n      <td>NaN</td>\n      <td>NaN</td>\n      <td>1.0</td>\n    </tr>\n    <tr>\n      <th>...</th>\n      <td>...</td>\n      <td>...</td>\n      <td>...</td>\n      <td>...</td>\n      <td>...</td>\n      <td>...</td>\n      <td>...</td>\n      <td>...</td>\n      <td>...</td>\n      <td>...</td>\n    </tr>\n    <tr>\n      <th>132075</th>\n      <td>ЦСБвШнг 3х95-6</td>\n      <td>NaN</td>\n      <td>NaN</td>\n      <td>NaN</td>\n      <td>NaN</td>\n      <td>NaN</td>\n      <td>cabel10</td>\n      <td>NaN</td>\n      <td>NaN</td>\n      <td>NaN</td>\n    </tr>\n    <tr>\n      <th>132076</th>\n      <td>Э-ДПС-06-08-Е4(3)</td>\n      <td>NaN</td>\n      <td>NaN</td>\n      <td>NaN</td>\n      <td>NaN</td>\n      <td>NaN</td>\n      <td>commCable</td>\n      <td>NaN</td>\n      <td>NaN</td>\n      <td>NaN</td>\n    </tr>\n    <tr>\n      <th>132077</th>\n      <td>ЭВБВ 3х95-6</td>\n      <td>NaN</td>\n      <td>NaN</td>\n      <td>NaN</td>\n      <td>NaN</td>\n      <td>NaN</td>\n      <td>cabel10</td>\n      <td>NaN</td>\n      <td>NaN</td>\n      <td>NaN</td>\n    </tr>\n    <tr>\n      <th>132078</th>\n      <td>ЭСО-ДПС-06-20-Е4(тип3)</td>\n      <td>NaN</td>\n      <td>NaN</td>\n      <td>NaN</td>\n      <td>NaN</td>\n      <td>NaN</td>\n      <td>commCable</td>\n      <td>NaN</td>\n      <td>NaN</td>\n      <td>NaN</td>\n    </tr>\n    <tr>\n      <th>132079</th>\n      <td>СИПн-7 1х185-110, ТУ 16.К180-072-2019</td>\n      <td>NaN</td>\n      <td>NaN</td>\n      <td>NaN</td>\n      <td>NaN</td>\n      <td>NaN</td>\n      <td>OHLwire35</td>\n      <td>0.0308</td>\n      <td>0.000185</td>\n      <td>NaN</td>\n    </tr>\n  </tbody>\n</table>\n<p>132080 rows × 10 columns</p>\n</div>"
     },
     "execution_count": 5,
     "metadata": {},
     "output_type": "execute_result"
    }
   ],
   "source": [
    "df"
   ],
   "metadata": {
    "collapsed": false,
    "ExecuteTime": {
     "end_time": "2023-09-02T18:47:47.587968600Z",
     "start_time": "2023-09-02T18:47:47.543087900Z"
    }
   }
  },
  {
   "cell_type": "code",
   "execution_count": 6,
   "outputs": [
    {
     "data": {
      "text/plain": "                                         Id_x  \\\n0                               ___-12-2А G28   \n1                                  d10 (цинк)   \n2                                     PA2870P   \n3                                      PGA101   \n4                                     PLDT2 R   \n...                                       ...   \n132075                         ЦСБвШнг 3х95-6   \n132076                      Э-ДПС-06-08-Е4(3)   \n132077                            ЭВБВ 3х95-6   \n132078                 ЭСО-ДПС-06-20-Е4(тип3)   \n132079  СИПн-7 1х185-110, ТУ 16.К180-072-2019   \n\n                                               Name  HeadingId  CategoryId  \\\n0                                  Зажим аппаратный        9.0        58.0   \n1       Сталь круглая оцинкованная по ГОСТ 9.307-89       10.0        10.0   \n2                                    Зажим натяжной        9.0        58.0   \n3                                                          9.0        58.0   \n4               Вязка односторонняя диэлектрическая        9.0        58.0   \n...                                             ...        ...         ...   \n132075                                          NaN        NaN         NaN   \n132076                                          NaN        NaN         NaN   \n132077                                          NaN        NaN         NaN   \n132078                                          NaN        NaN         NaN   \n132079                                          NaN        NaN         NaN   \n\n                       StructureId  StandardProjectId     TypeId  Diameter  \\\n0       К10/0,38-1/0 (1хСК120-6)-3              132.0  support10       NaN   \n1       К10/0,38-1/0 (1хСК120-6)-3              132.0  support10       NaN   \n2       К10/0,38-1/0 (1хСК120-6)-3              132.0  support10       NaN   \n3       К10/0,38-1/0 (1хСК120-6)-3              132.0  support10       NaN   \n4       К10/0,38-1/0 (1хСК120-6)-3              132.0  support10       NaN   \n...                            ...                ...        ...       ...   \n132075                         NaN                NaN    cabel10       NaN   \n132076                         NaN                NaN  commCable       NaN   \n132077                         NaN                NaN    cabel10       NaN   \n132078                         NaN                NaN  commCable       NaN   \n132079                         NaN                NaN  OHLwire35    0.0308   \n\n        CrossSection  ImageIndex  \n0                NaN         2.0  \n1                NaN         2.0  \n2                NaN         2.0  \n3                NaN         2.0  \n4                NaN         2.0  \n...              ...         ...  \n132075           NaN         NaN  \n132076           NaN         NaN  \n132077           NaN         NaN  \n132078           NaN         NaN  \n132079      0.000185         NaN  \n\n[132080 rows x 10 columns]",
      "text/html": "<div>\n<style scoped>\n    .dataframe tbody tr th:only-of-type {\n        vertical-align: middle;\n    }\n\n    .dataframe tbody tr th {\n        vertical-align: top;\n    }\n\n    .dataframe thead th {\n        text-align: right;\n    }\n</style>\n<table border=\"1\" class=\"dataframe\">\n  <thead>\n    <tr style=\"text-align: right;\">\n      <th></th>\n      <th>Id_x</th>\n      <th>Name</th>\n      <th>HeadingId</th>\n      <th>CategoryId</th>\n      <th>StructureId</th>\n      <th>StandardProjectId</th>\n      <th>TypeId</th>\n      <th>Diameter</th>\n      <th>CrossSection</th>\n      <th>ImageIndex</th>\n    </tr>\n  </thead>\n  <tbody>\n    <tr>\n      <th>0</th>\n      <td>___-12-2А G28</td>\n      <td>Зажим аппаратный</td>\n      <td>9.0</td>\n      <td>58.0</td>\n      <td>К10/0,38-1/0 (1хСК120-6)-3</td>\n      <td>132.0</td>\n      <td>support10</td>\n      <td>NaN</td>\n      <td>NaN</td>\n      <td>2.0</td>\n    </tr>\n    <tr>\n      <th>1</th>\n      <td>d10 (цинк)</td>\n      <td>Сталь круглая оцинкованная по ГОСТ 9.307-89</td>\n      <td>10.0</td>\n      <td>10.0</td>\n      <td>К10/0,38-1/0 (1хСК120-6)-3</td>\n      <td>132.0</td>\n      <td>support10</td>\n      <td>NaN</td>\n      <td>NaN</td>\n      <td>2.0</td>\n    </tr>\n    <tr>\n      <th>2</th>\n      <td>PA2870P</td>\n      <td>Зажим натяжной</td>\n      <td>9.0</td>\n      <td>58.0</td>\n      <td>К10/0,38-1/0 (1хСК120-6)-3</td>\n      <td>132.0</td>\n      <td>support10</td>\n      <td>NaN</td>\n      <td>NaN</td>\n      <td>2.0</td>\n    </tr>\n    <tr>\n      <th>3</th>\n      <td>PGA101</td>\n      <td></td>\n      <td>9.0</td>\n      <td>58.0</td>\n      <td>К10/0,38-1/0 (1хСК120-6)-3</td>\n      <td>132.0</td>\n      <td>support10</td>\n      <td>NaN</td>\n      <td>NaN</td>\n      <td>2.0</td>\n    </tr>\n    <tr>\n      <th>4</th>\n      <td>PLDT2 R</td>\n      <td>Вязка односторонняя диэлектрическая</td>\n      <td>9.0</td>\n      <td>58.0</td>\n      <td>К10/0,38-1/0 (1хСК120-6)-3</td>\n      <td>132.0</td>\n      <td>support10</td>\n      <td>NaN</td>\n      <td>NaN</td>\n      <td>2.0</td>\n    </tr>\n    <tr>\n      <th>...</th>\n      <td>...</td>\n      <td>...</td>\n      <td>...</td>\n      <td>...</td>\n      <td>...</td>\n      <td>...</td>\n      <td>...</td>\n      <td>...</td>\n      <td>...</td>\n      <td>...</td>\n    </tr>\n    <tr>\n      <th>132075</th>\n      <td>ЦСБвШнг 3х95-6</td>\n      <td>NaN</td>\n      <td>NaN</td>\n      <td>NaN</td>\n      <td>NaN</td>\n      <td>NaN</td>\n      <td>cabel10</td>\n      <td>NaN</td>\n      <td>NaN</td>\n      <td>NaN</td>\n    </tr>\n    <tr>\n      <th>132076</th>\n      <td>Э-ДПС-06-08-Е4(3)</td>\n      <td>NaN</td>\n      <td>NaN</td>\n      <td>NaN</td>\n      <td>NaN</td>\n      <td>NaN</td>\n      <td>commCable</td>\n      <td>NaN</td>\n      <td>NaN</td>\n      <td>NaN</td>\n    </tr>\n    <tr>\n      <th>132077</th>\n      <td>ЭВБВ 3х95-6</td>\n      <td>NaN</td>\n      <td>NaN</td>\n      <td>NaN</td>\n      <td>NaN</td>\n      <td>NaN</td>\n      <td>cabel10</td>\n      <td>NaN</td>\n      <td>NaN</td>\n      <td>NaN</td>\n    </tr>\n    <tr>\n      <th>132078</th>\n      <td>ЭСО-ДПС-06-20-Е4(тип3)</td>\n      <td>NaN</td>\n      <td>NaN</td>\n      <td>NaN</td>\n      <td>NaN</td>\n      <td>NaN</td>\n      <td>commCable</td>\n      <td>NaN</td>\n      <td>NaN</td>\n      <td>NaN</td>\n    </tr>\n    <tr>\n      <th>132079</th>\n      <td>СИПн-7 1х185-110, ТУ 16.К180-072-2019</td>\n      <td>NaN</td>\n      <td>NaN</td>\n      <td>NaN</td>\n      <td>NaN</td>\n      <td>NaN</td>\n      <td>OHLwire35</td>\n      <td>0.0308</td>\n      <td>0.000185</td>\n      <td>NaN</td>\n    </tr>\n  </tbody>\n</table>\n<p>132080 rows × 10 columns</p>\n</div>"
     },
     "execution_count": 6,
     "metadata": {},
     "output_type": "execute_result"
    }
   ],
   "source": [
    "df['StructureId'] = df['StructureId'].str.split('_').str[0]\n",
    "df['ImageIndex'] = df['ImageIndex'] + 1\n",
    "df"
   ],
   "metadata": {
    "collapsed": false,
    "ExecuteTime": {
     "end_time": "2023-09-02T18:47:47.774868800Z",
     "start_time": "2023-09-02T18:47:47.588965700Z"
    }
   }
  },
  {
   "cell_type": "code",
   "execution_count": 7,
   "outputs": [
    {
     "data": {
      "text/plain": "                                         Id_x  \\\n0                               ___-12-2А G28   \n1                                  d10 (цинк)   \n2                                     PA2870P   \n3                                      PGA101   \n4                                     PLDT2 R   \n...                                       ...   \n115768                         ЦСБвШнг 3х95-6   \n115769                      Э-ДПС-06-08-Е4(3)   \n115770                            ЭВБВ 3х95-6   \n115771                 ЭСО-ДПС-06-20-Е4(тип3)   \n115772  СИПн-7 1х185-110, ТУ 16.К180-072-2019   \n\n                                               Name  HeadingId  CategoryId  \\\n0                                  Зажим аппаратный        9.0        58.0   \n1       Сталь круглая оцинкованная по ГОСТ 9.307-89       10.0        10.0   \n2                                    Зажим натяжной        9.0        58.0   \n3                                                          9.0        58.0   \n4               Вязка односторонняя диэлектрическая        9.0        58.0   \n...                                             ...        ...         ...   \n115768                                            0        0.0         0.0   \n115769                                            0        0.0         0.0   \n115770                                            0        0.0         0.0   \n115771                                            0        0.0         0.0   \n115772                                            0        0.0         0.0   \n\n        StructureId  StandardProjectId  TypeId  Diameter  CrossSection  \\\n0               745              132.0      15    0.0000      0.000000   \n1               745              132.0      15    0.0000      0.000000   \n2               745              132.0      15    0.0000      0.000000   \n3               745              132.0      15    0.0000      0.000000   \n4               745              132.0      15    0.0000      0.000000   \n...             ...                ...     ...       ...           ...   \n115768         2267                0.0       5    0.0000      0.000000   \n115769         2267                0.0       6    0.0000      0.000000   \n115770         2267                0.0       5    0.0000      0.000000   \n115771         2267                0.0       6    0.0000      0.000000   \n115772         2267                0.0       2    0.0308      0.000185   \n\n        ImageIndex  \n0              2.0  \n1              2.0  \n2              2.0  \n3              2.0  \n4              2.0  \n...            ...  \n115768         0.0  \n115769         0.0  \n115770         0.0  \n115771         0.0  \n115772         0.0  \n\n[115773 rows x 10 columns]",
      "text/html": "<div>\n<style scoped>\n    .dataframe tbody tr th:only-of-type {\n        vertical-align: middle;\n    }\n\n    .dataframe tbody tr th {\n        vertical-align: top;\n    }\n\n    .dataframe thead th {\n        text-align: right;\n    }\n</style>\n<table border=\"1\" class=\"dataframe\">\n  <thead>\n    <tr style=\"text-align: right;\">\n      <th></th>\n      <th>Id_x</th>\n      <th>Name</th>\n      <th>HeadingId</th>\n      <th>CategoryId</th>\n      <th>StructureId</th>\n      <th>StandardProjectId</th>\n      <th>TypeId</th>\n      <th>Diameter</th>\n      <th>CrossSection</th>\n      <th>ImageIndex</th>\n    </tr>\n  </thead>\n  <tbody>\n    <tr>\n      <th>0</th>\n      <td>___-12-2А G28</td>\n      <td>Зажим аппаратный</td>\n      <td>9.0</td>\n      <td>58.0</td>\n      <td>745</td>\n      <td>132.0</td>\n      <td>15</td>\n      <td>0.0000</td>\n      <td>0.000000</td>\n      <td>2.0</td>\n    </tr>\n    <tr>\n      <th>1</th>\n      <td>d10 (цинк)</td>\n      <td>Сталь круглая оцинкованная по ГОСТ 9.307-89</td>\n      <td>10.0</td>\n      <td>10.0</td>\n      <td>745</td>\n      <td>132.0</td>\n      <td>15</td>\n      <td>0.0000</td>\n      <td>0.000000</td>\n      <td>2.0</td>\n    </tr>\n    <tr>\n      <th>2</th>\n      <td>PA2870P</td>\n      <td>Зажим натяжной</td>\n      <td>9.0</td>\n      <td>58.0</td>\n      <td>745</td>\n      <td>132.0</td>\n      <td>15</td>\n      <td>0.0000</td>\n      <td>0.000000</td>\n      <td>2.0</td>\n    </tr>\n    <tr>\n      <th>3</th>\n      <td>PGA101</td>\n      <td></td>\n      <td>9.0</td>\n      <td>58.0</td>\n      <td>745</td>\n      <td>132.0</td>\n      <td>15</td>\n      <td>0.0000</td>\n      <td>0.000000</td>\n      <td>2.0</td>\n    </tr>\n    <tr>\n      <th>4</th>\n      <td>PLDT2 R</td>\n      <td>Вязка односторонняя диэлектрическая</td>\n      <td>9.0</td>\n      <td>58.0</td>\n      <td>745</td>\n      <td>132.0</td>\n      <td>15</td>\n      <td>0.0000</td>\n      <td>0.000000</td>\n      <td>2.0</td>\n    </tr>\n    <tr>\n      <th>...</th>\n      <td>...</td>\n      <td>...</td>\n      <td>...</td>\n      <td>...</td>\n      <td>...</td>\n      <td>...</td>\n      <td>...</td>\n      <td>...</td>\n      <td>...</td>\n      <td>...</td>\n    </tr>\n    <tr>\n      <th>115768</th>\n      <td>ЦСБвШнг 3х95-6</td>\n      <td>0</td>\n      <td>0.0</td>\n      <td>0.0</td>\n      <td>2267</td>\n      <td>0.0</td>\n      <td>5</td>\n      <td>0.0000</td>\n      <td>0.000000</td>\n      <td>0.0</td>\n    </tr>\n    <tr>\n      <th>115769</th>\n      <td>Э-ДПС-06-08-Е4(3)</td>\n      <td>0</td>\n      <td>0.0</td>\n      <td>0.0</td>\n      <td>2267</td>\n      <td>0.0</td>\n      <td>6</td>\n      <td>0.0000</td>\n      <td>0.000000</td>\n      <td>0.0</td>\n    </tr>\n    <tr>\n      <th>115770</th>\n      <td>ЭВБВ 3х95-6</td>\n      <td>0</td>\n      <td>0.0</td>\n      <td>0.0</td>\n      <td>2267</td>\n      <td>0.0</td>\n      <td>5</td>\n      <td>0.0000</td>\n      <td>0.000000</td>\n      <td>0.0</td>\n    </tr>\n    <tr>\n      <th>115771</th>\n      <td>ЭСО-ДПС-06-20-Е4(тип3)</td>\n      <td>0</td>\n      <td>0.0</td>\n      <td>0.0</td>\n      <td>2267</td>\n      <td>0.0</td>\n      <td>6</td>\n      <td>0.0000</td>\n      <td>0.000000</td>\n      <td>0.0</td>\n    </tr>\n    <tr>\n      <th>115772</th>\n      <td>СИПн-7 1х185-110, ТУ 16.К180-072-2019</td>\n      <td>0</td>\n      <td>0.0</td>\n      <td>0.0</td>\n      <td>2267</td>\n      <td>0.0</td>\n      <td>2</td>\n      <td>0.0308</td>\n      <td>0.000185</td>\n      <td>0.0</td>\n    </tr>\n  </tbody>\n</table>\n<p>115773 rows × 10 columns</p>\n</div>"
     },
     "execution_count": 7,
     "metadata": {},
     "output_type": "execute_result"
    }
   ],
   "source": [
    "encoder = LabelEncoder()\n",
    "df['StructureId'] = encoder.fit_transform(df['StructureId'])\n",
    "df['TypeId'] = encoder.fit_transform(df['TypeId'])\n",
    "df = df.fillna(0)\n",
    "df = df.drop_duplicates().reset_index(drop=True)\n",
    "df"
   ],
   "metadata": {
    "collapsed": false,
    "ExecuteTime": {
     "end_time": "2023-09-02T18:47:48.038393600Z",
     "start_time": "2023-09-02T18:47:47.779856300Z"
    }
   }
  },
  {
   "cell_type": "markdown",
   "source": [
    "**NearestNeighbors**"
   ],
   "metadata": {
    "collapsed": false
   }
  },
  {
   "cell_type": "code",
   "execution_count": 46,
   "outputs": [
    {
     "data": {
      "text/plain": "                  Id_x                                               Name  \\\n60573           USF084                  Угол вертикальный листовой 80х400   \n111686       СВ105-3,5  Стойка железобетонная вибрированная, ТУ 5863-0...   \n94495          CSC16uz                                 Крюк универсальный   \n47156   mccb99-100-80m  Выключатель автоматический ВА-99М  100/80А 3P ...   \n41071          HFT900C  Обогреватель в изолирующем корпусе с вентилято...   \n\n        HeadingId  CategoryId  StructureId  StandardProjectId  TypeId  \\\n60573        15.0  20190823.0         2267                0.0      18   \n111686        7.0       114.0         1101               42.0      14   \n94495         9.0        58.0         1679              610.0       9   \n47156        17.0  20190823.0         2267                0.0      18   \n41071        17.0  20190823.0         2267                0.0      18   \n\n        Diameter  CrossSection  ImageIndex  \n60573        0.0           0.0         0.0  \n111686       0.0           0.0         3.0  \n94495        0.0           0.0         3.0  \n47156        0.0           0.0         0.0  \n41071        0.0           0.0         0.0  ",
      "text/html": "<div>\n<style scoped>\n    .dataframe tbody tr th:only-of-type {\n        vertical-align: middle;\n    }\n\n    .dataframe tbody tr th {\n        vertical-align: top;\n    }\n\n    .dataframe thead th {\n        text-align: right;\n    }\n</style>\n<table border=\"1\" class=\"dataframe\">\n  <thead>\n    <tr style=\"text-align: right;\">\n      <th></th>\n      <th>Id_x</th>\n      <th>Name</th>\n      <th>HeadingId</th>\n      <th>CategoryId</th>\n      <th>StructureId</th>\n      <th>StandardProjectId</th>\n      <th>TypeId</th>\n      <th>Diameter</th>\n      <th>CrossSection</th>\n      <th>ImageIndex</th>\n    </tr>\n  </thead>\n  <tbody>\n    <tr>\n      <th>60573</th>\n      <td>USF084</td>\n      <td>Угол вертикальный листовой 80х400</td>\n      <td>15.0</td>\n      <td>20190823.0</td>\n      <td>2267</td>\n      <td>0.0</td>\n      <td>18</td>\n      <td>0.0</td>\n      <td>0.0</td>\n      <td>0.0</td>\n    </tr>\n    <tr>\n      <th>111686</th>\n      <td>СВ105-3,5</td>\n      <td>Стойка железобетонная вибрированная, ТУ 5863-0...</td>\n      <td>7.0</td>\n      <td>114.0</td>\n      <td>1101</td>\n      <td>42.0</td>\n      <td>14</td>\n      <td>0.0</td>\n      <td>0.0</td>\n      <td>3.0</td>\n    </tr>\n    <tr>\n      <th>94495</th>\n      <td>CSC16uz</td>\n      <td>Крюк универсальный</td>\n      <td>9.0</td>\n      <td>58.0</td>\n      <td>1679</td>\n      <td>610.0</td>\n      <td>9</td>\n      <td>0.0</td>\n      <td>0.0</td>\n      <td>3.0</td>\n    </tr>\n    <tr>\n      <th>47156</th>\n      <td>mccb99-100-80m</td>\n      <td>Выключатель автоматический ВА-99М  100/80А 3P ...</td>\n      <td>17.0</td>\n      <td>20190823.0</td>\n      <td>2267</td>\n      <td>0.0</td>\n      <td>18</td>\n      <td>0.0</td>\n      <td>0.0</td>\n      <td>0.0</td>\n    </tr>\n    <tr>\n      <th>41071</th>\n      <td>HFT900C</td>\n      <td>Обогреватель в изолирующем корпусе с вентилято...</td>\n      <td>17.0</td>\n      <td>20190823.0</td>\n      <td>2267</td>\n      <td>0.0</td>\n      <td>18</td>\n      <td>0.0</td>\n      <td>0.0</td>\n      <td>0.0</td>\n    </tr>\n  </tbody>\n</table>\n</div>"
     },
     "execution_count": 46,
     "metadata": {},
     "output_type": "execute_result"
    }
   ],
   "source": [
    "query = df.loc[np.random.randint(df.shape[0], size=5)]\n",
    "query"
   ],
   "metadata": {
    "collapsed": false,
    "ExecuteTime": {
     "end_time": "2023-09-02T19:08:25.893238700Z",
     "start_time": "2023-09-02T19:08:25.873254500Z"
    }
   }
  },
  {
   "cell_type": "code",
   "execution_count": 47,
   "outputs": [],
   "source": [
    "n_neighbors = 25\n",
    "neigh = NearestNeighbors(n_neighbors=n_neighbors, metric='cosine')"
   ],
   "metadata": {
    "collapsed": false,
    "ExecuteTime": {
     "end_time": "2023-09-02T19:08:29.406572600Z",
     "start_time": "2023-09-02T19:08:29.371408Z"
    }
   }
  },
  {
   "cell_type": "code",
   "execution_count": 48,
   "outputs": [
    {
     "data": {
      "text/plain": "NearestNeighbors(metric='cosine', n_neighbors=25)",
      "text/html": "<style>#sk-container-id-10 {color: black;}#sk-container-id-10 pre{padding: 0;}#sk-container-id-10 div.sk-toggleable {background-color: white;}#sk-container-id-10 label.sk-toggleable__label {cursor: pointer;display: block;width: 100%;margin-bottom: 0;padding: 0.3em;box-sizing: border-box;text-align: center;}#sk-container-id-10 label.sk-toggleable__label-arrow:before {content: \"▸\";float: left;margin-right: 0.25em;color: #696969;}#sk-container-id-10 label.sk-toggleable__label-arrow:hover:before {color: black;}#sk-container-id-10 div.sk-estimator:hover label.sk-toggleable__label-arrow:before {color: black;}#sk-container-id-10 div.sk-toggleable__content {max-height: 0;max-width: 0;overflow: hidden;text-align: left;background-color: #f0f8ff;}#sk-container-id-10 div.sk-toggleable__content pre {margin: 0.2em;color: black;border-radius: 0.25em;background-color: #f0f8ff;}#sk-container-id-10 input.sk-toggleable__control:checked~div.sk-toggleable__content {max-height: 200px;max-width: 100%;overflow: auto;}#sk-container-id-10 input.sk-toggleable__control:checked~label.sk-toggleable__label-arrow:before {content: \"▾\";}#sk-container-id-10 div.sk-estimator input.sk-toggleable__control:checked~label.sk-toggleable__label {background-color: #d4ebff;}#sk-container-id-10 div.sk-label input.sk-toggleable__control:checked~label.sk-toggleable__label {background-color: #d4ebff;}#sk-container-id-10 input.sk-hidden--visually {border: 0;clip: rect(1px 1px 1px 1px);clip: rect(1px, 1px, 1px, 1px);height: 1px;margin: -1px;overflow: hidden;padding: 0;position: absolute;width: 1px;}#sk-container-id-10 div.sk-estimator {font-family: monospace;background-color: #f0f8ff;border: 1px dotted black;border-radius: 0.25em;box-sizing: border-box;margin-bottom: 0.5em;}#sk-container-id-10 div.sk-estimator:hover {background-color: #d4ebff;}#sk-container-id-10 div.sk-parallel-item::after {content: \"\";width: 100%;border-bottom: 1px solid gray;flex-grow: 1;}#sk-container-id-10 div.sk-label:hover label.sk-toggleable__label {background-color: #d4ebff;}#sk-container-id-10 div.sk-serial::before {content: \"\";position: absolute;border-left: 1px solid gray;box-sizing: border-box;top: 0;bottom: 0;left: 50%;z-index: 0;}#sk-container-id-10 div.sk-serial {display: flex;flex-direction: column;align-items: center;background-color: white;padding-right: 0.2em;padding-left: 0.2em;position: relative;}#sk-container-id-10 div.sk-item {position: relative;z-index: 1;}#sk-container-id-10 div.sk-parallel {display: flex;align-items: stretch;justify-content: center;background-color: white;position: relative;}#sk-container-id-10 div.sk-item::before, #sk-container-id-10 div.sk-parallel-item::before {content: \"\";position: absolute;border-left: 1px solid gray;box-sizing: border-box;top: 0;bottom: 0;left: 50%;z-index: -1;}#sk-container-id-10 div.sk-parallel-item {display: flex;flex-direction: column;z-index: 1;position: relative;background-color: white;}#sk-container-id-10 div.sk-parallel-item:first-child::after {align-self: flex-end;width: 50%;}#sk-container-id-10 div.sk-parallel-item:last-child::after {align-self: flex-start;width: 50%;}#sk-container-id-10 div.sk-parallel-item:only-child::after {width: 0;}#sk-container-id-10 div.sk-dashed-wrapped {border: 1px dashed gray;margin: 0 0.4em 0.5em 0.4em;box-sizing: border-box;padding-bottom: 0.4em;background-color: white;}#sk-container-id-10 div.sk-label label {font-family: monospace;font-weight: bold;display: inline-block;line-height: 1.2em;}#sk-container-id-10 div.sk-label-container {text-align: center;}#sk-container-id-10 div.sk-container {/* jupyter's `normalize.less` sets `[hidden] { display: none; }` but bootstrap.min.css set `[hidden] { display: none !important; }` so we also need the `!important` here to be able to override the default hidden behavior on the sphinx rendered scikit-learn.org. See: https://github.com/scikit-learn/scikit-learn/issues/21755 */display: inline-block !important;position: relative;}#sk-container-id-10 div.sk-text-repr-fallback {display: none;}</style><div id=\"sk-container-id-10\" class=\"sk-top-container\"><div class=\"sk-text-repr-fallback\"><pre>NearestNeighbors(metric=&#x27;cosine&#x27;, n_neighbors=25)</pre><b>In a Jupyter environment, please rerun this cell to show the HTML representation or trust the notebook. <br />On GitHub, the HTML representation is unable to render, please try loading this page with nbviewer.org.</b></div><div class=\"sk-container\" hidden><div class=\"sk-item\"><div class=\"sk-estimator sk-toggleable\"><input class=\"sk-toggleable__control sk-hidden--visually\" id=\"sk-estimator-id-10\" type=\"checkbox\" checked><label for=\"sk-estimator-id-10\" class=\"sk-toggleable__label sk-toggleable__label-arrow\">NearestNeighbors</label><div class=\"sk-toggleable__content\"><pre>NearestNeighbors(metric=&#x27;cosine&#x27;, n_neighbors=25)</pre></div></div></div></div></div>"
     },
     "execution_count": 48,
     "metadata": {},
     "output_type": "execute_result"
    }
   ],
   "source": [
    "neigh.fit(df.drop(columns=['Id_x', 'Name'], axis=1))"
   ],
   "metadata": {
    "collapsed": false,
    "ExecuteTime": {
     "end_time": "2023-09-02T19:08:29.945155500Z",
     "start_time": "2023-09-02T19:08:29.901554100Z"
    }
   }
  },
  {
   "cell_type": "code",
   "execution_count": 49,
   "outputs": [
    {
     "data": {
      "text/plain": "               Id_x                                               Name  \\\n97729           П-3                                     Плита анкерная   \n104968          АОП             Анкерно-опорная плита, 3.501.1-145.2-9   \n97745           П-3                                     Плита анкерная   \n97760           П-3                                     Плита анкерная   \n97775           П-3                                     Плита анкерная   \n107428     СВ164-20  Стойка железобетонная вибрированная, ТУ 5863-0...   \n105007   С1,85/10,1  Стойка железобетонная центрифугированная, 3.50...   \n111696    СВ105-3,5  Стойка железобетонная вибрированная, ТУ 5863-0...   \n97730        СД10-2                 Стойка T 10S (L=10,0м, dв 20-24см)   \n97746        СД10-2                 Стойка T 10S (L=10,0м, dв 20-24см)   \n97761        СД11-2                 Стойка T 11S (L=11,0м, dв 20-24см)   \n97776        СД11-2                 Стойка T 11S (L=11,0м, dв 20-24см)   \n108291        С10-2                 Стойка T 10S (L=10,0м, dв 20-24см)   \n99301          П-3и                                     Плита анкерная   \n111704    СВ105-3,5  Стойка железобетонная вибрированная, ТУ 5863-0...   \n104915         П-3и                                     Плита анкерная   \n105187         П-3и                                     Плита анкерная   \n111713    СВ105-3,5  Стойка железобетонная вибрированная, ТУ 5863-0...   \n111722    СВ105-3,5  Стойка железобетонная вибрированная, ТУ 5863-0...   \n99302       СВ105-5  Стойка железобетонная вибрированная, ТУ 5863-0...   \n104922    СВ105-3,5  Стойка железобетонная вибрированная, ТУ 5863-0...   \n105188    СВ105-3,5  Стойка железобетонная вибрированная, ТУ 5863-0...   \n105209         П-3и                                     Плита анкерная   \n107170      СВ110-5  Стойка железобетонная вибрированная, ТУ 5863-0...   \n94497         GUKo1                      Зажим натяжной магистральный    \n94494         CF 20                                             Скрепа   \n94496         GPE 4                                  Колпачок концевой   \n94498        IF 207                                    Бандажная лента   \n94499        PGA101                                                      \n94500       TND 151     Зажим для повторных заземлений PEN проводника    \n94493      CCD 9-62                                              Хомут   \n94501   TTD 301 neo                  Зажим прокалывающий магистральный   \n94504         GUKo2                       Зажим натяжной магистральный   \n94505       TND 241     Зажим для повторных заземлений PEN проводника    \n94506   TTD 401 neo                  Зажим прокалывающий магистральный   \n94503         GPE 7                                  Колпачок концевой   \n94490         GUKo2                       Зажим натяжной магистральный   \n94479      CCD 9-62                                              Хомут   \n94485        PGA101                                                      \n94486       TND 151     Зажим для повторных заземлений PEN проводника    \n94484        IF 207                                    Бандажная лента   \n94487   TTD 301 neo                  Зажим прокалывающий магистральный   \n94482         GPE 4                                  Колпачок концевой   \n94492   TTD 401 neo                  Зажим прокалывающий магистральный   \n94481       CSC16uz                                 Крюк универсальный   \n94480         CF 20                                             Скрепа   \n94483         GUKo1                      Зажим натяжной магистральный    \n94489         GPE 7                                  Колпачок концевой   \n\n        HeadingId  CategoryId  StructureId  StandardProjectId  TypeId  \\\n97729         7.0       116.0         1339               51.0      15   \n104968        7.0       116.0         1305               61.0      15   \n97745         7.0       116.0         1340               53.0      15   \n97760         7.0       116.0         1341               52.0      15   \n97775         7.0       116.0         1343               54.0      15   \n107428        7.0       114.0         1330               55.0      15   \n105007        7.0       114.0         1305               61.0      15   \n111696        7.0       114.0         1326               42.0      14   \n97730        18.0       115.0         1339               51.0      15   \n97746        18.0       115.0         1340               53.0      15   \n97761        18.0       115.0         1341               52.0      15   \n97776        18.0       115.0         1343               54.0      15   \n108291       18.0       115.0         1331               43.0      15   \n99301         7.0       116.0         1337               64.0      14   \n111704        7.0       114.0         1338               42.0      14   \n104915        7.0       116.0         1306               67.0      15   \n105187        7.0       116.0         1314               67.0      15   \n111713        7.0       114.0         1344               42.0      14   \n111722        7.0       114.0         1345               42.0      14   \n99302         7.0       114.0         1337               64.0      14   \n104922        7.0       114.0         1306               67.0      15   \n105188        7.0       114.0         1314               67.0      15   \n105209        7.0       116.0         1371               67.0      15   \n107170        7.0       114.0         1323               68.0      15   \n94497         9.0        58.0         1679              610.0       9   \n94494         9.0        58.0         1679              610.0       9   \n94496         9.0        58.0         1679              610.0       9   \n94498         9.0        58.0         1679              610.0       9   \n94499         9.0        58.0         1679              610.0       9   \n94500         9.0        58.0         1679              610.0       9   \n94493         9.0        58.0         1679              610.0       9   \n94501         9.0        58.0         1679              610.0       9   \n94504         9.0        58.0         1679              610.0       9   \n94505         9.0        58.0         1679              610.0       9   \n94506         9.0        58.0         1679              610.0       9   \n94503         9.0        58.0         1679              610.0       9   \n94490         9.0        58.0         1678              609.0       9   \n94479         9.0        58.0         1678              609.0       9   \n94485         9.0        58.0         1678              609.0       9   \n94486         9.0        58.0         1678              609.0       9   \n94484         9.0        58.0         1678              609.0       9   \n94487         9.0        58.0         1678              609.0       9   \n94482         9.0        58.0         1678              609.0       9   \n94492         9.0        58.0         1678              609.0       9   \n94481         9.0        58.0         1678              609.0       9   \n94480         9.0        58.0         1678              609.0       9   \n94483         9.0        58.0         1678              609.0       9   \n94489         9.0        58.0         1678              609.0       9   \n\n        Diameter  CrossSection  ImageIndex      distance  \n97729        0.0           0.0         2.0  1.426648e-04  \n104968       0.0           0.0         2.0  1.440633e-04  \n97745        0.0           0.0         2.0  1.448151e-04  \n97760        0.0           0.0         2.0  1.450878e-04  \n97775        0.0           0.0         2.0  1.492743e-04  \n107428       0.0           0.0         2.0  1.634271e-04  \n105007       0.0           0.0         2.0  1.673028e-04  \n111696       0.0           0.0         3.0  1.746501e-04  \n97730        0.0           0.0         2.0  1.796530e-04  \n97746        0.0           0.0         2.0  1.817642e-04  \n97761        0.0           0.0         2.0  1.820020e-04  \n97776        0.0           0.0         2.0  1.861133e-04  \n108291       0.0           0.0         2.0  1.878671e-04  \n99301        0.0           0.0         3.0  1.884809e-04  \n111704       0.0           0.0         3.0  1.903463e-04  \n104915       0.0           0.0         2.0  1.942494e-04  \n105187       0.0           0.0         2.0  1.983383e-04  \n111713       0.0           0.0         3.0  1.983389e-04  \n111722       0.0           0.0         3.0  1.996800e-04  \n99302        0.0           0.0         3.0  2.142787e-04  \n104922       0.0           0.0         2.0  2.176037e-04  \n105188       0.0           0.0         2.0  2.223516e-04  \n105209       0.0           0.0         2.0  2.363587e-04  \n107170       0.0           0.0         2.0  2.377224e-04  \n94497        0.0           0.0         3.0  0.000000e+00  \n94494        0.0           0.0         3.0  0.000000e+00  \n94496        0.0           0.0         3.0  0.000000e+00  \n94498        0.0           0.0         3.0  0.000000e+00  \n94499        0.0           0.0         3.0  0.000000e+00  \n94500        0.0           0.0         3.0  0.000000e+00  \n94493        0.0           0.0         3.0  0.000000e+00  \n94501        0.0           0.0         3.0  0.000000e+00  \n94504        0.0           0.0         3.0  0.000000e+00  \n94505        0.0           0.0         3.0  0.000000e+00  \n94506        0.0           0.0         3.0  0.000000e+00  \n94503        0.0           0.0         3.0  0.000000e+00  \n94490        0.0           0.0         3.0  5.641218e-08  \n94479        0.0           0.0         3.0  5.641218e-08  \n94485        0.0           0.0         3.0  5.641218e-08  \n94486        0.0           0.0         3.0  5.641218e-08  \n94484        0.0           0.0         3.0  5.641218e-08  \n94487        0.0           0.0         3.0  5.641218e-08  \n94482        0.0           0.0         3.0  5.641218e-08  \n94492        0.0           0.0         3.0  5.641218e-08  \n94481        0.0           0.0         3.0  5.641218e-08  \n94480        0.0           0.0         3.0  5.641218e-08  \n94483        0.0           0.0         3.0  5.641218e-08  \n94489        0.0           0.0         3.0  5.641218e-08  ",
      "text/html": "<div>\n<style scoped>\n    .dataframe tbody tr th:only-of-type {\n        vertical-align: middle;\n    }\n\n    .dataframe tbody tr th {\n        vertical-align: top;\n    }\n\n    .dataframe thead th {\n        text-align: right;\n    }\n</style>\n<table border=\"1\" class=\"dataframe\">\n  <thead>\n    <tr style=\"text-align: right;\">\n      <th></th>\n      <th>Id_x</th>\n      <th>Name</th>\n      <th>HeadingId</th>\n      <th>CategoryId</th>\n      <th>StructureId</th>\n      <th>StandardProjectId</th>\n      <th>TypeId</th>\n      <th>Diameter</th>\n      <th>CrossSection</th>\n      <th>ImageIndex</th>\n      <th>distance</th>\n    </tr>\n  </thead>\n  <tbody>\n    <tr>\n      <th>97729</th>\n      <td>П-3</td>\n      <td>Плита анкерная</td>\n      <td>7.0</td>\n      <td>116.0</td>\n      <td>1339</td>\n      <td>51.0</td>\n      <td>15</td>\n      <td>0.0</td>\n      <td>0.0</td>\n      <td>2.0</td>\n      <td>1.426648e-04</td>\n    </tr>\n    <tr>\n      <th>104968</th>\n      <td>АОП</td>\n      <td>Анкерно-опорная плита, 3.501.1-145.2-9</td>\n      <td>7.0</td>\n      <td>116.0</td>\n      <td>1305</td>\n      <td>61.0</td>\n      <td>15</td>\n      <td>0.0</td>\n      <td>0.0</td>\n      <td>2.0</td>\n      <td>1.440633e-04</td>\n    </tr>\n    <tr>\n      <th>97745</th>\n      <td>П-3</td>\n      <td>Плита анкерная</td>\n      <td>7.0</td>\n      <td>116.0</td>\n      <td>1340</td>\n      <td>53.0</td>\n      <td>15</td>\n      <td>0.0</td>\n      <td>0.0</td>\n      <td>2.0</td>\n      <td>1.448151e-04</td>\n    </tr>\n    <tr>\n      <th>97760</th>\n      <td>П-3</td>\n      <td>Плита анкерная</td>\n      <td>7.0</td>\n      <td>116.0</td>\n      <td>1341</td>\n      <td>52.0</td>\n      <td>15</td>\n      <td>0.0</td>\n      <td>0.0</td>\n      <td>2.0</td>\n      <td>1.450878e-04</td>\n    </tr>\n    <tr>\n      <th>97775</th>\n      <td>П-3</td>\n      <td>Плита анкерная</td>\n      <td>7.0</td>\n      <td>116.0</td>\n      <td>1343</td>\n      <td>54.0</td>\n      <td>15</td>\n      <td>0.0</td>\n      <td>0.0</td>\n      <td>2.0</td>\n      <td>1.492743e-04</td>\n    </tr>\n    <tr>\n      <th>107428</th>\n      <td>СВ164-20</td>\n      <td>Стойка железобетонная вибрированная, ТУ 5863-0...</td>\n      <td>7.0</td>\n      <td>114.0</td>\n      <td>1330</td>\n      <td>55.0</td>\n      <td>15</td>\n      <td>0.0</td>\n      <td>0.0</td>\n      <td>2.0</td>\n      <td>1.634271e-04</td>\n    </tr>\n    <tr>\n      <th>105007</th>\n      <td>С1,85/10,1</td>\n      <td>Стойка железобетонная центрифугированная, 3.50...</td>\n      <td>7.0</td>\n      <td>114.0</td>\n      <td>1305</td>\n      <td>61.0</td>\n      <td>15</td>\n      <td>0.0</td>\n      <td>0.0</td>\n      <td>2.0</td>\n      <td>1.673028e-04</td>\n    </tr>\n    <tr>\n      <th>111696</th>\n      <td>СВ105-3,5</td>\n      <td>Стойка железобетонная вибрированная, ТУ 5863-0...</td>\n      <td>7.0</td>\n      <td>114.0</td>\n      <td>1326</td>\n      <td>42.0</td>\n      <td>14</td>\n      <td>0.0</td>\n      <td>0.0</td>\n      <td>3.0</td>\n      <td>1.746501e-04</td>\n    </tr>\n    <tr>\n      <th>97730</th>\n      <td>СД10-2</td>\n      <td>Стойка T 10S (L=10,0м, dв 20-24см)</td>\n      <td>18.0</td>\n      <td>115.0</td>\n      <td>1339</td>\n      <td>51.0</td>\n      <td>15</td>\n      <td>0.0</td>\n      <td>0.0</td>\n      <td>2.0</td>\n      <td>1.796530e-04</td>\n    </tr>\n    <tr>\n      <th>97746</th>\n      <td>СД10-2</td>\n      <td>Стойка T 10S (L=10,0м, dв 20-24см)</td>\n      <td>18.0</td>\n      <td>115.0</td>\n      <td>1340</td>\n      <td>53.0</td>\n      <td>15</td>\n      <td>0.0</td>\n      <td>0.0</td>\n      <td>2.0</td>\n      <td>1.817642e-04</td>\n    </tr>\n    <tr>\n      <th>97761</th>\n      <td>СД11-2</td>\n      <td>Стойка T 11S (L=11,0м, dв 20-24см)</td>\n      <td>18.0</td>\n      <td>115.0</td>\n      <td>1341</td>\n      <td>52.0</td>\n      <td>15</td>\n      <td>0.0</td>\n      <td>0.0</td>\n      <td>2.0</td>\n      <td>1.820020e-04</td>\n    </tr>\n    <tr>\n      <th>97776</th>\n      <td>СД11-2</td>\n      <td>Стойка T 11S (L=11,0м, dв 20-24см)</td>\n      <td>18.0</td>\n      <td>115.0</td>\n      <td>1343</td>\n      <td>54.0</td>\n      <td>15</td>\n      <td>0.0</td>\n      <td>0.0</td>\n      <td>2.0</td>\n      <td>1.861133e-04</td>\n    </tr>\n    <tr>\n      <th>108291</th>\n      <td>С10-2</td>\n      <td>Стойка T 10S (L=10,0м, dв 20-24см)</td>\n      <td>18.0</td>\n      <td>115.0</td>\n      <td>1331</td>\n      <td>43.0</td>\n      <td>15</td>\n      <td>0.0</td>\n      <td>0.0</td>\n      <td>2.0</td>\n      <td>1.878671e-04</td>\n    </tr>\n    <tr>\n      <th>99301</th>\n      <td>П-3и</td>\n      <td>Плита анкерная</td>\n      <td>7.0</td>\n      <td>116.0</td>\n      <td>1337</td>\n      <td>64.0</td>\n      <td>14</td>\n      <td>0.0</td>\n      <td>0.0</td>\n      <td>3.0</td>\n      <td>1.884809e-04</td>\n    </tr>\n    <tr>\n      <th>111704</th>\n      <td>СВ105-3,5</td>\n      <td>Стойка железобетонная вибрированная, ТУ 5863-0...</td>\n      <td>7.0</td>\n      <td>114.0</td>\n      <td>1338</td>\n      <td>42.0</td>\n      <td>14</td>\n      <td>0.0</td>\n      <td>0.0</td>\n      <td>3.0</td>\n      <td>1.903463e-04</td>\n    </tr>\n    <tr>\n      <th>104915</th>\n      <td>П-3и</td>\n      <td>Плита анкерная</td>\n      <td>7.0</td>\n      <td>116.0</td>\n      <td>1306</td>\n      <td>67.0</td>\n      <td>15</td>\n      <td>0.0</td>\n      <td>0.0</td>\n      <td>2.0</td>\n      <td>1.942494e-04</td>\n    </tr>\n    <tr>\n      <th>105187</th>\n      <td>П-3и</td>\n      <td>Плита анкерная</td>\n      <td>7.0</td>\n      <td>116.0</td>\n      <td>1314</td>\n      <td>67.0</td>\n      <td>15</td>\n      <td>0.0</td>\n      <td>0.0</td>\n      <td>2.0</td>\n      <td>1.983383e-04</td>\n    </tr>\n    <tr>\n      <th>111713</th>\n      <td>СВ105-3,5</td>\n      <td>Стойка железобетонная вибрированная, ТУ 5863-0...</td>\n      <td>7.0</td>\n      <td>114.0</td>\n      <td>1344</td>\n      <td>42.0</td>\n      <td>14</td>\n      <td>0.0</td>\n      <td>0.0</td>\n      <td>3.0</td>\n      <td>1.983389e-04</td>\n    </tr>\n    <tr>\n      <th>111722</th>\n      <td>СВ105-3,5</td>\n      <td>Стойка железобетонная вибрированная, ТУ 5863-0...</td>\n      <td>7.0</td>\n      <td>114.0</td>\n      <td>1345</td>\n      <td>42.0</td>\n      <td>14</td>\n      <td>0.0</td>\n      <td>0.0</td>\n      <td>3.0</td>\n      <td>1.996800e-04</td>\n    </tr>\n    <tr>\n      <th>99302</th>\n      <td>СВ105-5</td>\n      <td>Стойка железобетонная вибрированная, ТУ 5863-0...</td>\n      <td>7.0</td>\n      <td>114.0</td>\n      <td>1337</td>\n      <td>64.0</td>\n      <td>14</td>\n      <td>0.0</td>\n      <td>0.0</td>\n      <td>3.0</td>\n      <td>2.142787e-04</td>\n    </tr>\n    <tr>\n      <th>104922</th>\n      <td>СВ105-3,5</td>\n      <td>Стойка железобетонная вибрированная, ТУ 5863-0...</td>\n      <td>7.0</td>\n      <td>114.0</td>\n      <td>1306</td>\n      <td>67.0</td>\n      <td>15</td>\n      <td>0.0</td>\n      <td>0.0</td>\n      <td>2.0</td>\n      <td>2.176037e-04</td>\n    </tr>\n    <tr>\n      <th>105188</th>\n      <td>СВ105-3,5</td>\n      <td>Стойка железобетонная вибрированная, ТУ 5863-0...</td>\n      <td>7.0</td>\n      <td>114.0</td>\n      <td>1314</td>\n      <td>67.0</td>\n      <td>15</td>\n      <td>0.0</td>\n      <td>0.0</td>\n      <td>2.0</td>\n      <td>2.223516e-04</td>\n    </tr>\n    <tr>\n      <th>105209</th>\n      <td>П-3и</td>\n      <td>Плита анкерная</td>\n      <td>7.0</td>\n      <td>116.0</td>\n      <td>1371</td>\n      <td>67.0</td>\n      <td>15</td>\n      <td>0.0</td>\n      <td>0.0</td>\n      <td>2.0</td>\n      <td>2.363587e-04</td>\n    </tr>\n    <tr>\n      <th>107170</th>\n      <td>СВ110-5</td>\n      <td>Стойка железобетонная вибрированная, ТУ 5863-0...</td>\n      <td>7.0</td>\n      <td>114.0</td>\n      <td>1323</td>\n      <td>68.0</td>\n      <td>15</td>\n      <td>0.0</td>\n      <td>0.0</td>\n      <td>2.0</td>\n      <td>2.377224e-04</td>\n    </tr>\n    <tr>\n      <th>94497</th>\n      <td>GUKo1</td>\n      <td>Зажим натяжной магистральный</td>\n      <td>9.0</td>\n      <td>58.0</td>\n      <td>1679</td>\n      <td>610.0</td>\n      <td>9</td>\n      <td>0.0</td>\n      <td>0.0</td>\n      <td>3.0</td>\n      <td>0.000000e+00</td>\n    </tr>\n    <tr>\n      <th>94494</th>\n      <td>CF 20</td>\n      <td>Скрепа</td>\n      <td>9.0</td>\n      <td>58.0</td>\n      <td>1679</td>\n      <td>610.0</td>\n      <td>9</td>\n      <td>0.0</td>\n      <td>0.0</td>\n      <td>3.0</td>\n      <td>0.000000e+00</td>\n    </tr>\n    <tr>\n      <th>94496</th>\n      <td>GPE 4</td>\n      <td>Колпачок концевой</td>\n      <td>9.0</td>\n      <td>58.0</td>\n      <td>1679</td>\n      <td>610.0</td>\n      <td>9</td>\n      <td>0.0</td>\n      <td>0.0</td>\n      <td>3.0</td>\n      <td>0.000000e+00</td>\n    </tr>\n    <tr>\n      <th>94498</th>\n      <td>IF 207</td>\n      <td>Бандажная лента</td>\n      <td>9.0</td>\n      <td>58.0</td>\n      <td>1679</td>\n      <td>610.0</td>\n      <td>9</td>\n      <td>0.0</td>\n      <td>0.0</td>\n      <td>3.0</td>\n      <td>0.000000e+00</td>\n    </tr>\n    <tr>\n      <th>94499</th>\n      <td>PGA101</td>\n      <td></td>\n      <td>9.0</td>\n      <td>58.0</td>\n      <td>1679</td>\n      <td>610.0</td>\n      <td>9</td>\n      <td>0.0</td>\n      <td>0.0</td>\n      <td>3.0</td>\n      <td>0.000000e+00</td>\n    </tr>\n    <tr>\n      <th>94500</th>\n      <td>TND 151</td>\n      <td>Зажим для повторных заземлений PEN проводника</td>\n      <td>9.0</td>\n      <td>58.0</td>\n      <td>1679</td>\n      <td>610.0</td>\n      <td>9</td>\n      <td>0.0</td>\n      <td>0.0</td>\n      <td>3.0</td>\n      <td>0.000000e+00</td>\n    </tr>\n    <tr>\n      <th>94493</th>\n      <td>CCD 9-62</td>\n      <td>Хомут</td>\n      <td>9.0</td>\n      <td>58.0</td>\n      <td>1679</td>\n      <td>610.0</td>\n      <td>9</td>\n      <td>0.0</td>\n      <td>0.0</td>\n      <td>3.0</td>\n      <td>0.000000e+00</td>\n    </tr>\n    <tr>\n      <th>94501</th>\n      <td>TTD 301 neo</td>\n      <td>Зажим прокалывающий магистральный</td>\n      <td>9.0</td>\n      <td>58.0</td>\n      <td>1679</td>\n      <td>610.0</td>\n      <td>9</td>\n      <td>0.0</td>\n      <td>0.0</td>\n      <td>3.0</td>\n      <td>0.000000e+00</td>\n    </tr>\n    <tr>\n      <th>94504</th>\n      <td>GUKo2</td>\n      <td>Зажим натяжной магистральный</td>\n      <td>9.0</td>\n      <td>58.0</td>\n      <td>1679</td>\n      <td>610.0</td>\n      <td>9</td>\n      <td>0.0</td>\n      <td>0.0</td>\n      <td>3.0</td>\n      <td>0.000000e+00</td>\n    </tr>\n    <tr>\n      <th>94505</th>\n      <td>TND 241</td>\n      <td>Зажим для повторных заземлений PEN проводника</td>\n      <td>9.0</td>\n      <td>58.0</td>\n      <td>1679</td>\n      <td>610.0</td>\n      <td>9</td>\n      <td>0.0</td>\n      <td>0.0</td>\n      <td>3.0</td>\n      <td>0.000000e+00</td>\n    </tr>\n    <tr>\n      <th>94506</th>\n      <td>TTD 401 neo</td>\n      <td>Зажим прокалывающий магистральный</td>\n      <td>9.0</td>\n      <td>58.0</td>\n      <td>1679</td>\n      <td>610.0</td>\n      <td>9</td>\n      <td>0.0</td>\n      <td>0.0</td>\n      <td>3.0</td>\n      <td>0.000000e+00</td>\n    </tr>\n    <tr>\n      <th>94503</th>\n      <td>GPE 7</td>\n      <td>Колпачок концевой</td>\n      <td>9.0</td>\n      <td>58.0</td>\n      <td>1679</td>\n      <td>610.0</td>\n      <td>9</td>\n      <td>0.0</td>\n      <td>0.0</td>\n      <td>3.0</td>\n      <td>0.000000e+00</td>\n    </tr>\n    <tr>\n      <th>94490</th>\n      <td>GUKo2</td>\n      <td>Зажим натяжной магистральный</td>\n      <td>9.0</td>\n      <td>58.0</td>\n      <td>1678</td>\n      <td>609.0</td>\n      <td>9</td>\n      <td>0.0</td>\n      <td>0.0</td>\n      <td>3.0</td>\n      <td>5.641218e-08</td>\n    </tr>\n    <tr>\n      <th>94479</th>\n      <td>CCD 9-62</td>\n      <td>Хомут</td>\n      <td>9.0</td>\n      <td>58.0</td>\n      <td>1678</td>\n      <td>609.0</td>\n      <td>9</td>\n      <td>0.0</td>\n      <td>0.0</td>\n      <td>3.0</td>\n      <td>5.641218e-08</td>\n    </tr>\n    <tr>\n      <th>94485</th>\n      <td>PGA101</td>\n      <td></td>\n      <td>9.0</td>\n      <td>58.0</td>\n      <td>1678</td>\n      <td>609.0</td>\n      <td>9</td>\n      <td>0.0</td>\n      <td>0.0</td>\n      <td>3.0</td>\n      <td>5.641218e-08</td>\n    </tr>\n    <tr>\n      <th>94486</th>\n      <td>TND 151</td>\n      <td>Зажим для повторных заземлений PEN проводника</td>\n      <td>9.0</td>\n      <td>58.0</td>\n      <td>1678</td>\n      <td>609.0</td>\n      <td>9</td>\n      <td>0.0</td>\n      <td>0.0</td>\n      <td>3.0</td>\n      <td>5.641218e-08</td>\n    </tr>\n    <tr>\n      <th>94484</th>\n      <td>IF 207</td>\n      <td>Бандажная лента</td>\n      <td>9.0</td>\n      <td>58.0</td>\n      <td>1678</td>\n      <td>609.0</td>\n      <td>9</td>\n      <td>0.0</td>\n      <td>0.0</td>\n      <td>3.0</td>\n      <td>5.641218e-08</td>\n    </tr>\n    <tr>\n      <th>94487</th>\n      <td>TTD 301 neo</td>\n      <td>Зажим прокалывающий магистральный</td>\n      <td>9.0</td>\n      <td>58.0</td>\n      <td>1678</td>\n      <td>609.0</td>\n      <td>9</td>\n      <td>0.0</td>\n      <td>0.0</td>\n      <td>3.0</td>\n      <td>5.641218e-08</td>\n    </tr>\n    <tr>\n      <th>94482</th>\n      <td>GPE 4</td>\n      <td>Колпачок концевой</td>\n      <td>9.0</td>\n      <td>58.0</td>\n      <td>1678</td>\n      <td>609.0</td>\n      <td>9</td>\n      <td>0.0</td>\n      <td>0.0</td>\n      <td>3.0</td>\n      <td>5.641218e-08</td>\n    </tr>\n    <tr>\n      <th>94492</th>\n      <td>TTD 401 neo</td>\n      <td>Зажим прокалывающий магистральный</td>\n      <td>9.0</td>\n      <td>58.0</td>\n      <td>1678</td>\n      <td>609.0</td>\n      <td>9</td>\n      <td>0.0</td>\n      <td>0.0</td>\n      <td>3.0</td>\n      <td>5.641218e-08</td>\n    </tr>\n    <tr>\n      <th>94481</th>\n      <td>CSC16uz</td>\n      <td>Крюк универсальный</td>\n      <td>9.0</td>\n      <td>58.0</td>\n      <td>1678</td>\n      <td>609.0</td>\n      <td>9</td>\n      <td>0.0</td>\n      <td>0.0</td>\n      <td>3.0</td>\n      <td>5.641218e-08</td>\n    </tr>\n    <tr>\n      <th>94480</th>\n      <td>CF 20</td>\n      <td>Скрепа</td>\n      <td>9.0</td>\n      <td>58.0</td>\n      <td>1678</td>\n      <td>609.0</td>\n      <td>9</td>\n      <td>0.0</td>\n      <td>0.0</td>\n      <td>3.0</td>\n      <td>5.641218e-08</td>\n    </tr>\n    <tr>\n      <th>94483</th>\n      <td>GUKo1</td>\n      <td>Зажим натяжной магистральный</td>\n      <td>9.0</td>\n      <td>58.0</td>\n      <td>1678</td>\n      <td>609.0</td>\n      <td>9</td>\n      <td>0.0</td>\n      <td>0.0</td>\n      <td>3.0</td>\n      <td>5.641218e-08</td>\n    </tr>\n    <tr>\n      <th>94489</th>\n      <td>GPE 7</td>\n      <td>Колпачок концевой</td>\n      <td>9.0</td>\n      <td>58.0</td>\n      <td>1678</td>\n      <td>609.0</td>\n      <td>9</td>\n      <td>0.0</td>\n      <td>0.0</td>\n      <td>3.0</td>\n      <td>5.641218e-08</td>\n    </tr>\n  </tbody>\n</table>\n</div>"
     },
     "execution_count": 49,
     "metadata": {},
     "output_type": "execute_result"
    }
   ],
   "source": [
    "results = pd.DataFrame()\n",
    "for i in range(query.shape[0]):\n",
    "    answer = neigh.kneighbors(query.iloc[i].to_frame().T.drop(columns=['Id_x', 'Name']))\n",
    "    result = df.loc[answer[1][0]]#[['Id_x', 'Name']]\n",
    "    result['distance'] = answer[0][0]\n",
    "    try:\n",
    "        result = result.drop(index=query.iloc[i].name, axis=1)\n",
    "    except: continue\n",
    "    results = pd.concat([results, result], axis=0)\n",
    "results"
   ],
   "metadata": {
    "collapsed": false,
    "ExecuteTime": {
     "end_time": "2023-09-02T19:08:31.175705200Z",
     "start_time": "2023-09-02T19:08:31.043060300Z"
    }
   }
  },
  {
   "cell_type": "code",
   "execution_count": 50,
   "outputs": [
    {
     "data": {
      "text/plain": "               Id_x                                               Name  \\\n94499        PGA101                                                      \n104968          АОП             Анкерно-опорная плита, 3.501.1-145.2-9   \n94498        IF 207                                    Бандажная лента   \n94505       TND 241     Зажим для повторных заземлений PEN проводника    \n94500       TND 151     Зажим для повторных заземлений PEN проводника    \n94504         GUKo2                       Зажим натяжной магистральный   \n94497         GUKo1                      Зажим натяжной магистральный    \n94506   TTD 401 neo                  Зажим прокалывающий магистральный   \n94501   TTD 301 neo                  Зажим прокалывающий магистральный   \n94503         GPE 7                                  Колпачок концевой   \n94496         GPE 4                                  Колпачок концевой   \n94481       CSC16uz                                 Крюк универсальный   \n97729           П-3                                     Плита анкерная   \n99301          П-3и                                     Плита анкерная   \n94494         CF 20                                             Скрепа   \n97730        СД10-2                 Стойка T 10S (L=10,0м, dв 20-24см)   \n108291        С10-2                 Стойка T 10S (L=10,0м, dв 20-24см)   \n97761        СД11-2                 Стойка T 11S (L=11,0м, dв 20-24см)   \n107428     СВ164-20  Стойка железобетонная вибрированная, ТУ 5863-0...   \n99302       СВ105-5  Стойка железобетонная вибрированная, ТУ 5863-0...   \n111696    СВ105-3,5  Стойка железобетонная вибрированная, ТУ 5863-0...   \n107170      СВ110-5  Стойка железобетонная вибрированная, ТУ 5863-0...   \n105007   С1,85/10,1  Стойка железобетонная центрифугированная, 3.50...   \n94493      CCD 9-62                                              Хомут   \n\n        HeadingId  CategoryId  StructureId  StandardProjectId  TypeId  \\\n94499         9.0        58.0         1679              610.0       9   \n104968        7.0       116.0         1305               61.0      15   \n94498         9.0        58.0         1679              610.0       9   \n94505         9.0        58.0         1679              610.0       9   \n94500         9.0        58.0         1679              610.0       9   \n94504         9.0        58.0         1679              610.0       9   \n94497         9.0        58.0         1679              610.0       9   \n94506         9.0        58.0         1679              610.0       9   \n94501         9.0        58.0         1679              610.0       9   \n94503         9.0        58.0         1679              610.0       9   \n94496         9.0        58.0         1679              610.0       9   \n94481         9.0        58.0         1678              609.0       9   \n97729         7.0       116.0         1339               51.0      15   \n99301         7.0       116.0         1337               64.0      14   \n94494         9.0        58.0         1679              610.0       9   \n97730        18.0       115.0         1339               51.0      15   \n108291       18.0       115.0         1331               43.0      15   \n97761        18.0       115.0         1341               52.0      15   \n107428        7.0       114.0         1330               55.0      15   \n99302         7.0       114.0         1337               64.0      14   \n111696        7.0       114.0         1326               42.0      14   \n107170        7.0       114.0         1323               68.0      15   \n105007        7.0       114.0         1305               61.0      15   \n94493         9.0        58.0         1679              610.0       9   \n\n        Diameter  CrossSection  ImageIndex      distance  \n94499        0.0           0.0         3.0  0.000000e+00  \n104968       0.0           0.0         2.0  1.440633e-04  \n94498        0.0           0.0         3.0  0.000000e+00  \n94505        0.0           0.0         3.0  0.000000e+00  \n94500        0.0           0.0         3.0  0.000000e+00  \n94504        0.0           0.0         3.0  0.000000e+00  \n94497        0.0           0.0         3.0  0.000000e+00  \n94506        0.0           0.0         3.0  0.000000e+00  \n94501        0.0           0.0         3.0  0.000000e+00  \n94503        0.0           0.0         3.0  0.000000e+00  \n94496        0.0           0.0         3.0  0.000000e+00  \n94481        0.0           0.0         3.0  5.641218e-08  \n97729        0.0           0.0         2.0  1.426648e-04  \n99301        0.0           0.0         3.0  1.884809e-04  \n94494        0.0           0.0         3.0  0.000000e+00  \n97730        0.0           0.0         2.0  1.796530e-04  \n108291       0.0           0.0         2.0  1.878671e-04  \n97761        0.0           0.0         2.0  1.820020e-04  \n107428       0.0           0.0         2.0  1.634271e-04  \n99302        0.0           0.0         3.0  2.142787e-04  \n111696       0.0           0.0         3.0  1.746501e-04  \n107170       0.0           0.0         2.0  2.377224e-04  \n105007       0.0           0.0         2.0  1.673028e-04  \n94493        0.0           0.0         3.0  0.000000e+00  ",
      "text/html": "<div>\n<style scoped>\n    .dataframe tbody tr th:only-of-type {\n        vertical-align: middle;\n    }\n\n    .dataframe tbody tr th {\n        vertical-align: top;\n    }\n\n    .dataframe thead th {\n        text-align: right;\n    }\n</style>\n<table border=\"1\" class=\"dataframe\">\n  <thead>\n    <tr style=\"text-align: right;\">\n      <th></th>\n      <th>Id_x</th>\n      <th>Name</th>\n      <th>HeadingId</th>\n      <th>CategoryId</th>\n      <th>StructureId</th>\n      <th>StandardProjectId</th>\n      <th>TypeId</th>\n      <th>Diameter</th>\n      <th>CrossSection</th>\n      <th>ImageIndex</th>\n      <th>distance</th>\n    </tr>\n  </thead>\n  <tbody>\n    <tr>\n      <th>94499</th>\n      <td>PGA101</td>\n      <td></td>\n      <td>9.0</td>\n      <td>58.0</td>\n      <td>1679</td>\n      <td>610.0</td>\n      <td>9</td>\n      <td>0.0</td>\n      <td>0.0</td>\n      <td>3.0</td>\n      <td>0.000000e+00</td>\n    </tr>\n    <tr>\n      <th>104968</th>\n      <td>АОП</td>\n      <td>Анкерно-опорная плита, 3.501.1-145.2-9</td>\n      <td>7.0</td>\n      <td>116.0</td>\n      <td>1305</td>\n      <td>61.0</td>\n      <td>15</td>\n      <td>0.0</td>\n      <td>0.0</td>\n      <td>2.0</td>\n      <td>1.440633e-04</td>\n    </tr>\n    <tr>\n      <th>94498</th>\n      <td>IF 207</td>\n      <td>Бандажная лента</td>\n      <td>9.0</td>\n      <td>58.0</td>\n      <td>1679</td>\n      <td>610.0</td>\n      <td>9</td>\n      <td>0.0</td>\n      <td>0.0</td>\n      <td>3.0</td>\n      <td>0.000000e+00</td>\n    </tr>\n    <tr>\n      <th>94505</th>\n      <td>TND 241</td>\n      <td>Зажим для повторных заземлений PEN проводника</td>\n      <td>9.0</td>\n      <td>58.0</td>\n      <td>1679</td>\n      <td>610.0</td>\n      <td>9</td>\n      <td>0.0</td>\n      <td>0.0</td>\n      <td>3.0</td>\n      <td>0.000000e+00</td>\n    </tr>\n    <tr>\n      <th>94500</th>\n      <td>TND 151</td>\n      <td>Зажим для повторных заземлений PEN проводника</td>\n      <td>9.0</td>\n      <td>58.0</td>\n      <td>1679</td>\n      <td>610.0</td>\n      <td>9</td>\n      <td>0.0</td>\n      <td>0.0</td>\n      <td>3.0</td>\n      <td>0.000000e+00</td>\n    </tr>\n    <tr>\n      <th>94504</th>\n      <td>GUKo2</td>\n      <td>Зажим натяжной магистральный</td>\n      <td>9.0</td>\n      <td>58.0</td>\n      <td>1679</td>\n      <td>610.0</td>\n      <td>9</td>\n      <td>0.0</td>\n      <td>0.0</td>\n      <td>3.0</td>\n      <td>0.000000e+00</td>\n    </tr>\n    <tr>\n      <th>94497</th>\n      <td>GUKo1</td>\n      <td>Зажим натяжной магистральный</td>\n      <td>9.0</td>\n      <td>58.0</td>\n      <td>1679</td>\n      <td>610.0</td>\n      <td>9</td>\n      <td>0.0</td>\n      <td>0.0</td>\n      <td>3.0</td>\n      <td>0.000000e+00</td>\n    </tr>\n    <tr>\n      <th>94506</th>\n      <td>TTD 401 neo</td>\n      <td>Зажим прокалывающий магистральный</td>\n      <td>9.0</td>\n      <td>58.0</td>\n      <td>1679</td>\n      <td>610.0</td>\n      <td>9</td>\n      <td>0.0</td>\n      <td>0.0</td>\n      <td>3.0</td>\n      <td>0.000000e+00</td>\n    </tr>\n    <tr>\n      <th>94501</th>\n      <td>TTD 301 neo</td>\n      <td>Зажим прокалывающий магистральный</td>\n      <td>9.0</td>\n      <td>58.0</td>\n      <td>1679</td>\n      <td>610.0</td>\n      <td>9</td>\n      <td>0.0</td>\n      <td>0.0</td>\n      <td>3.0</td>\n      <td>0.000000e+00</td>\n    </tr>\n    <tr>\n      <th>94503</th>\n      <td>GPE 7</td>\n      <td>Колпачок концевой</td>\n      <td>9.0</td>\n      <td>58.0</td>\n      <td>1679</td>\n      <td>610.0</td>\n      <td>9</td>\n      <td>0.0</td>\n      <td>0.0</td>\n      <td>3.0</td>\n      <td>0.000000e+00</td>\n    </tr>\n    <tr>\n      <th>94496</th>\n      <td>GPE 4</td>\n      <td>Колпачок концевой</td>\n      <td>9.0</td>\n      <td>58.0</td>\n      <td>1679</td>\n      <td>610.0</td>\n      <td>9</td>\n      <td>0.0</td>\n      <td>0.0</td>\n      <td>3.0</td>\n      <td>0.000000e+00</td>\n    </tr>\n    <tr>\n      <th>94481</th>\n      <td>CSC16uz</td>\n      <td>Крюк универсальный</td>\n      <td>9.0</td>\n      <td>58.0</td>\n      <td>1678</td>\n      <td>609.0</td>\n      <td>9</td>\n      <td>0.0</td>\n      <td>0.0</td>\n      <td>3.0</td>\n      <td>5.641218e-08</td>\n    </tr>\n    <tr>\n      <th>97729</th>\n      <td>П-3</td>\n      <td>Плита анкерная</td>\n      <td>7.0</td>\n      <td>116.0</td>\n      <td>1339</td>\n      <td>51.0</td>\n      <td>15</td>\n      <td>0.0</td>\n      <td>0.0</td>\n      <td>2.0</td>\n      <td>1.426648e-04</td>\n    </tr>\n    <tr>\n      <th>99301</th>\n      <td>П-3и</td>\n      <td>Плита анкерная</td>\n      <td>7.0</td>\n      <td>116.0</td>\n      <td>1337</td>\n      <td>64.0</td>\n      <td>14</td>\n      <td>0.0</td>\n      <td>0.0</td>\n      <td>3.0</td>\n      <td>1.884809e-04</td>\n    </tr>\n    <tr>\n      <th>94494</th>\n      <td>CF 20</td>\n      <td>Скрепа</td>\n      <td>9.0</td>\n      <td>58.0</td>\n      <td>1679</td>\n      <td>610.0</td>\n      <td>9</td>\n      <td>0.0</td>\n      <td>0.0</td>\n      <td>3.0</td>\n      <td>0.000000e+00</td>\n    </tr>\n    <tr>\n      <th>97730</th>\n      <td>СД10-2</td>\n      <td>Стойка T 10S (L=10,0м, dв 20-24см)</td>\n      <td>18.0</td>\n      <td>115.0</td>\n      <td>1339</td>\n      <td>51.0</td>\n      <td>15</td>\n      <td>0.0</td>\n      <td>0.0</td>\n      <td>2.0</td>\n      <td>1.796530e-04</td>\n    </tr>\n    <tr>\n      <th>108291</th>\n      <td>С10-2</td>\n      <td>Стойка T 10S (L=10,0м, dв 20-24см)</td>\n      <td>18.0</td>\n      <td>115.0</td>\n      <td>1331</td>\n      <td>43.0</td>\n      <td>15</td>\n      <td>0.0</td>\n      <td>0.0</td>\n      <td>2.0</td>\n      <td>1.878671e-04</td>\n    </tr>\n    <tr>\n      <th>97761</th>\n      <td>СД11-2</td>\n      <td>Стойка T 11S (L=11,0м, dв 20-24см)</td>\n      <td>18.0</td>\n      <td>115.0</td>\n      <td>1341</td>\n      <td>52.0</td>\n      <td>15</td>\n      <td>0.0</td>\n      <td>0.0</td>\n      <td>2.0</td>\n      <td>1.820020e-04</td>\n    </tr>\n    <tr>\n      <th>107428</th>\n      <td>СВ164-20</td>\n      <td>Стойка железобетонная вибрированная, ТУ 5863-0...</td>\n      <td>7.0</td>\n      <td>114.0</td>\n      <td>1330</td>\n      <td>55.0</td>\n      <td>15</td>\n      <td>0.0</td>\n      <td>0.0</td>\n      <td>2.0</td>\n      <td>1.634271e-04</td>\n    </tr>\n    <tr>\n      <th>99302</th>\n      <td>СВ105-5</td>\n      <td>Стойка железобетонная вибрированная, ТУ 5863-0...</td>\n      <td>7.0</td>\n      <td>114.0</td>\n      <td>1337</td>\n      <td>64.0</td>\n      <td>14</td>\n      <td>0.0</td>\n      <td>0.0</td>\n      <td>3.0</td>\n      <td>2.142787e-04</td>\n    </tr>\n    <tr>\n      <th>111696</th>\n      <td>СВ105-3,5</td>\n      <td>Стойка железобетонная вибрированная, ТУ 5863-0...</td>\n      <td>7.0</td>\n      <td>114.0</td>\n      <td>1326</td>\n      <td>42.0</td>\n      <td>14</td>\n      <td>0.0</td>\n      <td>0.0</td>\n      <td>3.0</td>\n      <td>1.746501e-04</td>\n    </tr>\n    <tr>\n      <th>107170</th>\n      <td>СВ110-5</td>\n      <td>Стойка железобетонная вибрированная, ТУ 5863-0...</td>\n      <td>7.0</td>\n      <td>114.0</td>\n      <td>1323</td>\n      <td>68.0</td>\n      <td>15</td>\n      <td>0.0</td>\n      <td>0.0</td>\n      <td>2.0</td>\n      <td>2.377224e-04</td>\n    </tr>\n    <tr>\n      <th>105007</th>\n      <td>С1,85/10,1</td>\n      <td>Стойка железобетонная центрифугированная, 3.50...</td>\n      <td>7.0</td>\n      <td>114.0</td>\n      <td>1305</td>\n      <td>61.0</td>\n      <td>15</td>\n      <td>0.0</td>\n      <td>0.0</td>\n      <td>2.0</td>\n      <td>1.673028e-04</td>\n    </tr>\n    <tr>\n      <th>94493</th>\n      <td>CCD 9-62</td>\n      <td>Хомут</td>\n      <td>9.0</td>\n      <td>58.0</td>\n      <td>1679</td>\n      <td>610.0</td>\n      <td>9</td>\n      <td>0.0</td>\n      <td>0.0</td>\n      <td>3.0</td>\n      <td>0.000000e+00</td>\n    </tr>\n  </tbody>\n</table>\n</div>"
     },
     "execution_count": 50,
     "metadata": {},
     "output_type": "execute_result"
    }
   ],
   "source": [
    "results = results.drop_duplicates(subset=['Id_x']).sort_values(by='distance')\n",
    "results.head(25).sort_values(by='Name')"
   ],
   "metadata": {
    "collapsed": false,
    "ExecuteTime": {
     "end_time": "2023-09-02T19:08:32.523560700Z",
     "start_time": "2023-09-02T19:08:32.487656600Z"
    }
   }
  },
  {
   "cell_type": "code",
   "execution_count": null,
   "outputs": [],
   "source": [],
   "metadata": {
    "collapsed": false
   }
  },
  {
   "cell_type": "code",
   "execution_count": null,
   "outputs": [],
   "source": [],
   "metadata": {
    "collapsed": false
   }
  },
  {
   "cell_type": "code",
   "execution_count": null,
   "outputs": [],
   "source": [],
   "metadata": {
    "collapsed": false
   }
  },
  {
   "cell_type": "code",
   "execution_count": null,
   "outputs": [],
   "source": [],
   "metadata": {
    "collapsed": false
   }
  },
  {
   "cell_type": "code",
   "execution_count": null,
   "outputs": [],
   "source": [],
   "metadata": {
    "collapsed": false
   }
  },
  {
   "cell_type": "code",
   "execution_count": null,
   "outputs": [],
   "source": [],
   "metadata": {
    "collapsed": false
   }
  },
  {
   "cell_type": "code",
   "execution_count": null,
   "outputs": [],
   "source": [
    "import networkx as nx\n",
    "from sklearn.neighbors import NearestNeighbors"
   ],
   "metadata": {
    "collapsed": false
   }
  },
  {
   "cell_type": "code",
   "execution_count": null,
   "outputs": [],
   "source": [
    "G = nx.Graph()"
   ],
   "metadata": {
    "collapsed": false
   }
  },
  {
   "cell_type": "code",
   "execution_count": null,
   "outputs": [],
   "source": [
    "G.add_node(data_parts.loc[0, 'Id_x'], features=[data_parts.loc[0, 'HeadingId'], data_parts.loc[0, 'CategoryId']])\n",
    "G.add_node(data_parts.loc[1, 'Id'], features=[data_parts.loc[1, 'HeadingId'], data_parts.loc[1, 'CategoryId']])\n",
    "G.add_node(data_parts.loc[2, 'Id'], features=[data_parts.loc[2, 'HeadingId'], data_parts.loc[2, 'CategoryId']])"
   ],
   "metadata": {
    "collapsed": false
   }
  },
  {
   "cell_type": "code",
   "execution_count": null,
   "outputs": [],
   "source": [
    "G.add_edge(data_parts.loc[0, 'Id'], data_parts.loc[1, 'Id'])\n",
    "G.add_edge(data_parts.loc[0, 'Id'], data_parts.loc[2, 'Id'])\n",
    "G.add_edge(data_parts.loc[1, 'Id'], data_parts.loc[2, 'Id'])"
   ],
   "metadata": {
    "collapsed": false
   }
  },
  {
   "cell_type": "code",
   "execution_count": null,
   "outputs": [],
   "source": [
    "features = [G.nodes[node]['features'] for node in G.nodes]\n",
    "node_indices = list(G.nodes)"
   ],
   "metadata": {
    "collapsed": false
   }
  },
  {
   "cell_type": "code",
   "execution_count": null,
   "outputs": [],
   "source": [
    "features"
   ],
   "metadata": {
    "collapsed": false
   }
  },
  {
   "cell_type": "code",
   "execution_count": null,
   "outputs": [],
   "source": [
    "n_neighbors = 15\n",
    "neigh = NearestNeighbors(n_neighbors=n_neighbors, metric='cosine')\n",
    "neigh.fit(features)"
   ],
   "metadata": {
    "collapsed": false
   }
  },
  {
   "cell_type": "code",
   "execution_count": null,
   "outputs": [],
   "source": [
    "features_query = [data_parts.loc[0, 'HeadingId'] + data_parts.loc[2, 'HeadingId'],\n",
    "                  data_parts.loc[0, 'CategoryId'] + data_parts.loc[2, 'CategoryId']]\n",
    "distances, indices = neigh.kneighbors([features_query], n_neighbors=n_neighbors)"
   ],
   "metadata": {
    "collapsed": false
   }
  },
  {
   "cell_type": "code",
   "execution_count": null,
   "outputs": [],
   "source": [
    "# Вывод ближайших соседей\n",
    "print(\"Ближайшие соседи:\")\n",
    "for i in range(n_neighbors):\n",
    "    print(f\"Узел {node_indices[indices[0][i]]}, расстояние {distances[0][i]}\")"
   ],
   "metadata": {
    "collapsed": false
   }
  },
  {
   "cell_type": "code",
   "execution_count": null,
   "outputs": [],
   "source": [],
   "metadata": {
    "collapsed": false
   }
  },
  {
   "cell_type": "code",
   "execution_count": 17,
   "outputs": [
    {
     "data": {
      "text/plain": "                                                   Id  HeadingId  CategoryId\n0                                       ___-12-2А G28          9          58\n1                                                   -         16    20180331\n2                                                   .          0    20190820\n3      \"STR Jaryq\" 80W, 80 Вт, 10800 лм, 5000 К, IP67         17    20210505\n4                                       \"Анкара.\" 10А         16    20200709\n...                                               ...        ...         ...\n80436                          ЯУОТ-31-110-25-IP54-У1          0         999\n80437                        ЯУОТ-33-211-25-54-УХЛ3.1         17    20210505\n80438                                        ЯУР-3А-4         17    20210505\n80439                       Ящик секціювання ________         14         999\n80440           СИПн-7 1х185-110, ТУ 16.К180-072-2019          3         132\n\n[80441 rows x 3 columns]",
      "text/html": "<div>\n<style scoped>\n    .dataframe tbody tr th:only-of-type {\n        vertical-align: middle;\n    }\n\n    .dataframe tbody tr th {\n        vertical-align: top;\n    }\n\n    .dataframe thead th {\n        text-align: right;\n    }\n</style>\n<table border=\"1\" class=\"dataframe\">\n  <thead>\n    <tr style=\"text-align: right;\">\n      <th></th>\n      <th>Id</th>\n      <th>HeadingId</th>\n      <th>CategoryId</th>\n    </tr>\n  </thead>\n  <tbody>\n    <tr>\n      <th>0</th>\n      <td>___-12-2А G28</td>\n      <td>9</td>\n      <td>58</td>\n    </tr>\n    <tr>\n      <th>1</th>\n      <td>-</td>\n      <td>16</td>\n      <td>20180331</td>\n    </tr>\n    <tr>\n      <th>2</th>\n      <td>.</td>\n      <td>0</td>\n      <td>20190820</td>\n    </tr>\n    <tr>\n      <th>3</th>\n      <td>\"STR Jaryq\" 80W, 80 Вт, 10800 лм, 5000 К, IP67</td>\n      <td>17</td>\n      <td>20210505</td>\n    </tr>\n    <tr>\n      <th>4</th>\n      <td>\"Анкара.\" 10А</td>\n      <td>16</td>\n      <td>20200709</td>\n    </tr>\n    <tr>\n      <th>...</th>\n      <td>...</td>\n      <td>...</td>\n      <td>...</td>\n    </tr>\n    <tr>\n      <th>80436</th>\n      <td>ЯУОТ-31-110-25-IP54-У1</td>\n      <td>0</td>\n      <td>999</td>\n    </tr>\n    <tr>\n      <th>80437</th>\n      <td>ЯУОТ-33-211-25-54-УХЛ3.1</td>\n      <td>17</td>\n      <td>20210505</td>\n    </tr>\n    <tr>\n      <th>80438</th>\n      <td>ЯУР-3А-4</td>\n      <td>17</td>\n      <td>20210505</td>\n    </tr>\n    <tr>\n      <th>80439</th>\n      <td>Ящик секціювання ________</td>\n      <td>14</td>\n      <td>999</td>\n    </tr>\n    <tr>\n      <th>80440</th>\n      <td>СИПн-7 1х185-110, ТУ 16.К180-072-2019</td>\n      <td>3</td>\n      <td>132</td>\n    </tr>\n  </tbody>\n</table>\n<p>80441 rows × 3 columns</p>\n</div>"
     },
     "execution_count": 17,
     "metadata": {},
     "output_type": "execute_result"
    }
   ],
   "source": [
    "data_Parts"
   ],
   "metadata": {
    "collapsed": false,
    "ExecuteTime": {
     "end_time": "2023-09-01T14:51:03.577687600Z",
     "start_time": "2023-09-01T14:51:03.559736Z"
    }
   }
  },
  {
   "cell_type": "code",
   "execution_count": null,
   "outputs": [],
   "source": [],
   "metadata": {
    "collapsed": false
   }
  },
  {
   "cell_type": "code",
   "execution_count": null,
   "outputs": [],
   "source": [],
   "metadata": {
    "collapsed": false
   }
  },
  {
   "cell_type": "code",
   "execution_count": null,
   "outputs": [],
   "source": [],
   "metadata": {
    "collapsed": false
   }
  },
  {
   "cell_type": "code",
   "execution_count": null,
   "outputs": [],
   "source": [],
   "metadata": {
    "collapsed": false
   }
  },
  {
   "cell_type": "code",
   "execution_count": 5,
   "outputs": [],
   "source": [
    "import networkx as nx\n",
    "from sklearn.neighbors import NearestNeighbors"
   ],
   "metadata": {
    "collapsed": false,
    "ExecuteTime": {
     "end_time": "2023-08-31T20:53:09.445725400Z",
     "start_time": "2023-08-31T20:53:06.809978800Z"
    }
   }
  },
  {
   "cell_type": "code",
   "execution_count": 6,
   "outputs": [],
   "source": [
    "G = nx.Graph()"
   ],
   "metadata": {
    "collapsed": false,
    "ExecuteTime": {
     "end_time": "2023-08-31T20:53:09.459652900Z",
     "start_time": "2023-08-31T20:53:09.449679800Z"
    }
   }
  },
  {
   "cell_type": "code",
   "execution_count": 7,
   "outputs": [],
   "source": [
    "G.add_node(data_parts.loc[0, 'Id'], features=[data_parts.loc[0, 'HeadingId'], data_parts.loc[0, 'CategoryId']])\n",
    "G.add_node(data_parts.loc[1, 'Id'], features=[data_parts.loc[1, 'HeadingId'], data_parts.loc[1, 'CategoryId']])\n",
    "G.add_node(data_parts.loc[2, 'Id'], features=[data_parts.loc[2, 'HeadingId'], data_parts.loc[2, 'CategoryId']])"
   ],
   "metadata": {
    "collapsed": false,
    "ExecuteTime": {
     "end_time": "2023-08-31T20:53:09.489573300Z",
     "start_time": "2023-08-31T20:53:09.461647900Z"
    }
   }
  },
  {
   "cell_type": "code",
   "execution_count": 8,
   "outputs": [],
   "source": [
    "G.add_edge(data_parts.loc[0, 'Id'], data_parts.loc[1, 'Id'])\n",
    "G.add_edge(data_parts.loc[0, 'Id'], data_parts.loc[2, 'Id'])\n",
    "G.add_edge(data_parts.loc[1, 'Id'], data_parts.loc[2, 'Id'])"
   ],
   "metadata": {
    "collapsed": false,
    "ExecuteTime": {
     "end_time": "2023-08-31T20:53:09.496554300Z",
     "start_time": "2023-08-31T20:53:09.478612800Z"
    }
   }
  },
  {
   "cell_type": "code",
   "execution_count": 9,
   "outputs": [],
   "source": [
    "features = [G.nodes[node]['features'] for node in G.nodes]\n",
    "node_indices = list(G.nodes)"
   ],
   "metadata": {
    "collapsed": false,
    "ExecuteTime": {
     "end_time": "2023-08-31T20:53:09.506527800Z",
     "start_time": "2023-08-31T20:53:09.499546800Z"
    }
   }
  },
  {
   "cell_type": "code",
   "execution_count": 10,
   "outputs": [
    {
     "data": {
      "text/plain": "[[9, 58], [16, 20180331], [0, 20190820]]"
     },
     "execution_count": 10,
     "metadata": {},
     "output_type": "execute_result"
    }
   ],
   "source": [
    "features"
   ],
   "metadata": {
    "collapsed": false,
    "ExecuteTime": {
     "end_time": "2023-08-31T20:53:09.538442900Z",
     "start_time": "2023-08-31T20:53:09.510518600Z"
    }
   }
  },
  {
   "cell_type": "code",
   "execution_count": 11,
   "outputs": [
    {
     "data": {
      "text/plain": "NearestNeighbors(metric='cosine', n_neighbors=1)",
      "text/html": "<style>#sk-container-id-1 {color: black;}#sk-container-id-1 pre{padding: 0;}#sk-container-id-1 div.sk-toggleable {background-color: white;}#sk-container-id-1 label.sk-toggleable__label {cursor: pointer;display: block;width: 100%;margin-bottom: 0;padding: 0.3em;box-sizing: border-box;text-align: center;}#sk-container-id-1 label.sk-toggleable__label-arrow:before {content: \"▸\";float: left;margin-right: 0.25em;color: #696969;}#sk-container-id-1 label.sk-toggleable__label-arrow:hover:before {color: black;}#sk-container-id-1 div.sk-estimator:hover label.sk-toggleable__label-arrow:before {color: black;}#sk-container-id-1 div.sk-toggleable__content {max-height: 0;max-width: 0;overflow: hidden;text-align: left;background-color: #f0f8ff;}#sk-container-id-1 div.sk-toggleable__content pre {margin: 0.2em;color: black;border-radius: 0.25em;background-color: #f0f8ff;}#sk-container-id-1 input.sk-toggleable__control:checked~div.sk-toggleable__content {max-height: 200px;max-width: 100%;overflow: auto;}#sk-container-id-1 input.sk-toggleable__control:checked~label.sk-toggleable__label-arrow:before {content: \"▾\";}#sk-container-id-1 div.sk-estimator input.sk-toggleable__control:checked~label.sk-toggleable__label {background-color: #d4ebff;}#sk-container-id-1 div.sk-label input.sk-toggleable__control:checked~label.sk-toggleable__label {background-color: #d4ebff;}#sk-container-id-1 input.sk-hidden--visually {border: 0;clip: rect(1px 1px 1px 1px);clip: rect(1px, 1px, 1px, 1px);height: 1px;margin: -1px;overflow: hidden;padding: 0;position: absolute;width: 1px;}#sk-container-id-1 div.sk-estimator {font-family: monospace;background-color: #f0f8ff;border: 1px dotted black;border-radius: 0.25em;box-sizing: border-box;margin-bottom: 0.5em;}#sk-container-id-1 div.sk-estimator:hover {background-color: #d4ebff;}#sk-container-id-1 div.sk-parallel-item::after {content: \"\";width: 100%;border-bottom: 1px solid gray;flex-grow: 1;}#sk-container-id-1 div.sk-label:hover label.sk-toggleable__label {background-color: #d4ebff;}#sk-container-id-1 div.sk-serial::before {content: \"\";position: absolute;border-left: 1px solid gray;box-sizing: border-box;top: 0;bottom: 0;left: 50%;z-index: 0;}#sk-container-id-1 div.sk-serial {display: flex;flex-direction: column;align-items: center;background-color: white;padding-right: 0.2em;padding-left: 0.2em;position: relative;}#sk-container-id-1 div.sk-item {position: relative;z-index: 1;}#sk-container-id-1 div.sk-parallel {display: flex;align-items: stretch;justify-content: center;background-color: white;position: relative;}#sk-container-id-1 div.sk-item::before, #sk-container-id-1 div.sk-parallel-item::before {content: \"\";position: absolute;border-left: 1px solid gray;box-sizing: border-box;top: 0;bottom: 0;left: 50%;z-index: -1;}#sk-container-id-1 div.sk-parallel-item {display: flex;flex-direction: column;z-index: 1;position: relative;background-color: white;}#sk-container-id-1 div.sk-parallel-item:first-child::after {align-self: flex-end;width: 50%;}#sk-container-id-1 div.sk-parallel-item:last-child::after {align-self: flex-start;width: 50%;}#sk-container-id-1 div.sk-parallel-item:only-child::after {width: 0;}#sk-container-id-1 div.sk-dashed-wrapped {border: 1px dashed gray;margin: 0 0.4em 0.5em 0.4em;box-sizing: border-box;padding-bottom: 0.4em;background-color: white;}#sk-container-id-1 div.sk-label label {font-family: monospace;font-weight: bold;display: inline-block;line-height: 1.2em;}#sk-container-id-1 div.sk-label-container {text-align: center;}#sk-container-id-1 div.sk-container {/* jupyter's `normalize.less` sets `[hidden] { display: none; }` but bootstrap.min.css set `[hidden] { display: none !important; }` so we also need the `!important` here to be able to override the default hidden behavior on the sphinx rendered scikit-learn.org. See: https://github.com/scikit-learn/scikit-learn/issues/21755 */display: inline-block !important;position: relative;}#sk-container-id-1 div.sk-text-repr-fallback {display: none;}</style><div id=\"sk-container-id-1\" class=\"sk-top-container\"><div class=\"sk-text-repr-fallback\"><pre>NearestNeighbors(metric=&#x27;cosine&#x27;, n_neighbors=1)</pre><b>In a Jupyter environment, please rerun this cell to show the HTML representation or trust the notebook. <br />On GitHub, the HTML representation is unable to render, please try loading this page with nbviewer.org.</b></div><div class=\"sk-container\" hidden><div class=\"sk-item\"><div class=\"sk-estimator sk-toggleable\"><input class=\"sk-toggleable__control sk-hidden--visually\" id=\"sk-estimator-id-1\" type=\"checkbox\" checked><label for=\"sk-estimator-id-1\" class=\"sk-toggleable__label sk-toggleable__label-arrow\">NearestNeighbors</label><div class=\"sk-toggleable__content\"><pre>NearestNeighbors(metric=&#x27;cosine&#x27;, n_neighbors=1)</pre></div></div></div></div></div>"
     },
     "execution_count": 11,
     "metadata": {},
     "output_type": "execute_result"
    }
   ],
   "source": [
    "n_neighbors = 1\n",
    "neigh = NearestNeighbors(n_neighbors=n_neighbors, metric='cosine')\n",
    "neigh.fit(features)"
   ],
   "metadata": {
    "collapsed": false,
    "ExecuteTime": {
     "end_time": "2023-08-31T20:53:09.608255300Z",
     "start_time": "2023-08-31T20:53:09.532459400Z"
    }
   }
  },
  {
   "cell_type": "code",
   "execution_count": 12,
   "outputs": [],
   "source": [
    "features_query = [data_parts.loc[0, 'HeadingId'] + data_parts.loc[2, 'HeadingId'],\n",
    "                  data_parts.loc[0, 'CategoryId'] + data_parts.loc[2, 'CategoryId']]\n",
    "distances, indices = neigh.kneighbors([features_query], n_neighbors=n_neighbors)"
   ],
   "metadata": {
    "collapsed": false,
    "ExecuteTime": {
     "end_time": "2023-08-31T20:53:09.611247100Z",
     "start_time": "2023-08-31T20:53:09.561381300Z"
    }
   }
  },
  {
   "cell_type": "code",
   "execution_count": 13,
   "outputs": [
    {
     "name": "stdout",
     "output_type": "stream",
     "text": [
      "Ближайшие соседи:\n",
      "Узел -, расстояние 6.0285110237146e-14\n"
     ]
    }
   ],
   "source": [
    "# Вывод ближайших соседей\n",
    "print(\"Ближайшие соседи:\")\n",
    "for i in range(n_neighbors):\n",
    "    print(f\"Узел {node_indices[indices[0][i]]}, расстояние {distances[0][i]}\")"
   ],
   "metadata": {
    "collapsed": false,
    "ExecuteTime": {
     "end_time": "2023-08-31T20:53:09.611247100Z",
     "start_time": "2023-08-31T20:53:09.579333400Z"
    }
   }
  },
  {
   "cell_type": "code",
   "execution_count": 13,
   "outputs": [],
   "source": [],
   "metadata": {
    "collapsed": false,
    "ExecuteTime": {
     "end_time": "2023-08-31T20:53:09.612244800Z",
     "start_time": "2023-08-31T20:53:09.608255300Z"
    }
   }
  }
 ],
 "metadata": {
  "kernelspec": {
   "display_name": "Python 3",
   "language": "python",
   "name": "python3"
  },
  "language_info": {
   "codemirror_mode": {
    "name": "ipython",
    "version": 2
   },
   "file_extension": ".py",
   "mimetype": "text/x-python",
   "name": "python",
   "nbconvert_exporter": "python",
   "pygments_lexer": "ipython2",
   "version": "2.7.6"
  }
 },
 "nbformat": 4,
 "nbformat_minor": 0
}
