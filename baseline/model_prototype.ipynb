{
 "cells": [
  {
   "cell_type": "code",
   "execution_count": 1,
   "outputs": [],
   "source": [
    "import pandas as pd\n",
    "import numpy as np\n",
    "import sqlite3\n",
    "\n",
    "from sklearn.preprocessing import LabelEncoder\n",
    "from sklearn.neighbors import NearestNeighbors"
   ],
   "metadata": {
    "collapsed": false,
    "ExecuteTime": {
     "end_time": "2023-09-05T11:37:02.162432500Z",
     "start_time": "2023-09-05T11:37:01.856782500Z"
    }
   }
  },
  {
   "cell_type": "code",
   "execution_count": 2,
   "outputs": [],
   "source": [
    "conn = sqlite3.connect('../database.db')"
   ],
   "metadata": {
    "collapsed": false,
    "ExecuteTime": {
     "end_time": "2023-09-05T11:37:02.832605100Z",
     "start_time": "2023-09-05T11:37:02.819382200Z"
    }
   }
  },
  {
   "cell_type": "code",
   "execution_count": 14,
   "outputs": [],
   "source": [
    "encoder_struct = LabelEncoder()\n",
    "encoder_type = LabelEncoder()"
   ],
   "metadata": {
    "collapsed": false,
    "ExecuteTime": {
     "end_time": "2023-09-05T11:38:45.513036100Z",
     "start_time": "2023-09-05T11:38:45.487106500Z"
    }
   }
  },
  {
   "cell_type": "code",
   "execution_count": 4,
   "outputs": [],
   "source": [
    "data_Parts = pd.read_sql(\"select Id, Name, HeadingId, CategoryId from Parts;\", con=conn)\n",
    "data_StructuresParts = pd.read_sql(\"select StructureId, PartId from StructuresParts;\", con=conn)\n",
    "data_Structures = pd.read_sql(\"select Id, StandardProjectId, TypeId from Structures;\", con=conn)\n",
    "data_StandardProjects = pd.read_sql(\"select Id, ImageIndex from StandardProjects;\", con=conn)\n",
    "data_Conductors = pd.read_sql(\"select PartId, TypeId, Diameter, CrossSection from Conductors;\", con=conn)"
   ],
   "metadata": {
    "collapsed": false,
    "ExecuteTime": {
     "end_time": "2023-09-05T11:37:04.803949900Z",
     "start_time": "2023-09-05T11:37:04.304946600Z"
    }
   }
  },
  {
   "cell_type": "code",
   "execution_count": 5,
   "outputs": [],
   "source": [
    "df = data_Parts.merge(data_StructuresParts, left_on='Id', right_on='PartId', how='outer').drop('PartId', axis=1)\n",
    "\n",
    "df = df.merge(data_Structures, left_on='StructureId', right_on='Id', how='outer').drop('Id_y', axis=1)\n",
    "\n",
    "data_Conductors.rename(columns={'PartId': 'Id_x'}, inplace=True)\n",
    "\n",
    "df = pd.concat([df, data_Conductors], axis=0)\n",
    "\n",
    "df = df.merge(data_StandardProjects, left_on='StandardProjectId', right_on='Id', how='left').drop('Id', axis=1)"
   ],
   "metadata": {
    "collapsed": false,
    "ExecuteTime": {
     "end_time": "2023-09-05T11:37:05.622196900Z",
     "start_time": "2023-09-05T11:37:05.457579600Z"
    }
   }
  },
  {
   "cell_type": "code",
   "execution_count": 6,
   "outputs": [
    {
     "data": {
      "text/plain": "                     Id_x                                             Name  \\\n112870                ДА4                        Плита анкерная деревянная   \n111778  Бетон В20 W6 F200                                            Бетон   \n115859           СК135-10                                           Стойка   \n5448               030316         DLPlus Ответвительная коробка (75х75х35)   \n59135              ULM383  Лоток лестничный 80х300, лонжерон 1,5 мм, L 3 м   \n\n        HeadingId  CategoryId                    StructureId  \\\n112870       18.0        57.0                          ПОАд7   \n111778       16.0        54.0                    ККМкв вар.2   \n115859        7.0       114.0  К35-1з(2хСК135-10)-1_(120мм2)   \n5448         15.0  20190823.0                            NaN   \n59135        15.0  20190823.0                            NaN   \n\n        StandardProjectId   TypeId  Diameter  CrossSection  ImageIndex  \n112870               25.0  support       NaN           NaN         2.0  \n111778               57.0  support       NaN           NaN         2.0  \n115859              297.0   pole35       NaN           NaN         0.0  \n5448                  NaN      NaN       NaN           NaN         NaN  \n59135                 NaN      NaN       NaN           NaN         NaN  ",
      "text/html": "<div>\n<style scoped>\n    .dataframe tbody tr th:only-of-type {\n        vertical-align: middle;\n    }\n\n    .dataframe tbody tr th {\n        vertical-align: top;\n    }\n\n    .dataframe thead th {\n        text-align: right;\n    }\n</style>\n<table border=\"1\" class=\"dataframe\">\n  <thead>\n    <tr style=\"text-align: right;\">\n      <th></th>\n      <th>Id_x</th>\n      <th>Name</th>\n      <th>HeadingId</th>\n      <th>CategoryId</th>\n      <th>StructureId</th>\n      <th>StandardProjectId</th>\n      <th>TypeId</th>\n      <th>Diameter</th>\n      <th>CrossSection</th>\n      <th>ImageIndex</th>\n    </tr>\n  </thead>\n  <tbody>\n    <tr>\n      <th>112870</th>\n      <td>ДА4</td>\n      <td>Плита анкерная деревянная</td>\n      <td>18.0</td>\n      <td>57.0</td>\n      <td>ПОАд7</td>\n      <td>25.0</td>\n      <td>support</td>\n      <td>NaN</td>\n      <td>NaN</td>\n      <td>2.0</td>\n    </tr>\n    <tr>\n      <th>111778</th>\n      <td>Бетон В20 W6 F200</td>\n      <td>Бетон</td>\n      <td>16.0</td>\n      <td>54.0</td>\n      <td>ККМкв вар.2</td>\n      <td>57.0</td>\n      <td>support</td>\n      <td>NaN</td>\n      <td>NaN</td>\n      <td>2.0</td>\n    </tr>\n    <tr>\n      <th>115859</th>\n      <td>СК135-10</td>\n      <td>Стойка</td>\n      <td>7.0</td>\n      <td>114.0</td>\n      <td>К35-1з(2хСК135-10)-1_(120мм2)</td>\n      <td>297.0</td>\n      <td>pole35</td>\n      <td>NaN</td>\n      <td>NaN</td>\n      <td>0.0</td>\n    </tr>\n    <tr>\n      <th>5448</th>\n      <td>030316</td>\n      <td>DLPlus Ответвительная коробка (75х75х35)</td>\n      <td>15.0</td>\n      <td>20190823.0</td>\n      <td>NaN</td>\n      <td>NaN</td>\n      <td>NaN</td>\n      <td>NaN</td>\n      <td>NaN</td>\n      <td>NaN</td>\n    </tr>\n    <tr>\n      <th>59135</th>\n      <td>ULM383</td>\n      <td>Лоток лестничный 80х300, лонжерон 1,5 мм, L 3 м</td>\n      <td>15.0</td>\n      <td>20190823.0</td>\n      <td>NaN</td>\n      <td>NaN</td>\n      <td>NaN</td>\n      <td>NaN</td>\n      <td>NaN</td>\n      <td>NaN</td>\n    </tr>\n  </tbody>\n</table>\n</div>"
     },
     "execution_count": 6,
     "metadata": {},
     "output_type": "execute_result"
    }
   ],
   "source": [
    "df.sample(5)"
   ],
   "metadata": {
    "collapsed": false,
    "ExecuteTime": {
     "end_time": "2023-09-05T11:37:07.261180900Z",
     "start_time": "2023-09-05T11:37:07.227366300Z"
    }
   }
  },
  {
   "cell_type": "code",
   "execution_count": 7,
   "outputs": [
    {
     "data": {
      "text/plain": "               Id_x                                               Name  \\\n122295   SO115.9585             Вязка спиральная для провода 70-95 мм²   \n21339        661655  Декоративная рамка для накладного монтажа для ...   \n5569         031645  Выдвижной блок - для монтажа на торце мини-пли...   \n46884   mb-inox-652  Щит из нержавеющей стали \"Inox\" AISI 304 (600х...   \n22131        752526  Valena LIFE.Переключатель 10АХ 250В с подсветк...   \n\n        HeadingId  CategoryId StructureId  StandardProjectId     TypeId  \\\n122295        9.0        36.0       КП20з              215.0  support10   \n21339        15.0  20190823.0         NaN                NaN        NaN   \n5569         15.0  20190823.0         NaN                NaN        NaN   \n46884        17.0  20190823.0         NaN                NaN        NaN   \n22131        15.0  20190823.0         NaN                NaN        NaN   \n\n        Diameter  CrossSection  ImageIndex  \n122295       NaN           NaN         2.0  \n21339        NaN           NaN         NaN  \n5569         NaN           NaN         NaN  \n46884        NaN           NaN         NaN  \n22131        NaN           NaN         NaN  ",
      "text/html": "<div>\n<style scoped>\n    .dataframe tbody tr th:only-of-type {\n        vertical-align: middle;\n    }\n\n    .dataframe tbody tr th {\n        vertical-align: top;\n    }\n\n    .dataframe thead th {\n        text-align: right;\n    }\n</style>\n<table border=\"1\" class=\"dataframe\">\n  <thead>\n    <tr style=\"text-align: right;\">\n      <th></th>\n      <th>Id_x</th>\n      <th>Name</th>\n      <th>HeadingId</th>\n      <th>CategoryId</th>\n      <th>StructureId</th>\n      <th>StandardProjectId</th>\n      <th>TypeId</th>\n      <th>Diameter</th>\n      <th>CrossSection</th>\n      <th>ImageIndex</th>\n    </tr>\n  </thead>\n  <tbody>\n    <tr>\n      <th>122295</th>\n      <td>SO115.9585</td>\n      <td>Вязка спиральная для провода 70-95 мм²</td>\n      <td>9.0</td>\n      <td>36.0</td>\n      <td>КП20з</td>\n      <td>215.0</td>\n      <td>support10</td>\n      <td>NaN</td>\n      <td>NaN</td>\n      <td>2.0</td>\n    </tr>\n    <tr>\n      <th>21339</th>\n      <td>661655</td>\n      <td>Декоративная рамка для накладного монтажа для ...</td>\n      <td>15.0</td>\n      <td>20190823.0</td>\n      <td>NaN</td>\n      <td>NaN</td>\n      <td>NaN</td>\n      <td>NaN</td>\n      <td>NaN</td>\n      <td>NaN</td>\n    </tr>\n    <tr>\n      <th>5569</th>\n      <td>031645</td>\n      <td>Выдвижной блок - для монтажа на торце мини-пли...</td>\n      <td>15.0</td>\n      <td>20190823.0</td>\n      <td>NaN</td>\n      <td>NaN</td>\n      <td>NaN</td>\n      <td>NaN</td>\n      <td>NaN</td>\n      <td>NaN</td>\n    </tr>\n    <tr>\n      <th>46884</th>\n      <td>mb-inox-652</td>\n      <td>Щит из нержавеющей стали \"Inox\" AISI 304 (600х...</td>\n      <td>17.0</td>\n      <td>20190823.0</td>\n      <td>NaN</td>\n      <td>NaN</td>\n      <td>NaN</td>\n      <td>NaN</td>\n      <td>NaN</td>\n      <td>NaN</td>\n    </tr>\n    <tr>\n      <th>22131</th>\n      <td>752526</td>\n      <td>Valena LIFE.Переключатель 10АХ 250В с подсветк...</td>\n      <td>15.0</td>\n      <td>20190823.0</td>\n      <td>NaN</td>\n      <td>NaN</td>\n      <td>NaN</td>\n      <td>NaN</td>\n      <td>NaN</td>\n      <td>NaN</td>\n    </tr>\n  </tbody>\n</table>\n</div>"
     },
     "execution_count": 7,
     "metadata": {},
     "output_type": "execute_result"
    }
   ],
   "source": [
    "df['StructureId'] = df['StructureId'].str.split('_').str[0]\n",
    "df['ImageIndex'] = df['ImageIndex'] + 1\n",
    "df.sample(5)"
   ],
   "metadata": {
    "collapsed": false,
    "ExecuteTime": {
     "end_time": "2023-09-05T11:37:08.231283600Z",
     "start_time": "2023-09-05T11:37:08.049347500Z"
    }
   }
  },
  {
   "cell_type": "code",
   "execution_count": 8,
   "outputs": [
    {
     "data": {
      "text/plain": "                                         Id_x  \\\n14312                               37004INOX   \n10770                              2058 LW 32   \n93985                                   GUKo2   \n112796                         АПвЭВ 3х120-10   \n79015   Труба термостойкая ∅110х10мм. Красная   \n\n                                                     Name  HeadingId  \\\n14312   Угол CDSD 90 вертикальный внеш переходник прав...         15   \n10770   Опорная пластина для U-образных зажимных скоб ...         15   \n93985                        Зажим натяжной магистральный          9   \n112796                                                             0   \n79015   Труба полимерная гладкостенная, повышенной тер...         16   \n\n        CategoryId  StructureId  StandardProjectId  TypeId  Diameter  \\\n14312     20190823            0                  0       0       0.0   \n10770     20190823            0                  0       0       0.0   \n93985           58          964                806      15       0.0   \n112796           0            0                  0       6       0.0   \n79015     20190609            0                  0       0       0.0   \n\n        CrossSection  ImageIndex  \n14312            0.0           0  \n10770            0.0           0  \n93985            0.0           3  \n112796           0.0           0  \n79015            0.0           0  ",
      "text/html": "<div>\n<style scoped>\n    .dataframe tbody tr th:only-of-type {\n        vertical-align: middle;\n    }\n\n    .dataframe tbody tr th {\n        vertical-align: top;\n    }\n\n    .dataframe thead th {\n        text-align: right;\n    }\n</style>\n<table border=\"1\" class=\"dataframe\">\n  <thead>\n    <tr style=\"text-align: right;\">\n      <th></th>\n      <th>Id_x</th>\n      <th>Name</th>\n      <th>HeadingId</th>\n      <th>CategoryId</th>\n      <th>StructureId</th>\n      <th>StandardProjectId</th>\n      <th>TypeId</th>\n      <th>Diameter</th>\n      <th>CrossSection</th>\n      <th>ImageIndex</th>\n    </tr>\n  </thead>\n  <tbody>\n    <tr>\n      <th>14312</th>\n      <td>37004INOX</td>\n      <td>Угол CDSD 90 вертикальный внеш переходник прав...</td>\n      <td>15</td>\n      <td>20190823</td>\n      <td>0</td>\n      <td>0</td>\n      <td>0</td>\n      <td>0.0</td>\n      <td>0.0</td>\n      <td>0</td>\n    </tr>\n    <tr>\n      <th>10770</th>\n      <td>2058 LW 32</td>\n      <td>Опорная пластина для U-образных зажимных скоб ...</td>\n      <td>15</td>\n      <td>20190823</td>\n      <td>0</td>\n      <td>0</td>\n      <td>0</td>\n      <td>0.0</td>\n      <td>0.0</td>\n      <td>0</td>\n    </tr>\n    <tr>\n      <th>93985</th>\n      <td>GUKo2</td>\n      <td>Зажим натяжной магистральный</td>\n      <td>9</td>\n      <td>58</td>\n      <td>964</td>\n      <td>806</td>\n      <td>15</td>\n      <td>0.0</td>\n      <td>0.0</td>\n      <td>3</td>\n    </tr>\n    <tr>\n      <th>112796</th>\n      <td>АПвЭВ 3х120-10</td>\n      <td></td>\n      <td>0</td>\n      <td>0</td>\n      <td>0</td>\n      <td>0</td>\n      <td>6</td>\n      <td>0.0</td>\n      <td>0.0</td>\n      <td>0</td>\n    </tr>\n    <tr>\n      <th>79015</th>\n      <td>Труба термостойкая ∅110х10мм. Красная</td>\n      <td>Труба полимерная гладкостенная, повышенной тер...</td>\n      <td>16</td>\n      <td>20190609</td>\n      <td>0</td>\n      <td>0</td>\n      <td>0</td>\n      <td>0.0</td>\n      <td>0.0</td>\n      <td>0</td>\n    </tr>\n  </tbody>\n</table>\n</div>"
     },
     "execution_count": 8,
     "metadata": {},
     "output_type": "execute_result"
    }
   ],
   "source": [
    "df['Name'] = df['Name'].fillna('')\n",
    "df['StructureId'] = df['StructureId'].fillna('')\n",
    "df['TypeId'] = df['TypeId'].fillna('')\n",
    "\n",
    "df['StructureId'] = encoder_struct.fit_transform(df['StructureId'])\n",
    "df['TypeId'] = encoder_type.fit_transform(df['TypeId'])\n",
    "df = df.fillna(0)\n",
    "\n",
    "df = df.drop_duplicates().reset_index(drop=True)\n",
    "df[['HeadingId', 'CategoryId', 'StandardProjectId', 'ImageIndex']] = df[['HeadingId', 'CategoryId', 'StandardProjectId', 'ImageIndex']].astype('int32')\n",
    "df.sample(5)"
   ],
   "metadata": {
    "collapsed": false,
    "ExecuteTime": {
     "end_time": "2023-09-05T11:37:11.601208300Z",
     "start_time": "2023-09-05T11:37:11.308320500Z"
    }
   }
  },
  {
   "cell_type": "markdown",
   "source": [
    "**NearestNeighbors**"
   ],
   "metadata": {
    "collapsed": false
   }
  },
  {
   "cell_type": "code",
   "execution_count": 24,
   "outputs": [],
   "source": [
    "features = df.drop(columns=['Id_x', 'Name'], axis=1)"
   ],
   "metadata": {
    "collapsed": false,
    "ExecuteTime": {
     "end_time": "2023-09-05T11:40:03.668170Z",
     "start_time": "2023-09-05T11:40:03.636927900Z"
    }
   }
  },
  {
   "cell_type": "code",
   "execution_count": 59,
   "outputs": [],
   "source": [
    "n_neighbors = 35\n",
    "model = NearestNeighbors(n_neighbors=n_neighbors, metric='cosine')\n",
    "model.fit(features);"
   ],
   "metadata": {
    "collapsed": false,
    "ExecuteTime": {
     "end_time": "2023-09-05T11:59:19.556491200Z",
     "start_time": "2023-09-05T11:59:19.545842600Z"
    }
   }
  },
  {
   "cell_type": "code",
   "execution_count": 69,
   "outputs": [
    {
     "data": {
      "text/plain": "                                Id_x  \\\n81681                    TTDC28401FA   \n85494                  CNA ______G28   \n2378                          010790   \n46234                   LT 650 R3 FS   \n44329                     LC8660INOX   \n30773                    CLP1K-400-3   \n35955                         DP1201   \n70004           КВХ-ГДР 1.25кВт/2,5м   \n52293               rel-4312-120-150   \n80116  ЩМП-1-1-395х310х150-IP54-УХЛ2   \n\n                                                    Name  HeadingId  \\\n81681                                Зажим прокалывающий          9   \n85494                                  Зажим аппаратный           9   \n2378   Угол плоский 90° - для односекционных кабель-к...         15   \n46234                                  Т-образная секция         15   \n44329  Угол горизонтальный 90º 80x600 R-600, нержавеющий         15   \n30773                     Крышка на лоток осн. 400мм IEK         17   \n35955  Плита из минерал. волокна с огнестойким покрыт...         15   \n70004  Электронагреватель стрелочный стержневой КВХ-Г...         17   \n52293        Реле тепловое РТЭ-4312 120-150А EKF PROxima         17   \n80116  ЩМП Корпуса щитов с монтажной панелью металлич...         15   \n\n       CategoryId  StructureId  StandardProjectId  TypeId  Diameter  \\\n81681          58         2055                134      11       0.0   \n85494          58         1043                268      11       0.0   \n2378     20190823            0                  0       0       0.0   \n46234    20190823            0                  0       0       0.0   \n44329    20190823            0                  0       0       0.0   \n30773         101            0                  0       0       0.0   \n35955    20190823            0                  0       0       0.0   \n70004    20180531            0                  0       0       0.0   \n52293    20190823            0                  0       0       0.0   \n80116    20200217            0                  0       0       0.0   \n\n       CrossSection  ImageIndex  \n81681           0.0           2  \n85494           0.0           2  \n2378            0.0           0  \n46234           0.0           0  \n44329           0.0           0  \n30773           0.0           0  \n35955           0.0           0  \n70004           0.0           0  \n52293           0.0           0  \n80116           0.0           0  ",
      "text/html": "<div>\n<style scoped>\n    .dataframe tbody tr th:only-of-type {\n        vertical-align: middle;\n    }\n\n    .dataframe tbody tr th {\n        vertical-align: top;\n    }\n\n    .dataframe thead th {\n        text-align: right;\n    }\n</style>\n<table border=\"1\" class=\"dataframe\">\n  <thead>\n    <tr style=\"text-align: right;\">\n      <th></th>\n      <th>Id_x</th>\n      <th>Name</th>\n      <th>HeadingId</th>\n      <th>CategoryId</th>\n      <th>StructureId</th>\n      <th>StandardProjectId</th>\n      <th>TypeId</th>\n      <th>Diameter</th>\n      <th>CrossSection</th>\n      <th>ImageIndex</th>\n    </tr>\n  </thead>\n  <tbody>\n    <tr>\n      <th>81681</th>\n      <td>TTDC28401FA</td>\n      <td>Зажим прокалывающий</td>\n      <td>9</td>\n      <td>58</td>\n      <td>2055</td>\n      <td>134</td>\n      <td>11</td>\n      <td>0.0</td>\n      <td>0.0</td>\n      <td>2</td>\n    </tr>\n    <tr>\n      <th>85494</th>\n      <td>CNA ______G28</td>\n      <td>Зажим аппаратный</td>\n      <td>9</td>\n      <td>58</td>\n      <td>1043</td>\n      <td>268</td>\n      <td>11</td>\n      <td>0.0</td>\n      <td>0.0</td>\n      <td>2</td>\n    </tr>\n    <tr>\n      <th>2378</th>\n      <td>010790</td>\n      <td>Угол плоский 90° - для односекционных кабель-к...</td>\n      <td>15</td>\n      <td>20190823</td>\n      <td>0</td>\n      <td>0</td>\n      <td>0</td>\n      <td>0.0</td>\n      <td>0.0</td>\n      <td>0</td>\n    </tr>\n    <tr>\n      <th>46234</th>\n      <td>LT 650 R3 FS</td>\n      <td>Т-образная секция</td>\n      <td>15</td>\n      <td>20190823</td>\n      <td>0</td>\n      <td>0</td>\n      <td>0</td>\n      <td>0.0</td>\n      <td>0.0</td>\n      <td>0</td>\n    </tr>\n    <tr>\n      <th>44329</th>\n      <td>LC8660INOX</td>\n      <td>Угол горизонтальный 90º 80x600 R-600, нержавеющий</td>\n      <td>15</td>\n      <td>20190823</td>\n      <td>0</td>\n      <td>0</td>\n      <td>0</td>\n      <td>0.0</td>\n      <td>0.0</td>\n      <td>0</td>\n    </tr>\n    <tr>\n      <th>30773</th>\n      <td>CLP1K-400-3</td>\n      <td>Крышка на лоток осн. 400мм IEK</td>\n      <td>17</td>\n      <td>101</td>\n      <td>0</td>\n      <td>0</td>\n      <td>0</td>\n      <td>0.0</td>\n      <td>0.0</td>\n      <td>0</td>\n    </tr>\n    <tr>\n      <th>35955</th>\n      <td>DP1201</td>\n      <td>Плита из минерал. волокна с огнестойким покрыт...</td>\n      <td>15</td>\n      <td>20190823</td>\n      <td>0</td>\n      <td>0</td>\n      <td>0</td>\n      <td>0.0</td>\n      <td>0.0</td>\n      <td>0</td>\n    </tr>\n    <tr>\n      <th>70004</th>\n      <td>КВХ-ГДР 1.25кВт/2,5м</td>\n      <td>Электронагреватель стрелочный стержневой КВХ-Г...</td>\n      <td>17</td>\n      <td>20180531</td>\n      <td>0</td>\n      <td>0</td>\n      <td>0</td>\n      <td>0.0</td>\n      <td>0.0</td>\n      <td>0</td>\n    </tr>\n    <tr>\n      <th>52293</th>\n      <td>rel-4312-120-150</td>\n      <td>Реле тепловое РТЭ-4312 120-150А EKF PROxima</td>\n      <td>17</td>\n      <td>20190823</td>\n      <td>0</td>\n      <td>0</td>\n      <td>0</td>\n      <td>0.0</td>\n      <td>0.0</td>\n      <td>0</td>\n    </tr>\n    <tr>\n      <th>80116</th>\n      <td>ЩМП-1-1-395х310х150-IP54-УХЛ2</td>\n      <td>ЩМП Корпуса щитов с монтажной панелью металлич...</td>\n      <td>15</td>\n      <td>20200217</td>\n      <td>0</td>\n      <td>0</td>\n      <td>0</td>\n      <td>0.0</td>\n      <td>0.0</td>\n      <td>0</td>\n    </tr>\n  </tbody>\n</table>\n</div>"
     },
     "execution_count": 69,
     "metadata": {},
     "output_type": "execute_result"
    }
   ],
   "source": [
    "request = df.loc[np.random.randint(df.shape[0], size=10)]\n",
    "request"
   ],
   "metadata": {
    "collapsed": false,
    "ExecuteTime": {
     "end_time": "2023-09-05T12:05:25.492040600Z",
     "start_time": "2023-09-05T12:05:25.476417800Z"
    }
   }
  },
  {
   "cell_type": "code",
   "execution_count": 70,
   "outputs": [
    {
     "data": {
      "text/plain": "                                   Id_x  \\\n40922                        gv2p05-pro   \n40923                        gv2p06-pro   \n40924                        gv2p07-pro   \n50264     OWP/R 418 /595/ IP54/IP54 HFR   \n50263     OWP/R 418 /595/ IP54/IP54 HFD   \n50260  OWP/R 414 /595/ IP54/IP54 HF mat   \n67975     Гайка М10, ГОСТ ISO 4032-2014   \n67990  Гайка М30, DIN934 (ГОСТ 5915-70)   \n81679                           PA2870P   \n81685                          PA28120P   \n81680                           PSI15CC   \n35480                   DFAA 600 VA4571   \n35499                     DFAAM 200 V4A   \n85496      EUETH TpPC 12 50-120 1200 CM   \n18660                            421018   \n43401                     KRNEMOHDLE142   \n85491                           AZC 090   \n45743                LLK2P2-100-400-HDZ   \n45729                LLK2P2-080-200-HDZ   \n45731                LLK2P2-080-300-HDZ   \n45730                    LLK2P2-080-300   \n85493                             CF 20   \n85492                       BS 35-50 MB   \n80252      ЩРн-54-540х440х120-IP31-УХЛ3   \n80254      ЩРн-72-540х600х120-IP31-УХЛ3   \n\n                                                    Name  HeadingId  \\\n40922  Автомат пуска двигателя GV2P  0,63-1,0 А EKF P...         17   \n40923  Автомат пуска двигателя GV2P  1,0-1,6 А EKF PR...         17   \n40924  Автомат пуска двигателя GV2P  1,6-2,5 А EKF PR...         17   \n50264  Встраиваемый диммируемый светильник с люминице...         17   \n50263  Встраиваемый диммируемый светильник с люминице...         17   \n50260  Встраиваемый светильник с люминицентными лампа...         17   \n67975        Гайка шестигранная нормальная с резьбой М10         15   \n67990                    Гайка шестигранная оцинкованная         15   \n81679                                     Зажим натяжной          9   \n81685                                     Зажим натяжной          9   \n81680                                  Изолятор натяжной          9   \n35480                Крышка T-образного соединения 600мм         15   \n35499   Крышка Т-образного / крестового соединения 200мм         15   \n85496  Кінцева термоусаджувальна муфта EUETH TpPC зов...          9   \n18660  Минимальный расцепитель напряжения - 12 В~/= -...         17   \n43401      Мультиметр щитовой с катушками Роговски 142мм         17   \n85491                               Обмежувач перенапруг          9   \n45743  Поворот лестничный на 90 гр. 100х400 R300 HDZ IEK         17   \n45729   Поворот лестничный на 90 гр. 80х200 R300 HDZ IEK         17   \n45731   Поворот лестничный на 90 гр. 80х300 R300 HDZ IEK         17   \n45730       Поворот лестничный на 90 гр. 80х300 R300 IEK         17   \n85493                                             Скрепа          9   \n85492                               Утримувач для кабелю          9   \n80252   ЩРн(в) Корпуса щитов распределения металлические         15   \n80254   ЩРн(в) Корпуса щитов распределения металлические         15   \n\n       CategoryId  StructureId  StandardProjectId  TypeId  Diameter  \\\n40922    20190823            0                  0       0       0.0   \n40923    20190823            0                  0       0       0.0   \n40924    20190823            0                  0       0       0.0   \n50264    20190406            0                  0       0       0.0   \n50263    20190609            0                  0       0       0.0   \n50260    20190406            0                  0       0       0.0   \n67975    20210505            0                  0       0       0.0   \n67990    20210505            0                  0       0       0.0   \n81679          58         2055                134      11       0.0   \n81685          58         2055                134      11       0.0   \n81680          58         2055                134      11       0.0   \n35480    20190823            0                  0       0       0.0   \n35499    20190823            0                  0       0       0.0   \n85496          58         1043                268      11       0.0   \n18660    20190823            0                  0       0       0.0   \n43401    20190823            0                  0       0       0.0   \n85491          58         1043                268      11       0.0   \n45743         101            0                  0       0       0.0   \n45729         101            0                  0       0       0.0   \n45731         101            0                  0       0       0.0   \n45730         101            0                  0       0       0.0   \n85493          58         1043                268      11       0.0   \n85492          58         1043                268      11       0.0   \n80252    20200217            0                  0       0       0.0   \n80254    20200217            0                  0       0       0.0   \n\n       CrossSection  ImageIndex  distance  \n40922           0.0           0       0.0  \n40923           0.0           0       0.0  \n40924           0.0           0       0.0  \n50264           0.0           0       0.0  \n50263           0.0           0       0.0  \n50260           0.0           0       0.0  \n67975           0.0           0       0.0  \n67990           0.0           0       0.0  \n81679           0.0           2       0.0  \n81685           0.0           2       0.0  \n81680           0.0           2       0.0  \n35480           0.0           0       0.0  \n35499           0.0           0       0.0  \n85496           0.0           2       0.0  \n18660           0.0           0       0.0  \n43401           0.0           0       0.0  \n85491           0.0           2       0.0  \n45743           0.0           0       0.0  \n45729           0.0           0       0.0  \n45731           0.0           0       0.0  \n45730           0.0           0       0.0  \n85493           0.0           2       0.0  \n85492           0.0           2       0.0  \n80252           0.0           0       0.0  \n80254           0.0           0       0.0  ",
      "text/html": "<div>\n<style scoped>\n    .dataframe tbody tr th:only-of-type {\n        vertical-align: middle;\n    }\n\n    .dataframe tbody tr th {\n        vertical-align: top;\n    }\n\n    .dataframe thead th {\n        text-align: right;\n    }\n</style>\n<table border=\"1\" class=\"dataframe\">\n  <thead>\n    <tr style=\"text-align: right;\">\n      <th></th>\n      <th>Id_x</th>\n      <th>Name</th>\n      <th>HeadingId</th>\n      <th>CategoryId</th>\n      <th>StructureId</th>\n      <th>StandardProjectId</th>\n      <th>TypeId</th>\n      <th>Diameter</th>\n      <th>CrossSection</th>\n      <th>ImageIndex</th>\n      <th>distance</th>\n    </tr>\n  </thead>\n  <tbody>\n    <tr>\n      <th>40922</th>\n      <td>gv2p05-pro</td>\n      <td>Автомат пуска двигателя GV2P  0,63-1,0 А EKF P...</td>\n      <td>17</td>\n      <td>20190823</td>\n      <td>0</td>\n      <td>0</td>\n      <td>0</td>\n      <td>0.0</td>\n      <td>0.0</td>\n      <td>0</td>\n      <td>0.0</td>\n    </tr>\n    <tr>\n      <th>40923</th>\n      <td>gv2p06-pro</td>\n      <td>Автомат пуска двигателя GV2P  1,0-1,6 А EKF PR...</td>\n      <td>17</td>\n      <td>20190823</td>\n      <td>0</td>\n      <td>0</td>\n      <td>0</td>\n      <td>0.0</td>\n      <td>0.0</td>\n      <td>0</td>\n      <td>0.0</td>\n    </tr>\n    <tr>\n      <th>40924</th>\n      <td>gv2p07-pro</td>\n      <td>Автомат пуска двигателя GV2P  1,6-2,5 А EKF PR...</td>\n      <td>17</td>\n      <td>20190823</td>\n      <td>0</td>\n      <td>0</td>\n      <td>0</td>\n      <td>0.0</td>\n      <td>0.0</td>\n      <td>0</td>\n      <td>0.0</td>\n    </tr>\n    <tr>\n      <th>50264</th>\n      <td>OWP/R 418 /595/ IP54/IP54 HFR</td>\n      <td>Встраиваемый диммируемый светильник с люминице...</td>\n      <td>17</td>\n      <td>20190406</td>\n      <td>0</td>\n      <td>0</td>\n      <td>0</td>\n      <td>0.0</td>\n      <td>0.0</td>\n      <td>0</td>\n      <td>0.0</td>\n    </tr>\n    <tr>\n      <th>50263</th>\n      <td>OWP/R 418 /595/ IP54/IP54 HFD</td>\n      <td>Встраиваемый диммируемый светильник с люминице...</td>\n      <td>17</td>\n      <td>20190609</td>\n      <td>0</td>\n      <td>0</td>\n      <td>0</td>\n      <td>0.0</td>\n      <td>0.0</td>\n      <td>0</td>\n      <td>0.0</td>\n    </tr>\n    <tr>\n      <th>50260</th>\n      <td>OWP/R 414 /595/ IP54/IP54 HF mat</td>\n      <td>Встраиваемый светильник с люминицентными лампа...</td>\n      <td>17</td>\n      <td>20190406</td>\n      <td>0</td>\n      <td>0</td>\n      <td>0</td>\n      <td>0.0</td>\n      <td>0.0</td>\n      <td>0</td>\n      <td>0.0</td>\n    </tr>\n    <tr>\n      <th>67975</th>\n      <td>Гайка М10, ГОСТ ISO 4032-2014</td>\n      <td>Гайка шестигранная нормальная с резьбой М10</td>\n      <td>15</td>\n      <td>20210505</td>\n      <td>0</td>\n      <td>0</td>\n      <td>0</td>\n      <td>0.0</td>\n      <td>0.0</td>\n      <td>0</td>\n      <td>0.0</td>\n    </tr>\n    <tr>\n      <th>67990</th>\n      <td>Гайка М30, DIN934 (ГОСТ 5915-70)</td>\n      <td>Гайка шестигранная оцинкованная</td>\n      <td>15</td>\n      <td>20210505</td>\n      <td>0</td>\n      <td>0</td>\n      <td>0</td>\n      <td>0.0</td>\n      <td>0.0</td>\n      <td>0</td>\n      <td>0.0</td>\n    </tr>\n    <tr>\n      <th>81679</th>\n      <td>PA2870P</td>\n      <td>Зажим натяжной</td>\n      <td>9</td>\n      <td>58</td>\n      <td>2055</td>\n      <td>134</td>\n      <td>11</td>\n      <td>0.0</td>\n      <td>0.0</td>\n      <td>2</td>\n      <td>0.0</td>\n    </tr>\n    <tr>\n      <th>81685</th>\n      <td>PA28120P</td>\n      <td>Зажим натяжной</td>\n      <td>9</td>\n      <td>58</td>\n      <td>2055</td>\n      <td>134</td>\n      <td>11</td>\n      <td>0.0</td>\n      <td>0.0</td>\n      <td>2</td>\n      <td>0.0</td>\n    </tr>\n    <tr>\n      <th>81680</th>\n      <td>PSI15CC</td>\n      <td>Изолятор натяжной</td>\n      <td>9</td>\n      <td>58</td>\n      <td>2055</td>\n      <td>134</td>\n      <td>11</td>\n      <td>0.0</td>\n      <td>0.0</td>\n      <td>2</td>\n      <td>0.0</td>\n    </tr>\n    <tr>\n      <th>35480</th>\n      <td>DFAA 600 VA4571</td>\n      <td>Крышка T-образного соединения 600мм</td>\n      <td>15</td>\n      <td>20190823</td>\n      <td>0</td>\n      <td>0</td>\n      <td>0</td>\n      <td>0.0</td>\n      <td>0.0</td>\n      <td>0</td>\n      <td>0.0</td>\n    </tr>\n    <tr>\n      <th>35499</th>\n      <td>DFAAM 200 V4A</td>\n      <td>Крышка Т-образного / крестового соединения 200мм</td>\n      <td>15</td>\n      <td>20190823</td>\n      <td>0</td>\n      <td>0</td>\n      <td>0</td>\n      <td>0.0</td>\n      <td>0.0</td>\n      <td>0</td>\n      <td>0.0</td>\n    </tr>\n    <tr>\n      <th>85496</th>\n      <td>EUETH TpPC 12 50-120 1200 CM</td>\n      <td>Кінцева термоусаджувальна муфта EUETH TpPC зов...</td>\n      <td>9</td>\n      <td>58</td>\n      <td>1043</td>\n      <td>268</td>\n      <td>11</td>\n      <td>0.0</td>\n      <td>0.0</td>\n      <td>2</td>\n      <td>0.0</td>\n    </tr>\n    <tr>\n      <th>18660</th>\n      <td>421018</td>\n      <td>Минимальный расцепитель напряжения - 12 В~/= -...</td>\n      <td>17</td>\n      <td>20190823</td>\n      <td>0</td>\n      <td>0</td>\n      <td>0</td>\n      <td>0.0</td>\n      <td>0.0</td>\n      <td>0</td>\n      <td>0.0</td>\n    </tr>\n    <tr>\n      <th>43401</th>\n      <td>KRNEMOHDLE142</td>\n      <td>Мультиметр щитовой с катушками Роговски 142мм</td>\n      <td>17</td>\n      <td>20190823</td>\n      <td>0</td>\n      <td>0</td>\n      <td>0</td>\n      <td>0.0</td>\n      <td>0.0</td>\n      <td>0</td>\n      <td>0.0</td>\n    </tr>\n    <tr>\n      <th>85491</th>\n      <td>AZC 090</td>\n      <td>Обмежувач перенапруг</td>\n      <td>9</td>\n      <td>58</td>\n      <td>1043</td>\n      <td>268</td>\n      <td>11</td>\n      <td>0.0</td>\n      <td>0.0</td>\n      <td>2</td>\n      <td>0.0</td>\n    </tr>\n    <tr>\n      <th>45743</th>\n      <td>LLK2P2-100-400-HDZ</td>\n      <td>Поворот лестничный на 90 гр. 100х400 R300 HDZ IEK</td>\n      <td>17</td>\n      <td>101</td>\n      <td>0</td>\n      <td>0</td>\n      <td>0</td>\n      <td>0.0</td>\n      <td>0.0</td>\n      <td>0</td>\n      <td>0.0</td>\n    </tr>\n    <tr>\n      <th>45729</th>\n      <td>LLK2P2-080-200-HDZ</td>\n      <td>Поворот лестничный на 90 гр. 80х200 R300 HDZ IEK</td>\n      <td>17</td>\n      <td>101</td>\n      <td>0</td>\n      <td>0</td>\n      <td>0</td>\n      <td>0.0</td>\n      <td>0.0</td>\n      <td>0</td>\n      <td>0.0</td>\n    </tr>\n    <tr>\n      <th>45731</th>\n      <td>LLK2P2-080-300-HDZ</td>\n      <td>Поворот лестничный на 90 гр. 80х300 R300 HDZ IEK</td>\n      <td>17</td>\n      <td>101</td>\n      <td>0</td>\n      <td>0</td>\n      <td>0</td>\n      <td>0.0</td>\n      <td>0.0</td>\n      <td>0</td>\n      <td>0.0</td>\n    </tr>\n    <tr>\n      <th>45730</th>\n      <td>LLK2P2-080-300</td>\n      <td>Поворот лестничный на 90 гр. 80х300 R300 IEK</td>\n      <td>17</td>\n      <td>101</td>\n      <td>0</td>\n      <td>0</td>\n      <td>0</td>\n      <td>0.0</td>\n      <td>0.0</td>\n      <td>0</td>\n      <td>0.0</td>\n    </tr>\n    <tr>\n      <th>85493</th>\n      <td>CF 20</td>\n      <td>Скрепа</td>\n      <td>9</td>\n      <td>58</td>\n      <td>1043</td>\n      <td>268</td>\n      <td>11</td>\n      <td>0.0</td>\n      <td>0.0</td>\n      <td>2</td>\n      <td>0.0</td>\n    </tr>\n    <tr>\n      <th>85492</th>\n      <td>BS 35-50 MB</td>\n      <td>Утримувач для кабелю</td>\n      <td>9</td>\n      <td>58</td>\n      <td>1043</td>\n      <td>268</td>\n      <td>11</td>\n      <td>0.0</td>\n      <td>0.0</td>\n      <td>2</td>\n      <td>0.0</td>\n    </tr>\n    <tr>\n      <th>80252</th>\n      <td>ЩРн-54-540х440х120-IP31-УХЛ3</td>\n      <td>ЩРн(в) Корпуса щитов распределения металлические</td>\n      <td>15</td>\n      <td>20200217</td>\n      <td>0</td>\n      <td>0</td>\n      <td>0</td>\n      <td>0.0</td>\n      <td>0.0</td>\n      <td>0</td>\n      <td>0.0</td>\n    </tr>\n    <tr>\n      <th>80254</th>\n      <td>ЩРн-72-540х600х120-IP31-УХЛ3</td>\n      <td>ЩРн(в) Корпуса щитов распределения металлические</td>\n      <td>15</td>\n      <td>20200217</td>\n      <td>0</td>\n      <td>0</td>\n      <td>0</td>\n      <td>0.0</td>\n      <td>0.0</td>\n      <td>0</td>\n      <td>0.0</td>\n    </tr>\n  </tbody>\n</table>\n</div>"
     },
     "execution_count": 70,
     "metadata": {},
     "output_type": "execute_result"
    }
   ],
   "source": [
    "results = pd.DataFrame()\n",
    "for _ in range(request.shape[0]):\n",
    "    element = request.iloc[_].to_frame().T.drop(columns=['Id_x', 'Name'])\n",
    "    answer = model.kneighbors(element)\n",
    "    result = df.loc[answer[1][0]]\n",
    "    result['distance'] = answer[0][0]\n",
    "    result = result[~result['Id_x'].isin(request['Id_x'])]\n",
    "    result = result.drop_duplicates(subset=['Id_x'])\n",
    "    result = result[:int(np.ceil(25 / request.shape[0] + 1))]\n",
    "    results = pd.concat([results, result], axis=0)\n",
    "\n",
    "results = results.drop_duplicates(subset=['Id_x']).sort_values(by='distance').head(25).sort_values(by='Name')\n",
    "results"
   ],
   "metadata": {
    "collapsed": false,
    "ExecuteTime": {
     "end_time": "2023-09-05T12:05:27.387514700Z",
     "start_time": "2023-09-05T12:05:27.214407600Z"
    }
   }
  }
 ],
 "metadata": {
  "kernelspec": {
   "display_name": "Python 3",
   "language": "python",
   "name": "python3"
  },
  "language_info": {
   "codemirror_mode": {
    "name": "ipython",
    "version": 2
   },
   "file_extension": ".py",
   "mimetype": "text/x-python",
   "name": "python",
   "nbconvert_exporter": "python",
   "pygments_lexer": "ipython2",
   "version": "2.7.6"
  }
 },
 "nbformat": 4,
 "nbformat_minor": 0
}
