{
 "cells": [
  {
   "cell_type": "raw",
   "source": [],
   "metadata": {
    "collapsed": false
   }
  },
  {
   "cell_type": "code",
   "execution_count": 10,
   "outputs": [],
   "source": [
    "import joblib\n",
    "import pandas as pd\n",
    "import numpy as np\n",
    "import sqlite3\n",
    "\n",
    "from sklearn.preprocessing import LabelEncoder\n",
    "from sklearn.neighbors import NearestNeighbors"
   ],
   "metadata": {
    "collapsed": false,
    "ExecuteTime": {
     "end_time": "2023-09-05T15:30:18.039448200Z",
     "start_time": "2023-09-05T15:30:18.031308100Z"
    }
   }
  },
  {
   "cell_type": "code",
   "execution_count": 11,
   "outputs": [],
   "source": [
    "conn = sqlite3.connect('../database.db')"
   ],
   "metadata": {
    "collapsed": false,
    "ExecuteTime": {
     "end_time": "2023-09-05T15:30:18.361958500Z",
     "start_time": "2023-09-05T15:30:18.337303500Z"
    }
   }
  },
  {
   "cell_type": "code",
   "execution_count": 12,
   "outputs": [],
   "source": [
    "data_Parts = pd.read_sql(\"select Id, Name, HeadingId, CategoryId from Parts;\", con=conn)\n",
    "data_StructuresParts = pd.read_sql(\"select StructureId, PartId from StructuresParts;\", con=conn)\n",
    "data_Structures = pd.read_sql(\"select Id, StandardProjectId, TypeId from Structures;\", con=conn)\n",
    "data_StandardProjects = pd.read_sql(\"select Id, ImageIndex from StandardProjects;\", con=conn)\n",
    "data_Conductors = pd.read_sql(\"select PartId, TypeId, Diameter, CrossSection from Conductors;\", con=conn)"
   ],
   "metadata": {
    "collapsed": false,
    "ExecuteTime": {
     "end_time": "2023-09-05T15:30:19.164290500Z",
     "start_time": "2023-09-05T15:30:18.625334200Z"
    }
   }
  },
  {
   "cell_type": "code",
   "execution_count": 13,
   "outputs": [],
   "source": [
    "df = data_Parts.merge(data_StructuresParts, left_on='Id', right_on='PartId', how='outer').drop('PartId', axis=1)\n",
    "df = df.merge(data_Structures, left_on='StructureId', right_on='Id', how='outer').drop('Id_y', axis=1)\n",
    "data_Conductors.rename(columns={'PartId': 'Id_x'}, inplace=True)\n",
    "df = pd.concat([df, data_Conductors], axis=0)\n",
    "df = df.merge(data_StandardProjects, left_on='StandardProjectId', right_on='Id', how='left').drop('Id', axis=1)"
   ],
   "metadata": {
    "collapsed": false,
    "ExecuteTime": {
     "end_time": "2023-09-05T15:30:19.353310100Z",
     "start_time": "2023-09-05T15:30:19.182483800Z"
    }
   }
  },
  {
   "cell_type": "code",
   "execution_count": 14,
   "outputs": [
    {
     "data": {
      "text/plain": "                                         Id_x  \\\n0                               ___-12-2А G28   \n1                                  d10 (цинк)   \n2                                     PA2870P   \n3                                      PGA101   \n4                                     PLDT2 R   \n...                                       ...   \n132075                         ЦСБвШнг 3х95-6   \n132076                      Э-ДПС-06-08-Е4(3)   \n132077                            ЭВБВ 3х95-6   \n132078                 ЭСО-ДПС-06-20-Е4(тип3)   \n132079  СИПн-7 1х185-110, ТУ 16.К180-072-2019   \n\n                                               Name  HeadingId  CategoryId  \\\n0                                  Зажим аппаратный        9.0        58.0   \n1       Сталь круглая оцинкованная по ГОСТ 9.307-89       10.0        10.0   \n2                                    Зажим натяжной        9.0        58.0   \n3                                                          9.0        58.0   \n4               Вязка односторонняя диэлектрическая        9.0        58.0   \n...                                             ...        ...         ...   \n132075                                          NaN        NaN         NaN   \n132076                                          NaN        NaN         NaN   \n132077                                          NaN        NaN         NaN   \n132078                                          NaN        NaN         NaN   \n132079                                          NaN        NaN         NaN   \n\n                                   StructureId  StandardProjectId     TypeId  \\\n0       К10/0,38-1/0 (1хСК120-6)-3_(50-70 мм²)              132.0  support10   \n1       К10/0,38-1/0 (1хСК120-6)-3_(50-70 мм²)              132.0  support10   \n2       К10/0,38-1/0 (1хСК120-6)-3_(50-70 мм²)              132.0  support10   \n3       К10/0,38-1/0 (1хСК120-6)-3_(50-70 мм²)              132.0  support10   \n4       К10/0,38-1/0 (1хСК120-6)-3_(50-70 мм²)              132.0  support10   \n...                                        ...                ...        ...   \n132075                                     NaN                NaN    cabel10   \n132076                                     NaN                NaN  commCable   \n132077                                     NaN                NaN    cabel10   \n132078                                     NaN                NaN  commCable   \n132079                                     NaN                NaN  OHLwire35   \n\n        Diameter  CrossSection  ImageIndex  \n0            NaN           NaN         1.0  \n1            NaN           NaN         1.0  \n2            NaN           NaN         1.0  \n3            NaN           NaN         1.0  \n4            NaN           NaN         1.0  \n...          ...           ...         ...  \n132075       NaN           NaN         NaN  \n132076       NaN           NaN         NaN  \n132077       NaN           NaN         NaN  \n132078       NaN           NaN         NaN  \n132079    0.0308      0.000185         NaN  \n\n[132080 rows x 10 columns]",
      "text/html": "<div>\n<style scoped>\n    .dataframe tbody tr th:only-of-type {\n        vertical-align: middle;\n    }\n\n    .dataframe tbody tr th {\n        vertical-align: top;\n    }\n\n    .dataframe thead th {\n        text-align: right;\n    }\n</style>\n<table border=\"1\" class=\"dataframe\">\n  <thead>\n    <tr style=\"text-align: right;\">\n      <th></th>\n      <th>Id_x</th>\n      <th>Name</th>\n      <th>HeadingId</th>\n      <th>CategoryId</th>\n      <th>StructureId</th>\n      <th>StandardProjectId</th>\n      <th>TypeId</th>\n      <th>Diameter</th>\n      <th>CrossSection</th>\n      <th>ImageIndex</th>\n    </tr>\n  </thead>\n  <tbody>\n    <tr>\n      <th>0</th>\n      <td>___-12-2А G28</td>\n      <td>Зажим аппаратный</td>\n      <td>9.0</td>\n      <td>58.0</td>\n      <td>К10/0,38-1/0 (1хСК120-6)-3_(50-70 мм²)</td>\n      <td>132.0</td>\n      <td>support10</td>\n      <td>NaN</td>\n      <td>NaN</td>\n      <td>1.0</td>\n    </tr>\n    <tr>\n      <th>1</th>\n      <td>d10 (цинк)</td>\n      <td>Сталь круглая оцинкованная по ГОСТ 9.307-89</td>\n      <td>10.0</td>\n      <td>10.0</td>\n      <td>К10/0,38-1/0 (1хСК120-6)-3_(50-70 мм²)</td>\n      <td>132.0</td>\n      <td>support10</td>\n      <td>NaN</td>\n      <td>NaN</td>\n      <td>1.0</td>\n    </tr>\n    <tr>\n      <th>2</th>\n      <td>PA2870P</td>\n      <td>Зажим натяжной</td>\n      <td>9.0</td>\n      <td>58.0</td>\n      <td>К10/0,38-1/0 (1хСК120-6)-3_(50-70 мм²)</td>\n      <td>132.0</td>\n      <td>support10</td>\n      <td>NaN</td>\n      <td>NaN</td>\n      <td>1.0</td>\n    </tr>\n    <tr>\n      <th>3</th>\n      <td>PGA101</td>\n      <td></td>\n      <td>9.0</td>\n      <td>58.0</td>\n      <td>К10/0,38-1/0 (1хСК120-6)-3_(50-70 мм²)</td>\n      <td>132.0</td>\n      <td>support10</td>\n      <td>NaN</td>\n      <td>NaN</td>\n      <td>1.0</td>\n    </tr>\n    <tr>\n      <th>4</th>\n      <td>PLDT2 R</td>\n      <td>Вязка односторонняя диэлектрическая</td>\n      <td>9.0</td>\n      <td>58.0</td>\n      <td>К10/0,38-1/0 (1хСК120-6)-3_(50-70 мм²)</td>\n      <td>132.0</td>\n      <td>support10</td>\n      <td>NaN</td>\n      <td>NaN</td>\n      <td>1.0</td>\n    </tr>\n    <tr>\n      <th>...</th>\n      <td>...</td>\n      <td>...</td>\n      <td>...</td>\n      <td>...</td>\n      <td>...</td>\n      <td>...</td>\n      <td>...</td>\n      <td>...</td>\n      <td>...</td>\n      <td>...</td>\n    </tr>\n    <tr>\n      <th>132075</th>\n      <td>ЦСБвШнг 3х95-6</td>\n      <td>NaN</td>\n      <td>NaN</td>\n      <td>NaN</td>\n      <td>NaN</td>\n      <td>NaN</td>\n      <td>cabel10</td>\n      <td>NaN</td>\n      <td>NaN</td>\n      <td>NaN</td>\n    </tr>\n    <tr>\n      <th>132076</th>\n      <td>Э-ДПС-06-08-Е4(3)</td>\n      <td>NaN</td>\n      <td>NaN</td>\n      <td>NaN</td>\n      <td>NaN</td>\n      <td>NaN</td>\n      <td>commCable</td>\n      <td>NaN</td>\n      <td>NaN</td>\n      <td>NaN</td>\n    </tr>\n    <tr>\n      <th>132077</th>\n      <td>ЭВБВ 3х95-6</td>\n      <td>NaN</td>\n      <td>NaN</td>\n      <td>NaN</td>\n      <td>NaN</td>\n      <td>NaN</td>\n      <td>cabel10</td>\n      <td>NaN</td>\n      <td>NaN</td>\n      <td>NaN</td>\n    </tr>\n    <tr>\n      <th>132078</th>\n      <td>ЭСО-ДПС-06-20-Е4(тип3)</td>\n      <td>NaN</td>\n      <td>NaN</td>\n      <td>NaN</td>\n      <td>NaN</td>\n      <td>NaN</td>\n      <td>commCable</td>\n      <td>NaN</td>\n      <td>NaN</td>\n      <td>NaN</td>\n    </tr>\n    <tr>\n      <th>132079</th>\n      <td>СИПн-7 1х185-110, ТУ 16.К180-072-2019</td>\n      <td>NaN</td>\n      <td>NaN</td>\n      <td>NaN</td>\n      <td>NaN</td>\n      <td>NaN</td>\n      <td>OHLwire35</td>\n      <td>0.0308</td>\n      <td>0.000185</td>\n      <td>NaN</td>\n    </tr>\n  </tbody>\n</table>\n<p>132080 rows × 10 columns</p>\n</div>"
     },
     "execution_count": 14,
     "metadata": {},
     "output_type": "execute_result"
    }
   ],
   "source": [
    "df"
   ],
   "metadata": {
    "collapsed": false,
    "ExecuteTime": {
     "end_time": "2023-09-05T15:30:19.708730700Z",
     "start_time": "2023-09-05T15:30:19.679260300Z"
    }
   }
  },
  {
   "cell_type": "code",
   "execution_count": 15,
   "outputs": [],
   "source": [
    "df['StructureId'] = df['StructureId'].str.split('_').str[0]\n",
    "df['ImageIndex'] = df['ImageIndex'] + 1"
   ],
   "metadata": {
    "collapsed": false,
    "ExecuteTime": {
     "end_time": "2023-09-05T15:30:20.734079700Z",
     "start_time": "2023-09-05T15:30:20.578495Z"
    }
   }
  },
  {
   "cell_type": "code",
   "execution_count": 16,
   "outputs": [],
   "source": [
    "# Instantiate LabelEncoders\n",
    "encoder_strId = LabelEncoder()\n",
    "encoder_typeId = LabelEncoder()\n",
    "\n",
    "# Fill missing values in StructureId with \"missing\" placeholder,\n",
    "# For later decoding\n",
    "df.StructureId = df.StructureId.fillna('missing')\n",
    "\n",
    "# Encoding\n",
    "df['StructureId'] = encoder_strId.fit_transform(df['StructureId'])\n",
    "df['TypeId'] = encoder_typeId.fit_transform(df['TypeId'])\n",
    "\n",
    "# Fill all other missing values with 0\n",
    "df['Name'] = df['Name'].fillna('missing')\n",
    "df = df.fillna('0')\n",
    "\n",
    "# Drop full duplicates\n",
    "df = df.drop_duplicates().reset_index(drop=True)"
   ],
   "metadata": {
    "collapsed": false,
    "ExecuteTime": {
     "end_time": "2023-09-05T15:30:23.919468400Z",
     "start_time": "2023-09-05T15:30:23.660246300Z"
    }
   }
  },
  {
   "cell_type": "code",
   "execution_count": 8,
   "outputs": [
    {
     "data": {
      "text/plain": "                                         Id_x  \\\n0                               ___-12-2А G28   \n1                                  d10 (цинк)   \n2                                     PA2870P   \n3                                      PGA101   \n4                                     PLDT2 R   \n...                                       ...   \n115768                         ЦСБвШнг 3х95-6   \n115769                      Э-ДПС-06-08-Е4(3)   \n115770                            ЭВБВ 3х95-6   \n115771                 ЭСО-ДПС-06-20-Е4(тип3)   \n115772  СИПн-7 1х185-110, ТУ 16.К180-072-2019   \n\n                                               Name  HeadingId  CategoryId  \\\n0                                  Зажим аппаратный        9.0        58.0   \n1       Сталь круглая оцинкованная по ГОСТ 9.307-89       10.0        10.0   \n2                                    Зажим натяжной        9.0        58.0   \n3                                                          9.0        58.0   \n4               Вязка односторонняя диэлектрическая        9.0        58.0   \n...                                             ...        ...         ...   \n115768                                            0        0.0         0.0   \n115769                                            0        0.0         0.0   \n115770                                            0        0.0         0.0   \n115771                                            0        0.0         0.0   \n115772                                            0        0.0         0.0   \n\n        StructureId  StandardProjectId  TypeId  Diameter  CrossSection  \\\n0               746              132.0      15    0.0000      0.000000   \n1               746              132.0      15    0.0000      0.000000   \n2               746              132.0      15    0.0000      0.000000   \n3               746              132.0      15    0.0000      0.000000   \n4               746              132.0      15    0.0000      0.000000   \n...             ...                ...     ...       ...           ...   \n115768           52                0.0       5    0.0000      0.000000   \n115769           52                0.0       6    0.0000      0.000000   \n115770           52                0.0       5    0.0000      0.000000   \n115771           52                0.0       6    0.0000      0.000000   \n115772           52                0.0       2    0.0308      0.000185   \n\n        ImageIndex  \n0              2.0  \n1              2.0  \n2              2.0  \n3              2.0  \n4              2.0  \n...            ...  \n115768         0.0  \n115769         0.0  \n115770         0.0  \n115771         0.0  \n115772         0.0  \n\n[115773 rows x 10 columns]",
      "text/html": "<div>\n<style scoped>\n    .dataframe tbody tr th:only-of-type {\n        vertical-align: middle;\n    }\n\n    .dataframe tbody tr th {\n        vertical-align: top;\n    }\n\n    .dataframe thead th {\n        text-align: right;\n    }\n</style>\n<table border=\"1\" class=\"dataframe\">\n  <thead>\n    <tr style=\"text-align: right;\">\n      <th></th>\n      <th>Id_x</th>\n      <th>Name</th>\n      <th>HeadingId</th>\n      <th>CategoryId</th>\n      <th>StructureId</th>\n      <th>StandardProjectId</th>\n      <th>TypeId</th>\n      <th>Diameter</th>\n      <th>CrossSection</th>\n      <th>ImageIndex</th>\n    </tr>\n  </thead>\n  <tbody>\n    <tr>\n      <th>0</th>\n      <td>___-12-2А G28</td>\n      <td>Зажим аппаратный</td>\n      <td>9.0</td>\n      <td>58.0</td>\n      <td>746</td>\n      <td>132.0</td>\n      <td>15</td>\n      <td>0.0000</td>\n      <td>0.000000</td>\n      <td>2.0</td>\n    </tr>\n    <tr>\n      <th>1</th>\n      <td>d10 (цинк)</td>\n      <td>Сталь круглая оцинкованная по ГОСТ 9.307-89</td>\n      <td>10.0</td>\n      <td>10.0</td>\n      <td>746</td>\n      <td>132.0</td>\n      <td>15</td>\n      <td>0.0000</td>\n      <td>0.000000</td>\n      <td>2.0</td>\n    </tr>\n    <tr>\n      <th>2</th>\n      <td>PA2870P</td>\n      <td>Зажим натяжной</td>\n      <td>9.0</td>\n      <td>58.0</td>\n      <td>746</td>\n      <td>132.0</td>\n      <td>15</td>\n      <td>0.0000</td>\n      <td>0.000000</td>\n      <td>2.0</td>\n    </tr>\n    <tr>\n      <th>3</th>\n      <td>PGA101</td>\n      <td></td>\n      <td>9.0</td>\n      <td>58.0</td>\n      <td>746</td>\n      <td>132.0</td>\n      <td>15</td>\n      <td>0.0000</td>\n      <td>0.000000</td>\n      <td>2.0</td>\n    </tr>\n    <tr>\n      <th>4</th>\n      <td>PLDT2 R</td>\n      <td>Вязка односторонняя диэлектрическая</td>\n      <td>9.0</td>\n      <td>58.0</td>\n      <td>746</td>\n      <td>132.0</td>\n      <td>15</td>\n      <td>0.0000</td>\n      <td>0.000000</td>\n      <td>2.0</td>\n    </tr>\n    <tr>\n      <th>...</th>\n      <td>...</td>\n      <td>...</td>\n      <td>...</td>\n      <td>...</td>\n      <td>...</td>\n      <td>...</td>\n      <td>...</td>\n      <td>...</td>\n      <td>...</td>\n      <td>...</td>\n    </tr>\n    <tr>\n      <th>115768</th>\n      <td>ЦСБвШнг 3х95-6</td>\n      <td>0</td>\n      <td>0.0</td>\n      <td>0.0</td>\n      <td>52</td>\n      <td>0.0</td>\n      <td>5</td>\n      <td>0.0000</td>\n      <td>0.000000</td>\n      <td>0.0</td>\n    </tr>\n    <tr>\n      <th>115769</th>\n      <td>Э-ДПС-06-08-Е4(3)</td>\n      <td>0</td>\n      <td>0.0</td>\n      <td>0.0</td>\n      <td>52</td>\n      <td>0.0</td>\n      <td>6</td>\n      <td>0.0000</td>\n      <td>0.000000</td>\n      <td>0.0</td>\n    </tr>\n    <tr>\n      <th>115770</th>\n      <td>ЭВБВ 3х95-6</td>\n      <td>0</td>\n      <td>0.0</td>\n      <td>0.0</td>\n      <td>52</td>\n      <td>0.0</td>\n      <td>5</td>\n      <td>0.0000</td>\n      <td>0.000000</td>\n      <td>0.0</td>\n    </tr>\n    <tr>\n      <th>115771</th>\n      <td>ЭСО-ДПС-06-20-Е4(тип3)</td>\n      <td>0</td>\n      <td>0.0</td>\n      <td>0.0</td>\n      <td>52</td>\n      <td>0.0</td>\n      <td>6</td>\n      <td>0.0000</td>\n      <td>0.000000</td>\n      <td>0.0</td>\n    </tr>\n    <tr>\n      <th>115772</th>\n      <td>СИПн-7 1х185-110, ТУ 16.К180-072-2019</td>\n      <td>0</td>\n      <td>0.0</td>\n      <td>0.0</td>\n      <td>52</td>\n      <td>0.0</td>\n      <td>2</td>\n      <td>0.0308</td>\n      <td>0.000185</td>\n      <td>0.0</td>\n    </tr>\n  </tbody>\n</table>\n<p>115773 rows × 10 columns</p>\n</div>"
     },
     "execution_count": 8,
     "metadata": {},
     "output_type": "execute_result"
    }
   ],
   "source": [
    "df"
   ],
   "metadata": {
    "collapsed": false,
    "ExecuteTime": {
     "end_time": "2023-09-05T07:22:57.421547800Z",
     "start_time": "2023-09-05T07:22:57.397953800Z"
    }
   }
  },
  {
   "cell_type": "markdown",
   "source": [
    "### Dump Data"
   ],
   "metadata": {
    "collapsed": false
   },
   "outputs": []
  },
  {
   "cell_type": "code",
   "execution_count": 9,
   "outputs": [
    {
     "data": {
      "text/plain": "['decoder_strId_040923']"
     },
     "execution_count": 9,
     "metadata": {},
     "output_type": "execute_result"
    }
   ],
   "source": [
    "# Save processed data\n",
    "df.to_csv(\"data_040923.csv\", index=False)\n",
    "\n",
    "# Save \"StructureId\" encoder for inverse transform\n",
    "joblib.dump(encoder_strId, \"decoder_strId_040923\")"
   ],
   "metadata": {
    "collapsed": false,
    "ExecuteTime": {
     "end_time": "2023-09-05T07:22:59.843934900Z",
     "start_time": "2023-09-05T07:22:59.449895200Z"
    }
   }
  },
  {
   "cell_type": "markdown",
   "source": [
    "## NearestNeighbors"
   ],
   "metadata": {
    "collapsed": false
   }
  },
  {
   "cell_type": "code",
   "execution_count": 18,
   "outputs": [],
   "source": [
    "n_neighbors = 35\n",
    "knn_model = NearestNeighbors(n_neighbors=n_neighbors, metric='cosine')"
   ],
   "metadata": {
    "collapsed": false,
    "ExecuteTime": {
     "end_time": "2023-09-05T15:32:47.344324200Z",
     "start_time": "2023-09-05T15:32:47.329129400Z"
    }
   }
  },
  {
   "cell_type": "code",
   "execution_count": 19,
   "outputs": [
    {
     "data": {
      "text/plain": "['knn_model']"
     },
     "execution_count": 19,
     "metadata": {},
     "output_type": "execute_result"
    }
   ],
   "source": [
    "knn_model.fit(df.drop(columns=['Id_x', 'Name'], axis=1))\n",
    "joblib.dump(knn_model, \"knn_model\")"
   ],
   "metadata": {
    "collapsed": false,
    "ExecuteTime": {
     "end_time": "2023-09-05T15:32:48.001384300Z",
     "start_time": "2023-09-05T15:32:47.921402200Z"
    }
   }
  }
 ],
 "metadata": {
  "kernelspec": {
   "display_name": "Python 3",
   "language": "python",
   "name": "python3"
  },
  "language_info": {
   "codemirror_mode": {
    "name": "ipython",
    "version": 2
   },
   "file_extension": ".py",
   "mimetype": "text/x-python",
   "name": "python",
   "nbconvert_exporter": "python",
   "pygments_lexer": "ipython2",
   "version": "2.7.6"
  }
 },
 "nbformat": 4,
 "nbformat_minor": 0
}
