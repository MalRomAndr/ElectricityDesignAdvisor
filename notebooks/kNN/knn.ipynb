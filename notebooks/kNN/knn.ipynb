{
 "cells": [
  {
   "cell_type": "code",
   "execution_count": 1,
   "outputs": [],
   "source": [
    "import pandas as pd\n",
    "import numpy as np\n",
    "import sqlite3\n",
    "\n",
    "from sklearn.preprocessing import LabelEncoder, MinMaxScaler\n",
    "from sklearn.neighbors import NearestNeighbors"
   ],
   "metadata": {
    "collapsed": false,
    "ExecuteTime": {
     "end_time": "2023-09-23T18:25:20.725616500Z",
     "start_time": "2023-09-23T18:25:18.829907100Z"
    }
   }
  },
  {
   "cell_type": "code",
   "execution_count": 2,
   "outputs": [],
   "source": [
    "conn = sqlite3.connect('../../database.db')"
   ],
   "metadata": {
    "collapsed": false,
    "ExecuteTime": {
     "end_time": "2023-09-23T18:25:20.741237700Z",
     "start_time": "2023-09-23T18:25:20.725616500Z"
    }
   }
  },
  {
   "cell_type": "code",
   "execution_count": 3,
   "outputs": [],
   "source": [
    "encoder_struct = LabelEncoder()\n",
    "encoder_type = LabelEncoder()\n",
    "scaler = MinMaxScaler()"
   ],
   "metadata": {
    "collapsed": false,
    "ExecuteTime": {
     "end_time": "2023-09-23T18:25:20.756860Z",
     "start_time": "2023-09-23T18:25:20.741237700Z"
    }
   }
  },
  {
   "cell_type": "code",
   "execution_count": 4,
   "outputs": [],
   "source": [
    "data_Parts = pd.read_sql(\"select Id, Name, HeadingId, CategoryId from Parts;\", con=conn)\n",
    "data_StructuresParts = pd.read_sql(\"select StructureId, PartId from StructuresParts;\", con=conn)\n",
    "data_Structures = pd.read_sql(\"select Id, StandardProjectId, TypeId from Structures;\", con=conn)\n",
    "data_StandardProjects = pd.read_sql(\"select Id, ImageIndex from StandardProjects;\", con=conn)\n",
    "data_Conductors = pd.read_sql(\"select PartId, TypeId, Diameter, CrossSection from Conductors;\", con=conn)"
   ],
   "metadata": {
    "collapsed": false,
    "ExecuteTime": {
     "end_time": "2023-09-23T18:25:21.189474900Z",
     "start_time": "2023-09-23T18:25:20.756860Z"
    }
   }
  },
  {
   "cell_type": "code",
   "execution_count": 5,
   "outputs": [],
   "source": [
    "df = data_Parts.merge(data_StructuresParts, left_on='Id', right_on='PartId', how='outer').drop('PartId', axis=1)\n",
    "\n",
    "df = df.merge(data_Structures, left_on='StructureId', right_on='Id', how='outer').drop('Id_y', axis=1)\n",
    "\n",
    "data_Conductors.rename(columns={'PartId': 'Id_x'}, inplace=True)\n",
    "\n",
    "df = pd.concat([df, data_Conductors], axis=0)\n",
    "\n",
    "df = df.merge(data_StandardProjects, left_on='StandardProjectId', right_on='Id', how='left').drop('Id', axis=1)"
   ],
   "metadata": {
    "collapsed": false,
    "ExecuteTime": {
     "end_time": "2023-09-23T18:25:21.462565300Z",
     "start_time": "2023-09-23T18:25:21.189474900Z"
    }
   }
  },
  {
   "cell_type": "code",
   "execution_count": 6,
   "outputs": [
    {
     "data": {
      "text/plain": "                           Id_x  \\\n92164                    ПС-1-1   \n129597  К7ВВнг(А)-FRLS 1х10мк-1   \n73999       НІК 2303І АРП6 1770   \n89860                  AZIC 150   \n25410       AV-6 2P 16A (B) 6kA   \n\n                                                     Name  HeadingId  \\\n92164                                     Зажим плашечный        9.0   \n129597                                                NaN        NaN   \n73999            Счетчик электрической энергии нетарифный       17.0   \n89860                                Защитный аппарат ПЛЗ        9.0   \n25410   Выключатель автоматический AV-6 2P 16A (B) 6kA...       17.0   \n\n        CategoryId                         StructureId  StandardProjectId  \\\n92164         26.0          ПК2(2хСВ95-2)-1_(25-70мм2)              801.0   \n129597         NaN                                 NaN                NaN   \n73999        110.0                                 NaN                NaN   \n89860         58.0  А10-1 (2хСВ105-3,6)-1_(95-120 мм²)               73.0   \n25410   20190823.0                                 NaN                NaN   \n\n           TypeId  Diameter  CrossSection  ImageIndex  \n92164     support       NaN           NaN         2.0  \n129597      cabel       NaN           NaN         NaN  \n73999         NaN       NaN           NaN         NaN  \n89860   support10       NaN           NaN         1.0  \n25410         NaN       NaN           NaN         NaN  ",
      "text/html": "<div>\n<style scoped>\n    .dataframe tbody tr th:only-of-type {\n        vertical-align: middle;\n    }\n\n    .dataframe tbody tr th {\n        vertical-align: top;\n    }\n\n    .dataframe thead th {\n        text-align: right;\n    }\n</style>\n<table border=\"1\" class=\"dataframe\">\n  <thead>\n    <tr style=\"text-align: right;\">\n      <th></th>\n      <th>Id_x</th>\n      <th>Name</th>\n      <th>HeadingId</th>\n      <th>CategoryId</th>\n      <th>StructureId</th>\n      <th>StandardProjectId</th>\n      <th>TypeId</th>\n      <th>Diameter</th>\n      <th>CrossSection</th>\n      <th>ImageIndex</th>\n    </tr>\n  </thead>\n  <tbody>\n    <tr>\n      <th>92164</th>\n      <td>ПС-1-1</td>\n      <td>Зажим плашечный</td>\n      <td>9.0</td>\n      <td>26.0</td>\n      <td>ПК2(2хСВ95-2)-1_(25-70мм2)</td>\n      <td>801.0</td>\n      <td>support</td>\n      <td>NaN</td>\n      <td>NaN</td>\n      <td>2.0</td>\n    </tr>\n    <tr>\n      <th>129597</th>\n      <td>К7ВВнг(А)-FRLS 1х10мк-1</td>\n      <td>NaN</td>\n      <td>NaN</td>\n      <td>NaN</td>\n      <td>NaN</td>\n      <td>NaN</td>\n      <td>cabel</td>\n      <td>NaN</td>\n      <td>NaN</td>\n      <td>NaN</td>\n    </tr>\n    <tr>\n      <th>73999</th>\n      <td>НІК 2303І АРП6 1770</td>\n      <td>Счетчик электрической энергии нетарифный</td>\n      <td>17.0</td>\n      <td>110.0</td>\n      <td>NaN</td>\n      <td>NaN</td>\n      <td>NaN</td>\n      <td>NaN</td>\n      <td>NaN</td>\n      <td>NaN</td>\n    </tr>\n    <tr>\n      <th>89860</th>\n      <td>AZIC 150</td>\n      <td>Защитный аппарат ПЛЗ</td>\n      <td>9.0</td>\n      <td>58.0</td>\n      <td>А10-1 (2хСВ105-3,6)-1_(95-120 мм²)</td>\n      <td>73.0</td>\n      <td>support10</td>\n      <td>NaN</td>\n      <td>NaN</td>\n      <td>1.0</td>\n    </tr>\n    <tr>\n      <th>25410</th>\n      <td>AV-6 2P 16A (B) 6kA</td>\n      <td>Выключатель автоматический AV-6 2P 16A (B) 6kA...</td>\n      <td>17.0</td>\n      <td>20190823.0</td>\n      <td>NaN</td>\n      <td>NaN</td>\n      <td>NaN</td>\n      <td>NaN</td>\n      <td>NaN</td>\n      <td>NaN</td>\n    </tr>\n  </tbody>\n</table>\n</div>"
     },
     "execution_count": 6,
     "metadata": {},
     "output_type": "execute_result"
    }
   ],
   "source": [
    "df.sample(5)"
   ],
   "metadata": {
    "collapsed": false,
    "ExecuteTime": {
     "end_time": "2023-09-23T18:25:21.525051900Z",
     "start_time": "2023-09-23T18:25:21.462565300Z"
    }
   }
  },
  {
   "cell_type": "code",
   "execution_count": 7,
   "outputs": [
    {
     "data": {
      "text/plain": "                  Id_x                                               Name  \\\n72160  МСС-2.3П-9500ГЦ         Молниеприемник стержневой сборный на плите   \n10108         101 R-16                Крепеж изолирующих стержней к трубе   \n97152          GHSO 16                              Крюк для круглых опор   \n21768           694615  Многорозеточный блок с 2хUSB 4x2К З - с кабеле...   \n62074  V25-B C 1NPE150   УЗИП для силовых сетей 1 NPE (Класс I II), 150 В   \n\n       HeadingId  CategoryId        StructureId  StandardProjectId   TypeId  \\\n72160       10.0  20171001.0                NaN                NaN      NaN   \n10108       15.0  20190823.0                NaN                NaN      NaN   \n97152        9.0        58.0  ВКА2(1хСК105-8)-1              822.0  support   \n21768       17.0  20190823.0                NaN                NaN      NaN   \n62074       15.0  20190823.0                NaN                NaN      NaN   \n\n       Diameter  CrossSection  ImageIndex  \n72160       NaN           NaN         NaN  \n10108       NaN           NaN         NaN  \n97152       NaN           NaN         3.0  \n21768       NaN           NaN         NaN  \n62074       NaN           NaN         NaN  ",
      "text/html": "<div>\n<style scoped>\n    .dataframe tbody tr th:only-of-type {\n        vertical-align: middle;\n    }\n\n    .dataframe tbody tr th {\n        vertical-align: top;\n    }\n\n    .dataframe thead th {\n        text-align: right;\n    }\n</style>\n<table border=\"1\" class=\"dataframe\">\n  <thead>\n    <tr style=\"text-align: right;\">\n      <th></th>\n      <th>Id_x</th>\n      <th>Name</th>\n      <th>HeadingId</th>\n      <th>CategoryId</th>\n      <th>StructureId</th>\n      <th>StandardProjectId</th>\n      <th>TypeId</th>\n      <th>Diameter</th>\n      <th>CrossSection</th>\n      <th>ImageIndex</th>\n    </tr>\n  </thead>\n  <tbody>\n    <tr>\n      <th>72160</th>\n      <td>МСС-2.3П-9500ГЦ</td>\n      <td>Молниеприемник стержневой сборный на плите</td>\n      <td>10.0</td>\n      <td>20171001.0</td>\n      <td>NaN</td>\n      <td>NaN</td>\n      <td>NaN</td>\n      <td>NaN</td>\n      <td>NaN</td>\n      <td>NaN</td>\n    </tr>\n    <tr>\n      <th>10108</th>\n      <td>101 R-16</td>\n      <td>Крепеж изолирующих стержней к трубе</td>\n      <td>15.0</td>\n      <td>20190823.0</td>\n      <td>NaN</td>\n      <td>NaN</td>\n      <td>NaN</td>\n      <td>NaN</td>\n      <td>NaN</td>\n      <td>NaN</td>\n    </tr>\n    <tr>\n      <th>97152</th>\n      <td>GHSO 16</td>\n      <td>Крюк для круглых опор</td>\n      <td>9.0</td>\n      <td>58.0</td>\n      <td>ВКА2(1хСК105-8)-1</td>\n      <td>822.0</td>\n      <td>support</td>\n      <td>NaN</td>\n      <td>NaN</td>\n      <td>3.0</td>\n    </tr>\n    <tr>\n      <th>21768</th>\n      <td>694615</td>\n      <td>Многорозеточный блок с 2хUSB 4x2К З - с кабеле...</td>\n      <td>17.0</td>\n      <td>20190823.0</td>\n      <td>NaN</td>\n      <td>NaN</td>\n      <td>NaN</td>\n      <td>NaN</td>\n      <td>NaN</td>\n      <td>NaN</td>\n    </tr>\n    <tr>\n      <th>62074</th>\n      <td>V25-B C 1NPE150</td>\n      <td>УЗИП для силовых сетей 1 NPE (Класс I II), 150 В</td>\n      <td>15.0</td>\n      <td>20190823.0</td>\n      <td>NaN</td>\n      <td>NaN</td>\n      <td>NaN</td>\n      <td>NaN</td>\n      <td>NaN</td>\n      <td>NaN</td>\n    </tr>\n  </tbody>\n</table>\n</div>"
     },
     "execution_count": 7,
     "metadata": {},
     "output_type": "execute_result"
    }
   ],
   "source": [
    "df['StructureId'] = df['StructureId'].str.split('_').str[0]\n",
    "df['ImageIndex'] = df['ImageIndex'] + 1\n",
    "df.sample(5)"
   ],
   "metadata": {
    "collapsed": false,
    "ExecuteTime": {
     "end_time": "2023-09-23T18:25:21.772595400Z",
     "start_time": "2023-09-23T18:25:21.525051900Z"
    }
   }
  },
  {
   "cell_type": "code",
   "execution_count": 8,
   "outputs": [
    {
     "data": {
      "text/plain": "                    Id_x                                               Name  \\\n47505       MH25040/DISJ  Трёхфазный шкаф Alpimatic - тип H - 400 В - 25...   \n40324       GRB 90 140 G                       Угловая секция 90°   105x400   \n48275            Mod-7-3  Корпус ModBox 1400х800х170 (324 мод.) EKF PROxima   \n107660  КР02, 231н/3-012                                          Кронштейн   \n96569          СВ105-3,6  Стойка железобетонная вибрированная, ТУ 5863-0...   \n\n        HeadingId  CategoryId         StructureId  StandardProjectId  \\\n47505          17    20190823                                      0   \n40324          15    20190823                                      0   \n48275          17    20190823                                      0   \n107660          8          19              ВКА20з                216   \n96569           7         114  КП2(2хСВ105-3,6)-4                787   \n\n           TypeId  Diameter  CrossSection  ImageIndex  \n47505                   0.0           0.0           0  \n40324                   0.0           0.0           0  \n48275                   0.0           0.0           0  \n107660  support10       0.0           0.0           2  \n96569     support       0.0           0.0           3  ",
      "text/html": "<div>\n<style scoped>\n    .dataframe tbody tr th:only-of-type {\n        vertical-align: middle;\n    }\n\n    .dataframe tbody tr th {\n        vertical-align: top;\n    }\n\n    .dataframe thead th {\n        text-align: right;\n    }\n</style>\n<table border=\"1\" class=\"dataframe\">\n  <thead>\n    <tr style=\"text-align: right;\">\n      <th></th>\n      <th>Id_x</th>\n      <th>Name</th>\n      <th>HeadingId</th>\n      <th>CategoryId</th>\n      <th>StructureId</th>\n      <th>StandardProjectId</th>\n      <th>TypeId</th>\n      <th>Diameter</th>\n      <th>CrossSection</th>\n      <th>ImageIndex</th>\n    </tr>\n  </thead>\n  <tbody>\n    <tr>\n      <th>47505</th>\n      <td>MH25040/DISJ</td>\n      <td>Трёхфазный шкаф Alpimatic - тип H - 400 В - 25...</td>\n      <td>17</td>\n      <td>20190823</td>\n      <td></td>\n      <td>0</td>\n      <td></td>\n      <td>0.0</td>\n      <td>0.0</td>\n      <td>0</td>\n    </tr>\n    <tr>\n      <th>40324</th>\n      <td>GRB 90 140 G</td>\n      <td>Угловая секция 90°   105x400</td>\n      <td>15</td>\n      <td>20190823</td>\n      <td></td>\n      <td>0</td>\n      <td></td>\n      <td>0.0</td>\n      <td>0.0</td>\n      <td>0</td>\n    </tr>\n    <tr>\n      <th>48275</th>\n      <td>Mod-7-3</td>\n      <td>Корпус ModBox 1400х800х170 (324 мод.) EKF PROxima</td>\n      <td>17</td>\n      <td>20190823</td>\n      <td></td>\n      <td>0</td>\n      <td></td>\n      <td>0.0</td>\n      <td>0.0</td>\n      <td>0</td>\n    </tr>\n    <tr>\n      <th>107660</th>\n      <td>КР02, 231н/3-012</td>\n      <td>Кронштейн</td>\n      <td>8</td>\n      <td>19</td>\n      <td>ВКА20з</td>\n      <td>216</td>\n      <td>support10</td>\n      <td>0.0</td>\n      <td>0.0</td>\n      <td>2</td>\n    </tr>\n    <tr>\n      <th>96569</th>\n      <td>СВ105-3,6</td>\n      <td>Стойка железобетонная вибрированная, ТУ 5863-0...</td>\n      <td>7</td>\n      <td>114</td>\n      <td>КП2(2хСВ105-3,6)-4</td>\n      <td>787</td>\n      <td>support</td>\n      <td>0.0</td>\n      <td>0.0</td>\n      <td>3</td>\n    </tr>\n  </tbody>\n</table>\n</div>"
     },
     "execution_count": 8,
     "metadata": {},
     "output_type": "execute_result"
    }
   ],
   "source": [
    "df[['Name', 'StructureId', 'TypeId']] = df[['Name', 'StructureId', 'TypeId']].fillna('')\n",
    "df = df.fillna(0)\n",
    "\n",
    "df = df.drop_duplicates().reset_index(drop=True)\n",
    "df[['HeadingId', 'CategoryId', 'StandardProjectId', 'ImageIndex']] = df[['HeadingId', 'CategoryId', 'StandardProjectId', 'ImageIndex']].astype('int32')\n",
    "df.sample(5)"
   ],
   "metadata": {
    "collapsed": false,
    "ExecuteTime": {
     "end_time": "2023-09-23T18:25:22.471567900Z",
     "start_time": "2023-09-23T18:25:21.772595400Z"
    }
   }
  },
  {
   "cell_type": "markdown",
   "source": [
    "**NearestNeighbors**"
   ],
   "metadata": {
    "collapsed": false
   }
  },
  {
   "cell_type": "code",
   "execution_count": 9,
   "outputs": [
    {
     "data": {
      "text/plain": "array([[3.33333333e-01, 2.86840325e-06, 3.29069255e-01, 1.47157191e-01,\n        8.88888889e-01, 0.00000000e+00, 0.00000000e+00, 5.00000000e-01],\n       [3.70370370e-01, 4.94552284e-07, 3.29069255e-01, 1.47157191e-01,\n        8.88888889e-01, 0.00000000e+00, 0.00000000e+00, 5.00000000e-01]])"
     },
     "execution_count": 9,
     "metadata": {},
     "output_type": "execute_result"
    }
   ],
   "source": [
    "features = df.drop(columns=['Id_x', 'Name'], axis=1)\n",
    "features['StructureId'] = encoder_struct.fit_transform(features['StructureId'])\n",
    "features['TypeId'] = encoder_type.fit_transform(features['TypeId'])\n",
    "features = scaler.fit_transform(features)\n",
    "features[0:2]"
   ],
   "metadata": {
    "collapsed": false,
    "ExecuteTime": {
     "end_time": "2023-09-23T18:25:22.612175700Z",
     "start_time": "2023-09-23T18:25:22.471567900Z"
    }
   }
  },
  {
   "cell_type": "code",
   "execution_count": 10,
   "outputs": [],
   "source": [
    "n_neighbors = 100\n",
    "model = NearestNeighbors(n_neighbors=n_neighbors, metric='cosine')\n",
    "model.fit(features);"
   ],
   "metadata": {
    "collapsed": false,
    "ExecuteTime": {
     "end_time": "2023-09-23T18:25:22.677772400Z",
     "start_time": "2023-09-23T18:25:22.596537500Z"
    }
   }
  },
  {
   "cell_type": "code",
   "execution_count": 11,
   "outputs": [
    {
     "data": {
      "text/plain": "             Id_x                                               Name  \\\n99765     COT36.2                          Бугель (скрепа) для ленты   \n99766     COT37.2  Лента бандажная стальная 20 мм x 0,70 мм x 50 ...   \n99767       PER15     Ремешок бандажный, L=300 мм, B=4,8 мм, D=80 мм   \n99768      SH702R                       Стяжка ж/б стойки типа СВ110   \n99769      SL37.2  Зажим соединительный плашечный; магистраль: 6-...   \n99770    SLIP22.1  Зажим влагозащищенный изолированный прокалываю...   \n99771  SLIP22.127  Зажим влагозащищенный изолированный прокалываю...   \n99772    SO250.01  Зажим натяжной клиновой для магистрали (50-70 ...   \n99773   SOT29.10R                              Крюк бандажный ø16 мм   \n99774         ЗП6                              Заземляющий проводник   \n99775        П-3и                                     Плита анкерная   \n99776      СВ95-3  Стойка железобетонная вибрированная, ТУ 5863-0...   \n99777          У4                                          Кронштейн   \n\n       HeadingId  CategoryId StructureId  StandardProjectId   TypeId  \\\n99765          9          28         А11                 47  support   \n99766          9          28         А11                 47  support   \n99767          9          28         А11                 47  support   \n99768          8          28         А11                 47  support   \n99769          9          28         А11                 47  support   \n99770          9          28         А11                 47  support   \n99771          9          28         А11                 47  support   \n99772          9          28         А11                 47  support   \n99773          9          72         А11                 47  support   \n99774          8          25         А11                 47  support   \n99775          7         116         А11                 47  support   \n99776          7         114         А11                 47  support   \n99777          8          19         А11                 47  support   \n\n       Diameter  CrossSection  ImageIndex  \n99765       0.0           0.0           3  \n99766       0.0           0.0           3  \n99767       0.0           0.0           3  \n99768       0.0           0.0           3  \n99769       0.0           0.0           3  \n99770       0.0           0.0           3  \n99771       0.0           0.0           3  \n99772       0.0           0.0           3  \n99773       0.0           0.0           3  \n99774       0.0           0.0           3  \n99775       0.0           0.0           3  \n99776       0.0           0.0           3  \n99777       0.0           0.0           3  ",
      "text/html": "<div>\n<style scoped>\n    .dataframe tbody tr th:only-of-type {\n        vertical-align: middle;\n    }\n\n    .dataframe tbody tr th {\n        vertical-align: top;\n    }\n\n    .dataframe thead th {\n        text-align: right;\n    }\n</style>\n<table border=\"1\" class=\"dataframe\">\n  <thead>\n    <tr style=\"text-align: right;\">\n      <th></th>\n      <th>Id_x</th>\n      <th>Name</th>\n      <th>HeadingId</th>\n      <th>CategoryId</th>\n      <th>StructureId</th>\n      <th>StandardProjectId</th>\n      <th>TypeId</th>\n      <th>Diameter</th>\n      <th>CrossSection</th>\n      <th>ImageIndex</th>\n    </tr>\n  </thead>\n  <tbody>\n    <tr>\n      <th>99765</th>\n      <td>COT36.2</td>\n      <td>Бугель (скрепа) для ленты</td>\n      <td>9</td>\n      <td>28</td>\n      <td>А11</td>\n      <td>47</td>\n      <td>support</td>\n      <td>0.0</td>\n      <td>0.0</td>\n      <td>3</td>\n    </tr>\n    <tr>\n      <th>99766</th>\n      <td>COT37.2</td>\n      <td>Лента бандажная стальная 20 мм x 0,70 мм x 50 ...</td>\n      <td>9</td>\n      <td>28</td>\n      <td>А11</td>\n      <td>47</td>\n      <td>support</td>\n      <td>0.0</td>\n      <td>0.0</td>\n      <td>3</td>\n    </tr>\n    <tr>\n      <th>99767</th>\n      <td>PER15</td>\n      <td>Ремешок бандажный, L=300 мм, B=4,8 мм, D=80 мм</td>\n      <td>9</td>\n      <td>28</td>\n      <td>А11</td>\n      <td>47</td>\n      <td>support</td>\n      <td>0.0</td>\n      <td>0.0</td>\n      <td>3</td>\n    </tr>\n    <tr>\n      <th>99768</th>\n      <td>SH702R</td>\n      <td>Стяжка ж/б стойки типа СВ110</td>\n      <td>8</td>\n      <td>28</td>\n      <td>А11</td>\n      <td>47</td>\n      <td>support</td>\n      <td>0.0</td>\n      <td>0.0</td>\n      <td>3</td>\n    </tr>\n    <tr>\n      <th>99769</th>\n      <td>SL37.2</td>\n      <td>Зажим соединительный плашечный; магистраль: 6-...</td>\n      <td>9</td>\n      <td>28</td>\n      <td>А11</td>\n      <td>47</td>\n      <td>support</td>\n      <td>0.0</td>\n      <td>0.0</td>\n      <td>3</td>\n    </tr>\n    <tr>\n      <th>99770</th>\n      <td>SLIP22.1</td>\n      <td>Зажим влагозащищенный изолированный прокалываю...</td>\n      <td>9</td>\n      <td>28</td>\n      <td>А11</td>\n      <td>47</td>\n      <td>support</td>\n      <td>0.0</td>\n      <td>0.0</td>\n      <td>3</td>\n    </tr>\n    <tr>\n      <th>99771</th>\n      <td>SLIP22.127</td>\n      <td>Зажим влагозащищенный изолированный прокалываю...</td>\n      <td>9</td>\n      <td>28</td>\n      <td>А11</td>\n      <td>47</td>\n      <td>support</td>\n      <td>0.0</td>\n      <td>0.0</td>\n      <td>3</td>\n    </tr>\n    <tr>\n      <th>99772</th>\n      <td>SO250.01</td>\n      <td>Зажим натяжной клиновой для магистрали (50-70 ...</td>\n      <td>9</td>\n      <td>28</td>\n      <td>А11</td>\n      <td>47</td>\n      <td>support</td>\n      <td>0.0</td>\n      <td>0.0</td>\n      <td>3</td>\n    </tr>\n    <tr>\n      <th>99773</th>\n      <td>SOT29.10R</td>\n      <td>Крюк бандажный ø16 мм</td>\n      <td>9</td>\n      <td>72</td>\n      <td>А11</td>\n      <td>47</td>\n      <td>support</td>\n      <td>0.0</td>\n      <td>0.0</td>\n      <td>3</td>\n    </tr>\n    <tr>\n      <th>99774</th>\n      <td>ЗП6</td>\n      <td>Заземляющий проводник</td>\n      <td>8</td>\n      <td>25</td>\n      <td>А11</td>\n      <td>47</td>\n      <td>support</td>\n      <td>0.0</td>\n      <td>0.0</td>\n      <td>3</td>\n    </tr>\n    <tr>\n      <th>99775</th>\n      <td>П-3и</td>\n      <td>Плита анкерная</td>\n      <td>7</td>\n      <td>116</td>\n      <td>А11</td>\n      <td>47</td>\n      <td>support</td>\n      <td>0.0</td>\n      <td>0.0</td>\n      <td>3</td>\n    </tr>\n    <tr>\n      <th>99776</th>\n      <td>СВ95-3</td>\n      <td>Стойка железобетонная вибрированная, ТУ 5863-0...</td>\n      <td>7</td>\n      <td>114</td>\n      <td>А11</td>\n      <td>47</td>\n      <td>support</td>\n      <td>0.0</td>\n      <td>0.0</td>\n      <td>3</td>\n    </tr>\n    <tr>\n      <th>99777</th>\n      <td>У4</td>\n      <td>Кронштейн</td>\n      <td>8</td>\n      <td>19</td>\n      <td>А11</td>\n      <td>47</td>\n      <td>support</td>\n      <td>0.0</td>\n      <td>0.0</td>\n      <td>3</td>\n    </tr>\n  </tbody>\n</table>\n</div>"
     },
     "execution_count": 11,
     "metadata": {},
     "output_type": "execute_result"
    }
   ],
   "source": [
    "request = df[df['StructureId'] == 'А11']\n",
    "request"
   ],
   "metadata": {
    "collapsed": false,
    "ExecuteTime": {
     "end_time": "2023-09-23T18:25:22.722355100Z",
     "start_time": "2023-09-23T18:25:22.627779700Z"
    }
   }
  },
  {
   "cell_type": "code",
   "execution_count": 12,
   "outputs": [
    {
     "data": {
      "text/plain": "                Id_x                                               Name  \\\n87340        CA-2000             Кроншт.ейн анкерный CА2000 EKF PROxima   \n94918        CS 10.3                                 Кронштейн анкерный   \n94919          E 778     Стяжной хомут для жгута СИП диаметром 10-45 мм   \n87341           F 20               Лента металлическая 20х0,7(0,8)х1000   \n94920          F 207                 Металлическая лента 20x0,7x1000 мм   \n87342           KR 1                                  Кабельный ремешок   \n87343           KZP1                                              Зажим   \n94922           P 72  Зажим для подкл. абонента к изолир. магистраль...   \n87344        PA 1500    Анкерный клиновый зажим. Cечение жилы 50-70 мм2   \n106087         PD2.2                                Гайка крюкообразная   \n99781      PK99.2595       Колпачок защитный для провода 25-95(120) мм²   \n106088      SOT21.1R                          Крюк M20, L=240, сквозной   \n94924            Г11                                             Стяжка   \n87372           ЗП1М                              Заземляющий проводник   \n87345           ЗП2М                              Заземляющий проводник   \n87346            ЗПВ                     Зажим переходной прокалывающий   \n87347          МУ103                                              Плита   \n87348          МУ104                                              Плита   \n99934    ОГККВ-7,5 А  Опора квартальная для воздушной подводки питан...   \n99898     ОГС-0,7-10                Опора граненая силовая, 0,7 т, 10 м   \n87349         ПС-1-1                                    Зажим плашечный   \n87350            С20                                             Скрепа   \n106261       СВ95-2а  Стойка железобетонная вибрированная, ТУ 5863-0...   \n99918   ФМ-0,159-2,2                            Фундамент металлический   \n99900   ФМ-0,219-2,5                            Фундамент металлический   \n\n        HeadingId  CategoryId StructureId  StandardProjectId   TypeId  \\\n87340           9          95         А29                 44  support   \n94918           9          95         А23                  2  support   \n94919           9          95         А23                  2  support   \n87341           9          26         А29                 44  support   \n94920           9          95         А23                  2  support   \n87342           9          26         А29                 44  support   \n87343           9          26         А29                 44  support   \n94922           9          95         А23                  2  support   \n87344           9          95         А29                 44  support   \n106087          9          72         А12                 48  support   \n99781           9          28       А11-к                 47  support   \n106088          9          72         А12                 48  support   \n94924           8          20         А23                  2  support   \n87372           8          25        АО29                 44  support   \n87345           8          25         А29                 44  support   \n87346           9          26         А29                 44  support   \n87347           8           9         А29                 44  support   \n87348           8           9         А29                 44  support   \n99934           8          30       АМкв.                 57  support   \n99898           8          30          АМ                 58  support   \n87349           9          26         А29                 44  support   \n87350           9          26         А29                 44  support   \n106261          7         114         АО3                 63  support   \n99918           8          45        АМаб                 60  support   \n99900           8          45          АМ                 58  support   \n\n        Diameter  CrossSection  ImageIndex      distance  \n87340        0.0           0.0           3  2.092735e-04  \n94918        0.0           0.0           3  1.084449e-03  \n94919        0.0           0.0           3  1.084449e-03  \n87341        0.0           0.0           3  2.092735e-04  \n94920        0.0           0.0           3  1.084449e-03  \n87342        0.0           0.0           3  2.092735e-04  \n87343        0.0           0.0           3  2.092735e-04  \n94922        0.0           0.0           3  1.084449e-03  \n87344        0.0           0.0           3  2.092735e-04  \n106087       0.0           0.0           3  1.082371e-06  \n99781        0.0           0.0           3  7.049438e-08  \n106088       0.0           0.0           3  1.082371e-06  \n94924        0.0           0.0           3  1.103147e-03  \n87372        0.0           0.0           3  1.458820e-03  \n87345        0.0           0.0           3  2.128643e-04  \n87346        0.0           0.0           3  2.092735e-04  \n87347        0.0           0.0           3  6.877366e-04  \n87348        0.0           0.0           3  2.128643e-04  \n99934        0.0           0.0           3  1.736768e-03  \n99898        0.0           0.0           3  1.255191e-03  \n87349        0.0           0.0           3  2.092735e-04  \n87350        0.0           0.0           3  2.092735e-04  \n106261       0.0           0.0           3  1.610164e-03  \n99918        0.0           0.0           3  1.747905e-03  \n99900        0.0           0.0           3  1.709037e-03  ",
      "text/html": "<div>\n<style scoped>\n    .dataframe tbody tr th:only-of-type {\n        vertical-align: middle;\n    }\n\n    .dataframe tbody tr th {\n        vertical-align: top;\n    }\n\n    .dataframe thead th {\n        text-align: right;\n    }\n</style>\n<table border=\"1\" class=\"dataframe\">\n  <thead>\n    <tr style=\"text-align: right;\">\n      <th></th>\n      <th>Id_x</th>\n      <th>Name</th>\n      <th>HeadingId</th>\n      <th>CategoryId</th>\n      <th>StructureId</th>\n      <th>StandardProjectId</th>\n      <th>TypeId</th>\n      <th>Diameter</th>\n      <th>CrossSection</th>\n      <th>ImageIndex</th>\n      <th>distance</th>\n    </tr>\n  </thead>\n  <tbody>\n    <tr>\n      <th>87340</th>\n      <td>CA-2000</td>\n      <td>Кроншт.ейн анкерный CА2000 EKF PROxima</td>\n      <td>9</td>\n      <td>95</td>\n      <td>А29</td>\n      <td>44</td>\n      <td>support</td>\n      <td>0.0</td>\n      <td>0.0</td>\n      <td>3</td>\n      <td>2.092735e-04</td>\n    </tr>\n    <tr>\n      <th>94918</th>\n      <td>CS 10.3</td>\n      <td>Кронштейн анкерный</td>\n      <td>9</td>\n      <td>95</td>\n      <td>А23</td>\n      <td>2</td>\n      <td>support</td>\n      <td>0.0</td>\n      <td>0.0</td>\n      <td>3</td>\n      <td>1.084449e-03</td>\n    </tr>\n    <tr>\n      <th>94919</th>\n      <td>E 778</td>\n      <td>Стяжной хомут для жгута СИП диаметром 10-45 мм</td>\n      <td>9</td>\n      <td>95</td>\n      <td>А23</td>\n      <td>2</td>\n      <td>support</td>\n      <td>0.0</td>\n      <td>0.0</td>\n      <td>3</td>\n      <td>1.084449e-03</td>\n    </tr>\n    <tr>\n      <th>87341</th>\n      <td>F 20</td>\n      <td>Лента металлическая 20х0,7(0,8)х1000</td>\n      <td>9</td>\n      <td>26</td>\n      <td>А29</td>\n      <td>44</td>\n      <td>support</td>\n      <td>0.0</td>\n      <td>0.0</td>\n      <td>3</td>\n      <td>2.092735e-04</td>\n    </tr>\n    <tr>\n      <th>94920</th>\n      <td>F 207</td>\n      <td>Металлическая лента 20x0,7x1000 мм</td>\n      <td>9</td>\n      <td>95</td>\n      <td>А23</td>\n      <td>2</td>\n      <td>support</td>\n      <td>0.0</td>\n      <td>0.0</td>\n      <td>3</td>\n      <td>1.084449e-03</td>\n    </tr>\n    <tr>\n      <th>87342</th>\n      <td>KR 1</td>\n      <td>Кабельный ремешок</td>\n      <td>9</td>\n      <td>26</td>\n      <td>А29</td>\n      <td>44</td>\n      <td>support</td>\n      <td>0.0</td>\n      <td>0.0</td>\n      <td>3</td>\n      <td>2.092735e-04</td>\n    </tr>\n    <tr>\n      <th>87343</th>\n      <td>KZP1</td>\n      <td>Зажим</td>\n      <td>9</td>\n      <td>26</td>\n      <td>А29</td>\n      <td>44</td>\n      <td>support</td>\n      <td>0.0</td>\n      <td>0.0</td>\n      <td>3</td>\n      <td>2.092735e-04</td>\n    </tr>\n    <tr>\n      <th>94922</th>\n      <td>P 72</td>\n      <td>Зажим для подкл. абонента к изолир. магистраль...</td>\n      <td>9</td>\n      <td>95</td>\n      <td>А23</td>\n      <td>2</td>\n      <td>support</td>\n      <td>0.0</td>\n      <td>0.0</td>\n      <td>3</td>\n      <td>1.084449e-03</td>\n    </tr>\n    <tr>\n      <th>87344</th>\n      <td>PA 1500</td>\n      <td>Анкерный клиновый зажим. Cечение жилы 50-70 мм2</td>\n      <td>9</td>\n      <td>95</td>\n      <td>А29</td>\n      <td>44</td>\n      <td>support</td>\n      <td>0.0</td>\n      <td>0.0</td>\n      <td>3</td>\n      <td>2.092735e-04</td>\n    </tr>\n    <tr>\n      <th>106087</th>\n      <td>PD2.2</td>\n      <td>Гайка крюкообразная</td>\n      <td>9</td>\n      <td>72</td>\n      <td>А12</td>\n      <td>48</td>\n      <td>support</td>\n      <td>0.0</td>\n      <td>0.0</td>\n      <td>3</td>\n      <td>1.082371e-06</td>\n    </tr>\n    <tr>\n      <th>99781</th>\n      <td>PK99.2595</td>\n      <td>Колпачок защитный для провода 25-95(120) мм²</td>\n      <td>9</td>\n      <td>28</td>\n      <td>А11-к</td>\n      <td>47</td>\n      <td>support</td>\n      <td>0.0</td>\n      <td>0.0</td>\n      <td>3</td>\n      <td>7.049438e-08</td>\n    </tr>\n    <tr>\n      <th>106088</th>\n      <td>SOT21.1R</td>\n      <td>Крюк M20, L=240, сквозной</td>\n      <td>9</td>\n      <td>72</td>\n      <td>А12</td>\n      <td>48</td>\n      <td>support</td>\n      <td>0.0</td>\n      <td>0.0</td>\n      <td>3</td>\n      <td>1.082371e-06</td>\n    </tr>\n    <tr>\n      <th>94924</th>\n      <td>Г11</td>\n      <td>Стяжка</td>\n      <td>8</td>\n      <td>20</td>\n      <td>А23</td>\n      <td>2</td>\n      <td>support</td>\n      <td>0.0</td>\n      <td>0.0</td>\n      <td>3</td>\n      <td>1.103147e-03</td>\n    </tr>\n    <tr>\n      <th>87372</th>\n      <td>ЗП1М</td>\n      <td>Заземляющий проводник</td>\n      <td>8</td>\n      <td>25</td>\n      <td>АО29</td>\n      <td>44</td>\n      <td>support</td>\n      <td>0.0</td>\n      <td>0.0</td>\n      <td>3</td>\n      <td>1.458820e-03</td>\n    </tr>\n    <tr>\n      <th>87345</th>\n      <td>ЗП2М</td>\n      <td>Заземляющий проводник</td>\n      <td>8</td>\n      <td>25</td>\n      <td>А29</td>\n      <td>44</td>\n      <td>support</td>\n      <td>0.0</td>\n      <td>0.0</td>\n      <td>3</td>\n      <td>2.128643e-04</td>\n    </tr>\n    <tr>\n      <th>87346</th>\n      <td>ЗПВ</td>\n      <td>Зажим переходной прокалывающий</td>\n      <td>9</td>\n      <td>26</td>\n      <td>А29</td>\n      <td>44</td>\n      <td>support</td>\n      <td>0.0</td>\n      <td>0.0</td>\n      <td>3</td>\n      <td>2.092735e-04</td>\n    </tr>\n    <tr>\n      <th>87347</th>\n      <td>МУ103</td>\n      <td>Плита</td>\n      <td>8</td>\n      <td>9</td>\n      <td>А29</td>\n      <td>44</td>\n      <td>support</td>\n      <td>0.0</td>\n      <td>0.0</td>\n      <td>3</td>\n      <td>6.877366e-04</td>\n    </tr>\n    <tr>\n      <th>87348</th>\n      <td>МУ104</td>\n      <td>Плита</td>\n      <td>8</td>\n      <td>9</td>\n      <td>А29</td>\n      <td>44</td>\n      <td>support</td>\n      <td>0.0</td>\n      <td>0.0</td>\n      <td>3</td>\n      <td>2.128643e-04</td>\n    </tr>\n    <tr>\n      <th>99934</th>\n      <td>ОГККВ-7,5 А</td>\n      <td>Опора квартальная для воздушной подводки питан...</td>\n      <td>8</td>\n      <td>30</td>\n      <td>АМкв.</td>\n      <td>57</td>\n      <td>support</td>\n      <td>0.0</td>\n      <td>0.0</td>\n      <td>3</td>\n      <td>1.736768e-03</td>\n    </tr>\n    <tr>\n      <th>99898</th>\n      <td>ОГС-0,7-10</td>\n      <td>Опора граненая силовая, 0,7 т, 10 м</td>\n      <td>8</td>\n      <td>30</td>\n      <td>АМ</td>\n      <td>58</td>\n      <td>support</td>\n      <td>0.0</td>\n      <td>0.0</td>\n      <td>3</td>\n      <td>1.255191e-03</td>\n    </tr>\n    <tr>\n      <th>87349</th>\n      <td>ПС-1-1</td>\n      <td>Зажим плашечный</td>\n      <td>9</td>\n      <td>26</td>\n      <td>А29</td>\n      <td>44</td>\n      <td>support</td>\n      <td>0.0</td>\n      <td>0.0</td>\n      <td>3</td>\n      <td>2.092735e-04</td>\n    </tr>\n    <tr>\n      <th>87350</th>\n      <td>С20</td>\n      <td>Скрепа</td>\n      <td>9</td>\n      <td>26</td>\n      <td>А29</td>\n      <td>44</td>\n      <td>support</td>\n      <td>0.0</td>\n      <td>0.0</td>\n      <td>3</td>\n      <td>2.092735e-04</td>\n    </tr>\n    <tr>\n      <th>106261</th>\n      <td>СВ95-2а</td>\n      <td>Стойка железобетонная вибрированная, ТУ 5863-0...</td>\n      <td>7</td>\n      <td>114</td>\n      <td>АО3</td>\n      <td>63</td>\n      <td>support</td>\n      <td>0.0</td>\n      <td>0.0</td>\n      <td>3</td>\n      <td>1.610164e-03</td>\n    </tr>\n    <tr>\n      <th>99918</th>\n      <td>ФМ-0,159-2,2</td>\n      <td>Фундамент металлический</td>\n      <td>8</td>\n      <td>45</td>\n      <td>АМаб</td>\n      <td>60</td>\n      <td>support</td>\n      <td>0.0</td>\n      <td>0.0</td>\n      <td>3</td>\n      <td>1.747905e-03</td>\n    </tr>\n    <tr>\n      <th>99900</th>\n      <td>ФМ-0,219-2,5</td>\n      <td>Фундамент металлический</td>\n      <td>8</td>\n      <td>45</td>\n      <td>АМ</td>\n      <td>58</td>\n      <td>support</td>\n      <td>0.0</td>\n      <td>0.0</td>\n      <td>3</td>\n      <td>1.709037e-03</td>\n    </tr>\n  </tbody>\n</table>\n</div>"
     },
     "execution_count": 12,
     "metadata": {},
     "output_type": "execute_result"
    }
   ],
   "source": [
    "results = pd.DataFrame()\n",
    "for _ in range(request.shape[0]):\n",
    "    element = request.iloc[[_]].drop(columns=['Id_x', 'Name'])\n",
    "    element['StructureId'] = encoder_struct.transform(element['StructureId'])\n",
    "    element['TypeId'] = encoder_type.transform(element['TypeId'])\n",
    "    element = scaler.transform(element)\n",
    "    answer = model.kneighbors(element)\n",
    "    result = df.loc[answer[1][0]]\n",
    "    result['distance'] = answer[0][0]\n",
    "    result = result[~result['Id_x'].isin(request['Id_x'])]\n",
    "    try:\n",
    "        result = result[~result['Id_x'].isin(results['Id_x'])]\n",
    "    except:\n",
    "        pass\n",
    "    result = result.drop_duplicates(subset=['Id_x'])\n",
    "    result = result[:int(np.ceil(25 / request.shape[0]))]\n",
    "    results = pd.concat([results, result], axis=0)\n",
    "\n",
    "results = results.sort_values(by='distance').head(25).sort_values(by='Id_x')\n",
    "results"
   ],
   "metadata": {
    "collapsed": false,
    "ExecuteTime": {
     "end_time": "2023-09-23T18:25:55.340738100Z",
     "start_time": "2023-09-23T18:25:55.012328400Z"
    }
   }
  },
  {
   "cell_type": "code",
   "execution_count": null,
   "outputs": [],
   "source": [],
   "metadata": {
    "collapsed": false
   }
  }
 ],
 "metadata": {
  "kernelspec": {
   "display_name": "Python 3",
   "language": "python",
   "name": "python3"
  },
  "language_info": {
   "codemirror_mode": {
    "name": "ipython",
    "version": 2
   },
   "file_extension": ".py",
   "mimetype": "text/x-python",
   "name": "python",
   "nbconvert_exporter": "python",
   "pygments_lexer": "ipython2",
   "version": "2.7.6"
  }
 },
 "nbformat": 4,
 "nbformat_minor": 0
}
