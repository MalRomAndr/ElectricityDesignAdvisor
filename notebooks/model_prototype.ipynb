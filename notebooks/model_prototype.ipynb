{
 "cells": [
  {
   "cell_type": "code",
   "execution_count": 1,
   "outputs": [],
   "source": [
    "import pandas as pd\n",
    "import numpy as np\n",
    "import sqlite3\n",
    "\n",
    "from sklearn.preprocessing import LabelEncoder, MinMaxScaler\n",
    "from sklearn.neighbors import NearestNeighbors"
   ],
   "metadata": {
    "collapsed": false,
    "ExecuteTime": {
     "end_time": "2023-09-11T14:39:59.407576300Z",
     "start_time": "2023-09-11T14:39:58.091874700Z"
    }
   }
  },
  {
   "cell_type": "code",
   "execution_count": 2,
   "outputs": [],
   "source": [
    "conn = sqlite3.connect('../database.db')"
   ],
   "metadata": {
    "collapsed": false,
    "ExecuteTime": {
     "end_time": "2023-09-11T14:40:00.313368800Z",
     "start_time": "2023-09-11T14:40:00.305315400Z"
    }
   }
  },
  {
   "cell_type": "code",
   "execution_count": 3,
   "outputs": [],
   "source": [
    "encoder_struct = LabelEncoder()\n",
    "encoder_type = LabelEncoder()\n",
    "scaler = MinMaxScaler()"
   ],
   "metadata": {
    "collapsed": false,
    "ExecuteTime": {
     "end_time": "2023-09-11T14:40:00.920507200Z",
     "start_time": "2023-09-11T14:40:00.904549700Z"
    }
   }
  },
  {
   "cell_type": "code",
   "execution_count": 4,
   "outputs": [],
   "source": [
    "data_Parts = pd.read_sql(\"select Id, Name, HeadingId, CategoryId from Parts;\", con=conn)\n",
    "data_StructuresParts = pd.read_sql(\"select StructureId, PartId from StructuresParts;\", con=conn)\n",
    "data_Structures = pd.read_sql(\"select Id, StandardProjectId, TypeId from Structures;\", con=conn)\n",
    "data_StandardProjects = pd.read_sql(\"select Id, ImageIndex from StandardProjects;\", con=conn)\n",
    "data_Conductors = pd.read_sql(\"select PartId, TypeId, Diameter, CrossSection from Conductors;\", con=conn)"
   ],
   "metadata": {
    "collapsed": false,
    "ExecuteTime": {
     "end_time": "2023-09-11T14:40:02.895307900Z",
     "start_time": "2023-09-11T14:40:02.153900800Z"
    }
   }
  },
  {
   "cell_type": "code",
   "execution_count": 5,
   "outputs": [],
   "source": [
    "df = data_Parts.merge(data_StructuresParts, left_on='Id', right_on='PartId', how='outer').drop('PartId', axis=1)\n",
    "\n",
    "df = df.merge(data_Structures, left_on='StructureId', right_on='Id', how='outer').drop('Id_y', axis=1)\n",
    "\n",
    "data_Conductors.rename(columns={'PartId': 'Id_x'}, inplace=True)\n",
    "\n",
    "df = pd.concat([df, data_Conductors], axis=0)\n",
    "\n",
    "df = df.merge(data_StandardProjects, left_on='StandardProjectId', right_on='Id', how='left').drop('Id', axis=1)"
   ],
   "metadata": {
    "collapsed": false,
    "ExecuteTime": {
     "end_time": "2023-09-11T14:40:04.598612800Z",
     "start_time": "2023-09-11T14:40:04.422993400Z"
    }
   }
  },
  {
   "cell_type": "code",
   "execution_count": 6,
   "outputs": [
    {
     "data": {
      "text/plain": "                         Id_x  \\\n18208                  417011   \n4404                   024325   \n93577  Шайба 16 ГОСТ 11371-78   \n30926            CLP1M-B-8-20   \n69702  К9РВВнг(А)-LS 1х10ок-1   \n\n                                                    Name  HeadingId  \\\n18208                 Контактор CTX³ Мини 3P 6A 1нз =24В       17.0   \n4404      Osmoz рамка вставк. широкая белая без надписей       15.0   \n93577                               Шайба, ГОСТ 11371-78       15.0   \n30926                           Болт шестигранный  М8х20       17.0   \n69702  Кабель силовой с изоляцией из этиленпропиленов...        3.0   \n\n       CategoryId                 StructureId  StandardProjectId TypeId  \\\n18208  20190823.0                         NaN                NaN    NaN   \n4404   20190823.0                         NaN                NaN    NaN   \n93577        49.0  А10/0,38-0/2(СК)_25-70 мм²              139.0  other   \n30926       101.0                         NaN                NaN    NaN   \n69702        50.0                         NaN                NaN    NaN   \n\n       Diameter  CrossSection  ImageIndex  \n18208       NaN           NaN         NaN  \n4404        NaN           NaN         NaN  \n93577       NaN           NaN         2.0  \n30926       NaN           NaN         NaN  \n69702       NaN           NaN         NaN  ",
      "text/html": "<div>\n<style scoped>\n    .dataframe tbody tr th:only-of-type {\n        vertical-align: middle;\n    }\n\n    .dataframe tbody tr th {\n        vertical-align: top;\n    }\n\n    .dataframe thead th {\n        text-align: right;\n    }\n</style>\n<table border=\"1\" class=\"dataframe\">\n  <thead>\n    <tr style=\"text-align: right;\">\n      <th></th>\n      <th>Id_x</th>\n      <th>Name</th>\n      <th>HeadingId</th>\n      <th>CategoryId</th>\n      <th>StructureId</th>\n      <th>StandardProjectId</th>\n      <th>TypeId</th>\n      <th>Diameter</th>\n      <th>CrossSection</th>\n      <th>ImageIndex</th>\n    </tr>\n  </thead>\n  <tbody>\n    <tr>\n      <th>18208</th>\n      <td>417011</td>\n      <td>Контактор CTX³ Мини 3P 6A 1нз =24В</td>\n      <td>17.0</td>\n      <td>20190823.0</td>\n      <td>NaN</td>\n      <td>NaN</td>\n      <td>NaN</td>\n      <td>NaN</td>\n      <td>NaN</td>\n      <td>NaN</td>\n    </tr>\n    <tr>\n      <th>4404</th>\n      <td>024325</td>\n      <td>Osmoz рамка вставк. широкая белая без надписей</td>\n      <td>15.0</td>\n      <td>20190823.0</td>\n      <td>NaN</td>\n      <td>NaN</td>\n      <td>NaN</td>\n      <td>NaN</td>\n      <td>NaN</td>\n      <td>NaN</td>\n    </tr>\n    <tr>\n      <th>93577</th>\n      <td>Шайба 16 ГОСТ 11371-78</td>\n      <td>Шайба, ГОСТ 11371-78</td>\n      <td>15.0</td>\n      <td>49.0</td>\n      <td>А10/0,38-0/2(СК)_25-70 мм²</td>\n      <td>139.0</td>\n      <td>other</td>\n      <td>NaN</td>\n      <td>NaN</td>\n      <td>2.0</td>\n    </tr>\n    <tr>\n      <th>30926</th>\n      <td>CLP1M-B-8-20</td>\n      <td>Болт шестигранный  М8х20</td>\n      <td>17.0</td>\n      <td>101.0</td>\n      <td>NaN</td>\n      <td>NaN</td>\n      <td>NaN</td>\n      <td>NaN</td>\n      <td>NaN</td>\n      <td>NaN</td>\n    </tr>\n    <tr>\n      <th>69702</th>\n      <td>К9РВВнг(А)-LS 1х10ок-1</td>\n      <td>Кабель силовой с изоляцией из этиленпропиленов...</td>\n      <td>3.0</td>\n      <td>50.0</td>\n      <td>NaN</td>\n      <td>NaN</td>\n      <td>NaN</td>\n      <td>NaN</td>\n      <td>NaN</td>\n      <td>NaN</td>\n    </tr>\n  </tbody>\n</table>\n</div>"
     },
     "execution_count": 6,
     "metadata": {},
     "output_type": "execute_result"
    }
   ],
   "source": [
    "df.sample(5)"
   ],
   "metadata": {
    "collapsed": false,
    "ExecuteTime": {
     "end_time": "2023-09-11T14:40:05.822486700Z",
     "start_time": "2023-09-11T14:40:05.775054900Z"
    }
   }
  },
  {
   "cell_type": "code",
   "execution_count": 7,
   "outputs": [
    {
     "data": {
      "text/plain": "                   Id_x                                               Name  \\\n87948               К-6                         Колпачок ТУ-34-13-11232-87   \n65319     ZB3-8-Tr20-25   Зажим балочный 3-8мм под трубу 20 мм EKF PROxima   \n41694  HS-T2-11-827-E14  Лампа энергосберегающая HS-полуспираль 11W 270...   \n45433         LK2003HDZ  Крышка на X-ответвитель, осн.200, R-300мм, гор...   \n87082               У 1                                          Кронштейн   \n\n       HeadingId  CategoryId           StructureId  StandardProjectId  \\\n87948        9.0        14.0  ПВА10-1(2хСК120-6)-1              252.0   \n65319       17.0  20190823.0                   NaN                NaN   \n41694        0.0  20190823.0                   NaN                NaN   \n45433       15.0  20190823.0                   NaN                NaN   \n87082        8.0        58.0  КА10-1н(3хСВ105-5)-1              350.0   \n\n          TypeId  Diameter  CrossSection  ImageIndex  \n87948  support10       NaN           NaN         2.0  \n65319        NaN       NaN           NaN         NaN  \n41694        NaN       NaN           NaN         NaN  \n45433        NaN       NaN           NaN         NaN  \n87082  support10       NaN           NaN         2.0  ",
      "text/html": "<div>\n<style scoped>\n    .dataframe tbody tr th:only-of-type {\n        vertical-align: middle;\n    }\n\n    .dataframe tbody tr th {\n        vertical-align: top;\n    }\n\n    .dataframe thead th {\n        text-align: right;\n    }\n</style>\n<table border=\"1\" class=\"dataframe\">\n  <thead>\n    <tr style=\"text-align: right;\">\n      <th></th>\n      <th>Id_x</th>\n      <th>Name</th>\n      <th>HeadingId</th>\n      <th>CategoryId</th>\n      <th>StructureId</th>\n      <th>StandardProjectId</th>\n      <th>TypeId</th>\n      <th>Diameter</th>\n      <th>CrossSection</th>\n      <th>ImageIndex</th>\n    </tr>\n  </thead>\n  <tbody>\n    <tr>\n      <th>87948</th>\n      <td>К-6</td>\n      <td>Колпачок ТУ-34-13-11232-87</td>\n      <td>9.0</td>\n      <td>14.0</td>\n      <td>ПВА10-1(2хСК120-6)-1</td>\n      <td>252.0</td>\n      <td>support10</td>\n      <td>NaN</td>\n      <td>NaN</td>\n      <td>2.0</td>\n    </tr>\n    <tr>\n      <th>65319</th>\n      <td>ZB3-8-Tr20-25</td>\n      <td>Зажим балочный 3-8мм под трубу 20 мм EKF PROxima</td>\n      <td>17.0</td>\n      <td>20190823.0</td>\n      <td>NaN</td>\n      <td>NaN</td>\n      <td>NaN</td>\n      <td>NaN</td>\n      <td>NaN</td>\n      <td>NaN</td>\n    </tr>\n    <tr>\n      <th>41694</th>\n      <td>HS-T2-11-827-E14</td>\n      <td>Лампа энергосберегающая HS-полуспираль 11W 270...</td>\n      <td>0.0</td>\n      <td>20190823.0</td>\n      <td>NaN</td>\n      <td>NaN</td>\n      <td>NaN</td>\n      <td>NaN</td>\n      <td>NaN</td>\n      <td>NaN</td>\n    </tr>\n    <tr>\n      <th>45433</th>\n      <td>LK2003HDZ</td>\n      <td>Крышка на X-ответвитель, осн.200, R-300мм, гор...</td>\n      <td>15.0</td>\n      <td>20190823.0</td>\n      <td>NaN</td>\n      <td>NaN</td>\n      <td>NaN</td>\n      <td>NaN</td>\n      <td>NaN</td>\n      <td>NaN</td>\n    </tr>\n    <tr>\n      <th>87082</th>\n      <td>У 1</td>\n      <td>Кронштейн</td>\n      <td>8.0</td>\n      <td>58.0</td>\n      <td>КА10-1н(3хСВ105-5)-1</td>\n      <td>350.0</td>\n      <td>support10</td>\n      <td>NaN</td>\n      <td>NaN</td>\n      <td>2.0</td>\n    </tr>\n  </tbody>\n</table>\n</div>"
     },
     "execution_count": 7,
     "metadata": {},
     "output_type": "execute_result"
    }
   ],
   "source": [
    "df['StructureId'] = df['StructureId'].str.split('_').str[0]\n",
    "df['ImageIndex'] = df['ImageIndex'] + 1\n",
    "df.sample(5)"
   ],
   "metadata": {
    "collapsed": false,
    "ExecuteTime": {
     "end_time": "2023-09-11T14:40:07.453676500Z",
     "start_time": "2023-09-11T14:40:07.290038900Z"
    }
   }
  },
  {
   "cell_type": "code",
   "execution_count": 8,
   "outputs": [
    {
     "data": {
      "text/plain": "                           Id_x  \\\n108240             Болт М24х220   \n37188             EPKT 2302-L12   \n75291         ПвВнг(А)-3х120-10   \n88554                     GPE 7   \n29308   CLM50D-KPS-41-41-02-HDZ   \n\n                                                     Name  HeadingId  \\\n108240                 Болт М24х220, ГОСТ Р ИСО 4014-2013         15   \n37188   Муфта концевая наружной установки для 3-х жиль...          4   \n75291   Кабель силовой с медными жилами, с изоляцией и...          3   \n88554                                   Колпачок концевой          9   \n29308           Подвес потолочный STRUT 41х41-200 HDZ IEK         17   \n\n        CategoryId                    StructureId  StandardProjectId  \\\n108240          49                        А10-1Д                  43   \n37188     20200613                                                 0   \n75291          124                                                 0   \n88554           58  А2 (2хСВ95-2)-1с+ЛО.А+ВОЛЗ.А4                694   \n29308          101                                                 0   \n\n           TypeId  Diameter  CrossSection  ImageIndex  \n108240  support10       0.0           0.0           2  \n37188                   0.0           0.0           0  \n75291                   0.0           0.0           0  \n88554     support       0.0           0.0           3  \n29308                   0.0           0.0           0  ",
      "text/html": "<div>\n<style scoped>\n    .dataframe tbody tr th:only-of-type {\n        vertical-align: middle;\n    }\n\n    .dataframe tbody tr th {\n        vertical-align: top;\n    }\n\n    .dataframe thead th {\n        text-align: right;\n    }\n</style>\n<table border=\"1\" class=\"dataframe\">\n  <thead>\n    <tr style=\"text-align: right;\">\n      <th></th>\n      <th>Id_x</th>\n      <th>Name</th>\n      <th>HeadingId</th>\n      <th>CategoryId</th>\n      <th>StructureId</th>\n      <th>StandardProjectId</th>\n      <th>TypeId</th>\n      <th>Diameter</th>\n      <th>CrossSection</th>\n      <th>ImageIndex</th>\n    </tr>\n  </thead>\n  <tbody>\n    <tr>\n      <th>108240</th>\n      <td>Болт М24х220</td>\n      <td>Болт М24х220, ГОСТ Р ИСО 4014-2013</td>\n      <td>15</td>\n      <td>49</td>\n      <td>А10-1Д</td>\n      <td>43</td>\n      <td>support10</td>\n      <td>0.0</td>\n      <td>0.0</td>\n      <td>2</td>\n    </tr>\n    <tr>\n      <th>37188</th>\n      <td>EPKT 2302-L12</td>\n      <td>Муфта концевая наружной установки для 3-х жиль...</td>\n      <td>4</td>\n      <td>20200613</td>\n      <td></td>\n      <td>0</td>\n      <td></td>\n      <td>0.0</td>\n      <td>0.0</td>\n      <td>0</td>\n    </tr>\n    <tr>\n      <th>75291</th>\n      <td>ПвВнг(А)-3х120-10</td>\n      <td>Кабель силовой с медными жилами, с изоляцией и...</td>\n      <td>3</td>\n      <td>124</td>\n      <td></td>\n      <td>0</td>\n      <td></td>\n      <td>0.0</td>\n      <td>0.0</td>\n      <td>0</td>\n    </tr>\n    <tr>\n      <th>88554</th>\n      <td>GPE 7</td>\n      <td>Колпачок концевой</td>\n      <td>9</td>\n      <td>58</td>\n      <td>А2 (2хСВ95-2)-1с+ЛО.А+ВОЛЗ.А4</td>\n      <td>694</td>\n      <td>support</td>\n      <td>0.0</td>\n      <td>0.0</td>\n      <td>3</td>\n    </tr>\n    <tr>\n      <th>29308</th>\n      <td>CLM50D-KPS-41-41-02-HDZ</td>\n      <td>Подвес потолочный STRUT 41х41-200 HDZ IEK</td>\n      <td>17</td>\n      <td>101</td>\n      <td></td>\n      <td>0</td>\n      <td></td>\n      <td>0.0</td>\n      <td>0.0</td>\n      <td>0</td>\n    </tr>\n  </tbody>\n</table>\n</div>"
     },
     "execution_count": 8,
     "metadata": {},
     "output_type": "execute_result"
    }
   ],
   "source": [
    "df[['Name', 'StructureId', 'TypeId']] = df[['Name', 'StructureId', 'TypeId']].fillna('')\n",
    "df = df.fillna(0)\n",
    "\n",
    "df = df.drop_duplicates().reset_index(drop=True)\n",
    "df[['HeadingId', 'CategoryId', 'StandardProjectId', 'ImageIndex']] = df[['HeadingId', 'CategoryId', 'StandardProjectId', 'ImageIndex']].astype('int32')\n",
    "df.sample(5)"
   ],
   "metadata": {
    "collapsed": false,
    "ExecuteTime": {
     "end_time": "2023-09-11T14:40:15.153852100Z",
     "start_time": "2023-09-11T14:40:14.891305500Z"
    }
   }
  },
  {
   "cell_type": "markdown",
   "source": [
    "**NearestNeighbors**"
   ],
   "metadata": {
    "collapsed": false
   }
  },
  {
   "cell_type": "code",
   "execution_count": 9,
   "outputs": [
    {
     "data": {
      "text/plain": "array([[3.33333333e-01, 2.86840325e-06, 3.29069255e-01, 1.47157191e-01,\n        8.88888889e-01, 0.00000000e+00, 0.00000000e+00, 5.00000000e-01],\n       [3.70370370e-01, 4.94552284e-07, 3.29069255e-01, 1.47157191e-01,\n        8.88888889e-01, 0.00000000e+00, 0.00000000e+00, 5.00000000e-01],\n       [3.33333333e-01, 2.86840325e-06, 3.29069255e-01, 1.47157191e-01,\n        8.88888889e-01, 0.00000000e+00, 0.00000000e+00, 5.00000000e-01],\n       [3.33333333e-01, 2.86840325e-06, 3.29069255e-01, 1.47157191e-01,\n        8.88888889e-01, 0.00000000e+00, 0.00000000e+00, 5.00000000e-01],\n       [3.33333333e-01, 2.86840325e-06, 3.29069255e-01, 1.47157191e-01,\n        8.88888889e-01, 0.00000000e+00, 0.00000000e+00, 5.00000000e-01]])"
     },
     "execution_count": 9,
     "metadata": {},
     "output_type": "execute_result"
    }
   ],
   "source": [
    "features = df.drop(columns=['Id_x', 'Name'], axis=1)\n",
    "features['StructureId'] = encoder_struct.fit_transform(features['StructureId'])\n",
    "features['TypeId'] = encoder_type.fit_transform(features['TypeId'])\n",
    "features = scaler.fit_transform(features)\n",
    "features[0:5]"
   ],
   "metadata": {
    "collapsed": false,
    "ExecuteTime": {
     "end_time": "2023-09-11T14:40:19.029932800Z",
     "start_time": "2023-09-11T14:40:18.983104100Z"
    }
   }
  },
  {
   "cell_type": "code",
   "execution_count": 10,
   "outputs": [],
   "source": [
    "n_neighbors = 100\n",
    "model = NearestNeighbors(n_neighbors=n_neighbors, metric='cosine')\n",
    "model.fit(features);"
   ],
   "metadata": {
    "collapsed": false,
    "ExecuteTime": {
     "end_time": "2023-09-11T14:40:21.519692500Z",
     "start_time": "2023-09-11T14:40:21.500938400Z"
    }
   }
  },
  {
   "cell_type": "code",
   "execution_count": 11,
   "outputs": [
    {
     "data": {
      "text/plain": "             Id_x                                               Name  \\\n99765     COT36.2                          Бугель (скрепа) для ленты   \n99766     COT37.2  Лента бандажная стальная 20 мм x 0,70 мм x 50 ...   \n99767       PER15     Ремешок бандажный, L=300 мм, B=4,8 мм, D=80 мм   \n99768      SH702R                       Стяжка ж/б стойки типа СВ110   \n99769      SL37.2  Зажим соединительный плашечный; магистраль: 6-...   \n99770    SLIP22.1  Зажим влагозащищенный изолированный прокалываю...   \n99771  SLIP22.127  Зажим влагозащищенный изолированный прокалываю...   \n99772    SO250.01  Зажим натяжной клиновой для магистрали (50-70 ...   \n99773   SOT29.10R                              Крюк бандажный ø16 мм   \n99774         ЗП6                              Заземляющий проводник   \n99775        П-3и                                     Плита анкерная   \n99776      СВ95-3  Стойка железобетонная вибрированная, ТУ 5863-0...   \n99777          У4                                          Кронштейн   \n\n       HeadingId  CategoryId StructureId  StandardProjectId   TypeId  \\\n99765          9          28         А11                 47  support   \n99766          9          28         А11                 47  support   \n99767          9          28         А11                 47  support   \n99768          8          28         А11                 47  support   \n99769          9          28         А11                 47  support   \n99770          9          28         А11                 47  support   \n99771          9          28         А11                 47  support   \n99772          9          28         А11                 47  support   \n99773          9          72         А11                 47  support   \n99774          8          25         А11                 47  support   \n99775          7         116         А11                 47  support   \n99776          7         114         А11                 47  support   \n99777          8          19         А11                 47  support   \n\n       Diameter  CrossSection  ImageIndex  \n99765       0.0           0.0           3  \n99766       0.0           0.0           3  \n99767       0.0           0.0           3  \n99768       0.0           0.0           3  \n99769       0.0           0.0           3  \n99770       0.0           0.0           3  \n99771       0.0           0.0           3  \n99772       0.0           0.0           3  \n99773       0.0           0.0           3  \n99774       0.0           0.0           3  \n99775       0.0           0.0           3  \n99776       0.0           0.0           3  \n99777       0.0           0.0           3  ",
      "text/html": "<div>\n<style scoped>\n    .dataframe tbody tr th:only-of-type {\n        vertical-align: middle;\n    }\n\n    .dataframe tbody tr th {\n        vertical-align: top;\n    }\n\n    .dataframe thead th {\n        text-align: right;\n    }\n</style>\n<table border=\"1\" class=\"dataframe\">\n  <thead>\n    <tr style=\"text-align: right;\">\n      <th></th>\n      <th>Id_x</th>\n      <th>Name</th>\n      <th>HeadingId</th>\n      <th>CategoryId</th>\n      <th>StructureId</th>\n      <th>StandardProjectId</th>\n      <th>TypeId</th>\n      <th>Diameter</th>\n      <th>CrossSection</th>\n      <th>ImageIndex</th>\n    </tr>\n  </thead>\n  <tbody>\n    <tr>\n      <th>99765</th>\n      <td>COT36.2</td>\n      <td>Бугель (скрепа) для ленты</td>\n      <td>9</td>\n      <td>28</td>\n      <td>А11</td>\n      <td>47</td>\n      <td>support</td>\n      <td>0.0</td>\n      <td>0.0</td>\n      <td>3</td>\n    </tr>\n    <tr>\n      <th>99766</th>\n      <td>COT37.2</td>\n      <td>Лента бандажная стальная 20 мм x 0,70 мм x 50 ...</td>\n      <td>9</td>\n      <td>28</td>\n      <td>А11</td>\n      <td>47</td>\n      <td>support</td>\n      <td>0.0</td>\n      <td>0.0</td>\n      <td>3</td>\n    </tr>\n    <tr>\n      <th>99767</th>\n      <td>PER15</td>\n      <td>Ремешок бандажный, L=300 мм, B=4,8 мм, D=80 мм</td>\n      <td>9</td>\n      <td>28</td>\n      <td>А11</td>\n      <td>47</td>\n      <td>support</td>\n      <td>0.0</td>\n      <td>0.0</td>\n      <td>3</td>\n    </tr>\n    <tr>\n      <th>99768</th>\n      <td>SH702R</td>\n      <td>Стяжка ж/б стойки типа СВ110</td>\n      <td>8</td>\n      <td>28</td>\n      <td>А11</td>\n      <td>47</td>\n      <td>support</td>\n      <td>0.0</td>\n      <td>0.0</td>\n      <td>3</td>\n    </tr>\n    <tr>\n      <th>99769</th>\n      <td>SL37.2</td>\n      <td>Зажим соединительный плашечный; магистраль: 6-...</td>\n      <td>9</td>\n      <td>28</td>\n      <td>А11</td>\n      <td>47</td>\n      <td>support</td>\n      <td>0.0</td>\n      <td>0.0</td>\n      <td>3</td>\n    </tr>\n    <tr>\n      <th>99770</th>\n      <td>SLIP22.1</td>\n      <td>Зажим влагозащищенный изолированный прокалываю...</td>\n      <td>9</td>\n      <td>28</td>\n      <td>А11</td>\n      <td>47</td>\n      <td>support</td>\n      <td>0.0</td>\n      <td>0.0</td>\n      <td>3</td>\n    </tr>\n    <tr>\n      <th>99771</th>\n      <td>SLIP22.127</td>\n      <td>Зажим влагозащищенный изолированный прокалываю...</td>\n      <td>9</td>\n      <td>28</td>\n      <td>А11</td>\n      <td>47</td>\n      <td>support</td>\n      <td>0.0</td>\n      <td>0.0</td>\n      <td>3</td>\n    </tr>\n    <tr>\n      <th>99772</th>\n      <td>SO250.01</td>\n      <td>Зажим натяжной клиновой для магистрали (50-70 ...</td>\n      <td>9</td>\n      <td>28</td>\n      <td>А11</td>\n      <td>47</td>\n      <td>support</td>\n      <td>0.0</td>\n      <td>0.0</td>\n      <td>3</td>\n    </tr>\n    <tr>\n      <th>99773</th>\n      <td>SOT29.10R</td>\n      <td>Крюк бандажный ø16 мм</td>\n      <td>9</td>\n      <td>72</td>\n      <td>А11</td>\n      <td>47</td>\n      <td>support</td>\n      <td>0.0</td>\n      <td>0.0</td>\n      <td>3</td>\n    </tr>\n    <tr>\n      <th>99774</th>\n      <td>ЗП6</td>\n      <td>Заземляющий проводник</td>\n      <td>8</td>\n      <td>25</td>\n      <td>А11</td>\n      <td>47</td>\n      <td>support</td>\n      <td>0.0</td>\n      <td>0.0</td>\n      <td>3</td>\n    </tr>\n    <tr>\n      <th>99775</th>\n      <td>П-3и</td>\n      <td>Плита анкерная</td>\n      <td>7</td>\n      <td>116</td>\n      <td>А11</td>\n      <td>47</td>\n      <td>support</td>\n      <td>0.0</td>\n      <td>0.0</td>\n      <td>3</td>\n    </tr>\n    <tr>\n      <th>99776</th>\n      <td>СВ95-3</td>\n      <td>Стойка железобетонная вибрированная, ТУ 5863-0...</td>\n      <td>7</td>\n      <td>114</td>\n      <td>А11</td>\n      <td>47</td>\n      <td>support</td>\n      <td>0.0</td>\n      <td>0.0</td>\n      <td>3</td>\n    </tr>\n    <tr>\n      <th>99777</th>\n      <td>У4</td>\n      <td>Кронштейн</td>\n      <td>8</td>\n      <td>19</td>\n      <td>А11</td>\n      <td>47</td>\n      <td>support</td>\n      <td>0.0</td>\n      <td>0.0</td>\n      <td>3</td>\n    </tr>\n  </tbody>\n</table>\n</div>"
     },
     "execution_count": 11,
     "metadata": {},
     "output_type": "execute_result"
    }
   ],
   "source": [
    "request = df[df['StructureId'] == 'А11']\n",
    "request"
   ],
   "metadata": {
    "collapsed": false,
    "ExecuteTime": {
     "end_time": "2023-09-11T14:40:22.111344200Z",
     "start_time": "2023-09-11T14:40:22.078549300Z"
    }
   }
  },
  {
   "cell_type": "code",
   "execution_count": 12,
   "outputs": [
    {
     "data": {
      "text/plain": "                Id_x                                               Name  \\\n87344        PA 1500    Анкерный клиновый зажим. Cечение жилы 50-70 мм2   \n106087         PD2.2                                Гайка крюкообразная   \n87343           KZP1                                              Зажим   \n94922           P 72  Зажим для подкл. абонента к изолир. магистраль...   \n87346            ЗПВ                     Зажим переходной прокалывающий   \n87349         ПС-1-1                                    Зажим плашечный   \n87372           ЗП1М                              Заземляющий проводник   \n87345           ЗП2М                              Заземляющий проводник   \n87342           KR 1                                  Кабельный ремешок   \n99781      PK99.2595       Колпачок защитный для провода 25-95(120) мм²   \n87340        CA-2000             Кроншт.ейн анкерный CА2000 EKF PROxima   \n94918        CS 10.3                                 Кронштейн анкерный   \n106088      SOT21.1R                          Крюк M20, L=240, сквозной   \n87341           F 20               Лента металлическая 20х0,7(0,8)х1000   \n94920          F 207                 Металлическая лента 20x0,7x1000 мм   \n99898     ОГС-0,7-10                Опора граненая силовая, 0,7 т, 10 м   \n99934    ОГККВ-7,5 А  Опора квартальная для воздушной подводки питан...   \n87348          МУ104                                              Плита   \n87347          МУ103                                              Плита   \n87350            С20                                             Скрепа   \n106261       СВ95-2а  Стойка железобетонная вибрированная, ТУ 5863-0...   \n94924            Г11                                             Стяжка   \n94919          E 778     Стяжной хомут для жгута СИП диаметром 10-45 мм   \n99900   ФМ-0,219-2,5                            Фундамент металлический   \n99918   ФМ-0,159-2,2                            Фундамент металлический   \n\n        HeadingId  CategoryId StructureId  StandardProjectId   TypeId  \\\n87344           9          95         А29                 44  support   \n106087          9          72         А12                 48  support   \n87343           9          26         А29                 44  support   \n94922           9          95         А23                  2  support   \n87346           9          26         А29                 44  support   \n87349           9          26         А29                 44  support   \n87372           8          25        АО29                 44  support   \n87345           8          25         А29                 44  support   \n87342           9          26         А29                 44  support   \n99781           9          28       А11-к                 47  support   \n87340           9          95         А29                 44  support   \n94918           9          95         А23                  2  support   \n106088          9          72         А12                 48  support   \n87341           9          26         А29                 44  support   \n94920           9          95         А23                  2  support   \n99898           8          30          АМ                 58  support   \n99934           8          30       АМкв.                 57  support   \n87348           8           9         А29                 44  support   \n87347           8           9         А29                 44  support   \n87350           9          26         А29                 44  support   \n106261          7         114         АО3                 63  support   \n94924           8          20         А23                  2  support   \n94919           9          95         А23                  2  support   \n99900           8          45          АМ                 58  support   \n99918           8          45        АМаб                 60  support   \n\n        Diameter  CrossSection  ImageIndex      distance  \n87344        0.0           0.0           3  2.092735e-04  \n106087       0.0           0.0           3  1.082371e-06  \n87343        0.0           0.0           3  2.092735e-04  \n94922        0.0           0.0           3  1.084449e-03  \n87346        0.0           0.0           3  2.092735e-04  \n87349        0.0           0.0           3  2.092735e-04  \n87372        0.0           0.0           3  1.458820e-03  \n87345        0.0           0.0           3  2.128643e-04  \n87342        0.0           0.0           3  2.092735e-04  \n99781        0.0           0.0           3  7.049438e-08  \n87340        0.0           0.0           3  2.092735e-04  \n94918        0.0           0.0           3  1.084449e-03  \n106088       0.0           0.0           3  1.082371e-06  \n87341        0.0           0.0           3  2.092735e-04  \n94920        0.0           0.0           3  1.084449e-03  \n99898        0.0           0.0           3  1.255191e-03  \n99934        0.0           0.0           3  1.736768e-03  \n87348        0.0           0.0           3  2.128643e-04  \n87347        0.0           0.0           3  6.877366e-04  \n87350        0.0           0.0           3  2.092735e-04  \n106261       0.0           0.0           3  1.610164e-03  \n94924        0.0           0.0           3  1.103147e-03  \n94919        0.0           0.0           3  1.084449e-03  \n99900        0.0           0.0           3  1.709037e-03  \n99918        0.0           0.0           3  1.747905e-03  ",
      "text/html": "<div>\n<style scoped>\n    .dataframe tbody tr th:only-of-type {\n        vertical-align: middle;\n    }\n\n    .dataframe tbody tr th {\n        vertical-align: top;\n    }\n\n    .dataframe thead th {\n        text-align: right;\n    }\n</style>\n<table border=\"1\" class=\"dataframe\">\n  <thead>\n    <tr style=\"text-align: right;\">\n      <th></th>\n      <th>Id_x</th>\n      <th>Name</th>\n      <th>HeadingId</th>\n      <th>CategoryId</th>\n      <th>StructureId</th>\n      <th>StandardProjectId</th>\n      <th>TypeId</th>\n      <th>Diameter</th>\n      <th>CrossSection</th>\n      <th>ImageIndex</th>\n      <th>distance</th>\n    </tr>\n  </thead>\n  <tbody>\n    <tr>\n      <th>87344</th>\n      <td>PA 1500</td>\n      <td>Анкерный клиновый зажим. Cечение жилы 50-70 мм2</td>\n      <td>9</td>\n      <td>95</td>\n      <td>А29</td>\n      <td>44</td>\n      <td>support</td>\n      <td>0.0</td>\n      <td>0.0</td>\n      <td>3</td>\n      <td>2.092735e-04</td>\n    </tr>\n    <tr>\n      <th>106087</th>\n      <td>PD2.2</td>\n      <td>Гайка крюкообразная</td>\n      <td>9</td>\n      <td>72</td>\n      <td>А12</td>\n      <td>48</td>\n      <td>support</td>\n      <td>0.0</td>\n      <td>0.0</td>\n      <td>3</td>\n      <td>1.082371e-06</td>\n    </tr>\n    <tr>\n      <th>87343</th>\n      <td>KZP1</td>\n      <td>Зажим</td>\n      <td>9</td>\n      <td>26</td>\n      <td>А29</td>\n      <td>44</td>\n      <td>support</td>\n      <td>0.0</td>\n      <td>0.0</td>\n      <td>3</td>\n      <td>2.092735e-04</td>\n    </tr>\n    <tr>\n      <th>94922</th>\n      <td>P 72</td>\n      <td>Зажим для подкл. абонента к изолир. магистраль...</td>\n      <td>9</td>\n      <td>95</td>\n      <td>А23</td>\n      <td>2</td>\n      <td>support</td>\n      <td>0.0</td>\n      <td>0.0</td>\n      <td>3</td>\n      <td>1.084449e-03</td>\n    </tr>\n    <tr>\n      <th>87346</th>\n      <td>ЗПВ</td>\n      <td>Зажим переходной прокалывающий</td>\n      <td>9</td>\n      <td>26</td>\n      <td>А29</td>\n      <td>44</td>\n      <td>support</td>\n      <td>0.0</td>\n      <td>0.0</td>\n      <td>3</td>\n      <td>2.092735e-04</td>\n    </tr>\n    <tr>\n      <th>87349</th>\n      <td>ПС-1-1</td>\n      <td>Зажим плашечный</td>\n      <td>9</td>\n      <td>26</td>\n      <td>А29</td>\n      <td>44</td>\n      <td>support</td>\n      <td>0.0</td>\n      <td>0.0</td>\n      <td>3</td>\n      <td>2.092735e-04</td>\n    </tr>\n    <tr>\n      <th>87372</th>\n      <td>ЗП1М</td>\n      <td>Заземляющий проводник</td>\n      <td>8</td>\n      <td>25</td>\n      <td>АО29</td>\n      <td>44</td>\n      <td>support</td>\n      <td>0.0</td>\n      <td>0.0</td>\n      <td>3</td>\n      <td>1.458820e-03</td>\n    </tr>\n    <tr>\n      <th>87345</th>\n      <td>ЗП2М</td>\n      <td>Заземляющий проводник</td>\n      <td>8</td>\n      <td>25</td>\n      <td>А29</td>\n      <td>44</td>\n      <td>support</td>\n      <td>0.0</td>\n      <td>0.0</td>\n      <td>3</td>\n      <td>2.128643e-04</td>\n    </tr>\n    <tr>\n      <th>87342</th>\n      <td>KR 1</td>\n      <td>Кабельный ремешок</td>\n      <td>9</td>\n      <td>26</td>\n      <td>А29</td>\n      <td>44</td>\n      <td>support</td>\n      <td>0.0</td>\n      <td>0.0</td>\n      <td>3</td>\n      <td>2.092735e-04</td>\n    </tr>\n    <tr>\n      <th>99781</th>\n      <td>PK99.2595</td>\n      <td>Колпачок защитный для провода 25-95(120) мм²</td>\n      <td>9</td>\n      <td>28</td>\n      <td>А11-к</td>\n      <td>47</td>\n      <td>support</td>\n      <td>0.0</td>\n      <td>0.0</td>\n      <td>3</td>\n      <td>7.049438e-08</td>\n    </tr>\n    <tr>\n      <th>87340</th>\n      <td>CA-2000</td>\n      <td>Кроншт.ейн анкерный CА2000 EKF PROxima</td>\n      <td>9</td>\n      <td>95</td>\n      <td>А29</td>\n      <td>44</td>\n      <td>support</td>\n      <td>0.0</td>\n      <td>0.0</td>\n      <td>3</td>\n      <td>2.092735e-04</td>\n    </tr>\n    <tr>\n      <th>94918</th>\n      <td>CS 10.3</td>\n      <td>Кронштейн анкерный</td>\n      <td>9</td>\n      <td>95</td>\n      <td>А23</td>\n      <td>2</td>\n      <td>support</td>\n      <td>0.0</td>\n      <td>0.0</td>\n      <td>3</td>\n      <td>1.084449e-03</td>\n    </tr>\n    <tr>\n      <th>106088</th>\n      <td>SOT21.1R</td>\n      <td>Крюк M20, L=240, сквозной</td>\n      <td>9</td>\n      <td>72</td>\n      <td>А12</td>\n      <td>48</td>\n      <td>support</td>\n      <td>0.0</td>\n      <td>0.0</td>\n      <td>3</td>\n      <td>1.082371e-06</td>\n    </tr>\n    <tr>\n      <th>87341</th>\n      <td>F 20</td>\n      <td>Лента металлическая 20х0,7(0,8)х1000</td>\n      <td>9</td>\n      <td>26</td>\n      <td>А29</td>\n      <td>44</td>\n      <td>support</td>\n      <td>0.0</td>\n      <td>0.0</td>\n      <td>3</td>\n      <td>2.092735e-04</td>\n    </tr>\n    <tr>\n      <th>94920</th>\n      <td>F 207</td>\n      <td>Металлическая лента 20x0,7x1000 мм</td>\n      <td>9</td>\n      <td>95</td>\n      <td>А23</td>\n      <td>2</td>\n      <td>support</td>\n      <td>0.0</td>\n      <td>0.0</td>\n      <td>3</td>\n      <td>1.084449e-03</td>\n    </tr>\n    <tr>\n      <th>99898</th>\n      <td>ОГС-0,7-10</td>\n      <td>Опора граненая силовая, 0,7 т, 10 м</td>\n      <td>8</td>\n      <td>30</td>\n      <td>АМ</td>\n      <td>58</td>\n      <td>support</td>\n      <td>0.0</td>\n      <td>0.0</td>\n      <td>3</td>\n      <td>1.255191e-03</td>\n    </tr>\n    <tr>\n      <th>99934</th>\n      <td>ОГККВ-7,5 А</td>\n      <td>Опора квартальная для воздушной подводки питан...</td>\n      <td>8</td>\n      <td>30</td>\n      <td>АМкв.</td>\n      <td>57</td>\n      <td>support</td>\n      <td>0.0</td>\n      <td>0.0</td>\n      <td>3</td>\n      <td>1.736768e-03</td>\n    </tr>\n    <tr>\n      <th>87348</th>\n      <td>МУ104</td>\n      <td>Плита</td>\n      <td>8</td>\n      <td>9</td>\n      <td>А29</td>\n      <td>44</td>\n      <td>support</td>\n      <td>0.0</td>\n      <td>0.0</td>\n      <td>3</td>\n      <td>2.128643e-04</td>\n    </tr>\n    <tr>\n      <th>87347</th>\n      <td>МУ103</td>\n      <td>Плита</td>\n      <td>8</td>\n      <td>9</td>\n      <td>А29</td>\n      <td>44</td>\n      <td>support</td>\n      <td>0.0</td>\n      <td>0.0</td>\n      <td>3</td>\n      <td>6.877366e-04</td>\n    </tr>\n    <tr>\n      <th>87350</th>\n      <td>С20</td>\n      <td>Скрепа</td>\n      <td>9</td>\n      <td>26</td>\n      <td>А29</td>\n      <td>44</td>\n      <td>support</td>\n      <td>0.0</td>\n      <td>0.0</td>\n      <td>3</td>\n      <td>2.092735e-04</td>\n    </tr>\n    <tr>\n      <th>106261</th>\n      <td>СВ95-2а</td>\n      <td>Стойка железобетонная вибрированная, ТУ 5863-0...</td>\n      <td>7</td>\n      <td>114</td>\n      <td>АО3</td>\n      <td>63</td>\n      <td>support</td>\n      <td>0.0</td>\n      <td>0.0</td>\n      <td>3</td>\n      <td>1.610164e-03</td>\n    </tr>\n    <tr>\n      <th>94924</th>\n      <td>Г11</td>\n      <td>Стяжка</td>\n      <td>8</td>\n      <td>20</td>\n      <td>А23</td>\n      <td>2</td>\n      <td>support</td>\n      <td>0.0</td>\n      <td>0.0</td>\n      <td>3</td>\n      <td>1.103147e-03</td>\n    </tr>\n    <tr>\n      <th>94919</th>\n      <td>E 778</td>\n      <td>Стяжной хомут для жгута СИП диаметром 10-45 мм</td>\n      <td>9</td>\n      <td>95</td>\n      <td>А23</td>\n      <td>2</td>\n      <td>support</td>\n      <td>0.0</td>\n      <td>0.0</td>\n      <td>3</td>\n      <td>1.084449e-03</td>\n    </tr>\n    <tr>\n      <th>99900</th>\n      <td>ФМ-0,219-2,5</td>\n      <td>Фундамент металлический</td>\n      <td>8</td>\n      <td>45</td>\n      <td>АМ</td>\n      <td>58</td>\n      <td>support</td>\n      <td>0.0</td>\n      <td>0.0</td>\n      <td>3</td>\n      <td>1.709037e-03</td>\n    </tr>\n    <tr>\n      <th>99918</th>\n      <td>ФМ-0,159-2,2</td>\n      <td>Фундамент металлический</td>\n      <td>8</td>\n      <td>45</td>\n      <td>АМаб</td>\n      <td>60</td>\n      <td>support</td>\n      <td>0.0</td>\n      <td>0.0</td>\n      <td>3</td>\n      <td>1.747905e-03</td>\n    </tr>\n  </tbody>\n</table>\n</div>"
     },
     "execution_count": 12,
     "metadata": {},
     "output_type": "execute_result"
    }
   ],
   "source": [
    "results = pd.DataFrame()\n",
    "for _ in range(request.shape[0]):\n",
    "    element = request.iloc[[_]].drop(columns=['Id_x', 'Name'])\n",
    "    element['StructureId'] = encoder_struct.transform(element['StructureId'])\n",
    "    element['TypeId'] = encoder_type.transform(element['TypeId'])\n",
    "    element = scaler.transform(element)\n",
    "    answer = model.kneighbors(element)\n",
    "    result = df.loc[answer[1][0]]\n",
    "    result['distance'] = answer[0][0]\n",
    "    result = result[~result['Id_x'].isin(request['Id_x'])]\n",
    "    try:\n",
    "        result = result[~result['Id_x'].isin(results['Id_x'])]\n",
    "    except:\n",
    "        pass\n",
    "    result = result.drop_duplicates(subset=['Id_x'])\n",
    "    result = result[:int(np.ceil(25 / request.shape[0]))]\n",
    "    results = pd.concat([results, result], axis=0)\n",
    "\n",
    "results = results.sort_values(by='distance').head(25).sort_values(by='Name')\n",
    "results"
   ],
   "metadata": {
    "collapsed": false,
    "ExecuteTime": {
     "end_time": "2023-09-11T14:40:26.145492600Z",
     "start_time": "2023-09-11T14:40:25.850719500Z"
    }
   }
  },
  {
   "cell_type": "code",
   "execution_count": null,
   "outputs": [],
   "source": [],
   "metadata": {
    "collapsed": false
   }
  }
 ],
 "metadata": {
  "kernelspec": {
   "display_name": "Python 3",
   "language": "python",
   "name": "python3"
  },
  "language_info": {
   "codemirror_mode": {
    "name": "ipython",
    "version": 2
   },
   "file_extension": ".py",
   "mimetype": "text/x-python",
   "name": "python",
   "nbconvert_exporter": "python",
   "pygments_lexer": "ipython2",
   "version": "2.7.6"
  }
 },
 "nbformat": 4,
 "nbformat_minor": 0
}
