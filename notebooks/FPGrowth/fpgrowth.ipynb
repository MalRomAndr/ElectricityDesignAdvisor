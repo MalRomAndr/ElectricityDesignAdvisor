{
 "cells": [
  {
   "cell_type": "code",
   "execution_count": 1,
   "metadata": {
    "ExecuteTime": {
     "end_time": "2023-09-25T15:58:11.016304700Z",
     "start_time": "2023-09-25T15:58:09.807487800Z"
    }
   },
   "outputs": [],
   "source": [
    "import pandas as pd\n",
    "import numpy as np\n",
    "import math\n",
    "import sqlite3\n",
    "\n",
    "from sklearn.model_selection import KFold\n",
    "\n",
    "from mlxtend.frequent_patterns import fpgrowth, association_rules\n",
    "from mlxtend.preprocessing import TransactionEncoder"
   ]
  },
  {
   "cell_type": "code",
   "execution_count": 2,
   "metadata": {
    "ExecuteTime": {
     "end_time": "2023-09-25T15:58:11.127634Z",
     "start_time": "2023-09-25T15:58:11.108182400Z"
    }
   },
   "outputs": [],
   "source": [
    "te = TransactionEncoder()"
   ]
  },
  {
   "cell_type": "code",
   "execution_count": 3,
   "metadata": {
    "ExecuteTime": {
     "end_time": "2023-09-25T15:58:12.506381200Z",
     "start_time": "2023-09-25T15:58:12.491422900Z"
    }
   },
   "outputs": [],
   "source": [
    "conn = sqlite3.connect('../../maindatabase.db')"
   ]
  },
  {
   "cell_type": "code",
   "execution_count": 4,
   "metadata": {
    "ExecuteTime": {
     "end_time": "2023-09-25T15:58:14.104003800Z",
     "start_time": "2023-09-25T15:58:13.788658600Z"
    }
   },
   "outputs": [],
   "source": [
    "# Подгружаем таблицы из sql\n",
    "data_Parts = pd.read_sql(\"select Id, Name from Parts;\", con=conn)\n",
    "data_StructuresParts = pd.read_sql(\"select StructureId, PartId from StructuresParts;\", con=conn)\n",
    "data_Structures = pd.read_sql(\"select Id, TypeId from Structures;\", con=conn)\n",
    "data_Conductors = pd.read_sql(\"select PartId, TypeId from Conductors;\", con=conn)"
   ]
  },
  {
   "cell_type": "code",
   "execution_count": 5,
   "metadata": {
    "ExecuteTime": {
     "end_time": "2023-09-25T15:58:14.291806100Z",
     "start_time": "2023-09-25T15:58:14.156835300Z"
    }
   },
   "outputs": [],
   "source": [
    "# Объединяем в датасет\n",
    "df = data_Parts.merge(data_StructuresParts, left_on='Id', right_on='PartId', how='outer').drop('PartId', axis=1)\n",
    "data_Structures.rename(columns={'Id': 'Id_str'}, inplace=True)\n",
    "df = df.merge(data_Structures, left_on='StructureId', right_on='Id_str').drop(labels='Id_str', axis=1)\n",
    "data_Conductors.rename(columns={'PartId': 'Id'}, inplace=True)\n",
    "df = pd.concat([df, data_Conductors], axis=0)"
   ]
  },
  {
   "cell_type": "code",
   "execution_count": 6,
   "metadata": {
    "ExecuteTime": {
     "end_time": "2023-09-25T15:58:14.628700300Z",
     "start_time": "2023-09-25T15:58:14.436334300Z"
    }
   },
   "outputs": [],
   "source": [
    "# Отсекаем лишнее в наименованиях опор\n",
    "df['StructureId'] = df['StructureId'].str.split('_').str[0]\n",
    "\n",
    "# Заполняем пропуски в данных\n",
    "df[['Name', 'StructureId']] = df[['Name', 'StructureId']].fillna('')\n",
    "\n",
    "# Удаляем строки дубликаты\n",
    "df = df.drop_duplicates().reset_index(drop=True) "
   ]
  },
  {
   "cell_type": "code",
   "execution_count": 7,
   "metadata": {
    "ExecuteTime": {
     "end_time": "2023-09-25T15:58:14.874923200Z",
     "start_time": "2023-09-25T15:58:14.681035600Z"
    }
   },
   "outputs": [],
   "source": [
    "# Создаем список транзакций\n",
    "transactions = df.groupby(by='StructureId')['Id'].unique().to_frame().reset_index(drop=False).drop(0, axis=0)"
   ]
  },
  {
   "cell_type": "code",
   "execution_count": 8,
   "metadata": {
    "ExecuteTime": {
     "end_time": "2023-09-25T15:58:15.158336800Z",
     "start_time": "2023-09-25T15:58:15.126551700Z"
    }
   },
   "outputs": [],
   "source": [
    "# Кодируем\n",
    "encoded_tr = pd.DataFrame(te.fit(transactions['Id']).transform(transactions['Id']), columns=te.columns_)"
   ]
  },
  {
   "cell_type": "code",
   "execution_count": 9,
   "metadata": {
    "ExecuteTime": {
     "end_time": "2023-09-25T15:58:17.357764400Z",
     "start_time": "2023-09-25T15:58:15.405231400Z"
    }
   },
   "outputs": [],
   "source": [
    "# Найдём наиболее частые наборы\n",
    "frequent_itemsets = fpgrowth(encoded_tr, min_support=0.001, use_colnames=True, max_len=2)"
   ]
  },
  {
   "cell_type": "code",
   "execution_count": 10,
   "metadata": {
    "ExecuteTime": {
     "end_time": "2023-09-25T15:58:17.652953Z",
     "start_time": "2023-09-25T15:58:17.360757800Z"
    }
   },
   "outputs": [],
   "source": [
    "rules = association_rules(frequent_itemsets, metric=\"support\", min_threshold=0) #[['antecedents', 'consequents', 'confidence']]\n",
    "rules['antecedents'] = rules['antecedents'].apply(lambda x: list(x)[0])\n",
    "rules['consequents'] = rules['consequents'].apply(lambda x: list(x)[0])"
   ]
  },
  {
   "cell_type": "code",
   "execution_count": 11,
   "metadata": {
    "ExecuteTime": {
     "end_time": "2023-09-25T15:58:17.679195Z",
     "start_time": "2023-09-25T15:58:17.653952200Z"
    }
   },
   "outputs": [],
   "source": [
    "request = df[df['StructureId'] == 'А11']"
   ]
  },
  {
   "cell_type": "code",
   "execution_count": 12,
   "metadata": {
    "ExecuteTime": {
     "end_time": "2023-09-25T15:58:18.640118100Z",
     "start_time": "2023-09-25T15:58:18.619374600Z"
    }
   },
   "outputs": [],
   "source": [
    "def get_results(request):\n",
    "    results = pd.DataFrame()\n",
    "    for _ in range(request.shape[0]):\n",
    "        # Берем Id одного элемента из запроса\n",
    "        element = request.iloc[_]['Id']\n",
    "\n",
    "        # Находим все ассоциации по этому элементу\n",
    "        answer = rules[rules['antecedents'] == element]\n",
    "\n",
    "        # Проверяем, чтобы предлагаемые элементы не содержались в запросе, сортируем Id\n",
    "        answer = answer[~answer['consequents'].isin(request['Id'])].sort_values(by='consequents')\n",
    "\n",
    "        # Находим результат по найденным предложениям, проверяем совпадение по TypeId\n",
    "        result = df[(df['Id'].isin(answer['consequents'])) & (df['TypeId'] == request.iloc[_]['TypeId'])]\n",
    "\n",
    "        # Удаляем дубликаты, сортируем по Id\n",
    "        result = result.drop_duplicates(subset=['Id']).sort_values(by='Id')\n",
    "\n",
    "        # Приводим ответ в соответствие с отфильтрованным результатом\n",
    "        answer = answer[answer['consequents'].isin(result['Id'])]\n",
    "\n",
    "        # Добавляем в таблицу с результатом метрику из ответа\n",
    "        result['metric'] = list((answer['confidence']*0.55 + answer['consequent support']*0.45))\n",
    "        result['request'] = list(answer['antecedents'])\n",
    "\n",
    "        # Сортируем результат по метрике\n",
    "        result = result.sort_values(by='metric', ascending=False)\n",
    "\n",
    "        # Удаляем из результата повторения по id в общих результатах\n",
    "        try: result = result[~result['Id'].isin(results['Id'])]\n",
    "        except: pass\n",
    "\n",
    "        # Берем верхние строки\n",
    "        result = result[:math.ceil(25 / request.shape[0])]\n",
    "\n",
    "        # Добавляем результат по одному элементу в общие результаты\n",
    "        results = pd.concat([results, result], axis=0)\n",
    "\n",
    "    results = results.sort_values(by='metric', ascending=False).head(25).sort_values(by='Id')\n",
    "    \n",
    "    return results"
   ]
  },
  {
   "cell_type": "code",
   "execution_count": 13,
   "metadata": {
    "ExecuteTime": {
     "end_time": "2023-09-25T15:58:20.011072700Z",
     "start_time": "2023-09-25T15:58:19.811075100Z"
    }
   },
   "outputs": [
    {
     "data": {
      "text/plain": "                           Id  \\\n19518                   COT36   \n19519                   COT37   \n2782          LUG6-50/12LVTIN   \n2760                     P 72   \n2761                  PA 1500   \n19521                  SL37.1   \n19964                  SM2.21   \n20206                SO130.02   \n19965                  SO234S   \n19966               SOT21.01R   \n7243                  TND 151   \n16159                     d10   \n2336                      А16   \n2792                 АПВ 1х10   \n2793        Бетон В20 W6 F200   \n2794                  Болт М8   \n2763                      Г11   \n2795                Гайка М12   \n2796                 Гайка М8   \n19969                   МГ 16   \n7577                   ПС-1-1   \n2800                    Песок   \n8554                  СВ110-5   \n2804   Шайба 12 ГОСТ 11371-78   \n2805    Шайба 8 ГОСТ 11371-78   \n\n                                                    Name  \\\n19518                                             Скрепа   \n19519                Лента бандажная стальная 19х0,75 мм   \n2782   Наконечник кабельный AL/Cu с болтами со срывно...   \n2760   Зажим для подкл. абонента к изолир. магистраль...   \n2761     Анкерный клиновый зажим. Cечение жилы 50-70 мм2   \n19521  Зажим соединительный плашечный; магистраль: 6-...   \n19964  Зажим плашечный соединительный (медь-алюминий)...   \n20206  Зажим поддерживающий 2-4х(25-50) на угловых оп...   \n19965                Зажим анкерный 4х50/4х70/4х95/4х120   \n19966                        Крюк сквозной M20, L=240 мм   \n7243      Зажим для повторных заземлений PEN проводника    \n16159               Сталь круглая d10 мм, ГОСТ 2590-2006   \n2336   Провод неизолированный марки А по ГОСТ 839-201...   \n2792                   Провод алюминиевый в ПВХ изоляции   \n2793                                               Бетон   \n2794                       Болт М8, ГОСТ Р ИСО 4014-2013   \n2763                                              Стяжка   \n2795                       Гайка М12, ГОСТ ISO 4032-2014   \n2796                        Гайка М8, ГОСТ ISO 4032-2014   \n19969  Провод неизолированный медный, сечением 16 мм²...   \n7577                                     Зажим плашечный   \n2800        Песок для строительных работ, ГОСТ 8736-2014   \n8554   Стойка железобетонная вибрированная, ТУ 5863-0...   \n2804                                Шайба, ГОСТ 11371-78   \n2805                                Шайба, ГОСТ 11371-78   \n\n                StructureId   TypeId    metric     request  \n19518                  Pole  support  0.171717      SL37.2  \n19519                  Pole  support  0.171717      SL37.2  \n2782            ККМкв вар.3  support  0.258639     COT37.2  \n2760              А23-к-каб  support  0.224078         ЗП6  \n2761              А23-к-каб  support  0.184939      СВ95-3  \n19521                  Pole  support  0.177820      SH702R  \n19964                    К2  support  0.182818    SLIP22.1  \n20206                   ОА2  support  0.164769  SLIP22.127  \n19965                    К2  support  0.276869      SH702R  \n19966                    К2  support  0.156142  SLIP22.127  \n7243   К1 (2хСВ105-3,6)-1+К  support  0.480262          У4  \n16159                  Ад71  support  0.242430         ЗП6  \n2336          ДА1(СВ95-2)-О  support  0.496276          У4  \n2792            ККМкв вар.3  support  0.176928       PER15  \n2793            ККМкв вар.3  support  0.132084   SOT29.10R  \n2794            ККМкв вар.3  support  0.289699     COT36.2  \n2763              А23-к-каб  support  0.135281        П-3и  \n2795            ККМкв вар.3  support  0.170993       PER15  \n2796            ККМкв вар.3  support  0.292875     COT36.2  \n19969                    К2  support  0.182818    SLIP22.1  \n7577       К2(1хСК105-10)-1  support  0.277885      СВ95-3  \n2800            ККМкв вар.3  support  0.149423    SO250.01  \n8554                   ПА29  support  0.165629        П-3и  \n2804            ККМкв вар.3  support  0.192749    SO250.01  \n2805            ККМкв вар.3  support  0.208031     COT37.2  ",
      "text/html": "<div>\n<style scoped>\n    .dataframe tbody tr th:only-of-type {\n        vertical-align: middle;\n    }\n\n    .dataframe tbody tr th {\n        vertical-align: top;\n    }\n\n    .dataframe thead th {\n        text-align: right;\n    }\n</style>\n<table border=\"1\" class=\"dataframe\">\n  <thead>\n    <tr style=\"text-align: right;\">\n      <th></th>\n      <th>Id</th>\n      <th>Name</th>\n      <th>StructureId</th>\n      <th>TypeId</th>\n      <th>metric</th>\n      <th>request</th>\n    </tr>\n  </thead>\n  <tbody>\n    <tr>\n      <th>19518</th>\n      <td>COT36</td>\n      <td>Скрепа</td>\n      <td>Pole</td>\n      <td>support</td>\n      <td>0.171717</td>\n      <td>SL37.2</td>\n    </tr>\n    <tr>\n      <th>19519</th>\n      <td>COT37</td>\n      <td>Лента бандажная стальная 19х0,75 мм</td>\n      <td>Pole</td>\n      <td>support</td>\n      <td>0.171717</td>\n      <td>SL37.2</td>\n    </tr>\n    <tr>\n      <th>2782</th>\n      <td>LUG6-50/12LVTIN</td>\n      <td>Наконечник кабельный AL/Cu с болтами со срывно...</td>\n      <td>ККМкв вар.3</td>\n      <td>support</td>\n      <td>0.258639</td>\n      <td>COT37.2</td>\n    </tr>\n    <tr>\n      <th>2760</th>\n      <td>P 72</td>\n      <td>Зажим для подкл. абонента к изолир. магистраль...</td>\n      <td>А23-к-каб</td>\n      <td>support</td>\n      <td>0.224078</td>\n      <td>ЗП6</td>\n    </tr>\n    <tr>\n      <th>2761</th>\n      <td>PA 1500</td>\n      <td>Анкерный клиновый зажим. Cечение жилы 50-70 мм2</td>\n      <td>А23-к-каб</td>\n      <td>support</td>\n      <td>0.184939</td>\n      <td>СВ95-3</td>\n    </tr>\n    <tr>\n      <th>19521</th>\n      <td>SL37.1</td>\n      <td>Зажим соединительный плашечный; магистраль: 6-...</td>\n      <td>Pole</td>\n      <td>support</td>\n      <td>0.177820</td>\n      <td>SH702R</td>\n    </tr>\n    <tr>\n      <th>19964</th>\n      <td>SM2.21</td>\n      <td>Зажим плашечный соединительный (медь-алюминий)...</td>\n      <td>К2</td>\n      <td>support</td>\n      <td>0.182818</td>\n      <td>SLIP22.1</td>\n    </tr>\n    <tr>\n      <th>20206</th>\n      <td>SO130.02</td>\n      <td>Зажим поддерживающий 2-4х(25-50) на угловых оп...</td>\n      <td>ОА2</td>\n      <td>support</td>\n      <td>0.164769</td>\n      <td>SLIP22.127</td>\n    </tr>\n    <tr>\n      <th>19965</th>\n      <td>SO234S</td>\n      <td>Зажим анкерный 4х50/4х70/4х95/4х120</td>\n      <td>К2</td>\n      <td>support</td>\n      <td>0.276869</td>\n      <td>SH702R</td>\n    </tr>\n    <tr>\n      <th>19966</th>\n      <td>SOT21.01R</td>\n      <td>Крюк сквозной M20, L=240 мм</td>\n      <td>К2</td>\n      <td>support</td>\n      <td>0.156142</td>\n      <td>SLIP22.127</td>\n    </tr>\n    <tr>\n      <th>7243</th>\n      <td>TND 151</td>\n      <td>Зажим для повторных заземлений PEN проводника</td>\n      <td>К1 (2хСВ105-3,6)-1+К</td>\n      <td>support</td>\n      <td>0.480262</td>\n      <td>У4</td>\n    </tr>\n    <tr>\n      <th>16159</th>\n      <td>d10</td>\n      <td>Сталь круглая d10 мм, ГОСТ 2590-2006</td>\n      <td>Ад71</td>\n      <td>support</td>\n      <td>0.242430</td>\n      <td>ЗП6</td>\n    </tr>\n    <tr>\n      <th>2336</th>\n      <td>А16</td>\n      <td>Провод неизолированный марки А по ГОСТ 839-201...</td>\n      <td>ДА1(СВ95-2)-О</td>\n      <td>support</td>\n      <td>0.496276</td>\n      <td>У4</td>\n    </tr>\n    <tr>\n      <th>2792</th>\n      <td>АПВ 1х10</td>\n      <td>Провод алюминиевый в ПВХ изоляции</td>\n      <td>ККМкв вар.3</td>\n      <td>support</td>\n      <td>0.176928</td>\n      <td>PER15</td>\n    </tr>\n    <tr>\n      <th>2793</th>\n      <td>Бетон В20 W6 F200</td>\n      <td>Бетон</td>\n      <td>ККМкв вар.3</td>\n      <td>support</td>\n      <td>0.132084</td>\n      <td>SOT29.10R</td>\n    </tr>\n    <tr>\n      <th>2794</th>\n      <td>Болт М8</td>\n      <td>Болт М8, ГОСТ Р ИСО 4014-2013</td>\n      <td>ККМкв вар.3</td>\n      <td>support</td>\n      <td>0.289699</td>\n      <td>COT36.2</td>\n    </tr>\n    <tr>\n      <th>2763</th>\n      <td>Г11</td>\n      <td>Стяжка</td>\n      <td>А23-к-каб</td>\n      <td>support</td>\n      <td>0.135281</td>\n      <td>П-3и</td>\n    </tr>\n    <tr>\n      <th>2795</th>\n      <td>Гайка М12</td>\n      <td>Гайка М12, ГОСТ ISO 4032-2014</td>\n      <td>ККМкв вар.3</td>\n      <td>support</td>\n      <td>0.170993</td>\n      <td>PER15</td>\n    </tr>\n    <tr>\n      <th>2796</th>\n      <td>Гайка М8</td>\n      <td>Гайка М8, ГОСТ ISO 4032-2014</td>\n      <td>ККМкв вар.3</td>\n      <td>support</td>\n      <td>0.292875</td>\n      <td>COT36.2</td>\n    </tr>\n    <tr>\n      <th>19969</th>\n      <td>МГ 16</td>\n      <td>Провод неизолированный медный, сечением 16 мм²...</td>\n      <td>К2</td>\n      <td>support</td>\n      <td>0.182818</td>\n      <td>SLIP22.1</td>\n    </tr>\n    <tr>\n      <th>7577</th>\n      <td>ПС-1-1</td>\n      <td>Зажим плашечный</td>\n      <td>К2(1хСК105-10)-1</td>\n      <td>support</td>\n      <td>0.277885</td>\n      <td>СВ95-3</td>\n    </tr>\n    <tr>\n      <th>2800</th>\n      <td>Песок</td>\n      <td>Песок для строительных работ, ГОСТ 8736-2014</td>\n      <td>ККМкв вар.3</td>\n      <td>support</td>\n      <td>0.149423</td>\n      <td>SO250.01</td>\n    </tr>\n    <tr>\n      <th>8554</th>\n      <td>СВ110-5</td>\n      <td>Стойка железобетонная вибрированная, ТУ 5863-0...</td>\n      <td>ПА29</td>\n      <td>support</td>\n      <td>0.165629</td>\n      <td>П-3и</td>\n    </tr>\n    <tr>\n      <th>2804</th>\n      <td>Шайба 12 ГОСТ 11371-78</td>\n      <td>Шайба, ГОСТ 11371-78</td>\n      <td>ККМкв вар.3</td>\n      <td>support</td>\n      <td>0.192749</td>\n      <td>SO250.01</td>\n    </tr>\n    <tr>\n      <th>2805</th>\n      <td>Шайба 8 ГОСТ 11371-78</td>\n      <td>Шайба, ГОСТ 11371-78</td>\n      <td>ККМкв вар.3</td>\n      <td>support</td>\n      <td>0.208031</td>\n      <td>COT37.2</td>\n    </tr>\n  </tbody>\n</table>\n</div>"
     },
     "execution_count": 13,
     "metadata": {},
     "output_type": "execute_result"
    }
   ],
   "source": [
    "get_results(request)"
   ]
  },
  {
   "cell_type": "code",
   "execution_count": 14,
   "metadata": {
    "collapsed": false,
    "ExecuteTime": {
     "end_time": "2023-09-25T15:58:22.253927700Z",
     "start_time": "2023-09-25T15:58:22.244869700Z"
    }
   },
   "outputs": [],
   "source": [
    "def overlap_checking(request, n_splits=3):\n",
    "    kf = KFold(n_splits=n_splits, shuffle=True, random_state=42)\n",
    "    overlap = []\n",
    "    for check_index, req_index in kf.split(request):\n",
    "        #передаем в запрос 1 фолд\n",
    "        request_part = request.iloc[req_index]\n",
    "        results = get_results(request_part)['Id']\n",
    "        \n",
    "        # Элементы, которых нет в запросе, ожидаемый ответ\n",
    "        actual = request.iloc[check_index]['Id']\n",
    "        \n",
    "        # Находим общие элементы в ответе и в ожидаемом ответе\n",
    "        common_elements = set(actual) & set(results) \n",
    "        overlap.append(len(common_elements) / len(actual))\n",
    "        \n",
    "    return np.mean(overlap)"
   ]
  },
  {
   "cell_type": "code",
   "execution_count": 15,
   "metadata": {
    "collapsed": false,
    "ExecuteTime": {
     "end_time": "2023-09-25T15:58:23.763586900Z",
     "start_time": "2023-09-25T15:58:23.571055300Z"
    }
   },
   "outputs": [
    {
     "data": {
      "text/plain": "0.9212962962962963"
     },
     "execution_count": 15,
     "metadata": {},
     "output_type": "execute_result"
    }
   ],
   "source": [
    "overlap_checking(request)"
   ]
  },
  {
   "cell_type": "code",
   "execution_count": 16,
   "metadata": {
    "collapsed": false,
    "ExecuteTime": {
     "end_time": "2023-09-25T16:06:02.622643Z",
     "start_time": "2023-09-25T15:58:33.099477Z"
    }
   },
   "outputs": [
    {
     "data": {
      "text/plain": "0.8182007037245418"
     },
     "execution_count": 16,
     "metadata": {},
     "output_type": "execute_result"
    }
   ],
   "source": [
    "# Проход по всем корзинам (7 минут)\n",
    "overlaps = []\n",
    "for s in df['StructureId'].unique():\n",
    "    request = df[df['StructureId'] == s]\n",
    "    try: overlaps.append(overlap_checking(request))\n",
    "    except: pass\n",
    "np.mean(overlaps)"
   ]
  },
  {
   "cell_type": "code",
   "execution_count": null,
   "outputs": [],
   "source": [],
   "metadata": {
    "collapsed": false
   }
  }
 ],
 "metadata": {
  "kernelspec": {
   "display_name": "Python 3 (ipykernel)",
   "language": "python",
   "name": "python3"
  },
  "language_info": {
   "codemirror_mode": {
    "name": "ipython",
    "version": 3
   },
   "file_extension": ".py",
   "mimetype": "text/x-python",
   "name": "python",
   "nbconvert_exporter": "python",
   "pygments_lexer": "ipython3",
   "version": "3.10.13"
  }
 },
 "nbformat": 4,
 "nbformat_minor": 1
}
